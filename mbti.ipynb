{
 "cells": [
  {
   "cell_type": "markdown",
   "metadata": {},
   "source": [
    "# Mod03_MBTI Classification Project (NLP\n",
    "__Contributors: Grace Jeong, Jason Wang__\n",
    "***"
   ]
  },
  {
   "cell_type": "markdown",
   "metadata": {},
   "source": [
    "### Objective:\n",
    "Using Kaggle's dataset of comments scraped from members of PersonalityCafe Forum who have self-identified their MBTI type, create a model that can best predict MBTI based on text data.\n",
    "\n",
    "### Skills used:\n",
    "- Text feature engineering (TfIDF, stopwords removal, lemmatization, regex)\n",
    "- Classification models (Multinomial Naive Bayes, Random Forest, Xgboost, Stochastic Gradient Descent, Support Vector Machine Classifier)\n",
    "- GridSearch for optimization\n",
    "- ROC-AUC graphs\n",
    "- Confusion matrices\n",
    "\n",
    "***"
   ]
  },
  {
   "cell_type": "markdown",
   "metadata": {},
   "source": [
    "## --Prepocessing--\n",
    "### Import libraries and data"
   ]
  },
  {
   "cell_type": "code",
   "execution_count": 51,
   "metadata": {},
   "outputs": [],
   "source": [
    "import pandas as pd\n",
    "import re\n",
    "import numpy as np\n",
    "import matplotlib.pyplot as plt\n",
    "import seaborn as sns\n",
    "%matplotlib inline\n",
    "import nltk\n",
    "from nltk.corpus import stopwords\n",
    "import string\n",
    "from nltk import FreqDist\n",
    "from nltk.tokenize import word_tokenize, RegexpTokenizer\n",
    "from sklearn.manifold import TSNE\n",
    "from sklearn.feature_extraction.text import TfidfVectorizer\n",
    "from sklearn.metrics import accuracy_score, roc_curve, roc_auc_score, precision_score, recall_score, f1_score, classification_report, confusion_matrix, auc\n",
    "from sklearn.ensemble import RandomForestClassifier\n",
    "from sklearn.naive_bayes import MultinomialNB\n",
    "from sklearn.model_selection import train_test_split\n",
    "\n",
    "# import py file that contains helper functions\n",
    "from helpers import count_caps, count_exclamations, count_digits, count_emojis_shortcode, show_cf, show_roc_graph"
   ]
  },
  {
   "cell_type": "code",
   "execution_count": 52,
   "metadata": {},
   "outputs": [],
   "source": [
    "# import dataset\n",
    "df_mbti = pd.read_csv('mbti_1.csv')"
   ]
  },
  {
   "cell_type": "code",
   "execution_count": 53,
   "metadata": {},
   "outputs": [
    {
     "data": {
      "text/plain": [
       "(8675, 2)"
      ]
     },
     "execution_count": 53,
     "metadata": {},
     "output_type": "execute_result"
    }
   ],
   "source": [
    "# get shape of datatset\n",
    "df_mbti.shape"
   ]
  },
  {
   "cell_type": "code",
   "execution_count": 54,
   "metadata": {
    "scrolled": true
   },
   "outputs": [
    {
     "data": {
      "text/html": [
       "<div>\n",
       "<style scoped>\n",
       "    .dataframe tbody tr th:only-of-type {\n",
       "        vertical-align: middle;\n",
       "    }\n",
       "\n",
       "    .dataframe tbody tr th {\n",
       "        vertical-align: top;\n",
       "    }\n",
       "\n",
       "    .dataframe thead th {\n",
       "        text-align: right;\n",
       "    }\n",
       "</style>\n",
       "<table border=\"1\" class=\"dataframe\">\n",
       "  <thead>\n",
       "    <tr style=\"text-align: right;\">\n",
       "      <th></th>\n",
       "      <th>type</th>\n",
       "      <th>posts</th>\n",
       "    </tr>\n",
       "  </thead>\n",
       "  <tbody>\n",
       "    <tr>\n",
       "      <th>0</th>\n",
       "      <td>INFJ</td>\n",
       "      <td>'http://www.youtube.com/watch?v=qsXHcwe3krw|||...</td>\n",
       "    </tr>\n",
       "    <tr>\n",
       "      <th>1</th>\n",
       "      <td>ENTP</td>\n",
       "      <td>'I'm finding the lack of me in these posts ver...</td>\n",
       "    </tr>\n",
       "    <tr>\n",
       "      <th>2</th>\n",
       "      <td>INTP</td>\n",
       "      <td>'Good one  _____   https://www.youtube.com/wat...</td>\n",
       "    </tr>\n",
       "    <tr>\n",
       "      <th>3</th>\n",
       "      <td>INTJ</td>\n",
       "      <td>'Dear INTP,   I enjoyed our conversation the o...</td>\n",
       "    </tr>\n",
       "    <tr>\n",
       "      <th>4</th>\n",
       "      <td>ENTJ</td>\n",
       "      <td>'You're fired.|||That's another silly misconce...</td>\n",
       "    </tr>\n",
       "  </tbody>\n",
       "</table>\n",
       "</div>"
      ],
      "text/plain": [
       "   type                                              posts\n",
       "0  INFJ  'http://www.youtube.com/watch?v=qsXHcwe3krw|||...\n",
       "1  ENTP  'I'm finding the lack of me in these posts ver...\n",
       "2  INTP  'Good one  _____   https://www.youtube.com/wat...\n",
       "3  INTJ  'Dear INTP,   I enjoyed our conversation the o...\n",
       "4  ENTJ  'You're fired.|||That's another silly misconce..."
      ]
     },
     "execution_count": 54,
     "metadata": {},
     "output_type": "execute_result"
    }
   ],
   "source": [
    "# preview data\n",
    "df_mbti.head()"
   ]
  },
  {
   "cell_type": "code",
   "execution_count": 55,
   "metadata": {},
   "outputs": [
    {
     "data": {
      "text/plain": [
       "\"'http://www.youtube.com/watch?v=qsXHcwe3krw|||http://41.media.tumblr.com/tumblr_lfouy03PMA1qa1rooo1_500.jpg|||enfp and intj moments  https://www.youtube.com/watch?v=iz7lE1g4XM4  sportscenter not top ten plays  https://www.youtube.com/watch?v=uCdfze1etec  pranks|||What has been the most life-changing experience in your life?|||http://www.youtube.com/watch?v=vXZeYwwRDw8   http://www.youtube.com/watch?v=u8ejam5DP3E  On repeat for most of today.|||May the PerC Experience immerse you.|||The last thing my INFJ friend posted on his facebook before committing suicide the next day. Rest in peace~   http://vimeo.com/22842206|||Hello ENFJ7. Sorry to hear of your distress. It's only natural for a relationship to not be perfection all the time in every moment of existence. Try to figure the hard times as times of growth, as...|||84389  84390  http://wallpaperpassion.com/upload/23700/friendship-boy-and-girl-wallpaper.jpg  http://assets.dornob.com/wp-content/uploads/2010/04/round-home-design.jpg ...|||Welcome and stuff.|||http://playeressence.com/wp-content/uploads/2013/08/RED-red-the-pokemon-master-32560474-450-338.jpg  Game. Set. Match.|||Prozac, wellbrutin, at least thirty minutes of moving your legs (and I don't mean moving them while sitting in your same desk chair), weed in moderation (maybe try edibles as a healthier alternative...|||Basically come up with three items you've determined that each type (or whichever types you want to do) would more than likely use, given each types' cognitive functions and whatnot, when left by...|||All things in moderation.  Sims is indeed a video game, and a good one at that. Note: a good one at that is somewhat subjective in that I am not completely promoting the death of any given Sim...|||Dear ENFP:  What were your favorite video games growing up and what are your now, current favorite video games? :cool:|||https://www.youtube.com/watch?v=QyPqT8umzmY|||It appears to be too late. :sad:|||There's someone out there for everyone.|||Wait... I thought confidence was a good thing.|||I just cherish the time of solitude b/c i revel within my inner world more whereas most other time i'd be workin... just enjoy the me time while you can. Don't worry, people will always be around to...|||Yo entp ladies... if you're into a complimentary personality,well, hey.|||... when your main social outlet is xbox live conversations and even then you verbally fatigue quickly.|||http://www.youtube.com/watch?v=gDhy7rdfm14  I really dig the part from 1:46 to 2:50|||http://www.youtube.com/watch?v=msqXffgh7b8|||Banned because this thread requires it of me.|||Get high in backyard, roast and eat marshmellows in backyard while conversing over something intellectual, followed by massages and kisses.|||http://www.youtube.com/watch?v=Mw7eoU3BMbE|||http://www.youtube.com/watch?v=4V2uYORhQOk|||http://www.youtube.com/watch?v=SlVmgFQQ0TI|||Banned for too many b's in that sentence. How could you! Think of the B!|||Banned for watching movies in the corner with the dunces.|||Banned because Health class clearly taught you nothing about peer pressure.|||Banned for a whole host of reasons!|||http://www.youtube.com/watch?v=IRcrv41hgz4|||1) Two baby deer on left and right munching on a beetle in the middle.  2) Using their own blood, two cavemen diary today's latest happenings on their designated cave diary wall.  3) I see it as...|||a pokemon world  an infj society  everyone becomes an optimist|||49142|||http://www.youtube.com/watch?v=ZRCEq_JFeFM|||http://discovermagazine.com/2012/jul-aug/20-things-you-didnt-know-about-deserts/desert.jpg|||http://oyster.ignimgs.com/mediawiki/apis.ign.com/pokemon-silver-version/d/dd/Ditto.gif|||http://www.serebii.net/potw-dp/Scizor.jpg|||Not all artists are artists because they draw. It's the idea that counts in forming something of your own... like a signature.|||Welcome to the robot ranks, person who downed my self-esteem cuz I'm not an avid signature artist like herself. :proud:|||Banned for taking all the room under my bed. Ya gotta learn to share with the roaches.|||http://www.youtube.com/watch?v=w8IgImn57aQ|||Banned for being too much of a thundering, grumbling kind of storm... yep.|||Ahh... old high school music I haven't heard in ages.   http://www.youtube.com/watch?v=dcCRUPCdB1w|||I failed a public speaking class a few years ago and I've sort of learned what I could do better were I to be in that position again. A big part of my failure was just overloading myself with too...|||I like this person's mentality. He's a confirmed INTJ by the way. http://www.youtube.com/watch?v=hGKLI-GEc6M|||Move to the Denver area and start a new life for myself.'\""
      ]
     },
     "execution_count": 55,
     "metadata": {},
     "output_type": "execute_result"
    }
   ],
   "source": [
    "# preview sample raw text data\n",
    "df_mbti.posts[0]"
   ]
  },
  {
   "cell_type": "code",
   "execution_count": 56,
   "metadata": {},
   "outputs": [],
   "source": [
    "# create variable containing labels (16 unique categories)\n",
    "categories = df_mbti.type.values\n",
    "categories = list(set(categories))"
   ]
  },
  {
   "cell_type": "code",
   "execution_count": 57,
   "metadata": {},
   "outputs": [
    {
     "data": {
      "text/plain": [
       "INFP    1832\n",
       "INFJ    1470\n",
       "INTP    1304\n",
       "INTJ    1091\n",
       "ENTP     685\n",
       "ENFP     675\n",
       "ISTP     337\n",
       "ISFP     271\n",
       "ENTJ     231\n",
       "ISTJ     205\n",
       "ENFJ     190\n",
       "ISFJ     166\n",
       "ESTP      89\n",
       "ESFP      48\n",
       "ESFJ      42\n",
       "ESTJ      39\n",
       "Name: type, dtype: int64"
      ]
     },
     "execution_count": 57,
     "metadata": {},
     "output_type": "execute_result"
    }
   ],
   "source": [
    "# view distritubtion of observations by class type\n",
    "df_mbti.type.value_counts()"
   ]
  },
  {
   "cell_type": "code",
   "execution_count": 58,
   "metadata": {
    "scrolled": true
   },
   "outputs": [
    {
     "data": {
      "text/plain": [
       "Text(0.5, 1.0, 'Count of Each MBTI Type')"
      ]
     },
     "execution_count": 58,
     "metadata": {},
     "output_type": "execute_result"
    },
    {
     "data": {
      "image/png": "[encoded data removed]",
      "text/plain": [
       "<Figure size 1080x288 with 1 Axes>"
      ]
     },
     "metadata": {
      "needs_background": "light"
     },
     "output_type": "display_data"
    }
   ],
   "source": [
    "# create graph with count of each class type in the dataset\n",
    "fig = plt.figure(figsize = (15,4))\n",
    "sns.barplot(df_mbti.type.value_counts().index, df_mbti.type.value_counts(), color = 'steelblue', label = 'Sample')\n",
    "plt.xlabel('Type', fontsize = 12)\n",
    "plt.ylabel('Count', fontsize = 12)\n",
    "plt.title('Count of Each MBTI Type', fontsize = 14)"
   ]
  },
  {
   "cell_type": "markdown",
   "metadata": {},
   "source": [
    "As we can see in the graph above, we will be dealing with class imbalance.\n",
    "***"
   ]
  },
  {
   "cell_type": "markdown",
   "metadata": {},
   "source": [
    "### Get metadata on raw text\n",
    "- count of emojis\n",
    "- count of capitalized letters\n",
    "- count of exclamations\n",
    "- count of digits"
   ]
  },
  {
   "cell_type": "code",
   "execution_count": 59,
   "metadata": {},
   "outputs": [],
   "source": [
    "# list containing the most common emojis\n",
    "emojis = [':)', ':]', ':|',':[',':(',';)',':/',':o',':O',':D',':&',\":')\",\":'(\",':`(','XD',\n",
    "          ':X','8X','K0',':p','=O','O:)','>:)','>:(','%p',':@)','=^.^=','ó¿ò','ô¿ô','°¿°','©¿©', \"'¿'\", '?:)',\n",
    "          '?:~)','?8)','8^)','B)','=D',':|','=)','=.=','^_^','^_','^_~','¬_¬','>_<','o_o','O.O''o.O', \"''\",\n",
    "          'x_x','\\\\m/><\\\\m/','ಠ_ಠ',':*','9_9','QQ',':-)',':-]',':-|',':-[',':-(',';-)',':-/',':-o',':-O',':-D',\n",
    "          ':-&',\":'-)\",\":'-(\",':`-(','X-D',':-X','8-X','K-0',':-p','=O','O:-)','>:-)','>:-(','%-p',':@)','=^.^=',\n",
    "          'ó¿ò','ô¿ô','°¿°','©¿©',\"'¿'\",'?:-)','?:~)','?8-)','8^)','B-)','=D',':|','=)','=.=','^_^','^_-','^_~',\n",
    "          '¬_¬','>_<','o_o','O.O','o.O',\"'-'\",'x_x','\\\\m/><\\\\m/','ಠ_ಠ',':*','9_9','QQ','@.@']"
   ]
  },
  {
   "cell_type": "code",
   "execution_count": 60,
   "metadata": {},
   "outputs": [],
   "source": [
    "def count_emojis_shortcode(text):\n",
    "    \"\"\"return count of shortcode emojis in text\"\"\"\n",
    "    shortcodes = re.findall(r'\\:[a-z]+\\:', str(text))\n",
    "    return len(shortcodes)"
   ]
  },
  {
   "cell_type": "code",
   "execution_count": 61,
   "metadata": {},
   "outputs": [],
   "source": [
    "def count_emojis(text):\n",
    "    \"\"\"return count of emojis in the emojis list above\"\"\"\n",
    "    counter = 0\n",
    "    split = text.split(' ')\n",
    "    for x in emojis:\n",
    "        counter += sum(x in s for s in split)\n",
    "    return counter"
   ]
  },
  {
   "cell_type": "code",
   "execution_count": 62,
   "metadata": {},
   "outputs": [],
   "source": [
    "# create additional features: count of capitalizations, count of exclamations, count of emoj\n",
    "df_mbti['count_of_caps'] = df_mbti.posts.apply(lambda x: count_caps(x))\n",
    "df_mbti['count_of_exclamations'] = df_mbti.posts.apply(lambda x: count_exclamations(x))\n",
    "df_mbti['count_of_digits'] = df_mbti.posts.apply(lambda x: count_digits(x))\n",
    "df_mbti['count_of_emojis'] = df_mbti.posts.apply(lambda x: count_emojis(x)+count_emojis_shortcode(x))"
   ]
  },
  {
   "cell_type": "code",
   "execution_count": 63,
   "metadata": {
    "scrolled": true
   },
   "outputs": [
    {
     "data": {
      "text/html": [
       "<div>\n",
       "<style scoped>\n",
       "    .dataframe tbody tr th:only-of-type {\n",
       "        vertical-align: middle;\n",
       "    }\n",
       "\n",
       "    .dataframe tbody tr th {\n",
       "        vertical-align: top;\n",
       "    }\n",
       "\n",
       "    .dataframe thead th {\n",
       "        text-align: right;\n",
       "    }\n",
       "</style>\n",
       "<table border=\"1\" class=\"dataframe\">\n",
       "  <thead>\n",
       "    <tr style=\"text-align: right;\">\n",
       "      <th></th>\n",
       "      <th>type</th>\n",
       "      <th>posts</th>\n",
       "      <th>count_of_caps</th>\n",
       "      <th>count_of_exclamations</th>\n",
       "      <th>count_of_digits</th>\n",
       "      <th>count_of_emojis</th>\n",
       "    </tr>\n",
       "  </thead>\n",
       "  <tbody>\n",
       "    <tr>\n",
       "      <th>0</th>\n",
       "      <td>INFJ</td>\n",
       "      <td>'http://www.youtube.com/watch?v=qsXHcwe3krw|||...</td>\n",
       "      <td>153</td>\n",
       "      <td>3</td>\n",
       "      <td>109</td>\n",
       "      <td>33</td>\n",
       "    </tr>\n",
       "    <tr>\n",
       "      <th>1</th>\n",
       "      <td>ENTP</td>\n",
       "      <td>'I'm finding the lack of me in these posts ver...</td>\n",
       "      <td>327</td>\n",
       "      <td>0</td>\n",
       "      <td>109</td>\n",
       "      <td>22</td>\n",
       "    </tr>\n",
       "    <tr>\n",
       "      <th>2</th>\n",
       "      <td>INTP</td>\n",
       "      <td>'Good one  _____   https://www.youtube.com/wat...</td>\n",
       "      <td>169</td>\n",
       "      <td>4</td>\n",
       "      <td>94</td>\n",
       "      <td>14</td>\n",
       "    </tr>\n",
       "    <tr>\n",
       "      <th>3</th>\n",
       "      <td>INTJ</td>\n",
       "      <td>'Dear INTP,   I enjoyed our conversation the o...</td>\n",
       "      <td>253</td>\n",
       "      <td>3</td>\n",
       "      <td>33</td>\n",
       "      <td>2</td>\n",
       "    </tr>\n",
       "    <tr>\n",
       "      <th>4</th>\n",
       "      <td>ENTJ</td>\n",
       "      <td>'You're fired.|||That's another silly misconce...</td>\n",
       "      <td>261</td>\n",
       "      <td>1</td>\n",
       "      <td>41</td>\n",
       "      <td>11</td>\n",
       "    </tr>\n",
       "  </tbody>\n",
       "</table>\n",
       "</div>"
      ],
      "text/plain": [
       "   type                                              posts  count_of_caps  \\\n",
       "0  INFJ  'http://www.youtube.com/watch?v=qsXHcwe3krw|||...            153   \n",
       "1  ENTP  'I'm finding the lack of me in these posts ver...            327   \n",
       "2  INTP  'Good one  _____   https://www.youtube.com/wat...            169   \n",
       "3  INTJ  'Dear INTP,   I enjoyed our conversation the o...            253   \n",
       "4  ENTJ  'You're fired.|||That's another silly misconce...            261   \n",
       "\n",
       "   count_of_exclamations  count_of_digits  count_of_emojis  \n",
       "0                      3              109               33  \n",
       "1                      0              109               22  \n",
       "2                      4               94               14  \n",
       "3                      3               33                2  \n",
       "4                      1               41               11  "
      ]
     },
     "execution_count": 63,
     "metadata": {},
     "output_type": "execute_result"
    }
   ],
   "source": [
    "# preview updated dataframe with added features\n",
    "df_mbti.head()"
   ]
  },
  {
   "cell_type": "markdown",
   "metadata": {},
   "source": [
    "***"
   ]
  },
  {
   "cell_type": "markdown",
   "metadata": {},
   "source": [
    "### Clean text\n",
    "- remove hyperlinks, special characters & digits"
   ]
  },
  {
   "cell_type": "code",
   "execution_count": 64,
   "metadata": {},
   "outputs": [],
   "source": [
    "# clean text: remove hyperlinks, special characters & digits\n",
    "df_mbti.posts = df_mbti.posts.apply(lambda x: re.sub(r\"(http|ftp|https)://([\\w+?\\.\\w+])+([a-zA-Z0-9\\~\\!\\@\\#\\$\\%\\^\\&\\*\\(\\)_\\-\\=\\+\\\\\\/\\?\\.\\:\\;\\'\\,]*)?\", \"\", x))\n",
    "df_mbti.posts = df_mbti.posts.apply(lambda x: re.sub(r\"\\|\", \"\", x))\n",
    "df_mbti.posts = df_mbti.posts.apply(lambda x: re.sub(r\"\\d\", \"\", x))\n",
    "df_mbti.posts = df_mbti.posts.apply(lambda x: re.sub(r\"_\", \"\", x))"
   ]
  },
  {
   "cell_type": "code",
   "execution_count": 65,
   "metadata": {},
   "outputs": [],
   "source": [
    "def lower(text):\n",
    "    \"\"\"return list of lower-cased words\"\"\"\n",
    "    return [word.lower() for word in text]\n",
    "\n",
    "# tokenize comments and lower-case all words\n",
    "tokenizer = RegexpTokenizer(r'\\w+')\n",
    "df_mbti['tokenized'] = df_mbti.posts.apply(lambda x: tokenizer.tokenize(x))\n",
    "df_mbti['tokenized'] = df_mbti.tokenized.apply(lambda x: lower(x))\n",
    "\n",
    "# create list of stopwords\n",
    "stopwords_list = stopwords.words('english')\n",
    "stopwords_list += list(string.punctuation)\n",
    "\n",
    "def remove_stopwords(tokenized):\n",
    "    \"\"\"return only words not in stopwords_list\"\"\"\n",
    "    return [word.lower() for word in tokenized if word not in stopwords_list]"
   ]
  },
  {
   "cell_type": "code",
   "execution_count": 66,
   "metadata": {},
   "outputs": [
    {
     "data": {
      "text/html": [
       "<div>\n",
       "<style scoped>\n",
       "    .dataframe tbody tr th:only-of-type {\n",
       "        vertical-align: middle;\n",
       "    }\n",
       "\n",
       "    .dataframe tbody tr th {\n",
       "        vertical-align: top;\n",
       "    }\n",
       "\n",
       "    .dataframe thead th {\n",
       "        text-align: right;\n",
       "    }\n",
       "</style>\n",
       "<table border=\"1\" class=\"dataframe\">\n",
       "  <thead>\n",
       "    <tr style=\"text-align: right;\">\n",
       "      <th></th>\n",
       "      <th>type</th>\n",
       "      <th>posts</th>\n",
       "      <th>count_of_caps</th>\n",
       "      <th>count_of_exclamations</th>\n",
       "      <th>count_of_digits</th>\n",
       "      <th>count_of_emojis</th>\n",
       "      <th>tokenized</th>\n",
       "    </tr>\n",
       "  </thead>\n",
       "  <tbody>\n",
       "    <tr>\n",
       "      <th>0</th>\n",
       "      <td>INFJ</td>\n",
       "      <td>'enfp and intj moments    sportscenter not top...</td>\n",
       "      <td>153</td>\n",
       "      <td>3</td>\n",
       "      <td>109</td>\n",
       "      <td>33</td>\n",
       "      <td>[enfp, and, intj, moments, sportscenter, not, ...</td>\n",
       "    </tr>\n",
       "    <tr>\n",
       "      <th>1</th>\n",
       "      <td>ENTP</td>\n",
       "      <td>'I'm finding the lack of me in these posts ver...</td>\n",
       "      <td>327</td>\n",
       "      <td>0</td>\n",
       "      <td>109</td>\n",
       "      <td>22</td>\n",
       "      <td>[i, m, finding, the, lack, of, me, in, these, ...</td>\n",
       "    </tr>\n",
       "    <tr>\n",
       "      <th>2</th>\n",
       "      <td>INTP</td>\n",
       "      <td>'Good one     Of course, to which I say I know...</td>\n",
       "      <td>169</td>\n",
       "      <td>4</td>\n",
       "      <td>94</td>\n",
       "      <td>14</td>\n",
       "      <td>[good, one, of, course, to, which, i, say, i, ...</td>\n",
       "    </tr>\n",
       "    <tr>\n",
       "      <th>3</th>\n",
       "      <td>INTJ</td>\n",
       "      <td>'Dear INTP,   I enjoyed our conversation the o...</td>\n",
       "      <td>253</td>\n",
       "      <td>3</td>\n",
       "      <td>33</td>\n",
       "      <td>2</td>\n",
       "      <td>[dear, intp, i, enjoyed, our, conversation, th...</td>\n",
       "    </tr>\n",
       "    <tr>\n",
       "      <th>4</th>\n",
       "      <td>ENTJ</td>\n",
       "      <td>'You're fired.That's another silly misconcepti...</td>\n",
       "      <td>261</td>\n",
       "      <td>1</td>\n",
       "      <td>41</td>\n",
       "      <td>11</td>\n",
       "      <td>[you, re, fired, that, s, another, silly, misc...</td>\n",
       "    </tr>\n",
       "  </tbody>\n",
       "</table>\n",
       "</div>"
      ],
      "text/plain": [
       "   type                                              posts  count_of_caps  \\\n",
       "0  INFJ  'enfp and intj moments    sportscenter not top...            153   \n",
       "1  ENTP  'I'm finding the lack of me in these posts ver...            327   \n",
       "2  INTP  'Good one     Of course, to which I say I know...            169   \n",
       "3  INTJ  'Dear INTP,   I enjoyed our conversation the o...            253   \n",
       "4  ENTJ  'You're fired.That's another silly misconcepti...            261   \n",
       "\n",
       "   count_of_exclamations  count_of_digits  count_of_emojis  \\\n",
       "0                      3              109               33   \n",
       "1                      0              109               22   \n",
       "2                      4               94               14   \n",
       "3                      3               33                2   \n",
       "4                      1               41               11   \n",
       "\n",
       "                                           tokenized  \n",
       "0  [enfp, and, intj, moments, sportscenter, not, ...  \n",
       "1  [i, m, finding, the, lack, of, me, in, these, ...  \n",
       "2  [good, one, of, course, to, which, i, say, i, ...  \n",
       "3  [dear, intp, i, enjoyed, our, conversation, th...  \n",
       "4  [you, re, fired, that, s, another, silly, misc...  "
      ]
     },
     "execution_count": 66,
     "metadata": {},
     "output_type": "execute_result"
    }
   ],
   "source": [
    "# preview the updated dateframe\n",
    "df_mbti.head()"
   ]
  },
  {
   "cell_type": "code",
   "execution_count": 67,
   "metadata": {},
   "outputs": [],
   "source": [
    "# add new column with tokens with stopwords removed\n",
    "df_mbti['tokens_stopped'] = df_mbti.tokenized.apply(lambda x: remove_stopwords(x))"
   ]
  },
  {
   "cell_type": "code",
   "execution_count": 68,
   "metadata": {
    "scrolled": true
   },
   "outputs": [
    {
     "data": {
      "text/html": [
       "<div>\n",
       "<style scoped>\n",
       "    .dataframe tbody tr th:only-of-type {\n",
       "        vertical-align: middle;\n",
       "    }\n",
       "\n",
       "    .dataframe tbody tr th {\n",
       "        vertical-align: top;\n",
       "    }\n",
       "\n",
       "    .dataframe thead th {\n",
       "        text-align: right;\n",
       "    }\n",
       "</style>\n",
       "<table border=\"1\" class=\"dataframe\">\n",
       "  <thead>\n",
       "    <tr style=\"text-align: right;\">\n",
       "      <th></th>\n",
       "      <th>type</th>\n",
       "      <th>posts</th>\n",
       "      <th>count_of_caps</th>\n",
       "      <th>count_of_exclamations</th>\n",
       "      <th>count_of_digits</th>\n",
       "      <th>count_of_emojis</th>\n",
       "      <th>tokenized</th>\n",
       "      <th>tokens_stopped</th>\n",
       "    </tr>\n",
       "  </thead>\n",
       "  <tbody>\n",
       "    <tr>\n",
       "      <th>0</th>\n",
       "      <td>INFJ</td>\n",
       "      <td>'enfp and intj moments    sportscenter not top...</td>\n",
       "      <td>153</td>\n",
       "      <td>3</td>\n",
       "      <td>109</td>\n",
       "      <td>33</td>\n",
       "      <td>[enfp, and, intj, moments, sportscenter, not, ...</td>\n",
       "      <td>[enfp, intj, moments, sportscenter, top, ten, ...</td>\n",
       "    </tr>\n",
       "    <tr>\n",
       "      <th>1</th>\n",
       "      <td>ENTP</td>\n",
       "      <td>'I'm finding the lack of me in these posts ver...</td>\n",
       "      <td>327</td>\n",
       "      <td>0</td>\n",
       "      <td>109</td>\n",
       "      <td>22</td>\n",
       "      <td>[i, m, finding, the, lack, of, me, in, these, ...</td>\n",
       "      <td>[finding, lack, posts, alarming, sex, boring, ...</td>\n",
       "    </tr>\n",
       "    <tr>\n",
       "      <th>2</th>\n",
       "      <td>INTP</td>\n",
       "      <td>'Good one     Of course, to which I say I know...</td>\n",
       "      <td>169</td>\n",
       "      <td>4</td>\n",
       "      <td>94</td>\n",
       "      <td>14</td>\n",
       "      <td>[good, one, of, course, to, which, i, say, i, ...</td>\n",
       "      <td>[good, one, course, say, know, blessing, curse...</td>\n",
       "    </tr>\n",
       "    <tr>\n",
       "      <th>3</th>\n",
       "      <td>INTJ</td>\n",
       "      <td>'Dear INTP,   I enjoyed our conversation the o...</td>\n",
       "      <td>253</td>\n",
       "      <td>3</td>\n",
       "      <td>33</td>\n",
       "      <td>2</td>\n",
       "      <td>[dear, intp, i, enjoyed, our, conversation, th...</td>\n",
       "      <td>[dear, intp, enjoyed, conversation, day, esote...</td>\n",
       "    </tr>\n",
       "    <tr>\n",
       "      <th>4</th>\n",
       "      <td>ENTJ</td>\n",
       "      <td>'You're fired.That's another silly misconcepti...</td>\n",
       "      <td>261</td>\n",
       "      <td>1</td>\n",
       "      <td>41</td>\n",
       "      <td>11</td>\n",
       "      <td>[you, re, fired, that, s, another, silly, misc...</td>\n",
       "      <td>[fired, another, silly, misconception, approac...</td>\n",
       "    </tr>\n",
       "  </tbody>\n",
       "</table>\n",
       "</div>"
      ],
      "text/plain": [
       "   type                                              posts  count_of_caps  \\\n",
       "0  INFJ  'enfp and intj moments    sportscenter not top...            153   \n",
       "1  ENTP  'I'm finding the lack of me in these posts ver...            327   \n",
       "2  INTP  'Good one     Of course, to which I say I know...            169   \n",
       "3  INTJ  'Dear INTP,   I enjoyed our conversation the o...            253   \n",
       "4  ENTJ  'You're fired.That's another silly misconcepti...            261   \n",
       "\n",
       "   count_of_exclamations  count_of_digits  count_of_emojis  \\\n",
       "0                      3              109               33   \n",
       "1                      0              109               22   \n",
       "2                      4               94               14   \n",
       "3                      3               33                2   \n",
       "4                      1               41               11   \n",
       "\n",
       "                                           tokenized  \\\n",
       "0  [enfp, and, intj, moments, sportscenter, not, ...   \n",
       "1  [i, m, finding, the, lack, of, me, in, these, ...   \n",
       "2  [good, one, of, course, to, which, i, say, i, ...   \n",
       "3  [dear, intp, i, enjoyed, our, conversation, th...   \n",
       "4  [you, re, fired, that, s, another, silly, misc...   \n",
       "\n",
       "                                      tokens_stopped  \n",
       "0  [enfp, intj, moments, sportscenter, top, ten, ...  \n",
       "1  [finding, lack, posts, alarming, sex, boring, ...  \n",
       "2  [good, one, course, say, know, blessing, curse...  \n",
       "3  [dear, intp, enjoyed, conversation, day, esote...  \n",
       "4  [fired, another, silly, misconception, approac...  "
      ]
     },
     "execution_count": 68,
     "metadata": {},
     "output_type": "execute_result"
    }
   ],
   "source": [
    "# preview updated dataframe\n",
    "df_mbti.head()"
   ]
  },
  {
   "cell_type": "code",
   "execution_count": 69,
   "metadata": {},
   "outputs": [],
   "source": [
    "# create features of total words and total unique words\n",
    "df_mbti['num_total_words'] = df_mbti['tokens_stopped'].apply(lambda x: len(x))\n",
    "df_mbti['num_unique_words'] = df_mbti['tokens_stopped'].apply(lambda x: len(set(x)))"
   ]
  },
  {
   "cell_type": "code",
   "execution_count": 70,
   "metadata": {
    "scrolled": true
   },
   "outputs": [
    {
     "data": {
      "text/html": [
       "<div>\n",
       "<style scoped>\n",
       "    .dataframe tbody tr th:only-of-type {\n",
       "        vertical-align: middle;\n",
       "    }\n",
       "\n",
       "    .dataframe tbody tr th {\n",
       "        vertical-align: top;\n",
       "    }\n",
       "\n",
       "    .dataframe thead th {\n",
       "        text-align: right;\n",
       "    }\n",
       "</style>\n",
       "<table border=\"1\" class=\"dataframe\">\n",
       "  <thead>\n",
       "    <tr style=\"text-align: right;\">\n",
       "      <th></th>\n",
       "      <th>type</th>\n",
       "      <th>posts</th>\n",
       "      <th>count_of_caps</th>\n",
       "      <th>count_of_exclamations</th>\n",
       "      <th>count_of_digits</th>\n",
       "      <th>count_of_emojis</th>\n",
       "      <th>tokenized</th>\n",
       "      <th>tokens_stopped</th>\n",
       "      <th>num_total_words</th>\n",
       "      <th>num_unique_words</th>\n",
       "    </tr>\n",
       "  </thead>\n",
       "  <tbody>\n",
       "    <tr>\n",
       "      <th>0</th>\n",
       "      <td>INFJ</td>\n",
       "      <td>'enfp and intj moments    sportscenter not top...</td>\n",
       "      <td>153</td>\n",
       "      <td>3</td>\n",
       "      <td>109</td>\n",
       "      <td>33</td>\n",
       "      <td>[enfp, and, intj, moments, sportscenter, not, ...</td>\n",
       "      <td>[enfp, intj, moments, sportscenter, top, ten, ...</td>\n",
       "      <td>307</td>\n",
       "      <td>257</td>\n",
       "    </tr>\n",
       "    <tr>\n",
       "      <th>1</th>\n",
       "      <td>ENTP</td>\n",
       "      <td>'I'm finding the lack of me in these posts ver...</td>\n",
       "      <td>327</td>\n",
       "      <td>0</td>\n",
       "      <td>109</td>\n",
       "      <td>22</td>\n",
       "      <td>[i, m, finding, the, lack, of, me, in, these, ...</td>\n",
       "      <td>[finding, lack, posts, alarming, sex, boring, ...</td>\n",
       "      <td>561</td>\n",
       "      <td>403</td>\n",
       "    </tr>\n",
       "    <tr>\n",
       "      <th>2</th>\n",
       "      <td>INTP</td>\n",
       "      <td>'Good one     Of course, to which I say I know...</td>\n",
       "      <td>169</td>\n",
       "      <td>4</td>\n",
       "      <td>94</td>\n",
       "      <td>14</td>\n",
       "      <td>[good, one, of, course, to, which, i, say, i, ...</td>\n",
       "      <td>[good, one, course, say, know, blessing, curse...</td>\n",
       "      <td>432</td>\n",
       "      <td>342</td>\n",
       "    </tr>\n",
       "    <tr>\n",
       "      <th>3</th>\n",
       "      <td>INTJ</td>\n",
       "      <td>'Dear INTP,   I enjoyed our conversation the o...</td>\n",
       "      <td>253</td>\n",
       "      <td>3</td>\n",
       "      <td>33</td>\n",
       "      <td>2</td>\n",
       "      <td>[dear, intp, i, enjoyed, our, conversation, th...</td>\n",
       "      <td>[dear, intp, enjoyed, conversation, day, esote...</td>\n",
       "      <td>522</td>\n",
       "      <td>374</td>\n",
       "    </tr>\n",
       "    <tr>\n",
       "      <th>4</th>\n",
       "      <td>ENTJ</td>\n",
       "      <td>'You're fired.That's another silly misconcepti...</td>\n",
       "      <td>261</td>\n",
       "      <td>1</td>\n",
       "      <td>41</td>\n",
       "      <td>11</td>\n",
       "      <td>[you, re, fired, that, s, another, silly, misc...</td>\n",
       "      <td>[fired, another, silly, misconception, approac...</td>\n",
       "      <td>482</td>\n",
       "      <td>368</td>\n",
       "    </tr>\n",
       "  </tbody>\n",
       "</table>\n",
       "</div>"
      ],
      "text/plain": [
       "   type                                              posts  count_of_caps  \\\n",
       "0  INFJ  'enfp and intj moments    sportscenter not top...            153   \n",
       "1  ENTP  'I'm finding the lack of me in these posts ver...            327   \n",
       "2  INTP  'Good one     Of course, to which I say I know...            169   \n",
       "3  INTJ  'Dear INTP,   I enjoyed our conversation the o...            253   \n",
       "4  ENTJ  'You're fired.That's another silly misconcepti...            261   \n",
       "\n",
       "   count_of_exclamations  count_of_digits  count_of_emojis  \\\n",
       "0                      3              109               33   \n",
       "1                      0              109               22   \n",
       "2                      4               94               14   \n",
       "3                      3               33                2   \n",
       "4                      1               41               11   \n",
       "\n",
       "                                           tokenized  \\\n",
       "0  [enfp, and, intj, moments, sportscenter, not, ...   \n",
       "1  [i, m, finding, the, lack, of, me, in, these, ...   \n",
       "2  [good, one, of, course, to, which, i, say, i, ...   \n",
       "3  [dear, intp, i, enjoyed, our, conversation, th...   \n",
       "4  [you, re, fired, that, s, another, silly, misc...   \n",
       "\n",
       "                                      tokens_stopped  num_total_words  \\\n",
       "0  [enfp, intj, moments, sportscenter, top, ten, ...              307   \n",
       "1  [finding, lack, posts, alarming, sex, boring, ...              561   \n",
       "2  [good, one, course, say, know, blessing, curse...              432   \n",
       "3  [dear, intp, enjoyed, conversation, day, esote...              522   \n",
       "4  [fired, another, silly, misconception, approac...              482   \n",
       "\n",
       "   num_unique_words  \n",
       "0               257  \n",
       "1               403  \n",
       "2               342  \n",
       "3               374  \n",
       "4               368  "
      ]
     },
     "execution_count": 70,
     "metadata": {},
     "output_type": "execute_result"
    }
   ],
   "source": [
    "df_mbti.head()"
   ]
  },
  {
   "cell_type": "code",
   "execution_count": 71,
   "metadata": {},
   "outputs": [
    {
     "name": "stdout",
     "output_type": "stream",
     "text": [
      "Shape of final dataframe is (8675, 10)\n"
     ]
    }
   ],
   "source": [
    "print('Shape of final dataframe is {}'.format(df_mbti.shape))"
   ]
  },
  {
   "cell_type": "markdown",
   "metadata": {},
   "source": [
    "### Lemmatize stopped tokens\n",
    "\n",
    "We decided to lemmatize the final list of stopped tokens to reduce redundancy in our vocabulary."
   ]
  },
  {
   "cell_type": "code",
   "execution_count": 72,
   "metadata": {},
   "outputs": [],
   "source": [
    "from nltk.stem.wordnet import WordNetLemmatizer"
   ]
  },
  {
   "cell_type": "code",
   "execution_count": 73,
   "metadata": {},
   "outputs": [],
   "source": [
    "def lemmatize(token_stopwords_list):\n",
    "    \"\"\"return a list of lemmatized words\"\"\"\n",
    "    lemmatizer = WordNetLemmatizer()\n",
    "    return [lemmatizer.lemmatize(word) for word in token_stopwords_list]\n"
   ]
  },
  {
   "cell_type": "code",
   "execution_count": 74,
   "metadata": {},
   "outputs": [],
   "source": [
    "# add new column of lemmatized words in a list\n",
    "df_mbti['lemmatized'] = df_mbti.tokens_stopped.apply(lambda x: lemmatize(x))"
   ]
  },
  {
   "cell_type": "code",
   "execution_count": 75,
   "metadata": {},
   "outputs": [],
   "source": [
    "# take the lemmatized results and join them in a string to later pass into vectorizer\n",
    "df_mbti['joined_lemmatized']= df_mbti['lemmatized'].apply(lambda x: \" \".join(x))"
   ]
  },
  {
   "cell_type": "code",
   "execution_count": 76,
   "metadata": {
    "scrolled": false
   },
   "outputs": [
    {
     "data": {
      "text/html": [
       "<div>\n",
       "<style scoped>\n",
       "    .dataframe tbody tr th:only-of-type {\n",
       "        vertical-align: middle;\n",
       "    }\n",
       "\n",
       "    .dataframe tbody tr th {\n",
       "        vertical-align: top;\n",
       "    }\n",
       "\n",
       "    .dataframe thead th {\n",
       "        text-align: right;\n",
       "    }\n",
       "</style>\n",
       "<table border=\"1\" class=\"dataframe\">\n",
       "  <thead>\n",
       "    <tr style=\"text-align: right;\">\n",
       "      <th></th>\n",
       "      <th>type</th>\n",
       "      <th>posts</th>\n",
       "      <th>count_of_caps</th>\n",
       "      <th>count_of_exclamations</th>\n",
       "      <th>count_of_digits</th>\n",
       "      <th>count_of_emojis</th>\n",
       "      <th>tokenized</th>\n",
       "      <th>tokens_stopped</th>\n",
       "      <th>num_total_words</th>\n",
       "      <th>num_unique_words</th>\n",
       "      <th>lemmatized</th>\n",
       "      <th>joined_lemmatized</th>\n",
       "    </tr>\n",
       "  </thead>\n",
       "  <tbody>\n",
       "    <tr>\n",
       "      <th>0</th>\n",
       "      <td>INFJ</td>\n",
       "      <td>'enfp and intj moments    sportscenter not top...</td>\n",
       "      <td>153</td>\n",
       "      <td>3</td>\n",
       "      <td>109</td>\n",
       "      <td>33</td>\n",
       "      <td>[enfp, and, intj, moments, sportscenter, not, ...</td>\n",
       "      <td>[enfp, intj, moments, sportscenter, top, ten, ...</td>\n",
       "      <td>307</td>\n",
       "      <td>257</td>\n",
       "      <td>[enfp, intj, moment, sportscenter, top, ten, p...</td>\n",
       "      <td>enfp intj moment sportscenter top ten play pra...</td>\n",
       "    </tr>\n",
       "    <tr>\n",
       "      <th>1</th>\n",
       "      <td>ENTP</td>\n",
       "      <td>'I'm finding the lack of me in these posts ver...</td>\n",
       "      <td>327</td>\n",
       "      <td>0</td>\n",
       "      <td>109</td>\n",
       "      <td>22</td>\n",
       "      <td>[i, m, finding, the, lack, of, me, in, these, ...</td>\n",
       "      <td>[finding, lack, posts, alarming, sex, boring, ...</td>\n",
       "      <td>561</td>\n",
       "      <td>403</td>\n",
       "      <td>[finding, lack, post, alarming, sex, boring, p...</td>\n",
       "      <td>finding lack post alarming sex boring position...</td>\n",
       "    </tr>\n",
       "    <tr>\n",
       "      <th>2</th>\n",
       "      <td>INTP</td>\n",
       "      <td>'Good one     Of course, to which I say I know...</td>\n",
       "      <td>169</td>\n",
       "      <td>4</td>\n",
       "      <td>94</td>\n",
       "      <td>14</td>\n",
       "      <td>[good, one, of, course, to, which, i, say, i, ...</td>\n",
       "      <td>[good, one, course, say, know, blessing, curse...</td>\n",
       "      <td>432</td>\n",
       "      <td>342</td>\n",
       "      <td>[good, one, course, say, know, blessing, curse...</td>\n",
       "      <td>good one course say know blessing curse absolu...</td>\n",
       "    </tr>\n",
       "    <tr>\n",
       "      <th>3</th>\n",
       "      <td>INTJ</td>\n",
       "      <td>'Dear INTP,   I enjoyed our conversation the o...</td>\n",
       "      <td>253</td>\n",
       "      <td>3</td>\n",
       "      <td>33</td>\n",
       "      <td>2</td>\n",
       "      <td>[dear, intp, i, enjoyed, our, conversation, th...</td>\n",
       "      <td>[dear, intp, enjoyed, conversation, day, esote...</td>\n",
       "      <td>522</td>\n",
       "      <td>374</td>\n",
       "      <td>[dear, intp, enjoyed, conversation, day, esote...</td>\n",
       "      <td>dear intp enjoyed conversation day esoteric ga...</td>\n",
       "    </tr>\n",
       "    <tr>\n",
       "      <th>4</th>\n",
       "      <td>ENTJ</td>\n",
       "      <td>'You're fired.That's another silly misconcepti...</td>\n",
       "      <td>261</td>\n",
       "      <td>1</td>\n",
       "      <td>41</td>\n",
       "      <td>11</td>\n",
       "      <td>[you, re, fired, that, s, another, silly, misc...</td>\n",
       "      <td>[fired, another, silly, misconception, approac...</td>\n",
       "      <td>482</td>\n",
       "      <td>368</td>\n",
       "      <td>[fired, another, silly, misconception, approac...</td>\n",
       "      <td>fired another silly misconception approaching ...</td>\n",
       "    </tr>\n",
       "  </tbody>\n",
       "</table>\n",
       "</div>"
      ],
      "text/plain": [
       "   type                                              posts  count_of_caps  \\\n",
       "0  INFJ  'enfp and intj moments    sportscenter not top...            153   \n",
       "1  ENTP  'I'm finding the lack of me in these posts ver...            327   \n",
       "2  INTP  'Good one     Of course, to which I say I know...            169   \n",
       "3  INTJ  'Dear INTP,   I enjoyed our conversation the o...            253   \n",
       "4  ENTJ  'You're fired.That's another silly misconcepti...            261   \n",
       "\n",
       "   count_of_exclamations  count_of_digits  count_of_emojis  \\\n",
       "0                      3              109               33   \n",
       "1                      0              109               22   \n",
       "2                      4               94               14   \n",
       "3                      3               33                2   \n",
       "4                      1               41               11   \n",
       "\n",
       "                                           tokenized  \\\n",
       "0  [enfp, and, intj, moments, sportscenter, not, ...   \n",
       "1  [i, m, finding, the, lack, of, me, in, these, ...   \n",
       "2  [good, one, of, course, to, which, i, say, i, ...   \n",
       "3  [dear, intp, i, enjoyed, our, conversation, th...   \n",
       "4  [you, re, fired, that, s, another, silly, misc...   \n",
       "\n",
       "                                      tokens_stopped  num_total_words  \\\n",
       "0  [enfp, intj, moments, sportscenter, top, ten, ...              307   \n",
       "1  [finding, lack, posts, alarming, sex, boring, ...              561   \n",
       "2  [good, one, course, say, know, blessing, curse...              432   \n",
       "3  [dear, intp, enjoyed, conversation, day, esote...              522   \n",
       "4  [fired, another, silly, misconception, approac...              482   \n",
       "\n",
       "   num_unique_words                                         lemmatized  \\\n",
       "0               257  [enfp, intj, moment, sportscenter, top, ten, p...   \n",
       "1               403  [finding, lack, post, alarming, sex, boring, p...   \n",
       "2               342  [good, one, course, say, know, blessing, curse...   \n",
       "3               374  [dear, intp, enjoyed, conversation, day, esote...   \n",
       "4               368  [fired, another, silly, misconception, approac...   \n",
       "\n",
       "                                   joined_lemmatized  \n",
       "0  enfp intj moment sportscenter top ten play pra...  \n",
       "1  finding lack post alarming sex boring position...  \n",
       "2  good one course say know blessing curse absolu...  \n",
       "3  dear intp enjoyed conversation day esoteric ga...  \n",
       "4  fired another silly misconception approaching ...  "
      ]
     },
     "execution_count": 76,
     "metadata": {},
     "output_type": "execute_result"
    }
   ],
   "source": [
    "# preview updated dataframe\n",
    "df_mbti.head()"
   ]
  },
  {
   "cell_type": "code",
   "execution_count": 77,
   "metadata": {},
   "outputs": [
    {
     "data": {
      "text/plain": [
       "Index(['type', 'posts', 'count_of_caps', 'count_of_exclamations',\n",
       "       'count_of_digits', 'count_of_emojis', 'tokenized', 'tokens_stopped',\n",
       "       'num_total_words', 'num_unique_words', 'lemmatized',\n",
       "       'joined_lemmatized'],\n",
       "      dtype='object')"
      ]
     },
     "execution_count": 77,
     "metadata": {},
     "output_type": "execute_result"
    }
   ],
   "source": [
    "# view list of columns to identify columns to drop\n",
    "df_mbti.columns"
   ]
  },
  {
   "cell_type": "code",
   "execution_count": 78,
   "metadata": {},
   "outputs": [],
   "source": [
    "# create new dataframe with just the columns we want for our models\n",
    "df_mbti_dropped = df_mbti[['type','count_of_caps', 'count_of_exclamations','count_of_digits', \n",
    "                           'count_of_emojis', 'num_total_words', 'num_unique_words', \n",
    "                           'joined_lemmatized']]"
   ]
  },
  {
   "cell_type": "code",
   "execution_count": 79,
   "metadata": {},
   "outputs": [
    {
     "data": {
      "text/html": [
       "<div>\n",
       "<style scoped>\n",
       "    .dataframe tbody tr th:only-of-type {\n",
       "        vertical-align: middle;\n",
       "    }\n",
       "\n",
       "    .dataframe tbody tr th {\n",
       "        vertical-align: top;\n",
       "    }\n",
       "\n",
       "    .dataframe thead th {\n",
       "        text-align: right;\n",
       "    }\n",
       "</style>\n",
       "<table border=\"1\" class=\"dataframe\">\n",
       "  <thead>\n",
       "    <tr style=\"text-align: right;\">\n",
       "      <th></th>\n",
       "      <th>type</th>\n",
       "      <th>count_of_caps</th>\n",
       "      <th>count_of_exclamations</th>\n",
       "      <th>count_of_digits</th>\n",
       "      <th>count_of_emojis</th>\n",
       "      <th>num_total_words</th>\n",
       "      <th>num_unique_words</th>\n",
       "      <th>joined_lemmatized</th>\n",
       "    </tr>\n",
       "  </thead>\n",
       "  <tbody>\n",
       "    <tr>\n",
       "      <th>0</th>\n",
       "      <td>INFJ</td>\n",
       "      <td>153</td>\n",
       "      <td>3</td>\n",
       "      <td>109</td>\n",
       "      <td>33</td>\n",
       "      <td>307</td>\n",
       "      <td>257</td>\n",
       "      <td>enfp intj moment sportscenter top ten play pra...</td>\n",
       "    </tr>\n",
       "    <tr>\n",
       "      <th>1</th>\n",
       "      <td>ENTP</td>\n",
       "      <td>327</td>\n",
       "      <td>0</td>\n",
       "      <td>109</td>\n",
       "      <td>22</td>\n",
       "      <td>561</td>\n",
       "      <td>403</td>\n",
       "      <td>finding lack post alarming sex boring position...</td>\n",
       "    </tr>\n",
       "    <tr>\n",
       "      <th>2</th>\n",
       "      <td>INTP</td>\n",
       "      <td>169</td>\n",
       "      <td>4</td>\n",
       "      <td>94</td>\n",
       "      <td>14</td>\n",
       "      <td>432</td>\n",
       "      <td>342</td>\n",
       "      <td>good one course say know blessing curse absolu...</td>\n",
       "    </tr>\n",
       "    <tr>\n",
       "      <th>3</th>\n",
       "      <td>INTJ</td>\n",
       "      <td>253</td>\n",
       "      <td>3</td>\n",
       "      <td>33</td>\n",
       "      <td>2</td>\n",
       "      <td>522</td>\n",
       "      <td>374</td>\n",
       "      <td>dear intp enjoyed conversation day esoteric ga...</td>\n",
       "    </tr>\n",
       "    <tr>\n",
       "      <th>4</th>\n",
       "      <td>ENTJ</td>\n",
       "      <td>261</td>\n",
       "      <td>1</td>\n",
       "      <td>41</td>\n",
       "      <td>11</td>\n",
       "      <td>482</td>\n",
       "      <td>368</td>\n",
       "      <td>fired another silly misconception approaching ...</td>\n",
       "    </tr>\n",
       "  </tbody>\n",
       "</table>\n",
       "</div>"
      ],
      "text/plain": [
       "   type  count_of_caps  count_of_exclamations  count_of_digits  \\\n",
       "0  INFJ            153                      3              109   \n",
       "1  ENTP            327                      0              109   \n",
       "2  INTP            169                      4               94   \n",
       "3  INTJ            253                      3               33   \n",
       "4  ENTJ            261                      1               41   \n",
       "\n",
       "   count_of_emojis  num_total_words  num_unique_words  \\\n",
       "0               33              307               257   \n",
       "1               22              561               403   \n",
       "2               14              432               342   \n",
       "3                2              522               374   \n",
       "4               11              482               368   \n",
       "\n",
       "                                   joined_lemmatized  \n",
       "0  enfp intj moment sportscenter top ten play pra...  \n",
       "1  finding lack post alarming sex boring position...  \n",
       "2  good one course say know blessing curse absolu...  \n",
       "3  dear intp enjoyed conversation day esoteric ga...  \n",
       "4  fired another silly misconception approaching ...  "
      ]
     },
     "execution_count": 79,
     "metadata": {},
     "output_type": "execute_result"
    }
   ],
   "source": [
    "# preview new dataframe\n",
    "df_mbti_dropped.head()"
   ]
  },
  {
   "cell_type": "code",
   "execution_count": 80,
   "metadata": {},
   "outputs": [],
   "source": [
    "# save our new dataframe as csv as backup\n",
    "# df_mbti_dropped.to_csv('master_df.csv')"
   ]
  },
  {
   "cell_type": "code",
   "execution_count": 81,
   "metadata": {},
   "outputs": [
    {
     "data": {
      "text/plain": [
       "['enfp',\n",
       " 'intj',\n",
       " 'moment',\n",
       " 'sportscenter',\n",
       " 'top',\n",
       " 'ten',\n",
       " 'play',\n",
       " 'prankswhat',\n",
       " 'life',\n",
       " 'changing',\n",
       " 'experience',\n",
       " 'life',\n",
       " 'repeat',\n",
       " 'today',\n",
       " 'may',\n",
       " 'perc',\n",
       " 'experience',\n",
       " 'immerse',\n",
       " 'last',\n",
       " 'thing',\n",
       " 'infj',\n",
       " 'friend',\n",
       " 'posted',\n",
       " 'facebook',\n",
       " 'committing',\n",
       " 'suicide',\n",
       " 'next',\n",
       " 'day',\n",
       " 'rest',\n",
       " 'peace',\n",
       " 'hello',\n",
       " 'enfj',\n",
       " 'sorry',\n",
       " 'hear',\n",
       " 'distress',\n",
       " 'natural',\n",
       " 'relationship',\n",
       " 'perfection',\n",
       " 'time',\n",
       " 'every',\n",
       " 'moment',\n",
       " 'existence',\n",
       " 'try',\n",
       " 'figure',\n",
       " 'hard',\n",
       " 'time',\n",
       " 'time',\n",
       " 'growth',\n",
       " 'welcome',\n",
       " 'stuff',\n",
       " 'game',\n",
       " 'set',\n",
       " 'match',\n",
       " 'prozac',\n",
       " 'wellbrutin',\n",
       " 'least',\n",
       " 'thirty',\n",
       " 'minute',\n",
       " 'moving',\n",
       " 'leg',\n",
       " 'mean',\n",
       " 'moving',\n",
       " 'sitting',\n",
       " 'desk',\n",
       " 'chair',\n",
       " 'weed',\n",
       " 'moderation',\n",
       " 'maybe',\n",
       " 'try',\n",
       " 'edible',\n",
       " 'healthier',\n",
       " 'alternative',\n",
       " 'basically',\n",
       " 'come',\n",
       " 'three',\n",
       " 'item',\n",
       " 'determined',\n",
       " 'type',\n",
       " 'whichever',\n",
       " 'type',\n",
       " 'want',\n",
       " 'would',\n",
       " 'likely',\n",
       " 'use',\n",
       " 'given',\n",
       " 'type',\n",
       " 'cognitive',\n",
       " 'function',\n",
       " 'whatnot',\n",
       " 'left',\n",
       " 'thing',\n",
       " 'moderation',\n",
       " 'sims',\n",
       " 'indeed',\n",
       " 'video',\n",
       " 'game',\n",
       " 'good',\n",
       " 'one',\n",
       " 'note',\n",
       " 'good',\n",
       " 'one',\n",
       " 'somewhat',\n",
       " 'subjective',\n",
       " 'completely',\n",
       " 'promoting',\n",
       " 'death',\n",
       " 'given',\n",
       " 'sim',\n",
       " 'dear',\n",
       " 'enfp',\n",
       " 'favorite',\n",
       " 'video',\n",
       " 'game',\n",
       " 'growing',\n",
       " 'current',\n",
       " 'favorite',\n",
       " 'video',\n",
       " 'game',\n",
       " 'cool',\n",
       " 'appears',\n",
       " 'late',\n",
       " 'sad',\n",
       " 'someone',\n",
       " 'everyone',\n",
       " 'wait',\n",
       " 'thought',\n",
       " 'confidence',\n",
       " 'good',\n",
       " 'thing',\n",
       " 'cherish',\n",
       " 'time',\n",
       " 'solitude',\n",
       " 'b',\n",
       " 'c',\n",
       " 'revel',\n",
       " 'within',\n",
       " 'inner',\n",
       " 'world',\n",
       " 'whereas',\n",
       " 'time',\n",
       " 'workin',\n",
       " 'enjoy',\n",
       " 'time',\n",
       " 'worry',\n",
       " 'people',\n",
       " 'always',\n",
       " 'around',\n",
       " 'yo',\n",
       " 'entp',\n",
       " 'lady',\n",
       " 'complimentary',\n",
       " 'personality',\n",
       " 'well',\n",
       " 'hey',\n",
       " 'main',\n",
       " 'social',\n",
       " 'outlet',\n",
       " 'xbox',\n",
       " 'live',\n",
       " 'conversation',\n",
       " 'even',\n",
       " 'verbally',\n",
       " 'fatigue',\n",
       " 'quickly',\n",
       " 'really',\n",
       " 'dig',\n",
       " 'part',\n",
       " 'banned',\n",
       " 'thread',\n",
       " 'requires',\n",
       " 'get',\n",
       " 'high',\n",
       " 'backyard',\n",
       " 'roast',\n",
       " 'eat',\n",
       " 'marshmellows',\n",
       " 'backyard',\n",
       " 'conversing',\n",
       " 'something',\n",
       " 'intellectual',\n",
       " 'followed',\n",
       " 'massage',\n",
       " 'kiss',\n",
       " 'banned',\n",
       " 'many',\n",
       " 'b',\n",
       " 'sentence',\n",
       " 'could',\n",
       " 'think',\n",
       " 'b',\n",
       " 'banned',\n",
       " 'watching',\n",
       " 'movie',\n",
       " 'corner',\n",
       " 'dunce',\n",
       " 'banned',\n",
       " 'health',\n",
       " 'class',\n",
       " 'clearly',\n",
       " 'taught',\n",
       " 'nothing',\n",
       " 'peer',\n",
       " 'pressure',\n",
       " 'banned',\n",
       " 'whole',\n",
       " 'host',\n",
       " 'reason',\n",
       " 'two',\n",
       " 'baby',\n",
       " 'deer',\n",
       " 'left',\n",
       " 'right',\n",
       " 'munching',\n",
       " 'beetle',\n",
       " 'middle',\n",
       " 'using',\n",
       " 'blood',\n",
       " 'two',\n",
       " 'caveman',\n",
       " 'diary',\n",
       " 'today',\n",
       " 'latest',\n",
       " 'happening',\n",
       " 'designated',\n",
       " 'cave',\n",
       " 'diary',\n",
       " 'wall',\n",
       " 'see',\n",
       " 'pokemon',\n",
       " 'world',\n",
       " 'infj',\n",
       " 'society',\n",
       " 'everyone',\n",
       " 'becomes',\n",
       " 'optimistnot',\n",
       " 'artist',\n",
       " 'artist',\n",
       " 'draw',\n",
       " 'idea',\n",
       " 'count',\n",
       " 'forming',\n",
       " 'something',\n",
       " 'like',\n",
       " 'signature',\n",
       " 'welcome',\n",
       " 'robot',\n",
       " 'rank',\n",
       " 'person',\n",
       " 'downed',\n",
       " 'self',\n",
       " 'esteem',\n",
       " 'cuz',\n",
       " 'avid',\n",
       " 'signature',\n",
       " 'artist',\n",
       " 'like',\n",
       " 'proud',\n",
       " 'banned',\n",
       " 'taking',\n",
       " 'room',\n",
       " 'bed',\n",
       " 'ya',\n",
       " 'gotta',\n",
       " 'learn',\n",
       " 'share',\n",
       " 'roach',\n",
       " 'banned',\n",
       " 'much',\n",
       " 'thundering',\n",
       " 'grumbling',\n",
       " 'kind',\n",
       " 'storm',\n",
       " 'yep',\n",
       " 'ahh',\n",
       " 'old',\n",
       " 'high',\n",
       " 'school',\n",
       " 'music',\n",
       " 'heard',\n",
       " 'age',\n",
       " 'failed',\n",
       " 'public',\n",
       " 'speaking',\n",
       " 'class',\n",
       " 'year',\n",
       " 'ago',\n",
       " 'sort',\n",
       " 'learned',\n",
       " 'could',\n",
       " 'better',\n",
       " 'position',\n",
       " 'big',\n",
       " 'part',\n",
       " 'failure',\n",
       " 'overloading',\n",
       " 'like',\n",
       " 'person',\n",
       " 'mentality',\n",
       " 'confirmed',\n",
       " 'intj',\n",
       " 'way',\n",
       " 'move',\n",
       " 'denver',\n",
       " 'area',\n",
       " 'start',\n",
       " 'new',\n",
       " 'life',\n",
       " 'finding',\n",
       " 'lack',\n",
       " 'post',\n",
       " 'alarming',\n",
       " 'sex',\n",
       " 'boring',\n",
       " 'position',\n",
       " 'often',\n",
       " 'example',\n",
       " 'girlfriend',\n",
       " 'currently',\n",
       " 'environment',\n",
       " 'creatively',\n",
       " 'use',\n",
       " 'cowgirl',\n",
       " 'missionary',\n",
       " 'enough',\n",
       " 'giving',\n",
       " 'new',\n",
       " 'meaning',\n",
       " 'game',\n",
       " 'theory',\n",
       " 'hello',\n",
       " 'entp',\n",
       " 'grin',\n",
       " 'take',\n",
       " 'converse',\n",
       " 'flirting',\n",
       " 'acknowledge',\n",
       " 'presence',\n",
       " 'return',\n",
       " 'word',\n",
       " 'smooth',\n",
       " 'wordplay',\n",
       " 'cheeky',\n",
       " 'grin',\n",
       " 'lack',\n",
       " 'balance',\n",
       " 'hand',\n",
       " 'eye',\n",
       " 'coordination',\n",
       " 'real',\n",
       " 'iq',\n",
       " 'test',\n",
       " 'score',\n",
       " 'internet',\n",
       " 'iq',\n",
       " 'test',\n",
       " 'funny',\n",
       " 'score',\n",
       " 'higher',\n",
       " 'like',\n",
       " 'former',\n",
       " 'response',\n",
       " 'thread',\n",
       " 'mention',\n",
       " 'believe',\n",
       " 'iq',\n",
       " 'test',\n",
       " 'banish',\n",
       " 'know',\n",
       " 'entp',\n",
       " 'vanish',\n",
       " 'site',\n",
       " 'year',\n",
       " 'half',\n",
       " 'return',\n",
       " 'find',\n",
       " 'people',\n",
       " 'still',\n",
       " 'commenting',\n",
       " 'post',\n",
       " 'liking',\n",
       " 'idea',\n",
       " 'thought',\n",
       " 'know',\n",
       " 'entp',\n",
       " 'think',\n",
       " 'thing',\n",
       " 'sometimes',\n",
       " 'go',\n",
       " 'old',\n",
       " 'sherlock',\n",
       " 'holmes',\n",
       " 'quote',\n",
       " 'perhaps',\n",
       " 'man',\n",
       " 'special',\n",
       " 'knowledge',\n",
       " 'special',\n",
       " 'power',\n",
       " 'like',\n",
       " 'rather',\n",
       " 'encourages',\n",
       " 'seek',\n",
       " 'complex',\n",
       " 'cheshirewolf',\n",
       " 'tumblr',\n",
       " 'com',\n",
       " 'postnot',\n",
       " 'really',\n",
       " 'never',\n",
       " 'thought',\n",
       " 'e',\n",
       " 'j',\n",
       " 'p',\n",
       " 'real',\n",
       " 'function',\n",
       " 'judge',\n",
       " 'use',\n",
       " 'use',\n",
       " 'ne',\n",
       " 'ti',\n",
       " 'dominates',\n",
       " 'fe',\n",
       " 'emotion',\n",
       " 'rarely',\n",
       " 'si',\n",
       " 'also',\n",
       " 'use',\n",
       " 'ni',\n",
       " 'due',\n",
       " 'strength',\n",
       " 'know',\n",
       " 'though',\n",
       " 'ingenious',\n",
       " 'saying',\n",
       " 'really',\n",
       " 'want',\n",
       " 'try',\n",
       " 'see',\n",
       " 'happens',\n",
       " 'playing',\n",
       " 'first',\n",
       " 'person',\n",
       " 'shooter',\n",
       " 'back',\n",
       " 'drive',\n",
       " 'around',\n",
       " 'want',\n",
       " 'see',\n",
       " 'look',\n",
       " 'rock',\n",
       " 'paper',\n",
       " 'one',\n",
       " 'best',\n",
       " 'make',\n",
       " 'lol',\n",
       " 'guy',\n",
       " 'lucky',\n",
       " 'really',\n",
       " 'high',\n",
       " 'tumblr',\n",
       " 'system',\n",
       " 'hear',\n",
       " 'new',\n",
       " 'first',\n",
       " 'person',\n",
       " 'shooter',\n",
       " 'game',\n",
       " 'rocking',\n",
       " 'hell',\n",
       " 'soundtrack',\n",
       " 'auto',\n",
       " 'sound',\n",
       " 'equipment',\n",
       " 'shake',\n",
       " 'heaven',\n",
       " 'managed',\n",
       " 'put',\n",
       " 'couple',\n",
       " 'p',\n",
       " 'way',\n",
       " 'connected',\n",
       " 'thing',\n",
       " 'ne',\n",
       " 'ne',\n",
       " 'dominates',\n",
       " 'aware',\n",
       " 'environment',\n",
       " 'se',\n",
       " 'dominates',\n",
       " 'example',\n",
       " 'shawn',\n",
       " 'spencer',\n",
       " 'patrick',\n",
       " 'jane',\n",
       " 'entps',\n",
       " 'well',\n",
       " 'charlie',\n",
       " 'first',\n",
       " 'admit',\n",
       " 'get',\n",
       " 'jealous',\n",
       " 'like',\n",
       " 'chalk',\n",
       " 'w',\n",
       " 'heart',\n",
       " 'mixed',\n",
       " 'dominate',\n",
       " 'w',\n",
       " 'like',\n",
       " 'noticed',\n",
       " 'like',\n",
       " 'known',\n",
       " 'upload',\n",
       " 'clip',\n",
       " 'mic',\n",
       " 'away',\n",
       " 'mouth',\n",
       " 'hear',\n",
       " 'anything',\n",
       " 'ninja',\n",
       " 'assassin',\n",
       " 'style',\n",
       " 'splatter',\n",
       " 'tik',\n",
       " 'tok',\n",
       " 'really',\n",
       " 'great',\n",
       " 'song',\n",
       " 'long',\n",
       " 'mental',\n",
       " 'block',\n",
       " 'singer',\n",
       " 'love',\n",
       " 'beat',\n",
       " 'make',\n",
       " 'bounce',\n",
       " 'drop',\n",
       " 'io',\n",
       " 'vswck',\n",
       " 'mic',\n",
       " 'really',\n",
       " 'close',\n",
       " 'mouth',\n",
       " 'smokin',\n",
       " 'ace',\n",
       " 'assassin',\n",
       " 'ball',\n",
       " 'playing',\n",
       " 'background',\n",
       " 'sociable',\n",
       " 'extrovert',\n",
       " 'extrovert',\n",
       " 'sociable',\n",
       " 'sherlock',\n",
       " 'movie',\n",
       " 'entp',\n",
       " 'normally',\n",
       " 'played',\n",
       " 'extj',\n",
       " 'book',\n",
       " 'estj',\n",
       " 'said',\n",
       " 'movie',\n",
       " 'looked',\n",
       " 'good',\n",
       " 'except',\n",
       " 'called',\n",
       " 'sherlock',\n",
       " 'holmes',\n",
       " 'oh',\n",
       " 'never',\n",
       " 'fear',\n",
       " 'kissing',\n",
       " 'guy',\n",
       " 'kiss',\n",
       " 'animal',\n",
       " 'nothing',\n",
       " 'vanish',\n",
       " 'personal',\n",
       " 'taste',\n",
       " 'liking',\n",
       " 'guy',\n",
       " 'kissed',\n",
       " 'know',\n",
       " 'one',\n",
       " 'sound',\n",
       " 'pretty',\n",
       " 'much',\n",
       " 'like',\n",
       " 'area',\n",
       " 'going',\n",
       " 'right',\n",
       " 'trying',\n",
       " 'figure',\n",
       " 'way',\n",
       " 'want',\n",
       " 'take',\n",
       " 'life',\n",
       " 'want',\n",
       " 'many',\n",
       " 'thing',\n",
       " 'biggest',\n",
       " 'problem',\n",
       " 'know',\n",
       " 'operating',\n",
       " 'impression',\n",
       " 'female',\n",
       " 'never',\n",
       " 'looked',\n",
       " 'boxy',\n",
       " 'okay',\n",
       " 'help',\n",
       " 'gay',\n",
       " 'friend',\n",
       " 'time',\n",
       " 'one',\n",
       " 'developed',\n",
       " 'little',\n",
       " 'crush',\n",
       " 'get',\n",
       " 'red',\n",
       " 'tt',\n",
       " 'described',\n",
       " 'living',\n",
       " 'worst',\n",
       " 'nightmare',\n",
       " 'trapped',\n",
       " 'one',\n",
       " 'place',\n",
       " 'one',\n",
       " 'one',\n",
       " 'around',\n",
       " 'dull',\n",
       " 'wood',\n",
       " 'serial',\n",
       " 'killer',\n",
       " 'would',\n",
       " 'perfect',\n",
       " 'place',\n",
       " 'sadly',\n",
       " 'tbh',\n",
       " 'biased',\n",
       " 'sound',\n",
       " 'like',\n",
       " 'shadowed',\n",
       " 'infp',\n",
       " 'think',\n",
       " 'maybe',\n",
       " 'hurt',\n",
       " 'turned',\n",
       " 'estj',\n",
       " 'tell',\n",
       " 'typical',\n",
       " 'infp',\n",
       " 'trait',\n",
       " 'left',\n",
       " 'check',\n",
       " 'list',\n",
       " 'sorry',\n",
       " 'seems',\n",
       " 'came',\n",
       " 'bad',\n",
       " 'time',\n",
       " 'already',\n",
       " 'reached',\n",
       " 'quota',\n",
       " 'infjs',\n",
       " 'however',\n",
       " 'female',\n",
       " 'like',\n",
       " 'female',\n",
       " 'make',\n",
       " 'deal',\n",
       " 'kick',\n",
       " 'one',\n",
       " 'antp',\n",
       " 'leaning',\n",
       " 'toward',\n",
       " 'e',\n",
       " 'easy',\n",
       " 'entps',\n",
       " 'intps',\n",
       " 'identify',\n",
       " 'also',\n",
       " 'imagine',\n",
       " 'entp',\n",
       " 'interrogation',\n",
       " 'would',\n",
       " 'go',\n",
       " 'little',\n",
       " 'bit',\n",
       " 'like',\n",
       " 'jack',\n",
       " 'except',\n",
       " 'mechanical',\n",
       " 'rigging',\n",
       " 'shock',\n",
       " 'treatment',\n",
       " 'equipment',\n",
       " 'abandoned',\n",
       " 'building',\n",
       " 'old',\n",
       " 'car',\n",
       " 'batty',\n",
       " 'jumper',\n",
       " 'compliment',\n",
       " 'trust',\n",
       " 'psychopathic',\n",
       " 'except',\n",
       " 'emoticon',\n",
       " 'weird',\n",
       " 'one',\n",
       " 'like',\n",
       " 'laughing',\n",
       " 'get',\n",
       " 'hurt',\n",
       " 'people',\n",
       " 'running',\n",
       " 'lawn',\n",
       " 'mower',\n",
       " 'like',\n",
       " 'theme',\n",
       " 'live',\n",
       " 'know',\n",
       " 'heart',\n",
       " 'usual',\n",
       " 'leave',\n",
       " 'thing',\n",
       " 'end',\n",
       " 'mean',\n",
       " 'time',\n",
       " 'time',\n",
       " 'work',\n",
       " 'thing',\n",
       " 'work',\n",
       " 'mine',\n",
       " 'mbp',\n",
       " 'pleasure',\n",
       " 'meet',\n",
       " 'damn',\n",
       " 'need',\n",
       " 'trust',\n",
       " 'instinct',\n",
       " 'would',\n",
       " 'closer',\n",
       " 'going',\n",
       " 'say',\n",
       " 'infp',\n",
       " 'exfp',\n",
       " 'leaning',\n",
       " 'toward',\n",
       " 'way',\n",
       " 'responded',\n",
       " 'friend',\n",
       " 'even',\n",
       " 'gay',\n",
       " 'lesbian',\n",
       " 'one',\n",
       " 'always',\n",
       " 'come',\n",
       " 'advice',\n",
       " 'bow',\n",
       " 'entp',\n",
       " 'master',\n",
       " 'entps',\n",
       " 'great',\n",
       " 'entps',\n",
       " 'able',\n",
       " 'build',\n",
       " 'building',\n",
       " 'duck',\n",
       " 'duck',\n",
       " 'duck',\n",
       " 'shotgunwhat',\n",
       " 'never',\n",
       " 'hard',\n",
       " 'sad',\n",
       " 'losing',\n",
       " 'someone',\n",
       " 'like',\n",
       " 'knew',\n",
       " 'right',\n",
       " 'give',\n",
       " 'big',\n",
       " 'pat',\n",
       " 'back',\n",
       " 'awesome',\n",
       " 'always',\n",
       " 'correct',\n",
       " 'oh',\n",
       " 'tell',\n",
       " 'stupid',\n",
       " 'know',\n",
       " 'play',\n",
       " 'make',\n",
       " 'laugh',\n",
       " 'going',\n",
       " 'take',\n",
       " 'neuropsychology',\n",
       " 'psychologist',\n",
       " 'nightowl',\n",
       " 'wake',\n",
       " 'pm',\n",
       " 'stay',\n",
       " 'awake',\n",
       " 'till',\n",
       " 'personal',\n",
       " 'opinion',\n",
       " 'backed',\n",
       " 'theory',\n",
       " 'would',\n",
       " 'suggest',\n",
       " 'intps',\n",
       " 'socially',\n",
       " 'difficult',\n",
       " 'intjs',\n",
       " 'socially',\n",
       " 'indifferent',\n",
       " 'also',\n",
       " 'use',\n",
       " 'social',\n",
       " 'situation',\n",
       " 'need',\n",
       " 'arises',\n",
       " 'personal',\n",
       " 'stock',\n",
       " 'desktop',\n",
       " 'downloaded',\n",
       " 'random',\n",
       " 'stock',\n",
       " 'site',\n",
       " 'stock',\n",
       " 'photobuckets',\n",
       " 'tell',\n",
       " 'open',\n",
       " 'photoshop',\n",
       " 'glad',\n",
       " 'like',\n",
       " 'static',\n",
       " 'thanks',\n",
       " 'made',\n",
       " 'friend',\n",
       " 'several',\n",
       " 'hour',\n",
       " 'work',\n",
       " 'constructed',\n",
       " 'every',\n",
       " 'line',\n",
       " 'static',\n",
       " 'get',\n",
       " 'avatar',\n",
       " 'later',\n",
       " 'one',\n",
       " 'fellow',\n",
       " 'teammate',\n",
       " 'psychologist',\n",
       " 'keep',\n",
       " 'around',\n",
       " 'long',\n",
       " 'enough',\n",
       " 'diagnosis',\n",
       " 'like',\n",
       " 'toy',\n",
       " 'diagnosis',\n",
       " 'psychologist',\n",
       " 'friend',\n",
       " 'friend',\n",
       " 'tell',\n",
       " 'good',\n",
       " 'one',\n",
       " 'course',\n",
       " 'say',\n",
       " 'know',\n",
       " 'blessing',\n",
       " 'curse',\n",
       " 'absolutely',\n",
       " 'positive',\n",
       " 'best',\n",
       " 'friend',\n",
       " 'could',\n",
       " 'amazing',\n",
       " 'couple',\n",
       " 'count',\n",
       " 'yes',\n",
       " 'could',\n",
       " 'madly',\n",
       " 'love',\n",
       " 'case',\n",
       " 'reconciled',\n",
       " 'feeling',\n",
       " 'thank',\n",
       " 'link',\n",
       " 'called',\n",
       " 'ti',\n",
       " 'si',\n",
       " 'loop',\n",
       " 'stem',\n",
       " 'current',\n",
       " 'topic',\n",
       " 'obsession',\n",
       " 'deadly',\n",
       " 'like',\n",
       " 'stuck',\n",
       " 'thought',\n",
       " 'mind',\n",
       " 'wanders',\n",
       " 'circle',\n",
       " 'feel',\n",
       " 'truly',\n",
       " 'terrible',\n",
       " 'noticed',\n",
       " 'peculiar',\n",
       " 'vegetation',\n",
       " 'look',\n",
       " 'grass',\n",
       " 'dozen',\n",
       " 'different',\n",
       " 'plant',\n",
       " 'specie',\n",
       " 'imagine',\n",
       " 'hundred',\n",
       " 'year',\n",
       " 'later',\n",
       " 'soil',\n",
       " 'smith',\n",
       " 'never',\n",
       " 'one',\n",
       " 'everi',\n",
       " 'often',\n",
       " 'find',\n",
       " 'spotting',\n",
       " 'face',\n",
       " 'marble',\n",
       " 'tile',\n",
       " 'wood',\n",
       " 'year',\n",
       " 'old',\n",
       " 'sentence',\n",
       " 'incredibly',\n",
       " 'accurate',\n",
       " 'beautiful',\n",
       " 'description',\n",
       " 'visited',\n",
       " 'website',\n",
       " 'last',\n",
       " 'year',\n",
       " 'whoever',\n",
       " 'read',\n",
       " 'maybe',\n",
       " 'even',\n",
       " 'remembers',\n",
       " 'highly',\n",
       " 'doubt',\n",
       " 'hi',\n",
       " 'sit',\n",
       " 'garden',\n",
       " 'pm',\n",
       " 'writing',\n",
       " 'song',\n",
       " 'sing',\n",
       " 'together',\n",
       " 'dozen',\n",
       " 'cricket',\n",
       " 'playing',\n",
       " 'acoustic',\n",
       " 'guitar',\n",
       " 'intp',\n",
       " 'ish',\n",
       " 'thread',\n",
       " 'ever',\n",
       " 'seen',\n",
       " 'able',\n",
       " 'look',\n",
       " 'painting',\n",
       " 'entire',\n",
       " 'life',\n",
       " 'knew',\n",
       " 'picked',\n",
       " 'human',\n",
       " 'drawing',\n",
       " 'background',\n",
       " 'animation',\n",
       " 'working',\n",
       " 'right',\n",
       " 'mar',\n",
       " 'felt',\n",
       " 'obligated',\n",
       " 'make',\n",
       " 'mark',\n",
       " 'watneyxs',\n",
       " 'postcard',\n",
       " 'read',\n",
       " 'book',\n",
       " 'started',\n",
       " 'make',\n",
       " 'comic',\n",
       " 'turtle',\n",
       " 'gordon',\n",
       " 'unicorn',\n",
       " 'chime',\n",
       " ...]"
      ]
     },
     "execution_count": 81,
     "metadata": {},
     "output_type": "execute_result"
    }
   ],
   "source": [
    "# create list of our entire corpus' vocabulary\n",
    "all_lemmatized_posts=[]\n",
    "for x in df_mbti.lemmatized:\n",
    "    all_lemmatized_posts.extend(x)\n",
    "    \n",
    "all_lemmatized_posts"
   ]
  },
  {
   "cell_type": "code",
   "execution_count": 82,
   "metadata": {},
   "outputs": [],
   "source": [
    "from  nltk import FreqDist\n",
    "freqdist = FreqDist(all_lemmatized_posts)\n",
    "\n",
    "# get the 200 most common words \n",
    "most_common = freqdist.most_common(200)"
   ]
  },
  {
   "cell_type": "code",
   "execution_count": 83,
   "metadata": {},
   "outputs": [
    {
     "data": {
      "text/plain": [
       "[('like', 71077),\n",
       " ('think', 50948),\n",
       " ('people', 48145),\n",
       " ('one', 40171),\n",
       " ('know', 38284),\n",
       " ('really', 35257),\n",
       " ('would', 34996),\n",
       " ('thing', 34553),\n",
       " ('time', 33622),\n",
       " ('get', 33333),\n",
       " ('feel', 25712),\n",
       " ('type', 24019),\n",
       " ('make', 23643),\n",
       " ('much', 23067),\n",
       " ('say', 22693),\n",
       " ('well', 22591),\n",
       " ('friend', 22132),\n",
       " ('way', 21759),\n",
       " ('love', 21739),\n",
       " ('want', 21194),\n",
       " ('good', 20722),\n",
       " ('see', 19532),\n",
       " ('something', 19486),\n",
       " ('also', 18286),\n",
       " ('lot', 18181),\n",
       " ('go', 17439),\n",
       " ('even', 16902),\n",
       " ('always', 16796),\n",
       " ('life', 16462),\n",
       " ('someone', 16231),\n",
       " ('could', 15275),\n",
       " ('never', 15231),\n",
       " ('though', 14557),\n",
       " ('find', 14387),\n",
       " ('year', 14360),\n",
       " ('thought', 13967),\n",
       " ('need', 13577),\n",
       " ('actually', 13168),\n",
       " ('infp', 13123),\n",
       " ('person', 13008),\n",
       " ('work', 12891),\n",
       " ('right', 12886),\n",
       " ('going', 12711),\n",
       " ('first', 12618),\n",
       " ('sure', 12570),\n",
       " ('pretty', 12310),\n",
       " ('yes', 12069),\n",
       " ('infj', 12048),\n",
       " ('mean', 12028),\n",
       " ('feeling', 11605),\n",
       " ('intj', 11579),\n",
       " ('take', 11521),\n",
       " ('day', 11516),\n",
       " ('come', 11298),\n",
       " ('guy', 11208),\n",
       " ('still', 10986),\n",
       " ('post', 10859),\n",
       " ('thread', 10610),\n",
       " ('look', 10543),\n",
       " ('said', 10543),\n",
       " ('many', 10370),\n",
       " ('got', 10294),\n",
       " ('intp', 10179),\n",
       " ('read', 9948),\n",
       " ('sometimes', 9763),\n",
       " ('try', 9726),\n",
       " ('probably', 9645),\n",
       " ('u', 9602),\n",
       " ('around', 9503),\n",
       " ('maybe', 9494),\n",
       " ('best', 9385),\n",
       " ('kind', 9226),\n",
       " ('back', 9202),\n",
       " ('relationship', 9042),\n",
       " ('question', 8959),\n",
       " ('anything', 8950),\n",
       " ('point', 8617),\n",
       " ('little', 8612),\n",
       " ('enfp', 8530),\n",
       " ('long', 8443),\n",
       " ('usually', 8362),\n",
       " ('better', 8342),\n",
       " ('two', 8320),\n",
       " ('sound', 8297),\n",
       " ('idea', 8261),\n",
       " ('yeah', 8122),\n",
       " ('world', 8121),\n",
       " ('different', 8060),\n",
       " ('might', 8012),\n",
       " ('ever', 7860),\n",
       " ('tell', 7821),\n",
       " ('seems', 7820),\n",
       " ('mind', 7794),\n",
       " ('help', 7789),\n",
       " ('give', 7776),\n",
       " ('others', 7735),\n",
       " ('understand', 7687),\n",
       " ('everyone', 7652),\n",
       " ('since', 7642),\n",
       " ('thinking', 7622),\n",
       " ('bit', 7567),\n",
       " ('thanks', 7557),\n",
       " ('problem', 7528),\n",
       " ('lol', 7524),\n",
       " ('may', 7491),\n",
       " ('hard', 7392),\n",
       " ('trying', 7367),\n",
       " ('quite', 7367),\n",
       " ('agree', 7366),\n",
       " ('talk', 7279),\n",
       " ('guess', 7270),\n",
       " ('entp', 7259),\n",
       " ('oh', 7253),\n",
       " ('school', 7226),\n",
       " ('w', 7221),\n",
       " ('new', 7182),\n",
       " ('great', 7110),\n",
       " ('made', 7077),\n",
       " ('let', 6999),\n",
       " ('every', 6984),\n",
       " ('personality', 6863),\n",
       " ('use', 6851),\n",
       " ('function', 6830),\n",
       " ('thank', 6822),\n",
       " ('believe', 6796),\n",
       " ('bad', 6790),\n",
       " ('everything', 6764),\n",
       " ('definitely', 6750),\n",
       " ('interesting', 6721),\n",
       " ('happy', 6687),\n",
       " ('reason', 6648),\n",
       " ('part', 6640),\n",
       " ('used', 6589),\n",
       " ('often', 6572),\n",
       " ('seem', 6526),\n",
       " ('experience', 6413),\n",
       " ('last', 6367),\n",
       " ('word', 6277),\n",
       " ('anyone', 6198),\n",
       " ('test', 6143),\n",
       " ('keep', 6033),\n",
       " ('hate', 6010),\n",
       " ('another', 5986),\n",
       " ('girl', 5935),\n",
       " ('forum', 5867),\n",
       " ('enough', 5800),\n",
       " ('put', 5787),\n",
       " ('else', 5743),\n",
       " ('care', 5735),\n",
       " ('talking', 5681),\n",
       " ('getting', 5641),\n",
       " ('sense', 5557),\n",
       " ('true', 5545),\n",
       " ('least', 5539),\n",
       " ('mbti', 5518),\n",
       " ('tend', 5502),\n",
       " ('self', 5400),\n",
       " ('book', 5382),\n",
       " ('nice', 5367),\n",
       " ('start', 5334),\n",
       " ('answer', 5331),\n",
       " ('either', 5257),\n",
       " ('nothing', 5222),\n",
       " ('stuff', 5191),\n",
       " ('without', 5184),\n",
       " ('high', 5171),\n",
       " ('sorry', 5129),\n",
       " ('music', 5121),\n",
       " ('reading', 5101),\n",
       " ('found', 5099),\n",
       " ('fe', 5050),\n",
       " ('situation', 5029),\n",
       " ('wrong', 5020),\n",
       " ('especially', 4984),\n",
       " ('fi', 4950),\n",
       " ('place', 4948),\n",
       " ('fun', 4937),\n",
       " ('show', 4903),\n",
       " ('fact', 4870),\n",
       " ('welcome', 4814),\n",
       " ('however', 4797),\n",
       " ('end', 4795),\n",
       " ('istj', 4748),\n",
       " ('far', 4737),\n",
       " ('rather', 4699),\n",
       " ('ask', 4681),\n",
       " ('real', 4680),\n",
       " ('social', 4667),\n",
       " ('haha', 4663),\n",
       " ('p', 4620),\n",
       " ('looking', 4617),\n",
       " ('woman', 4599),\n",
       " ('game', 4594),\n",
       " ('saying', 4584),\n",
       " ('change', 4564),\n",
       " ('live', 4558),\n",
       " ('almost', 4498),\n",
       " ('old', 4492),\n",
       " ('done', 4491),\n",
       " ('enjoy', 4486)]"
      ]
     },
     "execution_count": 83,
     "metadata": {},
     "output_type": "execute_result"
    }
   ],
   "source": [
    "most_common"
   ]
  },
  {
   "cell_type": "code",
   "execution_count": 84,
   "metadata": {},
   "outputs": [
    {
     "name": "stdout",
     "output_type": "stream",
     "text": [
      "There are 112320 unique words in the corpus.\n"
     ]
    }
   ],
   "source": [
    "print(\"There are {} unique words in the corpus.\".format(len(freqdist)))"
   ]
  },
  {
   "cell_type": "markdown",
   "metadata": {},
   "source": [
    "## --Modeling--\n",
    "\n",
    "Models to run:<br>\n",
    "1) Multinomial Naive Bayes (default values as the baseline model) <br>\n",
    "2) Random Forest<br>\n",
    "3) SVC<br>\n",
    "4) XgBoost<br>\n",
    "5) Stochastic Gradient Descent"
   ]
  },
  {
   "cell_type": "markdown",
   "metadata": {},
   "source": [
    "### Vectorize text using TfIDF for training and test sets\n",
    "\n",
    "Setting random_state = 10 to compare model with other models. Stratify = y to account for class imbalance (ensures similar ratio of each class exists in the train and test sets)."
   ]
  },
  {
   "cell_type": "code",
   "execution_count": 85,
   "metadata": {},
   "outputs": [],
   "source": [
    "# train-test-split data\n",
    "x = df_mbti.joined_lemmatized\n",
    "y = df_mbti.type\n",
    "x_train, x_test, y_train, y_test = train_test_split(x, \n",
    "                                                    y, \n",
    "                                                    test_size = 0.2, \n",
    "                                                    shuffle = True, \n",
    "                                                    random_state = 10, \n",
    "                                                    stratify = y)\n"
   ]
  },
  {
   "cell_type": "code",
   "execution_count": 86,
   "metadata": {},
   "outputs": [],
   "source": [
    "# vectorize X_train and X_test\n",
    "vectorizer = TfidfVectorizer()\n",
    "tfidf_x_train = vectorizer.fit_transform(x_train)\n",
    "tfidf_x_test = vectorizer.transform(x_test)"
   ]
  },
  {
   "cell_type": "markdown",
   "metadata": {},
   "source": [
    "### 1) Multinomial Naive Bayes Classifier (Baseline Model)"
   ]
  },
  {
   "cell_type": "code",
   "execution_count": 87,
   "metadata": {},
   "outputs": [],
   "source": [
    "from sklearn.pipeline import Pipeline\n",
    "from sklearn.feature_extraction.text import CountVectorizer, TfidfTransformer\n",
    "from sklearn.naive_bayes import MultinomialNB\n",
    "from sklearn import metrics"
   ]
  },
  {
   "cell_type": "code",
   "execution_count": 88,
   "metadata": {},
   "outputs": [
    {
     "name": "stdout",
     "output_type": "stream",
     "text": [
      "Baseline MultinomialNB Classifer (train) accuracy score:  0.2148414985590778\n"
     ]
    }
   ],
   "source": [
    "# create & run multinomialNB classifier on x_train set\n",
    "nb_classifier = MultinomialNB()\n",
    "nb_classifier.fit(tfidf_x_train, y_train)\n",
    "nb_train_preds = nb_classifier.predict(tfidf_x_train)\n",
    "nb_train_score = accuracy_score(y_train, nb_train_preds)\n",
    "print(\"Baseline MultinomialNB Classifer (train) accuracy score: \",nb_train_score)"
   ]
  },
  {
   "cell_type": "code",
   "execution_count": 89,
   "metadata": {},
   "outputs": [
    {
     "name": "stdout",
     "output_type": "stream",
     "text": [
      "Baseline MultinomialNB Classifer (test) accuracy score:  0.21152737752161382\n"
     ]
    }
   ],
   "source": [
    "# run multinomialBN on x_test set\n",
    "nb_test_preds = nb_classifier.predict(tfidf_x_test)\n",
    "nb_test_score = accuracy_score(y_test, nb_test_preds)\n",
    "print(\"Baseline MultinomialNB Classifer (test) accuracy score: \",nb_test_score)"
   ]
  },
  {
   "cell_type": "code",
   "execution_count": 115,
   "metadata": {},
   "outputs": [],
   "source": [
    "# function to return confusion matrix and classification report\n",
    "def get_model_data(y_test, y_preds, model_name):\n",
    "    \"\"\"return confusion matrix and classifiation report on test set for a given model\"\"\"\n",
    "    categories = ['INFP', 'ENFJ','ENFP','ENTJ','ENTP','ESFJ','ESFP','ESTJ','ESTP','INFJ','INTJ','INTP','ISFJ','ISFP','ISTJ','ISTP']\n",
    "    cf = confusion_matrix(y_test, y_preds)\n",
    "    show_cf(y_test, y_preds, model_name=model_name)\n",
    "    print (classification_report(y_test, y_preds, target_names=categories))"
   ]
  },
  {
   "cell_type": "code",
   "execution_count": 91,
   "metadata": {},
   "outputs": [],
   "source": [
    "from sklearn.metrics import classification_report"
   ]
  },
  {
   "cell_type": "code",
   "execution_count": 92,
   "metadata": {
    "scrolled": true
   },
   "outputs": [
    {
     "name": "stdout",
     "output_type": "stream",
     "text": [
      "              precision    recall  f1-score   support\n",
      "\n",
      "        INFP       0.00      0.00      0.00        38\n",
      "        ENFJ       0.00      0.00      0.00       135\n",
      "        ENFP       0.00      0.00      0.00        46\n",
      "        ENTJ       0.00      0.00      0.00       137\n",
      "        ENTP       0.00      0.00      0.00         8\n",
      "        ESFJ       0.00      0.00      0.00        10\n",
      "        ESFP       0.00      0.00      0.00         8\n",
      "        ESTJ       0.00      0.00      0.00        18\n",
      "        ESTP       0.50      0.00      0.01       294\n",
      "        INFJ       0.21      1.00      0.35       367\n",
      "        INTJ       0.00      0.00      0.00       218\n",
      "        INTP       0.00      0.00      0.00       261\n",
      "        ISFJ       0.00      0.00      0.00        33\n",
      "        ISFP       0.00      0.00      0.00        54\n",
      "        ISTJ       0.00      0.00      0.00        41\n",
      "        ISTP       0.00      0.00      0.00        67\n",
      "\n",
      "   micro avg       0.21      0.21      0.21      1735\n",
      "   macro avg       0.04      0.06      0.02      1735\n",
      "weighted avg       0.13      0.21      0.07      1735\n",
      "\n"
     ]
    },
    {
     "name": "stderr",
     "output_type": "stream",
     "text": [
      "/Users/gracejeong/anaconda3/lib/python3.7/site-packages/sklearn/metrics/classification.py:1143: UndefinedMetricWarning: Precision and F-score are ill-defined and being set to 0.0 in labels with no predicted samples.\n",
      "  'precision', 'predicted', average, warn_for)\n",
      "/Users/gracejeong/anaconda3/lib/python3.7/site-packages/sklearn/metrics/classification.py:1143: UndefinedMetricWarning: Precision and F-score are ill-defined and being set to 0.0 in labels with no predicted samples.\n",
      "  'precision', 'predicted', average, warn_for)\n",
      "/Users/gracejeong/anaconda3/lib/python3.7/site-packages/sklearn/metrics/classification.py:1143: UndefinedMetricWarning: Precision and F-score are ill-defined and being set to 0.0 in labels with no predicted samples.\n",
      "  'precision', 'predicted', average, warn_for)\n"
     ]
    },
    {
     "ename": "NameError",
     "evalue": "name 'cr' is not defined",
     "output_type": "error",
     "traceback": [
      "\u001b[0;31m---------------------------------------------------------------------------\u001b[0m",
      "\u001b[0;31mNameError\u001b[0m                                 Traceback (most recent call last)",
      "\u001b[0;32m<ipython-input-92-99eaa9216692>\u001b[0m in \u001b[0;36m<module>\u001b[0;34m\u001b[0m\n\u001b[1;32m      1\u001b[0m \u001b[0;31m# get confusion matrix and classification report for model\u001b[0m\u001b[0;34m\u001b[0m\u001b[0;34m\u001b[0m\u001b[0;34m\u001b[0m\u001b[0m\n\u001b[0;32m----> 2\u001b[0;31m \u001b[0mget_model_data\u001b[0m\u001b[0;34m(\u001b[0m\u001b[0my_test\u001b[0m\u001b[0;34m,\u001b[0m \u001b[0mnb_test_preds\u001b[0m\u001b[0;34m,\u001b[0m \u001b[0;34m'MultinomialNB - Baseline Model'\u001b[0m\u001b[0;34m)\u001b[0m\u001b[0;34m\u001b[0m\u001b[0;34m\u001b[0m\u001b[0m\n\u001b[0m",
      "\u001b[0;32m<ipython-input-90-7f96454f2a3b>\u001b[0m in \u001b[0;36mget_model_data\u001b[0;34m(y_test, y_preds, model_name)\u001b[0m\n\u001b[1;32m      6\u001b[0m     \u001b[0mshow_cf\u001b[0m\u001b[0;34m(\u001b[0m\u001b[0my_test\u001b[0m\u001b[0;34m,\u001b[0m \u001b[0mnb_test_preds\u001b[0m\u001b[0;34m,\u001b[0m \u001b[0mmodel_name\u001b[0m\u001b[0;34m=\u001b[0m\u001b[0mmodel_name\u001b[0m\u001b[0;34m)\u001b[0m\u001b[0;34m\u001b[0m\u001b[0;34m\u001b[0m\u001b[0m\n\u001b[1;32m      7\u001b[0m     \u001b[0mprint\u001b[0m \u001b[0;34m(\u001b[0m\u001b[0mclassification_report\u001b[0m\u001b[0;34m(\u001b[0m\u001b[0my_test\u001b[0m\u001b[0;34m,\u001b[0m \u001b[0mnb_test_preds\u001b[0m\u001b[0;34m,\u001b[0m \u001b[0mtarget_names\u001b[0m\u001b[0;34m=\u001b[0m\u001b[0mcategories\u001b[0m\u001b[0;34m)\u001b[0m\u001b[0;34m)\u001b[0m\u001b[0;34m\u001b[0m\u001b[0;34m\u001b[0m\u001b[0m\n\u001b[0;32m----> 8\u001b[0;31m     \u001b[0;32mreturn\u001b[0m \u001b[0mcr\u001b[0m\u001b[0;34m\u001b[0m\u001b[0;34m\u001b[0m\u001b[0m\n\u001b[0m",
      "\u001b[0;31mNameError\u001b[0m: name 'cr' is not defined"
     ]
    },
    {
     "data": {
      "image/png": "[encoded data removed]",
      "text/plain": [
       "<Figure size 720x720 with 2 Axes>"
      ]
     },
     "metadata": {
      "needs_background": "light"
     },
     "output_type": "display_data"
    }
   ],
   "source": [
    "# get confusion matrix and classification report for model\n",
    "get_model_data(y_test, nb_test_preds, 'MultinomialNB - Baseline Model')"
   ]
  },
  {
   "cell_type": "code",
   "execution_count": 46,
   "metadata": {},
   "outputs": [
    {
     "data": {
      "image/png": "[encoded data removed]",
      "text/plain": [
       "<Figure size 720x576 with 1 Axes>"
      ]
     },
     "metadata": {
      "needs_background": "light"
     },
     "output_type": "display_data"
    }
   ],
   "source": [
    "# create multiclass ROC-curve for multinomial NB\n",
    "from sklearn.preprocessing import label_binarize\n",
    "from sklearn.multiclass import OneVsRestClassifier\n",
    "from sklearn.linear_model import LogisticRegression\n",
    "    \n",
    "classes = ['INFP', 'ENFJ', 'ENFP', 'ENTJ', 'ENTP',\n",
    "            'ESFJ', 'ESFP', 'ESTJ', 'ESTP', 'INFJ',\n",
    "            'INTJ', 'INTP', 'ISFJ', 'ISFP', 'ISTJ',\n",
    "            'ISTP']\n",
    "\n",
    "y_bin = label_binarize(y, classes=classes)\n",
    "\n",
    "X_train, X_test, y_train, y_test = train_test_split(x, y_bin, test_size=.5, random_state=0)\n",
    "\n",
    "tfidf_x_train = vectorizer.fit_transform(X_train)\n",
    "tfidf_x_test = vectorizer.transform(X_test)\n",
    "\n",
    "\n",
    "classifier = OneVsRestClassifier(nb_classifier)\n",
    "y_score = classifier.fit(tfidf_x_train, y_train).predict_proba(tfidf_x_test)\n",
    "\n",
    "\n",
    "n_classes = len(classes)\n",
    "\n",
    "fpr = dict()\n",
    "tpr = dict()\n",
    "roc_auc = dict()\n",
    "for i in range(n_classes):\n",
    "    fpr[i], tpr[i], _ = roc_curve(y_test[:, i], y_score[:, i])\n",
    "    roc_auc[i] = auc(fpr[i], tpr[i])\n",
    "    colors = ['blue', 'red', 'green', 'yellow', 'orange', 'purple', 'brown', 'black', 'pink', 'grey', 'teal',\n",
    "                   'cyan', 'magenta', 'salmon', 'peru', 'lime']\n",
    "plt.figure(figsize=(10, 8))\n",
    "for i, color in zip(range(n_classes), colors):\n",
    "    plt.plot(fpr[i], tpr[i], color=color,\n",
    "             label='ROC curve of class {0} (area = {1:0.2f})'\n",
    "             ''.format(classes[i], roc_auc[i]))\n",
    "plt.plot([0, 1], [0, 1], 'k--')\n",
    "plt.xlim([-0.005, 1.0])\n",
    "plt.ylim([0.0, 1.05])\n",
    "plt.yticks([i/20.0 for i in range(21)])\n",
    "plt.xticks([i/20.0 for i in range(21)])\n",
    "plt.xlabel('False Positive Rate')\n",
    "plt.ylabel('True Positive Rate')\n",
    "plt.title('ROC for MultinomialNB (baseline)')\n",
    "plt.legend(loc=\"lower right\")\n",
    "plt.show()\n"
   ]
  },
  {
   "cell_type": "markdown",
   "metadata": {},
   "source": [
    "## Random Forest (different test_sizes)"
   ]
  },
  {
   "cell_type": "code",
   "execution_count": 96,
   "metadata": {},
   "outputs": [],
   "source": [
    "def random_forest(test_size):\n",
    "    \"\"\"return train and test accuracy score for random forest classifier at various test_size\"\"\"\n",
    "    x = df_mbti.joined_lemmatized\n",
    "    y = df_mbti.type\n",
    "    x_train, x_test, y_train, y_test = train_test_split(x, y, test_size = test_size, shuffle = True, random_state = 10, stratify = y)\n",
    "    \n",
    "    vectorizer = TfidfVectorizer()\n",
    "    tfidf_x_train = vectorizer.fit_transform(x_train)\n",
    "    tfidf_x_test = vectorizer.transform(x_test)\n",
    "    \n",
    "    rf_classifier = RandomForestClassifier(n_estimators = 100)\n",
    "    rf_classifier.fit(tfidf_x_train, y_train)\n",
    "    rf_train_preds = rf_classifier.predict(tfidf_x_train)\n",
    "    rf_test_preds = rf_classifier.predict(tfidf_x_test)\n",
    "    \n",
    "    train_accuracy = accuracy_score(y_train, rf_train_preds)\n",
    "    test_accuracy = accuracy_score(y_test, rf_test_preds)\n",
    "    \n",
    "    return train_accuracy, test_accuracy"
   ]
  },
  {
   "cell_type": "code",
   "execution_count": 97,
   "metadata": {},
   "outputs": [],
   "source": [
    "# create a table of accuracy results for random forest at different test_size\n",
    "results = []"
   ]
  },
  {
   "cell_type": "code",
   "execution_count": 98,
   "metadata": {},
   "outputs": [],
   "source": [
    "results.append({'Test size': 0.333, 'Train accuracy': random_forest(0.5)[0], 'Test accuracy': random_forest(0.333)[1]})\n",
    "results.append({'Test size': 0.4, 'Train accuracy': random_forest(0.5)[0], 'Test accuracy': random_forest(0.4)[1]})\n",
    "results.append({'Test size': 0.5, 'Train accuracy': random_forest(0.5)[0], 'Test accuracy': random_forest(0.5)[1]})\n",
    "results.append({'Test size': 0.75, 'Train accuracy': random_forest(0.5)[0], 'Test accuracy': random_forest(0.75)[1]})"
   ]
  },
  {
   "cell_type": "code",
   "execution_count": 99,
   "metadata": {},
   "outputs": [
    {
     "data": {
      "text/html": [
       "<div>\n",
       "<style scoped>\n",
       "    .dataframe tbody tr th:only-of-type {\n",
       "        vertical-align: middle;\n",
       "    }\n",
       "\n",
       "    .dataframe tbody tr th {\n",
       "        vertical-align: top;\n",
       "    }\n",
       "\n",
       "    .dataframe thead th {\n",
       "        text-align: right;\n",
       "    }\n",
       "</style>\n",
       "<table border=\"1\" class=\"dataframe\">\n",
       "  <thead>\n",
       "    <tr style=\"text-align: right;\">\n",
       "      <th></th>\n",
       "      <th>Test accuracy</th>\n",
       "      <th>Test size</th>\n",
       "      <th>Train accuracy</th>\n",
       "    </tr>\n",
       "  </thead>\n",
       "  <tbody>\n",
       "    <tr>\n",
       "      <th>0</th>\n",
       "      <td>0.395292</td>\n",
       "      <td>0.333</td>\n",
       "      <td>1.0</td>\n",
       "    </tr>\n",
       "    <tr>\n",
       "      <th>1</th>\n",
       "      <td>0.376945</td>\n",
       "      <td>0.400</td>\n",
       "      <td>1.0</td>\n",
       "    </tr>\n",
       "    <tr>\n",
       "      <th>2</th>\n",
       "      <td>0.390964</td>\n",
       "      <td>0.500</td>\n",
       "      <td>1.0</td>\n",
       "    </tr>\n",
       "    <tr>\n",
       "      <th>3</th>\n",
       "      <td>0.384202</td>\n",
       "      <td>0.750</td>\n",
       "      <td>1.0</td>\n",
       "    </tr>\n",
       "  </tbody>\n",
       "</table>\n",
       "</div>"
      ],
      "text/plain": [
       "   Test accuracy  Test size  Train accuracy\n",
       "0       0.395292      0.333             1.0\n",
       "1       0.376945      0.400             1.0\n",
       "2       0.390964      0.500             1.0\n",
       "3       0.384202      0.750             1.0"
      ]
     },
     "execution_count": 99,
     "metadata": {},
     "output_type": "execute_result"
    }
   ],
   "source": [
    "rf_results = pd.DataFrame(results)\n",
    "rf_results"
   ]
  },
  {
   "cell_type": "markdown",
   "metadata": {},
   "source": [
    "## Random Forest w/ GridSearch"
   ]
  },
  {
   "cell_type": "code",
   "execution_count": 100,
   "metadata": {},
   "outputs": [],
   "source": [
    "from sklearn.model_selection import GridSearchCV"
   ]
  },
  {
   "cell_type": "code",
   "execution_count": 101,
   "metadata": {},
   "outputs": [],
   "source": [
    "x3 = df_mbti.joined_lemmatized\n",
    "y3 = df_mbti.type\n",
    "x_train3, x_test3, y_train3, y_test3 = train_test_split(x3, y3, test_size = 0.333, shuffle = True, random_state = 10, stratify = y)\n"
   ]
  },
  {
   "cell_type": "code",
   "execution_count": 102,
   "metadata": {},
   "outputs": [],
   "source": [
    "vectorizer = TfidfVectorizer()\n",
    "tfidf_x_train3 = vectorizer.fit_transform(x_train3)\n",
    "tfidf_x_test3 = vectorizer.transform(x_test3)"
   ]
  },
  {
   "cell_type": "code",
   "execution_count": 103,
   "metadata": {},
   "outputs": [],
   "source": [
    "rf_clf = RandomForestClassifier()"
   ]
  },
  {
   "cell_type": "code",
   "execution_count": 109,
   "metadata": {},
   "outputs": [
    {
     "data": {
      "text/plain": [
       "{'criterion': 'gini',\n",
       " 'max_depth': None,\n",
       " 'min_samples_split': 10,\n",
       " 'n_estimators': 100}"
      ]
     },
     "execution_count": 109,
     "metadata": {},
     "output_type": "execute_result"
    }
   ],
   "source": [
    "rf_clf = RandomForestClassifier()\n",
    "\n",
    "param_grid = {\n",
    "    \"criterion\": [\"gini\", \"entropy\"],\n",
    "    \"max_depth\": [None, 1, 2, 5, 10],\n",
    "    \"min_samples_split\": [2, 5, 10, 20],\n",
    "    \"n_estimators\": [80,100]\n",
    "}\n",
    "\n",
    "gs_tree = GridSearchCV(rf_clf, param_grid, cv=3)\n",
    "gs_tree.fit(tfidf_x_train3, y_train3)\n",
    "\n",
    "gs_tree.best_params_"
   ]
  },
  {
   "cell_type": "code",
   "execution_count": 117,
   "metadata": {},
   "outputs": [],
   "source": [
    "def random_forest_gs(criterion, max_depth, min_samples_split, n_estimators):\n",
    "    x1 = df_mbti.joined_lemmatized\n",
    "    y1 = df_mbti.type\n",
    "    x1_train, x1_test, y1_train, y1_test = train_test_split(x1, y1, test_size = 0.333, shuffle = True, random_state = 10, stratify = y)\n",
    "\n",
    "    vectorizer = TfidfVectorizer()\n",
    "    tfidf_x_train1 = vectorizer.fit_transform(x1_train)\n",
    "    tfidf_x_test1 = vectorizer.transform(x1_test)\n",
    "\n",
    "    rf_classifier = RandomForestClassifier(criterion = criterion, n_estimators = n_estimators, max_depth = max_depth, min_samples_split = min_samples_split)\n",
    "    rf_classifier.fit(tfidf_x_train1, y1_train)\n",
    "    rf_train_preds1 = rf_classifier.predict(tfidf_x_train1)\n",
    "    rf_test_preds1 = rf_classifier.predict(tfidf_x_test1)\n",
    "\n",
    "    train_accuracy1 = accuracy_score(y1_train, rf_train_preds1)\n",
    "    test_accuracy1 = accuracy_score(y1_test, rf_test_preds1)\n",
    "    \n",
    "    return train_accuracy1, test_accuracy1, rf_test_preds1, y1_test, rf_classifier"
   ]
  },
  {
   "cell_type": "code",
   "execution_count": 118,
   "metadata": {},
   "outputs": [],
   "source": [
    "train_accuracy1, test_accuracy1, rf_test_preds1, y1_test, rf_classifier = random_forest_gs('gini', None, 10, 100)"
   ]
  },
  {
   "cell_type": "code",
   "execution_count": 116,
   "metadata": {},
   "outputs": [
    {
     "name": "stderr",
     "output_type": "stream",
     "text": [
      "/Users/gracejeong/anaconda3/lib/python3.7/site-packages/sklearn/metrics/classification.py:1143: UndefinedMetricWarning: Precision and F-score are ill-defined and being set to 0.0 in labels with no predicted samples.\n",
      "  'precision', 'predicted', average, warn_for)\n",
      "/Users/gracejeong/anaconda3/lib/python3.7/site-packages/sklearn/metrics/classification.py:1143: UndefinedMetricWarning: Precision and F-score are ill-defined and being set to 0.0 in labels with no predicted samples.\n",
      "  'precision', 'predicted', average, warn_for)\n",
      "/Users/gracejeong/anaconda3/lib/python3.7/site-packages/sklearn/metrics/classification.py:1143: UndefinedMetricWarning: Precision and F-score are ill-defined and being set to 0.0 in labels with no predicted samples.\n",
      "  'precision', 'predicted', average, warn_for)\n"
     ]
    },
    {
     "name": "stdout",
     "output_type": "stream",
     "text": [
      "              precision    recall  f1-score   support\n",
      "\n",
      "        INFP       0.00      0.00      0.00        63\n",
      "        ENFJ       0.85      0.05      0.09       225\n",
      "        ENFP       0.00      0.00      0.00        77\n",
      "        ENTJ       0.73      0.11      0.18       228\n",
      "        ENTP       0.00      0.00      0.00        14\n",
      "        ESFJ       0.00      0.00      0.00        16\n",
      "        ESFP       0.00      0.00      0.00        13\n",
      "        ESTJ       0.00      0.00      0.00        30\n",
      "        ESTP       0.46      0.50      0.48       490\n",
      "        INFJ       0.34      0.91      0.49       610\n",
      "        INTJ       0.65      0.33      0.44       364\n",
      "        INTP       0.46      0.50      0.48       434\n",
      "        ISFJ       0.00      0.00      0.00        55\n",
      "        ISFP       0.00      0.00      0.00        90\n",
      "        ISTJ       0.00      0.00      0.00        68\n",
      "        ISTP       1.00      0.01      0.02       112\n",
      "\n",
      "   micro avg       0.41      0.41      0.41      2889\n",
      "   macro avg       0.28      0.15      0.14      2889\n",
      "weighted avg       0.46      0.41      0.33      2889\n",
      "\n"
     ]
    },
    {
     "data": {
      "image/png": "[encoded data removed]",
      "text/plain": [
       "<Figure size 720x720 with 2 Axes>"
      ]
     },
     "metadata": {
      "needs_background": "light"
     },
     "output_type": "display_data"
    }
   ],
   "source": [
    "get_model_data(y1_test, rf_test_preds1, \"Random Forest (optimized)\")"
   ]
  },
  {
   "cell_type": "code",
   "execution_count": 119,
   "metadata": {},
   "outputs": [
    {
     "data": {
      "image/png": "[encoded data removed]",
      "text/plain": [
       "<Figure size 720x576 with 1 Axes>"
      ]
     },
     "metadata": {
      "needs_background": "light"
     },
     "output_type": "display_data"
    }
   ],
   "source": [
    "# create multiclass ROC-curve for optimized random forest\n",
    "    \n",
    "classes = ['INFP', 'ENFJ', 'ENFP', 'ENTJ', 'ENTP',\n",
    "            'ESFJ', 'ESFP', 'ESTJ', 'ESTP', 'INFJ',\n",
    "            'INTJ', 'INTP', 'ISFJ', 'ISFP', 'ISTJ',\n",
    "            'ISTP']\n",
    "\n",
    "y_bin = label_binarize(y, classes=classes)\n",
    "\n",
    "X_train, X_test, y_train, y_test = train_test_split(x, y_bin, test_size=.333, random_state=0)\n",
    "\n",
    "tfidf_x_train = vectorizer.fit_transform(X_train)\n",
    "tfidf_x_test = vectorizer.transform(X_test)\n",
    "\n",
    "\n",
    "classifier = OneVsRestClassifier(rf_classifier)\n",
    "y_score = classifier.fit(tfidf_x_train, y_train).predict_proba(tfidf_x_test)\n",
    "\n",
    "\n",
    "n_classes = len(classes)\n",
    "\n",
    "fpr = dict()\n",
    "tpr = dict()\n",
    "roc_auc = dict()\n",
    "for i in range(n_classes):\n",
    "    fpr[i], tpr[i], _ = roc_curve(y_test[:, i], y_score[:, i])\n",
    "    roc_auc[i] = auc(fpr[i], tpr[i])\n",
    "    colors = ['blue', 'red', 'green', 'yellow', 'orange', 'purple', 'brown', 'black', 'pink', 'grey', 'teal',\n",
    "                   'cyan', 'magenta', 'salmon', 'peru', 'lime']\n",
    "plt.figure(figsize=(10, 8))\n",
    "for i, color in zip(range(n_classes), colors):\n",
    "    plt.plot(fpr[i], tpr[i], color=color,\n",
    "             label='ROC curve of class {0} (area = {1:0.2f})'\n",
    "             ''.format(classes[i], roc_auc[i]))\n",
    "plt.plot([0, 1], [0, 1], 'k--')\n",
    "plt.xlim([-0.005, 1.0])\n",
    "plt.ylim([0.0, 1.05])\n",
    "plt.yticks([i/20.0 for i in range(21)])\n",
    "plt.xticks([i/20.0 for i in range(21)])\n",
    "plt.xlabel('False Positive Rate')\n",
    "plt.ylabel('True Positive Rate')\n",
    "plt.title('ROC for optimized Random Forest')\n",
    "plt.legend(loc=\"lower right\")\n",
    "plt.show()\n"
   ]
  },
  {
   "cell_type": "markdown",
   "metadata": {},
   "source": [
    "## Decision tree on non-text features"
   ]
  },
  {
   "cell_type": "code",
   "execution_count": 97,
   "metadata": {},
   "outputs": [
    {
     "data": {
      "text/html": [
       "<div>\n",
       "<style scoped>\n",
       "    .dataframe tbody tr th:only-of-type {\n",
       "        vertical-align: middle;\n",
       "    }\n",
       "\n",
       "    .dataframe tbody tr th {\n",
       "        vertical-align: top;\n",
       "    }\n",
       "\n",
       "    .dataframe thead th {\n",
       "        text-align: right;\n",
       "    }\n",
       "</style>\n",
       "<table border=\"1\" class=\"dataframe\">\n",
       "  <thead>\n",
       "    <tr style=\"text-align: right;\">\n",
       "      <th></th>\n",
       "      <th>type</th>\n",
       "      <th>posts</th>\n",
       "      <th>count_of_caps</th>\n",
       "      <th>count_of_exclamations</th>\n",
       "      <th>count_of_digits</th>\n",
       "      <th>count_of_emojis</th>\n",
       "      <th>tokenized</th>\n",
       "      <th>token_stopwords</th>\n",
       "      <th>num_total_words</th>\n",
       "      <th>num_unique_words</th>\n",
       "      <th>lemmatized</th>\n",
       "      <th>joined_lemmatized</th>\n",
       "    </tr>\n",
       "  </thead>\n",
       "  <tbody>\n",
       "    <tr>\n",
       "      <th>0</th>\n",
       "      <td>INFJ</td>\n",
       "      <td>'enfp and intj moments    sportscenter not top...</td>\n",
       "      <td>153</td>\n",
       "      <td>3</td>\n",
       "      <td>109</td>\n",
       "      <td>33</td>\n",
       "      <td>[enfp, and, intj, moments, sportscenter, not, ...</td>\n",
       "      <td>[enfp, intj, moments, sportscenter, top, ten, ...</td>\n",
       "      <td>307</td>\n",
       "      <td>257</td>\n",
       "      <td>[enfp, intj, moment, sportscenter, top, ten, p...</td>\n",
       "      <td>enfp intj moment sportscenter top ten play pra...</td>\n",
       "    </tr>\n",
       "    <tr>\n",
       "      <th>1</th>\n",
       "      <td>ENTP</td>\n",
       "      <td>'I'm finding the lack of me in these posts ver...</td>\n",
       "      <td>327</td>\n",
       "      <td>0</td>\n",
       "      <td>109</td>\n",
       "      <td>22</td>\n",
       "      <td>[i, m, finding, the, lack, of, me, in, these, ...</td>\n",
       "      <td>[finding, lack, posts, alarming, sex, boring, ...</td>\n",
       "      <td>561</td>\n",
       "      <td>403</td>\n",
       "      <td>[finding, lack, post, alarming, sex, boring, p...</td>\n",
       "      <td>finding lack post alarming sex boring position...</td>\n",
       "    </tr>\n",
       "    <tr>\n",
       "      <th>2</th>\n",
       "      <td>INTP</td>\n",
       "      <td>'Good one     Of course, to which I say I know...</td>\n",
       "      <td>169</td>\n",
       "      <td>4</td>\n",
       "      <td>94</td>\n",
       "      <td>14</td>\n",
       "      <td>[good, one, of, course, to, which, i, say, i, ...</td>\n",
       "      <td>[good, one, course, say, know, blessing, curse...</td>\n",
       "      <td>432</td>\n",
       "      <td>342</td>\n",
       "      <td>[good, one, course, say, know, blessing, curse...</td>\n",
       "      <td>good one course say know blessing curse absolu...</td>\n",
       "    </tr>\n",
       "    <tr>\n",
       "      <th>3</th>\n",
       "      <td>INTJ</td>\n",
       "      <td>'Dear INTP,   I enjoyed our conversation the o...</td>\n",
       "      <td>253</td>\n",
       "      <td>3</td>\n",
       "      <td>33</td>\n",
       "      <td>2</td>\n",
       "      <td>[dear, intp, i, enjoyed, our, conversation, th...</td>\n",
       "      <td>[dear, intp, enjoyed, conversation, day, esote...</td>\n",
       "      <td>522</td>\n",
       "      <td>374</td>\n",
       "      <td>[dear, intp, enjoyed, conversation, day, esote...</td>\n",
       "      <td>dear intp enjoyed conversation day esoteric ga...</td>\n",
       "    </tr>\n",
       "    <tr>\n",
       "      <th>4</th>\n",
       "      <td>ENTJ</td>\n",
       "      <td>'You're fired.That's another silly misconcepti...</td>\n",
       "      <td>261</td>\n",
       "      <td>1</td>\n",
       "      <td>41</td>\n",
       "      <td>11</td>\n",
       "      <td>[you, re, fired, that, s, another, silly, misc...</td>\n",
       "      <td>[fired, another, silly, misconception, approac...</td>\n",
       "      <td>482</td>\n",
       "      <td>368</td>\n",
       "      <td>[fired, another, silly, misconception, approac...</td>\n",
       "      <td>fired another silly misconception approaching ...</td>\n",
       "    </tr>\n",
       "  </tbody>\n",
       "</table>\n",
       "</div>"
      ],
      "text/plain": [
       "   type                                              posts  count_of_caps  \\\n",
       "0  INFJ  'enfp and intj moments    sportscenter not top...            153   \n",
       "1  ENTP  'I'm finding the lack of me in these posts ver...            327   \n",
       "2  INTP  'Good one     Of course, to which I say I know...            169   \n",
       "3  INTJ  'Dear INTP,   I enjoyed our conversation the o...            253   \n",
       "4  ENTJ  'You're fired.That's another silly misconcepti...            261   \n",
       "\n",
       "   count_of_exclamations  count_of_digits  count_of_emojis  \\\n",
       "0                      3              109               33   \n",
       "1                      0              109               22   \n",
       "2                      4               94               14   \n",
       "3                      3               33                2   \n",
       "4                      1               41               11   \n",
       "\n",
       "                                           tokenized  \\\n",
       "0  [enfp, and, intj, moments, sportscenter, not, ...   \n",
       "1  [i, m, finding, the, lack, of, me, in, these, ...   \n",
       "2  [good, one, of, course, to, which, i, say, i, ...   \n",
       "3  [dear, intp, i, enjoyed, our, conversation, th...   \n",
       "4  [you, re, fired, that, s, another, silly, misc...   \n",
       "\n",
       "                                     token_stopwords  num_total_words  \\\n",
       "0  [enfp, intj, moments, sportscenter, top, ten, ...              307   \n",
       "1  [finding, lack, posts, alarming, sex, boring, ...              561   \n",
       "2  [good, one, course, say, know, blessing, curse...              432   \n",
       "3  [dear, intp, enjoyed, conversation, day, esote...              522   \n",
       "4  [fired, another, silly, misconception, approac...              482   \n",
       "\n",
       "   num_unique_words                                         lemmatized  \\\n",
       "0               257  [enfp, intj, moment, sportscenter, top, ten, p...   \n",
       "1               403  [finding, lack, post, alarming, sex, boring, p...   \n",
       "2               342  [good, one, course, say, know, blessing, curse...   \n",
       "3               374  [dear, intp, enjoyed, conversation, day, esote...   \n",
       "4               368  [fired, another, silly, misconception, approac...   \n",
       "\n",
       "                                   joined_lemmatized  \n",
       "0  enfp intj moment sportscenter top ten play pra...  \n",
       "1  finding lack post alarming sex boring position...  \n",
       "2  good one course say know blessing curse absolu...  \n",
       "3  dear intp enjoyed conversation day esoteric ga...  \n",
       "4  fired another silly misconception approaching ...  "
      ]
     },
     "execution_count": 97,
     "metadata": {},
     "output_type": "execute_result"
    }
   ],
   "source": [
    "df_mbti.head()"
   ]
  },
  {
   "cell_type": "code",
   "execution_count": 61,
   "metadata": {},
   "outputs": [],
   "source": [
    "X = df_mbti[[\"count_of_caps\", \"count_of_exclamations\", \"count_of_digits\", \"count_of_emojis\", \"num_total_words\", \"num_unique_words\"]]"
   ]
  },
  {
   "cell_type": "code",
   "execution_count": 62,
   "metadata": {},
   "outputs": [
    {
     "data": {
      "text/plain": [
       "Index(['count_of_caps', 'count_of_exclamations', 'count_of_digits',\n",
       "       'count_of_emojis', 'num_total_words', 'num_unique_words'],\n",
       "      dtype='object')"
      ]
     },
     "execution_count": 62,
     "metadata": {},
     "output_type": "execute_result"
    }
   ],
   "source": [
    "X.columns"
   ]
  },
  {
   "cell_type": "code",
   "execution_count": 63,
   "metadata": {},
   "outputs": [],
   "source": [
    "y_tree = df_mbti.type"
   ]
  },
  {
   "cell_type": "code",
   "execution_count": 64,
   "metadata": {},
   "outputs": [],
   "source": [
    "X_train, X_test, y_train, y_test = train_test_split(X, y_tree, test_size = 0.333)"
   ]
  },
  {
   "cell_type": "code",
   "execution_count": 65,
   "metadata": {},
   "outputs": [],
   "source": [
    "from sklearn import tree \n",
    "from sklearn.tree import DecisionTreeClassifier "
   ]
  },
  {
   "cell_type": "code",
   "execution_count": 106,
   "metadata": {},
   "outputs": [
    {
     "data": {
      "text/plain": [
       "0.1585323641398408"
      ]
     },
     "execution_count": 106,
     "metadata": {},
     "output_type": "execute_result"
    }
   ],
   "source": [
    "tree = DecisionTreeClassifier()\n",
    "tree.fit(X_train, y_train)\n",
    "y_hat_test = tree.predict(X_test)\n",
    "accuracy = accuracy_score(y_test, y_hat_test)\n",
    "accuracy"
   ]
  },
  {
   "cell_type": "code",
   "execution_count": 107,
   "metadata": {},
   "outputs": [],
   "source": [
    "y_hat_train = tree.predict(X_train)\n"
   ]
  },
  {
   "cell_type": "code",
   "execution_count": 108,
   "metadata": {},
   "outputs": [
    {
     "data": {
      "text/plain": [
       "1.0"
      ]
     },
     "execution_count": 108,
     "metadata": {},
     "output_type": "execute_result"
    }
   ],
   "source": [
    "accuracy_train = accuracy_score(y_train, y_hat_train)\n",
    "accuracy_train"
   ]
  },
  {
   "cell_type": "markdown",
   "metadata": {},
   "source": [
    "## Merge vectorized sparse matrix and other features"
   ]
  },
  {
   "cell_type": "code",
   "execution_count": 66,
   "metadata": {},
   "outputs": [],
   "source": [
    "xm = df_mbti[[\"joined_lemmatized\", \"count_of_caps\", \"count_of_exclamations\", \"count_of_digits\", \"count_of_emojis\", \"num_total_words\", \"num_unique_words\"]]\n",
    "ym = df_mbti.type\n",
    "xm_train, xm_test, ym_train, ym_test = train_test_split(xm, \n",
    "                                                    ym, \n",
    "                                                    test_size = 0.2, \n",
    "                                                    shuffle = True, \n",
    "                                                    random_state = 10, \n",
    "                                                    stratify = y)"
   ]
  },
  {
   "cell_type": "code",
   "execution_count": 67,
   "metadata": {},
   "outputs": [],
   "source": [
    "vectorizer = TfidfVectorizer()\n",
    "tfidf_x_trainm = vectorizer.fit_transform(xm_train[\"joined_lemmatized\"])\n",
    "tfidf_x_testm = vectorizer.transform(xm_test['joined_lemmatized'])"
   ]
  },
  {
   "cell_type": "code",
   "execution_count": 68,
   "metadata": {},
   "outputs": [
    {
     "data": {
      "text/plain": [
       "(6940, 98345)"
      ]
     },
     "execution_count": 68,
     "metadata": {},
     "output_type": "execute_result"
    }
   ],
   "source": [
    "tfidf_x_trainm.shape"
   ]
  },
  {
   "cell_type": "code",
   "execution_count": 69,
   "metadata": {},
   "outputs": [
    {
     "data": {
      "text/plain": [
       "array([[364,   8,  31,   1, 392, 282],\n",
       "       [262,   2,  21,   6, 784, 615],\n",
       "       [392,  12,  31,  32, 578, 377],\n",
       "       ...,\n",
       "       [283,   0,  16,  14, 641, 439],\n",
       "       [315,  17,  69,   8, 561, 430],\n",
       "       [238,   1,  31,  18, 358, 274]])"
      ]
     },
     "execution_count": 69,
     "metadata": {},
     "output_type": "execute_result"
    }
   ],
   "source": [
    "features_train = np.array(xm_train[[\"count_of_caps\", \"count_of_exclamations\", \"count_of_digits\", \"count_of_emojis\", \"num_total_words\", \"num_unique_words\"]])\n",
    "features_train"
   ]
  },
  {
   "cell_type": "code",
   "execution_count": 70,
   "metadata": {},
   "outputs": [
    {
     "data": {
      "text/plain": [
       "array([[224,   2,  56,   8, 417, 329],\n",
       "       [370,  20, 301,  22, 363, 301],\n",
       "       [195,   0,  41,  11, 558, 383],\n",
       "       ...,\n",
       "       [267,  22,  12,  24, 475, 308],\n",
       "       [177,   2,  58,  14, 495, 402],\n",
       "       [334,   1,  17,  14, 664, 467]])"
      ]
     },
     "execution_count": 70,
     "metadata": {},
     "output_type": "execute_result"
    }
   ],
   "source": [
    "features_test = np.array(xm_test[[\"count_of_caps\", \"count_of_exclamations\", \"count_of_digits\", \"count_of_emojis\", \"num_total_words\", \"num_unique_words\"]])\n",
    "features_test"
   ]
  },
  {
   "cell_type": "code",
   "execution_count": 71,
   "metadata": {},
   "outputs": [],
   "source": [
    "import scipy\n",
    "merged_matrix_train = scipy.sparse.hstack([tfidf_x_trainm,features_train]).toarray()"
   ]
  },
  {
   "cell_type": "code",
   "execution_count": 72,
   "metadata": {},
   "outputs": [
    {
     "data": {
      "text/plain": [
       "(6940, 98351)"
      ]
     },
     "execution_count": 72,
     "metadata": {},
     "output_type": "execute_result"
    }
   ],
   "source": [
    "merged_matrix_train.shape"
   ]
  },
  {
   "cell_type": "code",
   "execution_count": 73,
   "metadata": {},
   "outputs": [],
   "source": [
    "merged_matrix_test = scipy.sparse.hstack([tfidf_x_testm,features_test]).toarray()"
   ]
  },
  {
   "cell_type": "code",
   "execution_count": 74,
   "metadata": {},
   "outputs": [
    {
     "data": {
      "text/plain": [
       "(1735, 98351)"
      ]
     },
     "execution_count": 74,
     "metadata": {},
     "output_type": "execute_result"
    }
   ],
   "source": [
    "merged_matrix_test.shape"
   ]
  },
  {
   "cell_type": "markdown",
   "metadata": {},
   "source": [
    "## Random Forest w/ GridSearch on merged matrix"
   ]
  },
  {
   "cell_type": "code",
   "execution_count": 65,
   "metadata": {},
   "outputs": [
    {
     "ename": "NameError",
     "evalue": "name 'GridSearchCV' is not defined",
     "output_type": "error",
     "traceback": [
      "\u001b[0;31m---------------------------------------------------------------------------\u001b[0m",
      "\u001b[0;31mNameError\u001b[0m                                 Traceback (most recent call last)",
      "\u001b[0;32m<ipython-input-65-ed49adb8847e>\u001b[0m in \u001b[0;36m<module>\u001b[0;34m\u001b[0m\n\u001b[1;32m      8\u001b[0m }\n\u001b[1;32m      9\u001b[0m \u001b[0;34m\u001b[0m\u001b[0m\n\u001b[0;32m---> 10\u001b[0;31m \u001b[0mgs_rf_merged\u001b[0m \u001b[0;34m=\u001b[0m \u001b[0mGridSearchCV\u001b[0m\u001b[0;34m(\u001b[0m\u001b[0mrf_clf\u001b[0m\u001b[0;34m,\u001b[0m \u001b[0mparam_grid\u001b[0m\u001b[0;34m,\u001b[0m \u001b[0mcv\u001b[0m\u001b[0;34m=\u001b[0m\u001b[0;36m3\u001b[0m\u001b[0;34m)\u001b[0m\u001b[0;34m\u001b[0m\u001b[0;34m\u001b[0m\u001b[0m\n\u001b[0m\u001b[1;32m     11\u001b[0m \u001b[0mgs_rf_merged\u001b[0m\u001b[0;34m.\u001b[0m\u001b[0mfit\u001b[0m\u001b[0;34m(\u001b[0m\u001b[0mmerged_matrix_train\u001b[0m\u001b[0;34m,\u001b[0m \u001b[0mym_train\u001b[0m\u001b[0;34m)\u001b[0m\u001b[0;34m\u001b[0m\u001b[0;34m\u001b[0m\u001b[0m\n\u001b[1;32m     12\u001b[0m \u001b[0;34m\u001b[0m\u001b[0m\n",
      "\u001b[0;31mNameError\u001b[0m: name 'GridSearchCV' is not defined"
     ]
    }
   ],
   "source": [
    "rf_clf = RandomForestClassifier()\n",
    "\n",
    "param_grid = {\n",
    "    \"criterion\": [\"gini\", \"entropy\"],\n",
    "    \"max_depth\": [None, 1, 2, 5, 10],\n",
    "    \"min_samples_split\": [2, 5, 10],\n",
    "    \"n_estimators\": [80,100]\n",
    "}\n",
    "\n",
    "gs_rf_merged = GridSearchCV(rf_clf, param_grid, cv=3)\n",
    "gs_rf_merged.fit(merged_matrix_train, ym_train)\n",
    "\n",
    "gs_rf_merged.best_params_"
   ]
  },
  {
   "cell_type": "code",
   "execution_count": 260,
   "metadata": {},
   "outputs": [
    {
     "name": "stdout",
     "output_type": "stream",
     "text": [
      "1.0\n",
      "0.3786743515850144\n"
     ]
    }
   ],
   "source": [
    "rf_clf2 = RandomForestClassifier(criterion = 'gini', max_depth = None, n_estimators= 80)\n",
    "rf_clf2.fit(merged_matrix_train, ym_train)\n",
    "ym_train_preds = rf_clf2.predict(merged_matrix_train)\n",
    "ym_test_preds = rf_clf2.predict(merged_matrix_test)\n",
    "acc_score_train = accuracy_score(ym_train, ym_train_preds)\n",
    "acc_score_test = accuracy_score(ym_test, ym_test_preds)\n",
    "\n",
    "print(acc_score_train)\n",
    "print(acc_score_test)"
   ]
  },
  {
   "cell_type": "code",
   "execution_count": 262,
   "metadata": {},
   "outputs": [
    {
     "data": {
      "text/plain": [
       "0.21138328530259365"
      ]
     },
     "execution_count": 262,
     "metadata": {},
     "output_type": "execute_result"
    }
   ],
   "source": [
    "#NB on merged matrix\n",
    "nb_classifier1 = MultinomialNB()\n",
    "nb_classifier1.fit(merged_matrix_train, ym_train)\n",
    "nb_train_preds1 = nb_classifier1.predict(merged_matrix_train)\n",
    "nb_train_score1 = accuracy_score(ym_train, nb_train_preds1)\n",
    "nb_train_score1"
   ]
  },
  {
   "cell_type": "code",
   "execution_count": 263,
   "metadata": {},
   "outputs": [
    {
     "data": {
      "text/plain": [
       "0.21210374639769453"
      ]
     },
     "execution_count": 263,
     "metadata": {},
     "output_type": "execute_result"
    }
   ],
   "source": [
    "nb_test_preds1 = nb_classifier1.predict(merged_matrix_test)\n",
    "nb_test_score1 = accuracy_score(ym_test, nb_test_preds1)\n",
    "nb_test_score1"
   ]
  },
  {
   "cell_type": "markdown",
   "metadata": {},
   "source": [
    "## SVM"
   ]
  },
  {
   "cell_type": "code",
   "execution_count": 120,
   "metadata": {},
   "outputs": [],
   "source": [
    "from sklearn import svm"
   ]
  },
  {
   "cell_type": "code",
   "execution_count": 76,
   "metadata": {},
   "outputs": [],
   "source": [
    "def SVM_classifier_matrix(kernel):\n",
    "    SVM = svm.SVC(C=1.0, kernel = kernel, degree = 3, gamma = 'auto')\n",
    "    SVM.fit(tfidf_x_trainm, ym_train)\n",
    "    SVM_preds_test = SVM.predict(tfidf_x_testm)\n",
    "    SVM_preds_train = SVM.predict(tfidf_x_trainm)\n",
    "    train_acc = str(round(accuracy_score(SVM_preds_train, ym_train),4)*100)+'%'\n",
    "    test_acc = str(round(accuracy_score(SVM_preds_test, ym_test),4)*100)+'%'\n",
    "    SVM_model_sum.append({'Model Name': 'SVM Classifier ({})'.format(kernel),\n",
    "                  'Training Accuracy': train_acc,\n",
    "                  'Testing Accuracy': test_acc,\n",
    "                  'Training F1-Score': str(round(f1_score(ym_train, SVM_preds_train, average = 'micro'),4)*100)+'%',\n",
    "                  'Testing F1-Score': str(round(f1_score(ym_test, SVM_preds_test, average = 'micro'),4)*100)+'%'})\n",
    "    return train_acc, test_acc"
   ]
  },
  {
   "cell_type": "markdown",
   "metadata": {},
   "source": [
    "Test the four different kernels on the SVC."
   ]
  },
  {
   "cell_type": "code",
   "execution_count": 136,
   "metadata": {},
   "outputs": [
    {
     "data": {
      "text/plain": [
       "('94.16%', '64.78%')"
      ]
     },
     "execution_count": 136,
     "metadata": {},
     "output_type": "execute_result"
    }
   ],
   "source": [
    "SVM_classifier_matrix('linear')"
   ]
  },
  {
   "cell_type": "code",
   "execution_count": 137,
   "metadata": {},
   "outputs": [
    {
     "data": {
      "text/plain": [
       "('21.11%', '21.15%')"
      ]
     },
     "execution_count": 137,
     "metadata": {},
     "output_type": "execute_result"
    }
   ],
   "source": [
    "SVM_classifier_matrix('rbf')"
   ]
  },
  {
   "cell_type": "code",
   "execution_count": 138,
   "metadata": {},
   "outputs": [
    {
     "data": {
      "text/plain": [
       "('21.11%', '21.15%')"
      ]
     },
     "execution_count": 138,
     "metadata": {},
     "output_type": "execute_result"
    }
   ],
   "source": [
    "SVM_classifier_matrix('sigmoid')"
   ]
  },
  {
   "cell_type": "code",
   "execution_count": 139,
   "metadata": {},
   "outputs": [
    {
     "data": {
      "text/plain": [
       "('21.11%', '21.15%')"
      ]
     },
     "execution_count": 139,
     "metadata": {},
     "output_type": "execute_result"
    }
   ],
   "source": [
    "SVM_classifier_matrix('poly')"
   ]
  },
  {
   "cell_type": "markdown",
   "metadata": {},
   "source": [
    "Create classification report, confusion matrix and ROC-AUC graph for the final SVC model."
   ]
  },
  {
   "cell_type": "code",
   "execution_count": 127,
   "metadata": {
    "scrolled": true
   },
   "outputs": [
    {
     "name": "stderr",
     "output_type": "stream",
     "text": [
      "/Users/gracejeong/anaconda3/lib/python3.7/site-packages/sklearn/metrics/classification.py:1143: UndefinedMetricWarning: Precision and F-score are ill-defined and being set to 0.0 in labels with no predicted samples.\n",
      "  'precision', 'predicted', average, warn_for)\n",
      "/Users/gracejeong/anaconda3/lib/python3.7/site-packages/sklearn/metrics/classification.py:1143: UndefinedMetricWarning: Precision and F-score are ill-defined and being set to 0.0 in labels with no predicted samples.\n",
      "  'precision', 'predicted', average, warn_for)\n",
      "/Users/gracejeong/anaconda3/lib/python3.7/site-packages/sklearn/metrics/classification.py:1143: UndefinedMetricWarning: Precision and F-score are ill-defined and being set to 0.0 in labels with no predicted samples.\n",
      "  'precision', 'predicted', average, warn_for)\n"
     ]
    },
    {
     "name": "stdout",
     "output_type": "stream",
     "text": [
      "              precision    recall  f1-score   support\n",
      "\n",
      "        INFP       0.65      0.24      0.35        55\n",
      "        ENFJ       0.70      0.58      0.63       215\n",
      "        ENFP       0.72      0.36      0.48        91\n",
      "        ENTJ       0.63      0.62      0.62       206\n",
      "        ENTP       0.60      0.19      0.29        16\n",
      "        ESFJ       0.00      0.00      0.00        16\n",
      "        ESFP       0.00      0.00      0.00        15\n",
      "        ESTJ       0.88      0.25      0.39        28\n",
      "        ESTP       0.66      0.71      0.68       483\n",
      "        INFJ       0.63      0.82      0.71       617\n",
      "        INTJ       0.66      0.70      0.68       373\n",
      "        INTP       0.64      0.77      0.70       433\n",
      "        ISFJ       0.92      0.46      0.61        50\n",
      "        ISFP       0.72      0.31      0.43       100\n",
      "        ISTJ       0.80      0.36      0.50        66\n",
      "        ISTP       0.84      0.54      0.65       125\n",
      "\n",
      "   micro avg       0.66      0.66      0.66      2889\n",
      "   macro avg       0.63      0.43      0.48      2889\n",
      "weighted avg       0.66      0.66      0.64      2889\n",
      "\n"
     ]
    },
    {
     "data": {
      "image/png": "[encoded data removed]",
      "text/plain": [
       "<Figure size 720x720 with 2 Axes>"
      ]
     },
     "metadata": {
      "needs_background": "light"
     },
     "output_type": "display_data"
    }
   ],
   "source": [
    "#SVM linear model with text data only\n",
    "y = df_mbti.type\n",
    "\n",
    "X_train, X_test, y_train, y_test = train_test_split(x, y, test_size = 0.333, random_state = 10, shuffle = True)\n",
    "\n",
    "tfidf_x_train = vectorizer.fit_transform(X_train)\n",
    "tfidf_x_test = vectorizer.transform(X_test)\n",
    "\n",
    "SVC = svm.SVC(C=1.0, kernel = 'linear', degree = 3, gamma = 'auto')\n",
    "SVC.fit(tfidf_x_train, y_train)\n",
    "SVC_preds_test = SVC.predict(tfidf_x_test)\n",
    "\n",
    "get_model_data(y_test, SVC_preds_test, 'Linear SVC (Final Model)')"
   ]
  },
  {
   "cell_type": "code",
   "execution_count": 129,
   "metadata": {},
   "outputs": [
    {
     "data": {
      "text/plain": [
       "['SVC_mbti_finmodel.pkl']"
      ]
     },
     "execution_count": 129,
     "metadata": {},
     "output_type": "execute_result"
    }
   ],
   "source": [
    "# export final model\n",
    "from sklearn.externals import joblib\n",
    "import pickle as pkl\n",
    "joblib.dump(SVC, 'SVC_mbti_finmodel.pkl')"
   ]
  },
  {
   "cell_type": "code",
   "execution_count": 134,
   "metadata": {},
   "outputs": [
    {
     "data": {
      "image/png": "[encoded data removed]",
      "text/plain": [
       "<Figure size 720x576 with 1 Axes>"
      ]
     },
     "metadata": {
      "needs_background": "light"
     },
     "output_type": "display_data"
    }
   ],
   "source": [
    "# roc-auc graph for final model\n",
    "    \n",
    "classes = ['INFP', 'ENFJ', 'ENFP', 'ENTJ', 'ENTP',\n",
    "            'ESFJ', 'ESFP', 'ESTJ', 'ESTP', 'INFJ',\n",
    "            'INTJ', 'INTP', 'ISFJ', 'ISFP', 'ISTJ',\n",
    "            'ISTP']\n",
    "\n",
    "y_bin = label_binarize(y, classes=classes)\n",
    "\n",
    "X_train, X_test, y_train, y_test = train_test_split(x, y_bin, test_size = 0.2, random_state=0, stratify = y)\n",
    "\n",
    "tfidf_x_train = vectorizer.fit_transform(X_train)\n",
    "tfidf_x_test = vectorizer.transform(X_test)\n",
    "\n",
    "\n",
    "n_classes = len(classes)\n",
    "classifier = OneVsRestClassifier(SVC)\n",
    "y_score = classifier.fit(tfidf_x_train, y_train).decision_function(tfidf_x_test)\n",
    "\n",
    "fpr = dict()\n",
    "tpr = dict()\n",
    "roc_auc = dict()\n",
    "for i in range(n_classes):\n",
    "    fpr[i], tpr[i], _ = roc_curve(y_test[:, i], y_score[:, i])\n",
    "    roc_auc[i] = auc(fpr[i], tpr[i])\n",
    "    colors = ['blue', 'red', 'green', 'yellow', 'orange', 'purple', 'brown', 'black', 'pink', 'grey', 'teal',\n",
    "                   'cyan', 'magenta', 'salmon', 'peru', 'lime']\n",
    "plt.figure(figsize=(10, 8))\n",
    "for i, color in zip(range(n_classes), colors):\n",
    "    plt.plot(fpr[i], tpr[i], color=color,\n",
    "             label='ROC curve of class {0} (area = {1:0.2f})'\n",
    "             ''.format(classes[i], roc_auc[i]))\n",
    "plt.plot([0, 1], [0, 1], 'k--')\n",
    "plt.xlim([0, 1.0])\n",
    "plt.ylim([0.0, 1.05])\n",
    "plt.yticks([i/20.0 for i in range(21)])\n",
    "plt.xticks([i/20.0 for i in range(21)])\n",
    "plt.xlabel('False Positive Rate')\n",
    "plt.ylabel('True Positive Rate')\n",
    "plt.title('ROC for Linear SVC (final model)')\n",
    "plt.legend(loc=\"lower right\")\n",
    "plt.show()\n"
   ]
  },
  {
   "cell_type": "code",
   "execution_count": 141,
   "metadata": {},
   "outputs": [
    {
     "data": {
      "text/plain": [
       "[{'Model Name': 'SVM Classifier (linear)',\n",
       "  'Training Accuracy': '94.16%',\n",
       "  'Testing Accuracy': '64.78%',\n",
       "  'Training F1-Score': '94.16%',\n",
       "  'Testing F1-Score': '64.78%'},\n",
       " {'Model Name': 'SVM Classifier (rbf)',\n",
       "  'Training Accuracy': '21.11%',\n",
       "  'Testing Accuracy': '21.15%',\n",
       "  'Training F1-Score': '21.11%',\n",
       "  'Testing F1-Score': '21.15%'},\n",
       " {'Model Name': 'SVM Classifier (sigmoid)',\n",
       "  'Training Accuracy': '21.11%',\n",
       "  'Testing Accuracy': '21.15%',\n",
       "  'Training F1-Score': '21.11%',\n",
       "  'Testing F1-Score': '21.15%'},\n",
       " {'Model Name': 'SVM Classifier (poly)',\n",
       "  'Training Accuracy': '21.11%',\n",
       "  'Testing Accuracy': '21.15%',\n",
       "  'Training F1-Score': '21.11%',\n",
       "  'Testing F1-Score': '21.15%'},\n",
       " {'Model Name': 'SVM Classifier (linear, words only)',\n",
       "  'Training Accuracy': '94.28%',\n",
       "  'Testing Accuracy': '65.01%',\n",
       "  'Training F1-Score': '94.28%',\n",
       "  'Testing F1-Score': '65.01%'}]"
      ]
     },
     "execution_count": 141,
     "metadata": {},
     "output_type": "execute_result"
    }
   ],
   "source": [
    "SVM_model_sum"
   ]
  },
  {
   "cell_type": "code",
   "execution_count": 142,
   "metadata": {},
   "outputs": [
    {
     "data": {
      "text/html": [
       "<div>\n",
       "<style scoped>\n",
       "    .dataframe tbody tr th:only-of-type {\n",
       "        vertical-align: middle;\n",
       "    }\n",
       "\n",
       "    .dataframe tbody tr th {\n",
       "        vertical-align: top;\n",
       "    }\n",
       "\n",
       "    .dataframe thead th {\n",
       "        text-align: right;\n",
       "    }\n",
       "</style>\n",
       "<table border=\"1\" class=\"dataframe\">\n",
       "  <thead>\n",
       "    <tr style=\"text-align: right;\">\n",
       "      <th></th>\n",
       "      <th>Model Name</th>\n",
       "      <th>Testing Accuracy</th>\n",
       "      <th>Testing F1-Score</th>\n",
       "      <th>Training Accuracy</th>\n",
       "      <th>Training F1-Score</th>\n",
       "    </tr>\n",
       "  </thead>\n",
       "  <tbody>\n",
       "    <tr>\n",
       "      <th>0</th>\n",
       "      <td>SVM Classifier (linear)</td>\n",
       "      <td>64.78%</td>\n",
       "      <td>64.78%</td>\n",
       "      <td>94.16%</td>\n",
       "      <td>94.16%</td>\n",
       "    </tr>\n",
       "    <tr>\n",
       "      <th>1</th>\n",
       "      <td>SVM Classifier (rbf)</td>\n",
       "      <td>21.15%</td>\n",
       "      <td>21.15%</td>\n",
       "      <td>21.11%</td>\n",
       "      <td>21.11%</td>\n",
       "    </tr>\n",
       "    <tr>\n",
       "      <th>2</th>\n",
       "      <td>SVM Classifier (sigmoid)</td>\n",
       "      <td>21.15%</td>\n",
       "      <td>21.15%</td>\n",
       "      <td>21.11%</td>\n",
       "      <td>21.11%</td>\n",
       "    </tr>\n",
       "    <tr>\n",
       "      <th>3</th>\n",
       "      <td>SVM Classifier (poly)</td>\n",
       "      <td>21.15%</td>\n",
       "      <td>21.15%</td>\n",
       "      <td>21.11%</td>\n",
       "      <td>21.11%</td>\n",
       "    </tr>\n",
       "    <tr>\n",
       "      <th>4</th>\n",
       "      <td>SVM Classifier (linear, words only)</td>\n",
       "      <td>65.01%</td>\n",
       "      <td>65.01%</td>\n",
       "      <td>94.28%</td>\n",
       "      <td>94.28%</td>\n",
       "    </tr>\n",
       "  </tbody>\n",
       "</table>\n",
       "</div>"
      ],
      "text/plain": [
       "                            Model Name Testing Accuracy Testing F1-Score  \\\n",
       "0              SVM Classifier (linear)           64.78%           64.78%   \n",
       "1                 SVM Classifier (rbf)           21.15%           21.15%   \n",
       "2             SVM Classifier (sigmoid)           21.15%           21.15%   \n",
       "3                SVM Classifier (poly)           21.15%           21.15%   \n",
       "4  SVM Classifier (linear, words only)           65.01%           65.01%   \n",
       "\n",
       "  Training Accuracy Training F1-Score  \n",
       "0            94.16%            94.16%  \n",
       "1            21.11%            21.11%  \n",
       "2            21.11%            21.11%  \n",
       "3            21.11%            21.11%  \n",
       "4            94.28%            94.28%  "
      ]
     },
     "execution_count": 142,
     "metadata": {},
     "output_type": "execute_result"
    }
   ],
   "source": [
    "df_SVM_sum = pd.DataFrame(SVM_model_sum)\n",
    "df_SVM_sum"
   ]
  },
  {
   "cell_type": "code",
   "execution_count": 143,
   "metadata": {},
   "outputs": [],
   "source": [
    "df_SVM_sum.to_csv('df_SVM_sum.csv')"
   ]
  },
  {
   "cell_type": "code",
   "execution_count": null,
   "metadata": {},
   "outputs": [],
   "source": []
  },
  {
   "cell_type": "code",
   "execution_count": null,
   "metadata": {},
   "outputs": [],
   "source": []
  },
  {
   "cell_type": "code",
   "execution_count": null,
   "metadata": {},
   "outputs": [],
   "source": []
  },
  {
   "cell_type": "code",
   "execution_count": null,
   "metadata": {},
   "outputs": [],
   "source": []
  },
  {
   "cell_type": "code",
   "execution_count": null,
   "metadata": {},
   "outputs": [],
   "source": []
  },
  {
   "cell_type": "code",
   "execution_count": null,
   "metadata": {},
   "outputs": [],
   "source": []
  },
  {
   "cell_type": "code",
   "execution_count": 67,
   "metadata": {},
   "outputs": [
    {
     "data": {
      "text/plain": [
       "SVC(C=1.0, cache_size=200, class_weight=None, coef0=0.0,\n",
       "  decision_function_shape='ovr', degree=3, gamma='auto', kernel='linear',\n",
       "  max_iter=-1, probability=False, random_state=None, shrinking=True,\n",
       "  tol=0.001, verbose=False)"
      ]
     },
     "execution_count": 67,
     "metadata": {},
     "output_type": "execute_result"
    }
   ],
   "source": [
    "SVM = svm.SVC(C=1.0, kernel = 'linear', degree = 3, gamma = 'auto')\n",
    "SVM.fit(tfidf_x_trainm, ym_train)"
   ]
  },
  {
   "cell_type": "code",
   "execution_count": 68,
   "metadata": {},
   "outputs": [],
   "source": [
    "SVM_preds_test = SVM.predict(tfidf_x_testm)\n",
    "SVM_preds_train = SVM.predict(tfidf_x_trainm)"
   ]
  },
  {
   "cell_type": "code",
   "execution_count": 69,
   "metadata": {},
   "outputs": [
    {
     "data": {
      "text/plain": [
       "0.94164265129683"
      ]
     },
     "execution_count": 69,
     "metadata": {},
     "output_type": "execute_result"
    }
   ],
   "source": [
    "accuracy_score(SVM_preds_train, ym_train)"
   ]
  },
  {
   "cell_type": "code",
   "execution_count": 70,
   "metadata": {},
   "outputs": [
    {
     "data": {
      "text/plain": [
       "0.6478386167146974"
      ]
     },
     "execution_count": 70,
     "metadata": {},
     "output_type": "execute_result"
    }
   ],
   "source": [
    "accuracy_score(SVM_preds_test, ym_test)"
   ]
  },
  {
   "cell_type": "code",
   "execution_count": 119,
   "metadata": {},
   "outputs": [],
   "source": [
    "SVM_f1_train_lin = f1_score(ym_train, SVM_preds_train, average = 'micro')\n",
    "SVM_f1_test_lin = f1_score(ym_test, SVM_preds_test, average = 'micro')"
   ]
  },
  {
   "cell_type": "code",
   "execution_count": 123,
   "metadata": {},
   "outputs": [],
   "source": [
    "SVM_model_sum[0]['Training F1-Score'] = str(round(SVM_f1_train_lin,4)*100)+'%'\n",
    "SVM_model_sum[0]['Testing F1-Score'] = str(round(SVM_f1_test_lin,4)*100)+'%'"
   ]
  },
  {
   "cell_type": "code",
   "execution_count": 124,
   "metadata": {},
   "outputs": [
    {
     "data": {
      "text/plain": [
       "[{'Model Name': 'SVM Classifier (linear)',\n",
       "  'Training Accuracy': '94.16%',\n",
       "  'Testing Accuracy': '64.78%',\n",
       "  'Training F1-Score': '94.16%',\n",
       "  'Testing F1-Score': '64.78%'},\n",
       " {'Model Name': 'SVM Classifier (poly)',\n",
       "  'Training Accuracy': '21.11%',\n",
       "  'Testing Accuracy': '21.15%'},\n",
       " {'Model Name': 'SVM Classifier (rbf)',\n",
       "  'Training Accuracy': '21.11%',\n",
       "  'Testing Accuracy': '21.15%'},\n",
       " {'Model Name': 'SVM Classifier (sigmoid)',\n",
       "  'Training Accuracy': '21.11%',\n",
       "  'Testing Accuracy': '21.15%'},\n",
       " {'Model Name': 'SVM Classifier (poly)',\n",
       "  'Training Accuracy': '21.11%',\n",
       "  'Testing Accuracy': '21.15%'},\n",
       " {'Model Name': 'SVM Classifier (rbf)',\n",
       "  'Training Accuracy': '21.11%',\n",
       "  'Testing Accuracy': '21.15%'},\n",
       " {'Model Name': 'SVM Classifier (sigmoid)',\n",
       "  'Training Accuracy': '21.11%',\n",
       "  'Testing Accuracy': '21.15%'},\n",
       " {'Model Name': 'SVM Classifier (linear, words only)',\n",
       "  'Training Accuracy': '94.28%',\n",
       "  'Testing Accuracy': '65.01%'}]"
      ]
     },
     "execution_count": 124,
     "metadata": {},
     "output_type": "execute_result"
    }
   ],
   "source": [
    "SVM_model_sum"
   ]
  },
  {
   "cell_type": "code",
   "execution_count": 125,
   "metadata": {},
   "outputs": [],
   "source": [
    "df_model_sum = pd.DataFrame(SVM_model_sum)"
   ]
  },
  {
   "cell_type": "code",
   "execution_count": 126,
   "metadata": {},
   "outputs": [
    {
     "data": {
      "text/html": [
       "<div>\n",
       "<style scoped>\n",
       "    .dataframe tbody tr th:only-of-type {\n",
       "        vertical-align: middle;\n",
       "    }\n",
       "\n",
       "    .dataframe tbody tr th {\n",
       "        vertical-align: top;\n",
       "    }\n",
       "\n",
       "    .dataframe thead th {\n",
       "        text-align: right;\n",
       "    }\n",
       "</style>\n",
       "<table border=\"1\" class=\"dataframe\">\n",
       "  <thead>\n",
       "    <tr style=\"text-align: right;\">\n",
       "      <th></th>\n",
       "      <th>Model Name</th>\n",
       "      <th>Testing Accuracy</th>\n",
       "      <th>Testing F1-Score</th>\n",
       "      <th>Training Accuracy</th>\n",
       "      <th>Training F1-Score</th>\n",
       "    </tr>\n",
       "  </thead>\n",
       "  <tbody>\n",
       "    <tr>\n",
       "      <th>0</th>\n",
       "      <td>SVM Classifier (linear)</td>\n",
       "      <td>64.78%</td>\n",
       "      <td>64.78%</td>\n",
       "      <td>94.16%</td>\n",
       "      <td>94.16%</td>\n",
       "    </tr>\n",
       "    <tr>\n",
       "      <th>1</th>\n",
       "      <td>SVM Classifier (poly)</td>\n",
       "      <td>21.15%</td>\n",
       "      <td>NaN</td>\n",
       "      <td>21.11%</td>\n",
       "      <td>NaN</td>\n",
       "    </tr>\n",
       "    <tr>\n",
       "      <th>2</th>\n",
       "      <td>SVM Classifier (rbf)</td>\n",
       "      <td>21.15%</td>\n",
       "      <td>NaN</td>\n",
       "      <td>21.11%</td>\n",
       "      <td>NaN</td>\n",
       "    </tr>\n",
       "    <tr>\n",
       "      <th>3</th>\n",
       "      <td>SVM Classifier (sigmoid)</td>\n",
       "      <td>21.15%</td>\n",
       "      <td>NaN</td>\n",
       "      <td>21.11%</td>\n",
       "      <td>NaN</td>\n",
       "    </tr>\n",
       "    <tr>\n",
       "      <th>4</th>\n",
       "      <td>SVM Classifier (poly)</td>\n",
       "      <td>21.15%</td>\n",
       "      <td>NaN</td>\n",
       "      <td>21.11%</td>\n",
       "      <td>NaN</td>\n",
       "    </tr>\n",
       "    <tr>\n",
       "      <th>5</th>\n",
       "      <td>SVM Classifier (rbf)</td>\n",
       "      <td>21.15%</td>\n",
       "      <td>NaN</td>\n",
       "      <td>21.11%</td>\n",
       "      <td>NaN</td>\n",
       "    </tr>\n",
       "    <tr>\n",
       "      <th>6</th>\n",
       "      <td>SVM Classifier (sigmoid)</td>\n",
       "      <td>21.15%</td>\n",
       "      <td>NaN</td>\n",
       "      <td>21.11%</td>\n",
       "      <td>NaN</td>\n",
       "    </tr>\n",
       "    <tr>\n",
       "      <th>7</th>\n",
       "      <td>SVM Classifier (linear, words only)</td>\n",
       "      <td>65.01%</td>\n",
       "      <td>NaN</td>\n",
       "      <td>94.28%</td>\n",
       "      <td>NaN</td>\n",
       "    </tr>\n",
       "  </tbody>\n",
       "</table>\n",
       "</div>"
      ],
      "text/plain": [
       "                            Model Name Testing Accuracy Testing F1-Score  \\\n",
       "0              SVM Classifier (linear)           64.78%           64.78%   \n",
       "1                SVM Classifier (poly)           21.15%              NaN   \n",
       "2                 SVM Classifier (rbf)           21.15%              NaN   \n",
       "3             SVM Classifier (sigmoid)           21.15%              NaN   \n",
       "4                SVM Classifier (poly)           21.15%              NaN   \n",
       "5                 SVM Classifier (rbf)           21.15%              NaN   \n",
       "6             SVM Classifier (sigmoid)           21.15%              NaN   \n",
       "7  SVM Classifier (linear, words only)           65.01%              NaN   \n",
       "\n",
       "  Training Accuracy Training F1-Score  \n",
       "0            94.16%            94.16%  \n",
       "1            21.11%               NaN  \n",
       "2            21.11%               NaN  \n",
       "3            21.11%               NaN  \n",
       "4            21.11%               NaN  \n",
       "5            21.11%               NaN  \n",
       "6            21.11%               NaN  \n",
       "7            94.28%               NaN  "
      ]
     },
     "execution_count": 126,
     "metadata": {},
     "output_type": "execute_result"
    }
   ],
   "source": [
    "df_model_sum"
   ]
  },
  {
   "cell_type": "code",
   "execution_count": 131,
   "metadata": {},
   "outputs": [
    {
     "data": {
      "text/plain": [
       "[{'Model Name': 'SVM Classifier (poly)',\n",
       "  'Training Accuracy': 0.21109510086455333,\n",
       "  'Testing Accuracy': 0.21152737752161382}]"
      ]
     },
     "execution_count": 131,
     "metadata": {},
     "output_type": "execute_result"
    }
   ],
   "source": [
    "SVM_model_sum"
   ]
  },
  {
   "cell_type": "code",
   "execution_count": null,
   "metadata": {},
   "outputs": [],
   "source": [
    "SVM_model_sum[0]['Training F1-Score'] = str(round(SVM_f1_train_lin,4)*100)+'%'\n",
    "SVM_model_sum[0]['Testing F1-Score'] = str(round(SVM_f1_test_lin,4)*100)+'%'"
   ]
  },
  {
   "cell_type": "code",
   "execution_count": null,
   "metadata": {},
   "outputs": [],
   "source": []
  },
  {
   "cell_type": "code",
   "execution_count": null,
   "metadata": {},
   "outputs": [],
   "source": []
  },
  {
   "cell_type": "code",
   "execution_count": 90,
   "metadata": {},
   "outputs": [
    {
     "data": {
      "text/plain": [
       "(0.21109510086455333, 0.21152737752161382)"
      ]
     },
     "execution_count": 90,
     "metadata": {},
     "output_type": "execute_result"
    }
   ],
   "source": [
    "rbf = SVM_classifier('rbf')"
   ]
  },
  {
   "cell_type": "code",
   "execution_count": 91,
   "metadata": {},
   "outputs": [
    {
     "data": {
      "text/plain": [
       "(0.21109510086455333, 0.21152737752161382)"
      ]
     },
     "execution_count": 91,
     "metadata": {},
     "output_type": "execute_result"
    }
   ],
   "source": [
    "sigmoid = SVM_classifier('sigmoid')"
   ]
  },
  {
   "cell_type": "code",
   "execution_count": 93,
   "metadata": {},
   "outputs": [
    {
     "ename": "NameError",
     "evalue": "name 'train_acc' is not defined",
     "output_type": "error",
     "traceback": [
      "\u001b[0;31m---------------------------------------------------------------------------\u001b[0m",
      "\u001b[0;31mNameError\u001b[0m                                 Traceback (most recent call last)",
      "\u001b[0;32m<ipython-input-93-628ab061e908>\u001b[0m in \u001b[0;36m<module>\u001b[0;34m\u001b[0m\n\u001b[1;32m      9\u001b[0m               \u001b[0;34m'Training Accuracy'\u001b[0m\u001b[0;34m:\u001b[0m \u001b[0mtrain_acc3\u001b[0m\u001b[0;34m,\u001b[0m\u001b[0;34m\u001b[0m\u001b[0;34m\u001b[0m\u001b[0m\n\u001b[1;32m     10\u001b[0m               'Testing Accuracy': test_acc3})\n\u001b[0;32m---> 11\u001b[0;31m \u001b[0mtrain_acc\u001b[0m\u001b[0;34m,\u001b[0m \u001b[0mtest_acc\u001b[0m\u001b[0;34m\u001b[0m\u001b[0;34m\u001b[0m\u001b[0m\n\u001b[0m",
      "\u001b[0;31mNameError\u001b[0m: name 'train_acc' is not defined"
     ]
    }
   ],
   "source": [
    "#SVM model (linear) on text data only\n",
    "SVM = svm.SVC(C=1.0, kernel = 'linear', degree = 3, gamma = 'auto')\n",
    "SVM.fit(tfidf_x_train, y_train)\n",
    "SVM_preds_test3 = SVM.predict(tfidf_x_test)\n",
    "SVM_preds_train3 = SVM.predict(tfidf_x_train)\n",
    "train_acc3 = accuracy_score(SVM_preds_train3, y_train)\n",
    "test_acc3 = accuracy_score(SVM_preds_test3, y_test)\n",
    "SVM_model_sum.append({'Model Name': 'SVM Classifier (kernel = linear; vectorized words only)',\n",
    "              'Training Accuracy': train_acc3,\n",
    "              'Testing Accuracy': test_acc3})\n"
   ]
  },
  {
   "cell_type": "code",
   "execution_count": null,
   "metadata": {},
   "outputs": [],
   "source": []
  },
  {
   "cell_type": "code",
   "execution_count": 108,
   "metadata": {
    "scrolled": true
   },
   "outputs": [
    {
     "data": {
      "text/plain": [
       "[{'Model Name': 'SVM Classifier (linear)',\n",
       "  'Training Accuracy': '94.16%',\n",
       "  'Testing Accuracy': '64.78%'},\n",
       " {'Model Name': 'SVM Classifier (poly)',\n",
       "  'Training Accuracy': '21.11%',\n",
       "  'Testing Accuracy': '21.15%'},\n",
       " {'Model Name': 'SVM Classifier (rbf)',\n",
       "  'Training Accuracy': '21.11%',\n",
       "  'Testing Accuracy': '21.15%'},\n",
       " {'Model Name': 'SVM Classifier (sigmoid)',\n",
       "  'Training Accuracy': '21.11%',\n",
       "  'Testing Accuracy': '21.15%'},\n",
       " {'Model Name': 'SVM Classifier (poly)',\n",
       "  'Training Accuracy': '21.11%',\n",
       "  'Testing Accuracy': '21.15%'},\n",
       " {'Model Name': 'SVM Classifier (rbf)',\n",
       "  'Training Accuracy': '21.11%',\n",
       "  'Testing Accuracy': '21.15%'},\n",
       " {'Model Name': 'SVM Classifier (sigmoid)',\n",
       "  'Training Accuracy': '21.11%',\n",
       "  'Testing Accuracy': '21.15%'},\n",
       " {'Model Name': 'SVM Classifier (kernel = linear; vectorized words only)',\n",
       "  'Training Accuracy': '94.28%',\n",
       "  'Testing Accuracy': '65.01%'}]"
      ]
     },
     "execution_count": 108,
     "metadata": {},
     "output_type": "execute_result"
    }
   ],
   "source": [
    "SVM_model_sum"
   ]
  },
  {
   "cell_type": "code",
   "execution_count": 106,
   "metadata": {},
   "outputs": [
    {
     "ename": "TypeError",
     "evalue": "type str doesn't define __round__ method",
     "output_type": "error",
     "traceback": [
      "\u001b[0;31m---------------------------------------------------------------------------\u001b[0m",
      "\u001b[0;31mTypeError\u001b[0m                                 Traceback (most recent call last)",
      "\u001b[0;32m<ipython-input-106-f15583f2ecc0>\u001b[0m in \u001b[0;36m<module>\u001b[0;34m\u001b[0m\n\u001b[1;32m      1\u001b[0m \u001b[0;32mfor\u001b[0m \u001b[0mi\u001b[0m \u001b[0;32min\u001b[0m \u001b[0mSVM_model_sum\u001b[0m\u001b[0;34m:\u001b[0m\u001b[0;34m\u001b[0m\u001b[0;34m\u001b[0m\u001b[0m\n\u001b[0;32m----> 2\u001b[0;31m     \u001b[0mi\u001b[0m\u001b[0;34m[\u001b[0m\u001b[0;34m'Training Accuracy'\u001b[0m\u001b[0;34m]\u001b[0m \u001b[0;34m=\u001b[0m \u001b[0mstr\u001b[0m\u001b[0;34m(\u001b[0m\u001b[0mround\u001b[0m\u001b[0;34m(\u001b[0m\u001b[0mi\u001b[0m\u001b[0;34m[\u001b[0m\u001b[0;34m'Training Accuracy'\u001b[0m\u001b[0;34m]\u001b[0m\u001b[0;34m,\u001b[0m\u001b[0;36m4\u001b[0m\u001b[0;34m)\u001b[0m\u001b[0;34m*\u001b[0m\u001b[0;36m100\u001b[0m\u001b[0;34m)\u001b[0m\u001b[0;34m+\u001b[0m\u001b[0;34m'%'\u001b[0m\u001b[0;34m\u001b[0m\u001b[0;34m\u001b[0m\u001b[0m\n\u001b[0m\u001b[1;32m      3\u001b[0m     \u001b[0mi\u001b[0m\u001b[0;34m[\u001b[0m\u001b[0;34m'Testing Accuracy'\u001b[0m\u001b[0;34m]\u001b[0m \u001b[0;34m=\u001b[0m \u001b[0mstr\u001b[0m\u001b[0;34m(\u001b[0m\u001b[0mround\u001b[0m\u001b[0;34m(\u001b[0m\u001b[0mi\u001b[0m\u001b[0;34m[\u001b[0m\u001b[0;34m'Testing Accuracy'\u001b[0m\u001b[0;34m]\u001b[0m\u001b[0;34m,\u001b[0m\u001b[0;36m4\u001b[0m\u001b[0;34m)\u001b[0m\u001b[0;34m*\u001b[0m\u001b[0;36m100\u001b[0m\u001b[0;34m)\u001b[0m\u001b[0;34m+\u001b[0m\u001b[0;34m'%'\u001b[0m\u001b[0;34m\u001b[0m\u001b[0;34m\u001b[0m\u001b[0m\n",
      "\u001b[0;31mTypeError\u001b[0m: type str doesn't define __round__ method"
     ]
    }
   ],
   "source": [
    "for i in SVM_model_sum:\n",
    "    i['Training Accuracy'] = str(round(i['Training Accuracy'],4)*100)+'%'\n",
    "    i['Testing Accuracy'] = str(round(i['Testing Accuracy'],4)*100)+'%'"
   ]
  },
  {
   "cell_type": "code",
   "execution_count": 107,
   "metadata": {},
   "outputs": [
    {
     "data": {
      "text/plain": [
       "[{'Model Name': 'SVM Classifier (linear)',\n",
       "  'Training Accuracy': '94.16%',\n",
       "  'Testing Accuracy': '64.78%'},\n",
       " {'Model Name': 'SVM Classifier (poly)',\n",
       "  'Training Accuracy': '21.11%',\n",
       "  'Testing Accuracy': '21.15%'},\n",
       " {'Model Name': 'SVM Classifier (rbf)',\n",
       "  'Training Accuracy': '21.11%',\n",
       "  'Testing Accuracy': '21.15%'},\n",
       " {'Model Name': 'SVM Classifier (sigmoid)',\n",
       "  'Training Accuracy': '21.11%',\n",
       "  'Testing Accuracy': '21.15%'},\n",
       " {'Model Name': 'SVM Classifier (poly)',\n",
       "  'Training Accuracy': '21.11%',\n",
       "  'Testing Accuracy': '21.15%'},\n",
       " {'Model Name': 'SVM Classifier (rbf)',\n",
       "  'Training Accuracy': '21.11%',\n",
       "  'Testing Accuracy': '21.15%'},\n",
       " {'Model Name': 'SVM Classifier (sigmoid)',\n",
       "  'Training Accuracy': '21.11%',\n",
       "  'Testing Accuracy': '21.15%'},\n",
       " {'Model Name': 'SVM Classifier (kernel = linear; vectorized words only)',\n",
       "  'Training Accuracy': '94.28%',\n",
       "  'Testing Accuracy': '65.01%'}]"
      ]
     },
     "execution_count": 107,
     "metadata": {},
     "output_type": "execute_result"
    }
   ],
   "source": [
    "SVM_model_sum"
   ]
  },
  {
   "cell_type": "code",
   "execution_count": 109,
   "metadata": {},
   "outputs": [],
   "source": [
    "SVM_model_sum[-1]['Model Name'] = 'SVM Classifier (linear, words only)'"
   ]
  },
  {
   "cell_type": "code",
   "execution_count": null,
   "metadata": {},
   "outputs": [],
   "source": []
  },
  {
   "cell_type": "code",
   "execution_count": 110,
   "metadata": {},
   "outputs": [],
   "source": [
    "df_model_sum = pd.DataFrame(SVM_model_sum)"
   ]
  },
  {
   "cell_type": "code",
   "execution_count": 111,
   "metadata": {
    "scrolled": true
   },
   "outputs": [
    {
     "data": {
      "text/html": [
       "<div>\n",
       "<style scoped>\n",
       "    .dataframe tbody tr th:only-of-type {\n",
       "        vertical-align: middle;\n",
       "    }\n",
       "\n",
       "    .dataframe tbody tr th {\n",
       "        vertical-align: top;\n",
       "    }\n",
       "\n",
       "    .dataframe thead th {\n",
       "        text-align: right;\n",
       "    }\n",
       "</style>\n",
       "<table border=\"1\" class=\"dataframe\">\n",
       "  <thead>\n",
       "    <tr style=\"text-align: right;\">\n",
       "      <th></th>\n",
       "      <th>Model Name</th>\n",
       "      <th>Testing Accuracy</th>\n",
       "      <th>Training Accuracy</th>\n",
       "    </tr>\n",
       "  </thead>\n",
       "  <tbody>\n",
       "    <tr>\n",
       "      <th>0</th>\n",
       "      <td>SVM Classifier (linear)</td>\n",
       "      <td>64.78%</td>\n",
       "      <td>94.16%</td>\n",
       "    </tr>\n",
       "    <tr>\n",
       "      <th>1</th>\n",
       "      <td>SVM Classifier (poly)</td>\n",
       "      <td>21.15%</td>\n",
       "      <td>21.11%</td>\n",
       "    </tr>\n",
       "    <tr>\n",
       "      <th>2</th>\n",
       "      <td>SVM Classifier (rbf)</td>\n",
       "      <td>21.15%</td>\n",
       "      <td>21.11%</td>\n",
       "    </tr>\n",
       "    <tr>\n",
       "      <th>3</th>\n",
       "      <td>SVM Classifier (sigmoid)</td>\n",
       "      <td>21.15%</td>\n",
       "      <td>21.11%</td>\n",
       "    </tr>\n",
       "    <tr>\n",
       "      <th>4</th>\n",
       "      <td>SVM Classifier (poly)</td>\n",
       "      <td>21.15%</td>\n",
       "      <td>21.11%</td>\n",
       "    </tr>\n",
       "    <tr>\n",
       "      <th>5</th>\n",
       "      <td>SVM Classifier (rbf)</td>\n",
       "      <td>21.15%</td>\n",
       "      <td>21.11%</td>\n",
       "    </tr>\n",
       "    <tr>\n",
       "      <th>6</th>\n",
       "      <td>SVM Classifier (sigmoid)</td>\n",
       "      <td>21.15%</td>\n",
       "      <td>21.11%</td>\n",
       "    </tr>\n",
       "    <tr>\n",
       "      <th>7</th>\n",
       "      <td>SVM Classifier (linear, words only)</td>\n",
       "      <td>65.01%</td>\n",
       "      <td>94.28%</td>\n",
       "    </tr>\n",
       "  </tbody>\n",
       "</table>\n",
       "</div>"
      ],
      "text/plain": [
       "                            Model Name Testing Accuracy Training Accuracy\n",
       "0              SVM Classifier (linear)           64.78%            94.16%\n",
       "1                SVM Classifier (poly)           21.15%            21.11%\n",
       "2                 SVM Classifier (rbf)           21.15%            21.11%\n",
       "3             SVM Classifier (sigmoid)           21.15%            21.11%\n",
       "4                SVM Classifier (poly)           21.15%            21.11%\n",
       "5                 SVM Classifier (rbf)           21.15%            21.11%\n",
       "6             SVM Classifier (sigmoid)           21.15%            21.11%\n",
       "7  SVM Classifier (linear, words only)           65.01%            94.28%"
      ]
     },
     "execution_count": 111,
     "metadata": {},
     "output_type": "execute_result"
    }
   ],
   "source": [
    "df_model_sum"
   ]
  },
  {
   "cell_type": "code",
   "execution_count": 115,
   "metadata": {},
   "outputs": [
    {
     "ename": "KeyError",
     "evalue": "'[1 2 3] not found in axis'",
     "output_type": "error",
     "traceback": [
      "\u001b[0;31m---------------------------------------------------------------------------\u001b[0m",
      "\u001b[0;31mKeyError\u001b[0m                                  Traceback (most recent call last)",
      "\u001b[0;32m<ipython-input-115-f504cd176899>\u001b[0m in \u001b[0;36m<module>\u001b[0;34m\u001b[0m\n\u001b[0;32m----> 1\u001b[0;31m \u001b[0mdf_model_sum\u001b[0m\u001b[0;34m.\u001b[0m\u001b[0mdrop\u001b[0m\u001b[0;34m(\u001b[0m\u001b[0maxis\u001b[0m \u001b[0;34m=\u001b[0m \u001b[0;36m0\u001b[0m\u001b[0;34m,\u001b[0m \u001b[0mindex\u001b[0m \u001b[0;34m=\u001b[0m \u001b[0;34m[\u001b[0m\u001b[0;36m1\u001b[0m\u001b[0;34m,\u001b[0m\u001b[0;36m2\u001b[0m\u001b[0;34m,\u001b[0m\u001b[0;36m3\u001b[0m\u001b[0;34m]\u001b[0m\u001b[0;34m,\u001b[0m \u001b[0minplace\u001b[0m \u001b[0;34m=\u001b[0m \u001b[0;32mTrue\u001b[0m\u001b[0;34m)\u001b[0m\u001b[0;34m\u001b[0m\u001b[0;34m\u001b[0m\u001b[0m\n\u001b[0m",
      "\u001b[0;32m~/anaconda3/lib/python3.7/site-packages/pandas/core/frame.py\u001b[0m in \u001b[0;36mdrop\u001b[0;34m(self, labels, axis, index, columns, level, inplace, errors)\u001b[0m\n\u001b[1;32m   3695\u001b[0m                                            \u001b[0mindex\u001b[0m\u001b[0;34m=\u001b[0m\u001b[0mindex\u001b[0m\u001b[0;34m,\u001b[0m \u001b[0mcolumns\u001b[0m\u001b[0;34m=\u001b[0m\u001b[0mcolumns\u001b[0m\u001b[0;34m,\u001b[0m\u001b[0;34m\u001b[0m\u001b[0;34m\u001b[0m\u001b[0m\n\u001b[1;32m   3696\u001b[0m                                            \u001b[0mlevel\u001b[0m\u001b[0;34m=\u001b[0m\u001b[0mlevel\u001b[0m\u001b[0;34m,\u001b[0m \u001b[0minplace\u001b[0m\u001b[0;34m=\u001b[0m\u001b[0minplace\u001b[0m\u001b[0;34m,\u001b[0m\u001b[0;34m\u001b[0m\u001b[0;34m\u001b[0m\u001b[0m\n\u001b[0;32m-> 3697\u001b[0;31m                                            errors=errors)\n\u001b[0m\u001b[1;32m   3698\u001b[0m \u001b[0;34m\u001b[0m\u001b[0m\n\u001b[1;32m   3699\u001b[0m     @rewrite_axis_style_signature('mapper', [('copy', True),\n",
      "\u001b[0;32m~/anaconda3/lib/python3.7/site-packages/pandas/core/generic.py\u001b[0m in \u001b[0;36mdrop\u001b[0;34m(self, labels, axis, index, columns, level, inplace, errors)\u001b[0m\n\u001b[1;32m   3109\u001b[0m         \u001b[0;32mfor\u001b[0m \u001b[0maxis\u001b[0m\u001b[0;34m,\u001b[0m \u001b[0mlabels\u001b[0m \u001b[0;32min\u001b[0m \u001b[0maxes\u001b[0m\u001b[0;34m.\u001b[0m\u001b[0mitems\u001b[0m\u001b[0;34m(\u001b[0m\u001b[0;34m)\u001b[0m\u001b[0;34m:\u001b[0m\u001b[0;34m\u001b[0m\u001b[0;34m\u001b[0m\u001b[0m\n\u001b[1;32m   3110\u001b[0m             \u001b[0;32mif\u001b[0m \u001b[0mlabels\u001b[0m \u001b[0;32mis\u001b[0m \u001b[0;32mnot\u001b[0m \u001b[0;32mNone\u001b[0m\u001b[0;34m:\u001b[0m\u001b[0;34m\u001b[0m\u001b[0;34m\u001b[0m\u001b[0m\n\u001b[0;32m-> 3111\u001b[0;31m                 \u001b[0mobj\u001b[0m \u001b[0;34m=\u001b[0m \u001b[0mobj\u001b[0m\u001b[0;34m.\u001b[0m\u001b[0m_drop_axis\u001b[0m\u001b[0;34m(\u001b[0m\u001b[0mlabels\u001b[0m\u001b[0;34m,\u001b[0m \u001b[0maxis\u001b[0m\u001b[0;34m,\u001b[0m \u001b[0mlevel\u001b[0m\u001b[0;34m=\u001b[0m\u001b[0mlevel\u001b[0m\u001b[0;34m,\u001b[0m \u001b[0merrors\u001b[0m\u001b[0;34m=\u001b[0m\u001b[0merrors\u001b[0m\u001b[0;34m)\u001b[0m\u001b[0;34m\u001b[0m\u001b[0;34m\u001b[0m\u001b[0m\n\u001b[0m\u001b[1;32m   3112\u001b[0m \u001b[0;34m\u001b[0m\u001b[0m\n\u001b[1;32m   3113\u001b[0m         \u001b[0;32mif\u001b[0m \u001b[0minplace\u001b[0m\u001b[0;34m:\u001b[0m\u001b[0;34m\u001b[0m\u001b[0;34m\u001b[0m\u001b[0m\n",
      "\u001b[0;32m~/anaconda3/lib/python3.7/site-packages/pandas/core/generic.py\u001b[0m in \u001b[0;36m_drop_axis\u001b[0;34m(self, labels, axis, level, errors)\u001b[0m\n\u001b[1;32m   3141\u001b[0m                 \u001b[0mnew_axis\u001b[0m \u001b[0;34m=\u001b[0m \u001b[0maxis\u001b[0m\u001b[0;34m.\u001b[0m\u001b[0mdrop\u001b[0m\u001b[0;34m(\u001b[0m\u001b[0mlabels\u001b[0m\u001b[0;34m,\u001b[0m \u001b[0mlevel\u001b[0m\u001b[0;34m=\u001b[0m\u001b[0mlevel\u001b[0m\u001b[0;34m,\u001b[0m \u001b[0merrors\u001b[0m\u001b[0;34m=\u001b[0m\u001b[0merrors\u001b[0m\u001b[0;34m)\u001b[0m\u001b[0;34m\u001b[0m\u001b[0;34m\u001b[0m\u001b[0m\n\u001b[1;32m   3142\u001b[0m             \u001b[0;32melse\u001b[0m\u001b[0;34m:\u001b[0m\u001b[0;34m\u001b[0m\u001b[0;34m\u001b[0m\u001b[0m\n\u001b[0;32m-> 3143\u001b[0;31m                 \u001b[0mnew_axis\u001b[0m \u001b[0;34m=\u001b[0m \u001b[0maxis\u001b[0m\u001b[0;34m.\u001b[0m\u001b[0mdrop\u001b[0m\u001b[0;34m(\u001b[0m\u001b[0mlabels\u001b[0m\u001b[0;34m,\u001b[0m \u001b[0merrors\u001b[0m\u001b[0;34m=\u001b[0m\u001b[0merrors\u001b[0m\u001b[0;34m)\u001b[0m\u001b[0;34m\u001b[0m\u001b[0;34m\u001b[0m\u001b[0m\n\u001b[0m\u001b[1;32m   3144\u001b[0m             \u001b[0mresult\u001b[0m \u001b[0;34m=\u001b[0m \u001b[0mself\u001b[0m\u001b[0;34m.\u001b[0m\u001b[0mreindex\u001b[0m\u001b[0;34m(\u001b[0m\u001b[0;34m**\u001b[0m\u001b[0;34m{\u001b[0m\u001b[0maxis_name\u001b[0m\u001b[0;34m:\u001b[0m \u001b[0mnew_axis\u001b[0m\u001b[0;34m}\u001b[0m\u001b[0;34m)\u001b[0m\u001b[0;34m\u001b[0m\u001b[0;34m\u001b[0m\u001b[0m\n\u001b[1;32m   3145\u001b[0m \u001b[0;34m\u001b[0m\u001b[0m\n",
      "\u001b[0;32m~/anaconda3/lib/python3.7/site-packages/pandas/core/indexes/base.py\u001b[0m in \u001b[0;36mdrop\u001b[0;34m(self, labels, errors)\u001b[0m\n\u001b[1;32m   4402\u001b[0m             \u001b[0;32mif\u001b[0m \u001b[0merrors\u001b[0m \u001b[0;34m!=\u001b[0m \u001b[0;34m'ignore'\u001b[0m\u001b[0;34m:\u001b[0m\u001b[0;34m\u001b[0m\u001b[0;34m\u001b[0m\u001b[0m\n\u001b[1;32m   4403\u001b[0m                 raise KeyError(\n\u001b[0;32m-> 4404\u001b[0;31m                     '{} not found in axis'.format(labels[mask]))\n\u001b[0m\u001b[1;32m   4405\u001b[0m             \u001b[0mindexer\u001b[0m \u001b[0;34m=\u001b[0m \u001b[0mindexer\u001b[0m\u001b[0;34m[\u001b[0m\u001b[0;34m~\u001b[0m\u001b[0mmask\u001b[0m\u001b[0;34m]\u001b[0m\u001b[0;34m\u001b[0m\u001b[0;34m\u001b[0m\u001b[0m\n\u001b[1;32m   4406\u001b[0m         \u001b[0;32mreturn\u001b[0m \u001b[0mself\u001b[0m\u001b[0;34m.\u001b[0m\u001b[0mdelete\u001b[0m\u001b[0;34m(\u001b[0m\u001b[0mindexer\u001b[0m\u001b[0;34m)\u001b[0m\u001b[0;34m\u001b[0m\u001b[0;34m\u001b[0m\u001b[0m\n",
      "\u001b[0;31mKeyError\u001b[0m: '[1 2 3] not found in axis'"
     ]
    }
   ],
   "source": [
    "df_model_sum.drop(axis = 0, index = [1,2,3], inplace = True)"
   ]
  },
  {
   "cell_type": "code",
   "execution_count": 117,
   "metadata": {},
   "outputs": [
    {
     "data": {
      "text/html": [
       "<div>\n",
       "<style scoped>\n",
       "    .dataframe tbody tr th:only-of-type {\n",
       "        vertical-align: middle;\n",
       "    }\n",
       "\n",
       "    .dataframe tbody tr th {\n",
       "        vertical-align: top;\n",
       "    }\n",
       "\n",
       "    .dataframe thead th {\n",
       "        text-align: right;\n",
       "    }\n",
       "</style>\n",
       "<table border=\"1\" class=\"dataframe\">\n",
       "  <thead>\n",
       "    <tr style=\"text-align: right;\">\n",
       "      <th></th>\n",
       "      <th>Model Name</th>\n",
       "      <th>Testing Accuracy</th>\n",
       "      <th>Training Accuracy</th>\n",
       "    </tr>\n",
       "  </thead>\n",
       "  <tbody>\n",
       "    <tr>\n",
       "      <th>0</th>\n",
       "      <td>SVM Classifier (linear)</td>\n",
       "      <td>64.78%</td>\n",
       "      <td>94.16%</td>\n",
       "    </tr>\n",
       "    <tr>\n",
       "      <th>4</th>\n",
       "      <td>SVM Classifier (poly)</td>\n",
       "      <td>21.15%</td>\n",
       "      <td>21.11%</td>\n",
       "    </tr>\n",
       "    <tr>\n",
       "      <th>5</th>\n",
       "      <td>SVM Classifier (rbf)</td>\n",
       "      <td>21.15%</td>\n",
       "      <td>21.11%</td>\n",
       "    </tr>\n",
       "    <tr>\n",
       "      <th>6</th>\n",
       "      <td>SVM Classifier (sigmoid)</td>\n",
       "      <td>21.15%</td>\n",
       "      <td>21.11%</td>\n",
       "    </tr>\n",
       "    <tr>\n",
       "      <th>7</th>\n",
       "      <td>SVM Classifier (linear, words only)</td>\n",
       "      <td>65.01%</td>\n",
       "      <td>94.28%</td>\n",
       "    </tr>\n",
       "  </tbody>\n",
       "</table>\n",
       "</div>"
      ],
      "text/plain": [
       "                            Model Name Testing Accuracy Training Accuracy\n",
       "0              SVM Classifier (linear)           64.78%            94.16%\n",
       "4                SVM Classifier (poly)           21.15%            21.11%\n",
       "5                 SVM Classifier (rbf)           21.15%            21.11%\n",
       "6             SVM Classifier (sigmoid)           21.15%            21.11%\n",
       "7  SVM Classifier (linear, words only)           65.01%            94.28%"
      ]
     },
     "execution_count": 117,
     "metadata": {},
     "output_type": "execute_result"
    }
   ],
   "source": [
    "df_model_sum"
   ]
  },
  {
   "cell_type": "code",
   "execution_count": 114,
   "metadata": {},
   "outputs": [],
   "source": [
    "df_model_sum.to_csv('SVM_summary.csv')"
   ]
  },
  {
   "cell_type": "markdown",
   "metadata": {},
   "source": [
    "## Create MBTI predictor function"
   ]
  },
  {
   "cell_type": "code",
   "execution_count": 135,
   "metadata": {},
   "outputs": [],
   "source": [
    "# load the random forest classifier\n",
    "SVC_mbti_model = open('svc_mbti_finmodel.pkl','rb')\n",
    "SVC_clf = joblib.load(SVC_mbti_model)"
   ]
  },
  {
   "cell_type": "code",
   "execution_count": 170,
   "metadata": {},
   "outputs": [],
   "source": [
    "# X_train, X_test, y_train, y_test = train_test_split(x, y, test_size = 0.333, random_state = 10, shuffle = True)\n",
    "\n",
    "# tfidf_x_train = vectorizer.fit_transform(X_train)\n",
    "# tfidf_x_test = vectorizer.transform(X_test)\n",
    "\n",
    "\n",
    "def predict_MBTI(text_string):\n",
    "    mbti_descriptions = {'ISTP': 'Burning random object', 'INTP':'Reading their book',\n",
    "                     'INFP': 'Writing their diary', 'ENTJ': 'Looking at the way that is coming',\n",
    "                     'ISFJ': 'Looking at the way they\\'re leaving behind', 'ISTJ': 'Mr. Driver (simultaneously nice and grumpy)',\n",
    "                     'INFJ': 'Watching everybody and thinking about how crazy humanity is', 'ESTP':'Hesitating the cars coming behind',\n",
    "                     'ENTP': 'Whispering weird things to ENFP, trying to enter in their subconcious', 'ENFP': 'Got asleep, dreams with some parallel universe',\n",
    "                     'ENFJ': 'Just met ESFJ and started talking and are super friends now', 'ESFJ': 'Just met ENFJ and started talking and are super friends now',\n",
    "                     'ISFP': 'Looking to the landscapes, smartphone ready to make some photos', 'INTJ':'Just had a revelation that solves their current project',\n",
    "                     'ESFP': 'Checking their air in the rearview', 'ESTJ': 'Checking how Mr. Driver drives, sometimes giving him advice'\n",
    "                    }\n",
    "    \n",
    "    tfidf_text = vectorizer.transform([text_string])\n",
    "    prediction = SVC_clf.predict(tfidf_text)\n",
    "    result = \"\".join(prediction)\n",
    "    print(\"{}: {}\".format(result, mbti_descriptions[result]))\n",
    "    "
   ]
  },
  {
   "cell_type": "code",
   "execution_count": 174,
   "metadata": {},
   "outputs": [],
   "source": [
    "text_string = \"the Border, or large sections of the Border, next week. This would be so easy for Mexico to do, but they just take our money and “talk.” Besides, we lose so much money with them, especially when you add in drug trafficking etc.), that the Border closing would be a good thing!\"\n",
    "text_string2 = \"hahahaha i hope you give them a piece of your mind\"\n",
    "text_string3 = \"If you hate the horizontal scroll bar that pops up in jupyter notebook try changing the “automatic” setting to “when scrolling” in system settings -> general. It also seems to fix collapsing cells in case anyone else has run into that problem.\"\n",
    "text_string4 = \"Here’s what the tables look like. Any chance you could relabel this one?\"\n",
    "text_string5 = \"Great to see Chicago’s historic mayoral race between two highly qualified candidates. Congrats to our next mayor, Lori Lightfoot—and Toni Preckwinkle campaigned hard and did us proud. I know that with our city’s heart and Lori’s leadership, Chicago’s best days are still ahead.\"\n",
    "text_string6 = \"Love, let's talk about love Is it anything and everything you hoped for? Or do the feeling haunt you? I know the feeling haunt you This may be the night that my dreams might let me know All the stars approach you, all the stars approach you, all the stars approach you This may be the night that my dreams might let me know All the stars are closer, all the stars are closer, all the stars are closer\""
   ]
  },
  {
   "cell_type": "code",
   "execution_count": 175,
   "metadata": {},
   "outputs": [
    {
     "name": "stdout",
     "output_type": "stream",
     "text": [
      "INTP: Reading their book\n",
      "INFJ: Watching everybody and thinking about how crazy humanity is\n",
      "INTJ: Just had a revelation that solves their current project\n",
      "INFP: Writing their diary\n",
      "INFJ: Watching everybody and thinking about how crazy humanity is\n",
      "INFJ: Watching everybody and thinking about how crazy humanity is\n"
     ]
    }
   ],
   "source": [
    "predict_MBTI(text_string)\n",
    "predict_MBTI(text_string2)\n",
    "predict_MBTI(text_string3)\n",
    "predict_MBTI(text_string4)\n",
    "predict_MBTI(text_string5)\n",
    "predict_MBTI(text_string6)"
   ]
  },
  {
   "cell_type": "markdown",
   "metadata": {},
   "source": [
    "## ROC Curve"
   ]
  },
  {
   "cell_type": "code",
   "execution_count": null,
   "metadata": {},
   "outputs": [],
   "source": [
    "# from sklearn.linear_model import LogisticRegression\n",
    "# SVM = svm.SVC(C=1.0, kernel = 'linear', degree = 3, gamma = 'auto')\n",
    "# SVM.fit(tfidf_x_train, y_train)\n",
    "\n",
    "# from sklearn.metrics import roc_curve, auc\n",
    "# y_score_1 = SVM.fit(tfidf_x_train, y_train).decision_function(tfidf_x_test)# y score = the predicted log-odds\n",
    "\n",
    "# fpr, tpr, thresholds = roc_curve(y_test, y_score_1)\n",
    "\n"
   ]
  },
  {
   "cell_type": "code",
   "execution_count": 194,
   "metadata": {},
   "outputs": [],
   "source": [
    "from sklearn.metrics import roc_curve, auc\n",
    "from itertools import cycle\n",
    "import matplotlib.pyplot as plt"
   ]
  },
  {
   "cell_type": "code",
   "execution_count": 1,
   "metadata": {},
   "outputs": [
    {
     "ename": "NameError",
     "evalue": "name 'label_binarize' is not defined",
     "output_type": "error",
     "traceback": [
      "\u001b[0;31m---------------------------------------------------------------------------\u001b[0m",
      "\u001b[0;31mNameError\u001b[0m                                 Traceback (most recent call last)",
      "\u001b[0;32m<ipython-input-1-680a8d610e64>\u001b[0m in \u001b[0;36m<module>\u001b[0;34m\u001b[0m\n\u001b[0;32m----> 1\u001b[0;31m \u001b[0my_bin\u001b[0m\u001b[0;34m=\u001b[0m \u001b[0mlabel_binarize\u001b[0m\u001b[0;34m(\u001b[0m\u001b[0my\u001b[0m\u001b[0;34m,\u001b[0m \u001b[0mclasses\u001b[0m\u001b[0;34m=\u001b[0m\u001b[0;34m[\u001b[0m\u001b[0;34m'INFP'\u001b[0m\u001b[0;34m,\u001b[0m \u001b[0;34m'ENFJ'\u001b[0m\u001b[0;34m,\u001b[0m\u001b[0;34m'ENFP'\u001b[0m\u001b[0;34m,\u001b[0m\u001b[0;34m'ENTJ'\u001b[0m\u001b[0;34m,\u001b[0m\u001b[0;34m'ENTP'\u001b[0m\u001b[0;34m,\u001b[0m\u001b[0;34m'ESFJ'\u001b[0m\u001b[0;34m,\u001b[0m\u001b[0;34m'ESFP'\u001b[0m\u001b[0;34m,\u001b[0m\u001b[0;34m'ESTJ'\u001b[0m\u001b[0;34m,\u001b[0m\u001b[0;34m'ESTP'\u001b[0m\u001b[0;34m,\u001b[0m\u001b[0;34m'INFJ'\u001b[0m\u001b[0;34m,\u001b[0m\u001b[0;34m'INTJ'\u001b[0m\u001b[0;34m,\u001b[0m\u001b[0;34m'INTP'\u001b[0m\u001b[0;34m,\u001b[0m\u001b[0;34m'ISFJ'\u001b[0m\u001b[0;34m,\u001b[0m\u001b[0;34m'ISFP'\u001b[0m\u001b[0;34m,\u001b[0m\u001b[0;34m'ISTJ'\u001b[0m\u001b[0;34m,\u001b[0m\u001b[0;34m'ISTP'\u001b[0m\u001b[0;34m]\u001b[0m\u001b[0;34m)\u001b[0m\u001b[0;34m\u001b[0m\u001b[0;34m\u001b[0m\u001b[0m\n\u001b[0m\u001b[1;32m      2\u001b[0m \u001b[0;34m\u001b[0m\u001b[0m\n\u001b[1;32m      3\u001b[0m \u001b[0mX_train\u001b[0m\u001b[0;34m,\u001b[0m \u001b[0mX_test\u001b[0m\u001b[0;34m,\u001b[0m \u001b[0my_train\u001b[0m\u001b[0;34m,\u001b[0m \u001b[0my_test\u001b[0m \u001b[0;34m=\u001b[0m \u001b[0mtrain_test_split\u001b[0m\u001b[0;34m(\u001b[0m\u001b[0mx\u001b[0m\u001b[0;34m,\u001b[0m \u001b[0my_bin\u001b[0m\u001b[0;34m,\u001b[0m \u001b[0mtest_size\u001b[0m\u001b[0;34m=\u001b[0m\u001b[0;36m.5\u001b[0m\u001b[0;34m,\u001b[0m \u001b[0mrandom_state\u001b[0m\u001b[0;34m=\u001b[0m\u001b[0;36m0\u001b[0m\u001b[0;34m)\u001b[0m\u001b[0;34m\u001b[0m\u001b[0;34m\u001b[0m\u001b[0m\n\u001b[1;32m      4\u001b[0m \u001b[0;34m\u001b[0m\u001b[0m\n\u001b[1;32m      5\u001b[0m \u001b[0mtfidf_x_train\u001b[0m \u001b[0;34m=\u001b[0m \u001b[0mvectorizer\u001b[0m\u001b[0;34m.\u001b[0m\u001b[0mfit_transform\u001b[0m\u001b[0;34m(\u001b[0m\u001b[0mX_train\u001b[0m\u001b[0;34m)\u001b[0m\u001b[0;34m\u001b[0m\u001b[0;34m\u001b[0m\u001b[0m\n",
      "\u001b[0;31mNameError\u001b[0m: name 'label_binarize' is not defined"
     ]
    }
   ],
   "source": [
    "y_bin= label_binarize(y, classes=['INFP', 'ENFJ','ENFP','ENTJ','ENTP','ESFJ','ESFP','ESTJ','ESTP','INFJ','INTJ','INTP','ISFJ','ISFP','ISTJ','ISTP'])\n",
    "\n",
    "X_train, X_test, y_train, y_test = train_test_split(x, y_bin, test_size=.5, random_state=0)\n",
    "\n",
    "tfidf_x_train = vectorizer.fit_transform(X_train)\n",
    "tfidf_x_test = vectorizer.transform(X_test)\n",
    "\n",
    "\n",
    "classifier = OneVsRestClassifier(SVM)\n",
    "y_score = classifier.fit(tfidf_x_train, y_train).decision_function(tfidf_x_test)\n",
    "\n",
    "fpr = dict()\n",
    "tpr = dict()\n",
    "roc_auc = dict()\n",
    "for i in range(n_classes):\n",
    "    fpr[i], tpr[i], _ = roc_curve(y_test[:, i], y_score[:, i])\n",
    "    roc_auc[i] = auc(fpr[i], tpr[i])\n",
    "colors = cycle(['blue', 'red', 'green', 'yellow', 'orange', 'purple', 'brown', 'black', 'pink', 'grey', 'teal'])\n",
    "plt.figure(figsize=(10,8))\n",
    "for i, color in zip(range(n_classes), colors):\n",
    "    plt.plot(fpr[i], tpr[i], color=color,\n",
    "             label='ROC curve of class {0} (area = {1:0.2f})'\n",
    "             ''.format(i, roc_auc[i]))\n",
    "\n",
    "plt.plot([0, 1], [0, 1], 'k--')\n",
    "plt.xlim([-0.05, 1.0])\n",
    "plt.ylim([0.0, 1.05])\n",
    "plt.yticks([i/20.0 for i in range(21)])\n",
    "plt.xticks([i/20.0 for i in range(21)])\n",
    "plt.xlabel('False Positive Rate')\n",
    "plt.ylabel('True Positive Rate')\n",
    "plt.title('Receiver operating characteristic for multi-class data')\n",
    "plt.legend(loc=\"lower right\")\n",
    "plt.show()"
   ]
  },
  {
   "cell_type": "code",
   "execution_count": null,
   "metadata": {},
   "outputs": [],
   "source": []
  },
  {
   "cell_type": "code",
   "execution_count": null,
   "metadata": {},
   "outputs": [],
   "source": []
  }
 ],
 "metadata": {
  "kernelspec": {
   "display_name": "Python 3",
   "language": "python",
   "name": "python3"
  },
  "language_info": {
   "codemirror_mode": {
    "name": "ipython",
    "version": 3
   },
   "file_extension": ".py",
   "mimetype": "text/x-python",
   "name": "python",
   "nbconvert_exporter": "python",
   "pygments_lexer": "ipython3",
   "version": "3.7.1"
  }
 },
 "nbformat": 4,
 "nbformat_minor": 2
}
