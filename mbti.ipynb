{
 "cells": [
  {
   "cell_type": "code",
   "execution_count": 1,
   "metadata": {},
   "outputs": [
    {
     "name": "stderr",
     "output_type": "stream",
     "text": [
      "[nltk_data] Downloading package punkt to\n",
      "[nltk_data]     /Users/gracejeong/nltk_data...\n",
      "[nltk_data]   Package punkt is already up-to-date!\n"
     ]
    }
   ],
   "source": [
    "import pandas as pd\n",
    "import csv\n",
    "import re\n",
    "import numpy as np\n",
    "import matplotlib.pyplot as plt\n",
    "import seaborn as sns\n",
    "%matplotlib inline\n",
    "import nltk\n",
    "nltk.download('punkt')\n",
    "from nltk.corpus import stopwords\n",
    "import string\n",
    "from nltk import FreqDist\n",
    "from nltk.tokenize import word_tokenize, RegexpTokenizer\n",
    "from sklearn.manifold import TSNE\n",
    "from sklearn.feature_extraction.text import TfidfVectorizer\n",
    "from sklearn.metrics import accuracy_score, roc_curve, roc_auc_score, precision_score, recall_score, f1_score\n",
    "from sklearn.ensemble import RandomForestClassifier\n",
    "from sklearn.naive_bayes import MultinomialNB\n",
    "from imblearn.over_sampling import SMOTE, ADASYN\n",
    "from sklearn.model_selection import train_test_split"
   ]
  },
  {
   "cell_type": "code",
   "execution_count": 2,
   "metadata": {},
   "outputs": [],
   "source": [
    "# import dataset\n",
    "df_mbti = pd.read_csv('mbti_1.csv')"
   ]
  },
  {
   "cell_type": "code",
   "execution_count": 3,
   "metadata": {},
   "outputs": [
    {
     "data": {
      "text/plain": [
       "(8675, 2)"
      ]
     },
     "execution_count": 3,
     "metadata": {},
     "output_type": "execute_result"
    }
   ],
   "source": [
    "df_mbti.shape"
   ]
  },
  {
   "cell_type": "code",
   "execution_count": 4,
   "metadata": {
    "scrolled": true
   },
   "outputs": [
    {
     "data": {
      "text/html": [
       "<div>\n",
       "<style scoped>\n",
       "    .dataframe tbody tr th:only-of-type {\n",
       "        vertical-align: middle;\n",
       "    }\n",
       "\n",
       "    .dataframe tbody tr th {\n",
       "        vertical-align: top;\n",
       "    }\n",
       "\n",
       "    .dataframe thead th {\n",
       "        text-align: right;\n",
       "    }\n",
       "</style>\n",
       "<table border=\"1\" class=\"dataframe\">\n",
       "  <thead>\n",
       "    <tr style=\"text-align: right;\">\n",
       "      <th></th>\n",
       "      <th>type</th>\n",
       "      <th>posts</th>\n",
       "    </tr>\n",
       "  </thead>\n",
       "  <tbody>\n",
       "    <tr>\n",
       "      <th>0</th>\n",
       "      <td>INFJ</td>\n",
       "      <td>'http://www.youtube.com/watch?v=qsXHcwe3krw|||...</td>\n",
       "    </tr>\n",
       "    <tr>\n",
       "      <th>1</th>\n",
       "      <td>ENTP</td>\n",
       "      <td>'I'm finding the lack of me in these posts ver...</td>\n",
       "    </tr>\n",
       "    <tr>\n",
       "      <th>2</th>\n",
       "      <td>INTP</td>\n",
       "      <td>'Good one  _____   https://www.youtube.com/wat...</td>\n",
       "    </tr>\n",
       "    <tr>\n",
       "      <th>3</th>\n",
       "      <td>INTJ</td>\n",
       "      <td>'Dear INTP,   I enjoyed our conversation the o...</td>\n",
       "    </tr>\n",
       "    <tr>\n",
       "      <th>4</th>\n",
       "      <td>ENTJ</td>\n",
       "      <td>'You're fired.|||That's another silly misconce...</td>\n",
       "    </tr>\n",
       "  </tbody>\n",
       "</table>\n",
       "</div>"
      ],
      "text/plain": [
       "   type                                              posts\n",
       "0  INFJ  'http://www.youtube.com/watch?v=qsXHcwe3krw|||...\n",
       "1  ENTP  'I'm finding the lack of me in these posts ver...\n",
       "2  INTP  'Good one  _____   https://www.youtube.com/wat...\n",
       "3  INTJ  'Dear INTP,   I enjoyed our conversation the o...\n",
       "4  ENTJ  'You're fired.|||That's another silly misconce..."
      ]
     },
     "execution_count": 4,
     "metadata": {},
     "output_type": "execute_result"
    }
   ],
   "source": [
    "# preview data\n",
    "df_mbti.head()"
   ]
  },
  {
   "cell_type": "code",
   "execution_count": 5,
   "metadata": {},
   "outputs": [],
   "source": [
    "# create variable containing labels (16 unique categories)\n",
    "categories = df_mbti.type.values\n",
    "categories = list(set(categories))"
   ]
  },
  {
   "cell_type": "code",
   "execution_count": 6,
   "metadata": {},
   "outputs": [
    {
     "data": {
      "text/plain": [
       "INFP    1832\n",
       "INFJ    1470\n",
       "INTP    1304\n",
       "INTJ    1091\n",
       "ENTP     685\n",
       "ENFP     675\n",
       "ISTP     337\n",
       "ISFP     271\n",
       "ENTJ     231\n",
       "ISTJ     205\n",
       "ENFJ     190\n",
       "ISFJ     166\n",
       "ESTP      89\n",
       "ESFP      48\n",
       "ESFJ      42\n",
       "ESTJ      39\n",
       "Name: type, dtype: int64"
      ]
     },
     "execution_count": 6,
     "metadata": {},
     "output_type": "execute_result"
    }
   ],
   "source": [
    "# view distritubtion of observations by class type\n",
    "df_mbti.type.value_counts()"
   ]
  },
  {
   "cell_type": "code",
   "execution_count": 7,
   "metadata": {},
   "outputs": [
    {
     "data": {
      "text/plain": [
       "Text(0.5, 1.0, 'Count of Each MBTI Type')"
      ]
     },
     "execution_count": 7,
     "metadata": {},
     "output_type": "execute_result"
    },
    {
     "data": {
      "image/png": "[encoded data removed]",
      "text/plain": [
       "<Figure size 1080x288 with 1 Axes>"
      ]
     },
     "metadata": {
      "needs_background": "light"
     },
     "output_type": "display_data"
    }
   ],
   "source": [
    "fig = plt.figure(figsize = (15,4))\n",
    "sns.barplot(df_mbti.type.value_counts().index, df_mbti.type.value_counts(), color = 'steelblue')\n",
    "plt.xlabel('Type', fontsize = 12)\n",
    "plt.ylabel('Count', fontsize = 12)\n",
    "plt.title('Count of Each MBTI Type', fontsize = 14)"
   ]
  },
  {
   "cell_type": "code",
   "execution_count": 8,
   "metadata": {},
   "outputs": [],
   "source": [
    "def count_caps(text):\n",
    "    \"\"\"Returns a count of the number of capitalized letters in text\"\"\"\n",
    "    counter = 0\n",
    "    for letter in text:\n",
    "        if letter.isupper() == True:\n",
    "            counter += 1\n",
    "    return counter\n",
    "        "
   ]
  },
  {
   "cell_type": "code",
   "execution_count": 9,
   "metadata": {},
   "outputs": [],
   "source": [
    "def count_exclamations(text):\n",
    "    \"\"\"Returns a count of the number of ! in text\"\"\"\n",
    "    counter = 0\n",
    "    for letter in text:\n",
    "        if letter == '!':\n",
    "            counter += 1\n",
    "    return counter"
   ]
  },
  {
   "cell_type": "code",
   "execution_count": 10,
   "metadata": {},
   "outputs": [],
   "source": [
    "def count_digits(text):\n",
    "    \"\"\"Returns a count of the number of digits in text\"\"\"\n",
    "    digits = ['0', '1', '2', '3', '4', '5', '6', '7', '8', '9']\n",
    "    counter = 0\n",
    "    for letter in text:\n",
    "        if letter in digits:\n",
    "            counter += 1\n",
    "    return counter"
   ]
  },
  {
   "cell_type": "code",
   "execution_count": 11,
   "metadata": {},
   "outputs": [],
   "source": [
    "emojis = [':)', ':]', ':|',':[',':(',\n",
    " ';)',\n",
    " ':/',\n",
    " ':o',\n",
    " ':O',\n",
    " ':D',\n",
    " ':&',\n",
    " \":')\",\n",
    " \":'(\",\n",
    " ':`(',\n",
    " 'XD',\n",
    " ':X',\n",
    " '8X',\n",
    " 'K0',\n",
    " ':p',\n",
    " '=O',\n",
    " 'O:)',\n",
    " '>:)',\n",
    " '>:(',\n",
    " '%p',\n",
    " ':@)',\n",
    " '=^.^=',\n",
    " 'ó¿ò',\n",
    " 'ô¿ô',\n",
    " '°¿°',\n",
    " '©¿©',\n",
    " \"'¿'\",\n",
    " '?:)',\n",
    " '?:~)',\n",
    " '?8)',\n",
    " '8^)',\n",
    " 'B)',\n",
    " '=D',\n",
    " ':|',\n",
    " '=)',\n",
    " '=.=',\n",
    " '^_^',\n",
    " '^_',\n",
    " '^_~',\n",
    " '¬_¬',\n",
    " '>_<',\n",
    " 'o_o',\n",
    " 'O.O',\n",
    " 'o.O',\n",
    " \"''\",\n",
    " 'x_x',\n",
    " '\\\\m/><\\\\m/',\n",
    " 'ಠ_ಠ',\n",
    " ':*',\n",
    " '9_9',\n",
    " 'QQ',\n",
    " ':-)',\n",
    " ':-]',\n",
    " ':-|',\n",
    " ':-[',\n",
    " ':-(',\n",
    " ';-)',\n",
    " ':-/',\n",
    " ':-o',\n",
    " ':-O',\n",
    " ':-D',\n",
    " ':-&',\n",
    " \":'-)\",\n",
    " \":'-(\",\n",
    " ':`-(',\n",
    " 'X-D',\n",
    " ':-X',\n",
    " '8-X',\n",
    " 'K-0',\n",
    " ':-p',\n",
    " '=O',\n",
    " 'O:-)',\n",
    " '>:-)',\n",
    " '>:-(',\n",
    " '%-p',\n",
    " ':@)',\n",
    " '=^.^=',\n",
    " 'ó¿ò',\n",
    " 'ô¿ô',\n",
    " '°¿°',\n",
    " '©¿©',\n",
    " \"'¿'\",\n",
    " '?:-)',\n",
    " '?:~)',\n",
    " '?8-)',\n",
    " '8^)',\n",
    " 'B-)',\n",
    " '=D',\n",
    " ':|',\n",
    " '=)',\n",
    " '=.=',\n",
    " '^_^',\n",
    " '^_-',\n",
    " '^_~',\n",
    " '¬_¬',\n",
    " '>_<',\n",
    " 'o_o',\n",
    " 'O.O',\n",
    " 'o.O',\n",
    " \"'-'\",\n",
    " 'x_x',\n",
    " '\\\\m/><\\\\m/',\n",
    " 'ಠ_ಠ',\n",
    " ':*',\n",
    " '9_9',\n",
    " 'QQ',\n",
    " '@.@']"
   ]
  },
  {
   "cell_type": "code",
   "execution_count": 12,
   "metadata": {},
   "outputs": [],
   "source": [
    "def count_emojis_shortcode(text):\n",
    "    shortcodes = re.findall(r'\\:[a-z]+\\:', str(text))\n",
    "    return len(shortcodes)"
   ]
  },
  {
   "cell_type": "code",
   "execution_count": 13,
   "metadata": {},
   "outputs": [],
   "source": [
    "def count_emojis(text):\n",
    "    counter = 0\n",
    "    split = text.split(' ')\n",
    "    for x in emojis:\n",
    "        counter += sum(x in s for s in split)\n",
    "    return counter\n"
   ]
  },
  {
   "cell_type": "code",
   "execution_count": 14,
   "metadata": {},
   "outputs": [],
   "source": [
    "# create additional features: count of capitalizations, count of exclamations, count of emoj\n",
    "df_mbti['count_of_caps'] = df_mbti.posts.apply(lambda x: count_caps(x))\n",
    "df_mbti['count_of_exclamations'] = df_mbti.posts.apply(lambda x: count_exclamations(x))\n",
    "df_mbti['count_of_digits'] = df_mbti.posts.apply(lambda x: count_digits(x))\n",
    "df_mbti['count_of_emojis'] = df_mbti.posts.apply(lambda x: count_emojis(x)+count_emojis_shortcode(x))"
   ]
  },
  {
   "cell_type": "code",
   "execution_count": 15,
   "metadata": {},
   "outputs": [
    {
     "data": {
      "text/html": [
       "<div>\n",
       "<style scoped>\n",
       "    .dataframe tbody tr th:only-of-type {\n",
       "        vertical-align: middle;\n",
       "    }\n",
       "\n",
       "    .dataframe tbody tr th {\n",
       "        vertical-align: top;\n",
       "    }\n",
       "\n",
       "    .dataframe thead th {\n",
       "        text-align: right;\n",
       "    }\n",
       "</style>\n",
       "<table border=\"1\" class=\"dataframe\">\n",
       "  <thead>\n",
       "    <tr style=\"text-align: right;\">\n",
       "      <th></th>\n",
       "      <th>type</th>\n",
       "      <th>posts</th>\n",
       "      <th>count_of_caps</th>\n",
       "      <th>count_of_exclamations</th>\n",
       "      <th>count_of_digits</th>\n",
       "      <th>count_of_emojis</th>\n",
       "    </tr>\n",
       "  </thead>\n",
       "  <tbody>\n",
       "    <tr>\n",
       "      <th>0</th>\n",
       "      <td>INFJ</td>\n",
       "      <td>'http://www.youtube.com/watch?v=qsXHcwe3krw|||...</td>\n",
       "      <td>153</td>\n",
       "      <td>3</td>\n",
       "      <td>109</td>\n",
       "      <td>33</td>\n",
       "    </tr>\n",
       "    <tr>\n",
       "      <th>1</th>\n",
       "      <td>ENTP</td>\n",
       "      <td>'I'm finding the lack of me in these posts ver...</td>\n",
       "      <td>327</td>\n",
       "      <td>0</td>\n",
       "      <td>109</td>\n",
       "      <td>22</td>\n",
       "    </tr>\n",
       "    <tr>\n",
       "      <th>2</th>\n",
       "      <td>INTP</td>\n",
       "      <td>'Good one  _____   https://www.youtube.com/wat...</td>\n",
       "      <td>169</td>\n",
       "      <td>4</td>\n",
       "      <td>94</td>\n",
       "      <td>14</td>\n",
       "    </tr>\n",
       "    <tr>\n",
       "      <th>3</th>\n",
       "      <td>INTJ</td>\n",
       "      <td>'Dear INTP,   I enjoyed our conversation the o...</td>\n",
       "      <td>253</td>\n",
       "      <td>3</td>\n",
       "      <td>33</td>\n",
       "      <td>2</td>\n",
       "    </tr>\n",
       "    <tr>\n",
       "      <th>4</th>\n",
       "      <td>ENTJ</td>\n",
       "      <td>'You're fired.|||That's another silly misconce...</td>\n",
       "      <td>261</td>\n",
       "      <td>1</td>\n",
       "      <td>41</td>\n",
       "      <td>11</td>\n",
       "    </tr>\n",
       "  </tbody>\n",
       "</table>\n",
       "</div>"
      ],
      "text/plain": [
       "   type                                              posts  count_of_caps  \\\n",
       "0  INFJ  'http://www.youtube.com/watch?v=qsXHcwe3krw|||...            153   \n",
       "1  ENTP  'I'm finding the lack of me in these posts ver...            327   \n",
       "2  INTP  'Good one  _____   https://www.youtube.com/wat...            169   \n",
       "3  INTJ  'Dear INTP,   I enjoyed our conversation the o...            253   \n",
       "4  ENTJ  'You're fired.|||That's another silly misconce...            261   \n",
       "\n",
       "   count_of_exclamations  count_of_digits  count_of_emojis  \n",
       "0                      3              109               33  \n",
       "1                      0              109               22  \n",
       "2                      4               94               14  \n",
       "3                      3               33                2  \n",
       "4                      1               41               11  "
      ]
     },
     "execution_count": 15,
     "metadata": {},
     "output_type": "execute_result"
    }
   ],
   "source": [
    "df_mbti.head()"
   ]
  },
  {
   "cell_type": "code",
   "execution_count": 16,
   "metadata": {},
   "outputs": [
    {
     "name": "stderr",
     "output_type": "stream",
     "text": [
      "/Users/gracejeong/anaconda3/lib/python3.7/site-packages/scipy/stats/stats.py:1713: FutureWarning: Using a non-tuple sequence for multidimensional indexing is deprecated; use `arr[tuple(seq)]` instead of `arr[seq]`. In the future this will be interpreted as an array index, `arr[np.array(seq)]`, which will result either in an error or a different result.\n",
      "  return np.add.reduce(sorted[indexer] * weights, axis=axis) / sumval\n"
     ]
    },
    {
     "data": {
      "text/plain": [
       "<matplotlib.axes._subplots.AxesSubplot at 0x1a1ed042b0>"
      ]
     },
     "execution_count": 16,
     "metadata": {},
     "output_type": "execute_result"
    },
    {
     "data": {
      "image/png": "[encoded data removed]",
      "text/plain": [
       "<Figure size 432x288 with 1 Axes>"
      ]
     },
     "metadata": {
      "needs_background": "light"
     },
     "output_type": "display_data"
    }
   ],
   "source": [
    "sns.distplot(df_mbti.count_of_emojis)"
   ]
  },
  {
   "cell_type": "code",
   "execution_count": 17,
   "metadata": {},
   "outputs": [],
   "source": [
    "# clean text: remove hyperlinks, special characters & digits\n",
    "df_mbti.posts = df_mbti.posts.apply(lambda x: re.sub(r\"(http|ftp|https)://([\\w+?\\.\\w+])+([a-zA-Z0-9\\~\\!\\@\\#\\$\\%\\^\\&\\*\\(\\)_\\-\\=\\+\\\\\\/\\?\\.\\:\\;\\'\\,]*)?\", \"\", x))\n",
    "df_mbti.posts = df_mbti.posts.apply(lambda x: re.sub(r\"\\|\", \"\", x))\n",
    "df_mbti.posts = df_mbti.posts.apply(lambda x: re.sub(r\"\\d\", \"\", x))\n",
    "df_mbti.posts = df_mbti.posts.apply(lambda x: re.sub(r\"_\", \"\", x))"
   ]
  },
  {
   "cell_type": "code",
   "execution_count": 18,
   "metadata": {},
   "outputs": [],
   "source": [
    "def lower(text):\n",
    "    return [word.lower() for word in text]\n",
    "\n",
    "# tokenize comments & remove stopwords\n",
    "tokenizer = RegexpTokenizer(r'\\w+')\n",
    "df_mbti['tokenized'] = df_mbti.posts.apply(lambda x: tokenizer.tokenize(x))\n",
    "df_mbti['tokenized'] = df_mbti.tokenized.apply(lambda x: lower(x))\n",
    "\n",
    "# nltk.download('stopwords')\n",
    "stopwords_list = stopwords.words('english')\n",
    "stopwords_list += list(string.punctuation)\n",
    "\n",
    "def remove_stopwords(tokenized):\n",
    "    return [word.lower() for word in tokenized if word not in stopwords_list]"
   ]
  },
  {
   "cell_type": "code",
   "execution_count": 19,
   "metadata": {},
   "outputs": [
    {
     "data": {
      "text/html": [
       "<div>\n",
       "<style scoped>\n",
       "    .dataframe tbody tr th:only-of-type {\n",
       "        vertical-align: middle;\n",
       "    }\n",
       "\n",
       "    .dataframe tbody tr th {\n",
       "        vertical-align: top;\n",
       "    }\n",
       "\n",
       "    .dataframe thead th {\n",
       "        text-align: right;\n",
       "    }\n",
       "</style>\n",
       "<table border=\"1\" class=\"dataframe\">\n",
       "  <thead>\n",
       "    <tr style=\"text-align: right;\">\n",
       "      <th></th>\n",
       "      <th>type</th>\n",
       "      <th>posts</th>\n",
       "      <th>count_of_caps</th>\n",
       "      <th>count_of_exclamations</th>\n",
       "      <th>count_of_digits</th>\n",
       "      <th>count_of_emojis</th>\n",
       "      <th>tokenized</th>\n",
       "    </tr>\n",
       "  </thead>\n",
       "  <tbody>\n",
       "    <tr>\n",
       "      <th>0</th>\n",
       "      <td>INFJ</td>\n",
       "      <td>'enfp and intj moments    sportscenter not top...</td>\n",
       "      <td>153</td>\n",
       "      <td>3</td>\n",
       "      <td>109</td>\n",
       "      <td>33</td>\n",
       "      <td>[enfp, and, intj, moments, sportscenter, not, ...</td>\n",
       "    </tr>\n",
       "    <tr>\n",
       "      <th>1</th>\n",
       "      <td>ENTP</td>\n",
       "      <td>'I'm finding the lack of me in these posts ver...</td>\n",
       "      <td>327</td>\n",
       "      <td>0</td>\n",
       "      <td>109</td>\n",
       "      <td>22</td>\n",
       "      <td>[i, m, finding, the, lack, of, me, in, these, ...</td>\n",
       "    </tr>\n",
       "    <tr>\n",
       "      <th>2</th>\n",
       "      <td>INTP</td>\n",
       "      <td>'Good one     Of course, to which I say I know...</td>\n",
       "      <td>169</td>\n",
       "      <td>4</td>\n",
       "      <td>94</td>\n",
       "      <td>14</td>\n",
       "      <td>[good, one, of, course, to, which, i, say, i, ...</td>\n",
       "    </tr>\n",
       "    <tr>\n",
       "      <th>3</th>\n",
       "      <td>INTJ</td>\n",
       "      <td>'Dear INTP,   I enjoyed our conversation the o...</td>\n",
       "      <td>253</td>\n",
       "      <td>3</td>\n",
       "      <td>33</td>\n",
       "      <td>2</td>\n",
       "      <td>[dear, intp, i, enjoyed, our, conversation, th...</td>\n",
       "    </tr>\n",
       "    <tr>\n",
       "      <th>4</th>\n",
       "      <td>ENTJ</td>\n",
       "      <td>'You're fired.That's another silly misconcepti...</td>\n",
       "      <td>261</td>\n",
       "      <td>1</td>\n",
       "      <td>41</td>\n",
       "      <td>11</td>\n",
       "      <td>[you, re, fired, that, s, another, silly, misc...</td>\n",
       "    </tr>\n",
       "  </tbody>\n",
       "</table>\n",
       "</div>"
      ],
      "text/plain": [
       "   type                                              posts  count_of_caps  \\\n",
       "0  INFJ  'enfp and intj moments    sportscenter not top...            153   \n",
       "1  ENTP  'I'm finding the lack of me in these posts ver...            327   \n",
       "2  INTP  'Good one     Of course, to which I say I know...            169   \n",
       "3  INTJ  'Dear INTP,   I enjoyed our conversation the o...            253   \n",
       "4  ENTJ  'You're fired.That's another silly misconcepti...            261   \n",
       "\n",
       "   count_of_exclamations  count_of_digits  count_of_emojis  \\\n",
       "0                      3              109               33   \n",
       "1                      0              109               22   \n",
       "2                      4               94               14   \n",
       "3                      3               33                2   \n",
       "4                      1               41               11   \n",
       "\n",
       "                                           tokenized  \n",
       "0  [enfp, and, intj, moments, sportscenter, not, ...  \n",
       "1  [i, m, finding, the, lack, of, me, in, these, ...  \n",
       "2  [good, one, of, course, to, which, i, say, i, ...  \n",
       "3  [dear, intp, i, enjoyed, our, conversation, th...  \n",
       "4  [you, re, fired, that, s, another, silly, misc...  "
      ]
     },
     "execution_count": 19,
     "metadata": {},
     "output_type": "execute_result"
    }
   ],
   "source": [
    "df_mbti.head()"
   ]
  },
  {
   "cell_type": "code",
   "execution_count": 20,
   "metadata": {},
   "outputs": [],
   "source": [
    "df_mbti['tokens_stopped'] = df_mbti.tokenized.apply(lambda x: remove_stopwords(x))"
   ]
  },
  {
   "cell_type": "code",
   "execution_count": 21,
   "metadata": {
    "scrolled": true
   },
   "outputs": [
    {
     "data": {
      "text/html": [
       "<div>\n",
       "<style scoped>\n",
       "    .dataframe tbody tr th:only-of-type {\n",
       "        vertical-align: middle;\n",
       "    }\n",
       "\n",
       "    .dataframe tbody tr th {\n",
       "        vertical-align: top;\n",
       "    }\n",
       "\n",
       "    .dataframe thead th {\n",
       "        text-align: right;\n",
       "    }\n",
       "</style>\n",
       "<table border=\"1\" class=\"dataframe\">\n",
       "  <thead>\n",
       "    <tr style=\"text-align: right;\">\n",
       "      <th></th>\n",
       "      <th>type</th>\n",
       "      <th>posts</th>\n",
       "      <th>count_of_caps</th>\n",
       "      <th>count_of_exclamations</th>\n",
       "      <th>count_of_digits</th>\n",
       "      <th>count_of_emojis</th>\n",
       "      <th>tokenized</th>\n",
       "      <th>tokens_stopped</th>\n",
       "    </tr>\n",
       "  </thead>\n",
       "  <tbody>\n",
       "    <tr>\n",
       "      <th>0</th>\n",
       "      <td>INFJ</td>\n",
       "      <td>'enfp and intj moments    sportscenter not top...</td>\n",
       "      <td>153</td>\n",
       "      <td>3</td>\n",
       "      <td>109</td>\n",
       "      <td>33</td>\n",
       "      <td>[enfp, and, intj, moments, sportscenter, not, ...</td>\n",
       "      <td>[enfp, intj, moments, sportscenter, top, ten, ...</td>\n",
       "    </tr>\n",
       "    <tr>\n",
       "      <th>1</th>\n",
       "      <td>ENTP</td>\n",
       "      <td>'I'm finding the lack of me in these posts ver...</td>\n",
       "      <td>327</td>\n",
       "      <td>0</td>\n",
       "      <td>109</td>\n",
       "      <td>22</td>\n",
       "      <td>[i, m, finding, the, lack, of, me, in, these, ...</td>\n",
       "      <td>[finding, lack, posts, alarming, sex, boring, ...</td>\n",
       "    </tr>\n",
       "    <tr>\n",
       "      <th>2</th>\n",
       "      <td>INTP</td>\n",
       "      <td>'Good one     Of course, to which I say I know...</td>\n",
       "      <td>169</td>\n",
       "      <td>4</td>\n",
       "      <td>94</td>\n",
       "      <td>14</td>\n",
       "      <td>[good, one, of, course, to, which, i, say, i, ...</td>\n",
       "      <td>[good, one, course, say, know, blessing, curse...</td>\n",
       "    </tr>\n",
       "    <tr>\n",
       "      <th>3</th>\n",
       "      <td>INTJ</td>\n",
       "      <td>'Dear INTP,   I enjoyed our conversation the o...</td>\n",
       "      <td>253</td>\n",
       "      <td>3</td>\n",
       "      <td>33</td>\n",
       "      <td>2</td>\n",
       "      <td>[dear, intp, i, enjoyed, our, conversation, th...</td>\n",
       "      <td>[dear, intp, enjoyed, conversation, day, esote...</td>\n",
       "    </tr>\n",
       "    <tr>\n",
       "      <th>4</th>\n",
       "      <td>ENTJ</td>\n",
       "      <td>'You're fired.That's another silly misconcepti...</td>\n",
       "      <td>261</td>\n",
       "      <td>1</td>\n",
       "      <td>41</td>\n",
       "      <td>11</td>\n",
       "      <td>[you, re, fired, that, s, another, silly, misc...</td>\n",
       "      <td>[fired, another, silly, misconception, approac...</td>\n",
       "    </tr>\n",
       "  </tbody>\n",
       "</table>\n",
       "</div>"
      ],
      "text/plain": [
       "   type                                              posts  count_of_caps  \\\n",
       "0  INFJ  'enfp and intj moments    sportscenter not top...            153   \n",
       "1  ENTP  'I'm finding the lack of me in these posts ver...            327   \n",
       "2  INTP  'Good one     Of course, to which I say I know...            169   \n",
       "3  INTJ  'Dear INTP,   I enjoyed our conversation the o...            253   \n",
       "4  ENTJ  'You're fired.That's another silly misconcepti...            261   \n",
       "\n",
       "   count_of_exclamations  count_of_digits  count_of_emojis  \\\n",
       "0                      3              109               33   \n",
       "1                      0              109               22   \n",
       "2                      4               94               14   \n",
       "3                      3               33                2   \n",
       "4                      1               41               11   \n",
       "\n",
       "                                           tokenized  \\\n",
       "0  [enfp, and, intj, moments, sportscenter, not, ...   \n",
       "1  [i, m, finding, the, lack, of, me, in, these, ...   \n",
       "2  [good, one, of, course, to, which, i, say, i, ...   \n",
       "3  [dear, intp, i, enjoyed, our, conversation, th...   \n",
       "4  [you, re, fired, that, s, another, silly, misc...   \n",
       "\n",
       "                                      tokens_stopped  \n",
       "0  [enfp, intj, moments, sportscenter, top, ten, ...  \n",
       "1  [finding, lack, posts, alarming, sex, boring, ...  \n",
       "2  [good, one, course, say, know, blessing, curse...  \n",
       "3  [dear, intp, enjoyed, conversation, day, esote...  \n",
       "4  [fired, another, silly, misconception, approac...  "
      ]
     },
     "execution_count": 21,
     "metadata": {},
     "output_type": "execute_result"
    }
   ],
   "source": [
    "df_mbti.head()"
   ]
  },
  {
   "cell_type": "code",
   "execution_count": 22,
   "metadata": {},
   "outputs": [],
   "source": [
    "# create features of total words and total unique words\n",
    "df_mbti['num_total_words'] = df_mbti['tokens_stopped'].apply(lambda x: len(x))\n",
    "df_mbti['num_unique_words'] = df_mbti['tokens_stopped'].apply(lambda x: len(set(x)))"
   ]
  },
  {
   "cell_type": "code",
   "execution_count": 23,
   "metadata": {},
   "outputs": [
    {
     "data": {
      "text/html": [
       "<div>\n",
       "<style scoped>\n",
       "    .dataframe tbody tr th:only-of-type {\n",
       "        vertical-align: middle;\n",
       "    }\n",
       "\n",
       "    .dataframe tbody tr th {\n",
       "        vertical-align: top;\n",
       "    }\n",
       "\n",
       "    .dataframe thead th {\n",
       "        text-align: right;\n",
       "    }\n",
       "</style>\n",
       "<table border=\"1\" class=\"dataframe\">\n",
       "  <thead>\n",
       "    <tr style=\"text-align: right;\">\n",
       "      <th></th>\n",
       "      <th>type</th>\n",
       "      <th>posts</th>\n",
       "      <th>count_of_caps</th>\n",
       "      <th>count_of_exclamations</th>\n",
       "      <th>count_of_digits</th>\n",
       "      <th>count_of_emojis</th>\n",
       "      <th>tokenized</th>\n",
       "      <th>tokens_stopped</th>\n",
       "      <th>num_total_words</th>\n",
       "      <th>num_unique_words</th>\n",
       "    </tr>\n",
       "  </thead>\n",
       "  <tbody>\n",
       "    <tr>\n",
       "      <th>0</th>\n",
       "      <td>INFJ</td>\n",
       "      <td>'enfp and intj moments    sportscenter not top...</td>\n",
       "      <td>153</td>\n",
       "      <td>3</td>\n",
       "      <td>109</td>\n",
       "      <td>33</td>\n",
       "      <td>[enfp, and, intj, moments, sportscenter, not, ...</td>\n",
       "      <td>[enfp, intj, moments, sportscenter, top, ten, ...</td>\n",
       "      <td>307</td>\n",
       "      <td>257</td>\n",
       "    </tr>\n",
       "    <tr>\n",
       "      <th>1</th>\n",
       "      <td>ENTP</td>\n",
       "      <td>'I'm finding the lack of me in these posts ver...</td>\n",
       "      <td>327</td>\n",
       "      <td>0</td>\n",
       "      <td>109</td>\n",
       "      <td>22</td>\n",
       "      <td>[i, m, finding, the, lack, of, me, in, these, ...</td>\n",
       "      <td>[finding, lack, posts, alarming, sex, boring, ...</td>\n",
       "      <td>561</td>\n",
       "      <td>403</td>\n",
       "    </tr>\n",
       "    <tr>\n",
       "      <th>2</th>\n",
       "      <td>INTP</td>\n",
       "      <td>'Good one     Of course, to which I say I know...</td>\n",
       "      <td>169</td>\n",
       "      <td>4</td>\n",
       "      <td>94</td>\n",
       "      <td>14</td>\n",
       "      <td>[good, one, of, course, to, which, i, say, i, ...</td>\n",
       "      <td>[good, one, course, say, know, blessing, curse...</td>\n",
       "      <td>432</td>\n",
       "      <td>342</td>\n",
       "    </tr>\n",
       "    <tr>\n",
       "      <th>3</th>\n",
       "      <td>INTJ</td>\n",
       "      <td>'Dear INTP,   I enjoyed our conversation the o...</td>\n",
       "      <td>253</td>\n",
       "      <td>3</td>\n",
       "      <td>33</td>\n",
       "      <td>2</td>\n",
       "      <td>[dear, intp, i, enjoyed, our, conversation, th...</td>\n",
       "      <td>[dear, intp, enjoyed, conversation, day, esote...</td>\n",
       "      <td>522</td>\n",
       "      <td>374</td>\n",
       "    </tr>\n",
       "    <tr>\n",
       "      <th>4</th>\n",
       "      <td>ENTJ</td>\n",
       "      <td>'You're fired.That's another silly misconcepti...</td>\n",
       "      <td>261</td>\n",
       "      <td>1</td>\n",
       "      <td>41</td>\n",
       "      <td>11</td>\n",
       "      <td>[you, re, fired, that, s, another, silly, misc...</td>\n",
       "      <td>[fired, another, silly, misconception, approac...</td>\n",
       "      <td>482</td>\n",
       "      <td>368</td>\n",
       "    </tr>\n",
       "  </tbody>\n",
       "</table>\n",
       "</div>"
      ],
      "text/plain": [
       "   type                                              posts  count_of_caps  \\\n",
       "0  INFJ  'enfp and intj moments    sportscenter not top...            153   \n",
       "1  ENTP  'I'm finding the lack of me in these posts ver...            327   \n",
       "2  INTP  'Good one     Of course, to which I say I know...            169   \n",
       "3  INTJ  'Dear INTP,   I enjoyed our conversation the o...            253   \n",
       "4  ENTJ  'You're fired.That's another silly misconcepti...            261   \n",
       "\n",
       "   count_of_exclamations  count_of_digits  count_of_emojis  \\\n",
       "0                      3              109               33   \n",
       "1                      0              109               22   \n",
       "2                      4               94               14   \n",
       "3                      3               33                2   \n",
       "4                      1               41               11   \n",
       "\n",
       "                                           tokenized  \\\n",
       "0  [enfp, and, intj, moments, sportscenter, not, ...   \n",
       "1  [i, m, finding, the, lack, of, me, in, these, ...   \n",
       "2  [good, one, of, course, to, which, i, say, i, ...   \n",
       "3  [dear, intp, i, enjoyed, our, conversation, th...   \n",
       "4  [you, re, fired, that, s, another, silly, misc...   \n",
       "\n",
       "                                      tokens_stopped  num_total_words  \\\n",
       "0  [enfp, intj, moments, sportscenter, top, ten, ...              307   \n",
       "1  [finding, lack, posts, alarming, sex, boring, ...              561   \n",
       "2  [good, one, course, say, know, blessing, curse...              432   \n",
       "3  [dear, intp, enjoyed, conversation, day, esote...              522   \n",
       "4  [fired, another, silly, misconception, approac...              482   \n",
       "\n",
       "   num_unique_words  \n",
       "0               257  \n",
       "1               403  \n",
       "2               342  \n",
       "3               374  \n",
       "4               368  "
      ]
     },
     "execution_count": 23,
     "metadata": {},
     "output_type": "execute_result"
    }
   ],
   "source": [
    "df_mbti.head()"
   ]
  },
  {
   "cell_type": "code",
   "execution_count": 24,
   "metadata": {},
   "outputs": [
    {
     "data": {
      "text/plain": [
       "(8675, 10)"
      ]
     },
     "execution_count": 24,
     "metadata": {},
     "output_type": "execute_result"
    }
   ],
   "source": [
    "df_mbti.shape"
   ]
  },
  {
   "cell_type": "code",
   "execution_count": 25,
   "metadata": {},
   "outputs": [],
   "source": [
    "from nltk.stem.wordnet import WordNetLemmatizer"
   ]
  },
  {
   "cell_type": "code",
   "execution_count": 26,
   "metadata": {},
   "outputs": [],
   "source": [
    "def lemmatize(token_stopwords_list):\n",
    "    lemmatizer = WordNetLemmatizer()\n",
    "    return [lemmatizer.lemmatize(word) for word in token_stopwords_list]\n"
   ]
  },
  {
   "cell_type": "code",
   "execution_count": 27,
   "metadata": {},
   "outputs": [],
   "source": [
    "df_mbti['lemmatized'] = df_mbti.tokens_stopped.apply(lambda x: lemmatize(x))"
   ]
  },
  {
   "cell_type": "code",
   "execution_count": 28,
   "metadata": {},
   "outputs": [],
   "source": [
    "df_mbti['joined_lemmatized']= df_mbti['lemmatized'].apply(lambda x: \" \".join(x))"
   ]
  },
  {
   "cell_type": "code",
   "execution_count": 29,
   "metadata": {
    "scrolled": false
   },
   "outputs": [
    {
     "data": {
      "text/html": [
       "<div>\n",
       "<style scoped>\n",
       "    .dataframe tbody tr th:only-of-type {\n",
       "        vertical-align: middle;\n",
       "    }\n",
       "\n",
       "    .dataframe tbody tr th {\n",
       "        vertical-align: top;\n",
       "    }\n",
       "\n",
       "    .dataframe thead th {\n",
       "        text-align: right;\n",
       "    }\n",
       "</style>\n",
       "<table border=\"1\" class=\"dataframe\">\n",
       "  <thead>\n",
       "    <tr style=\"text-align: right;\">\n",
       "      <th></th>\n",
       "      <th>type</th>\n",
       "      <th>posts</th>\n",
       "      <th>count_of_caps</th>\n",
       "      <th>count_of_exclamations</th>\n",
       "      <th>count_of_digits</th>\n",
       "      <th>count_of_emojis</th>\n",
       "      <th>tokenized</th>\n",
       "      <th>tokens_stopped</th>\n",
       "      <th>num_total_words</th>\n",
       "      <th>num_unique_words</th>\n",
       "      <th>lemmatized</th>\n",
       "      <th>joined_lemmatized</th>\n",
       "    </tr>\n",
       "  </thead>\n",
       "  <tbody>\n",
       "    <tr>\n",
       "      <th>0</th>\n",
       "      <td>INFJ</td>\n",
       "      <td>'enfp and intj moments    sportscenter not top...</td>\n",
       "      <td>153</td>\n",
       "      <td>3</td>\n",
       "      <td>109</td>\n",
       "      <td>33</td>\n",
       "      <td>[enfp, and, intj, moments, sportscenter, not, ...</td>\n",
       "      <td>[enfp, intj, moments, sportscenter, top, ten, ...</td>\n",
       "      <td>307</td>\n",
       "      <td>257</td>\n",
       "      <td>[enfp, intj, moment, sportscenter, top, ten, p...</td>\n",
       "      <td>enfp intj moment sportscenter top ten play pra...</td>\n",
       "    </tr>\n",
       "    <tr>\n",
       "      <th>1</th>\n",
       "      <td>ENTP</td>\n",
       "      <td>'I'm finding the lack of me in these posts ver...</td>\n",
       "      <td>327</td>\n",
       "      <td>0</td>\n",
       "      <td>109</td>\n",
       "      <td>22</td>\n",
       "      <td>[i, m, finding, the, lack, of, me, in, these, ...</td>\n",
       "      <td>[finding, lack, posts, alarming, sex, boring, ...</td>\n",
       "      <td>561</td>\n",
       "      <td>403</td>\n",
       "      <td>[finding, lack, post, alarming, sex, boring, p...</td>\n",
       "      <td>finding lack post alarming sex boring position...</td>\n",
       "    </tr>\n",
       "    <tr>\n",
       "      <th>2</th>\n",
       "      <td>INTP</td>\n",
       "      <td>'Good one     Of course, to which I say I know...</td>\n",
       "      <td>169</td>\n",
       "      <td>4</td>\n",
       "      <td>94</td>\n",
       "      <td>14</td>\n",
       "      <td>[good, one, of, course, to, which, i, say, i, ...</td>\n",
       "      <td>[good, one, course, say, know, blessing, curse...</td>\n",
       "      <td>432</td>\n",
       "      <td>342</td>\n",
       "      <td>[good, one, course, say, know, blessing, curse...</td>\n",
       "      <td>good one course say know blessing curse absolu...</td>\n",
       "    </tr>\n",
       "    <tr>\n",
       "      <th>3</th>\n",
       "      <td>INTJ</td>\n",
       "      <td>'Dear INTP,   I enjoyed our conversation the o...</td>\n",
       "      <td>253</td>\n",
       "      <td>3</td>\n",
       "      <td>33</td>\n",
       "      <td>2</td>\n",
       "      <td>[dear, intp, i, enjoyed, our, conversation, th...</td>\n",
       "      <td>[dear, intp, enjoyed, conversation, day, esote...</td>\n",
       "      <td>522</td>\n",
       "      <td>374</td>\n",
       "      <td>[dear, intp, enjoyed, conversation, day, esote...</td>\n",
       "      <td>dear intp enjoyed conversation day esoteric ga...</td>\n",
       "    </tr>\n",
       "    <tr>\n",
       "      <th>4</th>\n",
       "      <td>ENTJ</td>\n",
       "      <td>'You're fired.That's another silly misconcepti...</td>\n",
       "      <td>261</td>\n",
       "      <td>1</td>\n",
       "      <td>41</td>\n",
       "      <td>11</td>\n",
       "      <td>[you, re, fired, that, s, another, silly, misc...</td>\n",
       "      <td>[fired, another, silly, misconception, approac...</td>\n",
       "      <td>482</td>\n",
       "      <td>368</td>\n",
       "      <td>[fired, another, silly, misconception, approac...</td>\n",
       "      <td>fired another silly misconception approaching ...</td>\n",
       "    </tr>\n",
       "  </tbody>\n",
       "</table>\n",
       "</div>"
      ],
      "text/plain": [
       "   type                                              posts  count_of_caps  \\\n",
       "0  INFJ  'enfp and intj moments    sportscenter not top...            153   \n",
       "1  ENTP  'I'm finding the lack of me in these posts ver...            327   \n",
       "2  INTP  'Good one     Of course, to which I say I know...            169   \n",
       "3  INTJ  'Dear INTP,   I enjoyed our conversation the o...            253   \n",
       "4  ENTJ  'You're fired.That's another silly misconcepti...            261   \n",
       "\n",
       "   count_of_exclamations  count_of_digits  count_of_emojis  \\\n",
       "0                      3              109               33   \n",
       "1                      0              109               22   \n",
       "2                      4               94               14   \n",
       "3                      3               33                2   \n",
       "4                      1               41               11   \n",
       "\n",
       "                                           tokenized  \\\n",
       "0  [enfp, and, intj, moments, sportscenter, not, ...   \n",
       "1  [i, m, finding, the, lack, of, me, in, these, ...   \n",
       "2  [good, one, of, course, to, which, i, say, i, ...   \n",
       "3  [dear, intp, i, enjoyed, our, conversation, th...   \n",
       "4  [you, re, fired, that, s, another, silly, misc...   \n",
       "\n",
       "                                      tokens_stopped  num_total_words  \\\n",
       "0  [enfp, intj, moments, sportscenter, top, ten, ...              307   \n",
       "1  [finding, lack, posts, alarming, sex, boring, ...              561   \n",
       "2  [good, one, course, say, know, blessing, curse...              432   \n",
       "3  [dear, intp, enjoyed, conversation, day, esote...              522   \n",
       "4  [fired, another, silly, misconception, approac...              482   \n",
       "\n",
       "   num_unique_words                                         lemmatized  \\\n",
       "0               257  [enfp, intj, moment, sportscenter, top, ten, p...   \n",
       "1               403  [finding, lack, post, alarming, sex, boring, p...   \n",
       "2               342  [good, one, course, say, know, blessing, curse...   \n",
       "3               374  [dear, intp, enjoyed, conversation, day, esote...   \n",
       "4               368  [fired, another, silly, misconception, approac...   \n",
       "\n",
       "                                   joined_lemmatized  \n",
       "0  enfp intj moment sportscenter top ten play pra...  \n",
       "1  finding lack post alarming sex boring position...  \n",
       "2  good one course say know blessing curse absolu...  \n",
       "3  dear intp enjoyed conversation day esoteric ga...  \n",
       "4  fired another silly misconception approaching ...  "
      ]
     },
     "execution_count": 29,
     "metadata": {},
     "output_type": "execute_result"
    }
   ],
   "source": [
    "df_mbti.head()"
   ]
  },
  {
   "cell_type": "code",
   "execution_count": 31,
   "metadata": {},
   "outputs": [
    {
     "data": {
      "text/plain": [
       "Index(['type', 'posts', 'count_of_caps', 'count_of_exclamations',\n",
       "       'count_of_digits', 'count_of_emojis', 'tokenized', 'tokens_stopped',\n",
       "       'num_total_words', 'num_unique_words', 'lemmatized',\n",
       "       'joined_lemmatized'],\n",
       "      dtype='object')"
      ]
     },
     "execution_count": 31,
     "metadata": {},
     "output_type": "execute_result"
    }
   ],
   "source": [
    "df_mbti.columns"
   ]
  },
  {
   "cell_type": "code",
   "execution_count": 32,
   "metadata": {},
   "outputs": [],
   "source": [
    "df_mbti_dropped = df_mbti[['type','count_of_caps', 'count_of_exclamations','count_of_digits', \n",
    "                           'count_of_emojis', 'num_total_words', 'num_unique_words', \n",
    "                           'joined_lemmatized']]"
   ]
  },
  {
   "cell_type": "code",
   "execution_count": 33,
   "metadata": {},
   "outputs": [
    {
     "data": {
      "text/html": [
       "<div>\n",
       "<style scoped>\n",
       "    .dataframe tbody tr th:only-of-type {\n",
       "        vertical-align: middle;\n",
       "    }\n",
       "\n",
       "    .dataframe tbody tr th {\n",
       "        vertical-align: top;\n",
       "    }\n",
       "\n",
       "    .dataframe thead th {\n",
       "        text-align: right;\n",
       "    }\n",
       "</style>\n",
       "<table border=\"1\" class=\"dataframe\">\n",
       "  <thead>\n",
       "    <tr style=\"text-align: right;\">\n",
       "      <th></th>\n",
       "      <th>type</th>\n",
       "      <th>count_of_caps</th>\n",
       "      <th>count_of_exclamations</th>\n",
       "      <th>count_of_digits</th>\n",
       "      <th>count_of_emojis</th>\n",
       "      <th>num_total_words</th>\n",
       "      <th>num_unique_words</th>\n",
       "      <th>joined_lemmatized</th>\n",
       "    </tr>\n",
       "  </thead>\n",
       "  <tbody>\n",
       "    <tr>\n",
       "      <th>0</th>\n",
       "      <td>INFJ</td>\n",
       "      <td>153</td>\n",
       "      <td>3</td>\n",
       "      <td>109</td>\n",
       "      <td>33</td>\n",
       "      <td>307</td>\n",
       "      <td>257</td>\n",
       "      <td>enfp intj moment sportscenter top ten play pra...</td>\n",
       "    </tr>\n",
       "    <tr>\n",
       "      <th>1</th>\n",
       "      <td>ENTP</td>\n",
       "      <td>327</td>\n",
       "      <td>0</td>\n",
       "      <td>109</td>\n",
       "      <td>22</td>\n",
       "      <td>561</td>\n",
       "      <td>403</td>\n",
       "      <td>finding lack post alarming sex boring position...</td>\n",
       "    </tr>\n",
       "    <tr>\n",
       "      <th>2</th>\n",
       "      <td>INTP</td>\n",
       "      <td>169</td>\n",
       "      <td>4</td>\n",
       "      <td>94</td>\n",
       "      <td>14</td>\n",
       "      <td>432</td>\n",
       "      <td>342</td>\n",
       "      <td>good one course say know blessing curse absolu...</td>\n",
       "    </tr>\n",
       "    <tr>\n",
       "      <th>3</th>\n",
       "      <td>INTJ</td>\n",
       "      <td>253</td>\n",
       "      <td>3</td>\n",
       "      <td>33</td>\n",
       "      <td>2</td>\n",
       "      <td>522</td>\n",
       "      <td>374</td>\n",
       "      <td>dear intp enjoyed conversation day esoteric ga...</td>\n",
       "    </tr>\n",
       "    <tr>\n",
       "      <th>4</th>\n",
       "      <td>ENTJ</td>\n",
       "      <td>261</td>\n",
       "      <td>1</td>\n",
       "      <td>41</td>\n",
       "      <td>11</td>\n",
       "      <td>482</td>\n",
       "      <td>368</td>\n",
       "      <td>fired another silly misconception approaching ...</td>\n",
       "    </tr>\n",
       "  </tbody>\n",
       "</table>\n",
       "</div>"
      ],
      "text/plain": [
       "   type  count_of_caps  count_of_exclamations  count_of_digits  \\\n",
       "0  INFJ            153                      3              109   \n",
       "1  ENTP            327                      0              109   \n",
       "2  INTP            169                      4               94   \n",
       "3  INTJ            253                      3               33   \n",
       "4  ENTJ            261                      1               41   \n",
       "\n",
       "   count_of_emojis  num_total_words  num_unique_words  \\\n",
       "0               33              307               257   \n",
       "1               22              561               403   \n",
       "2               14              432               342   \n",
       "3                2              522               374   \n",
       "4               11              482               368   \n",
       "\n",
       "                                   joined_lemmatized  \n",
       "0  enfp intj moment sportscenter top ten play pra...  \n",
       "1  finding lack post alarming sex boring position...  \n",
       "2  good one course say know blessing curse absolu...  \n",
       "3  dear intp enjoyed conversation day esoteric ga...  \n",
       "4  fired another silly misconception approaching ...  "
      ]
     },
     "execution_count": 33,
     "metadata": {},
     "output_type": "execute_result"
    }
   ],
   "source": [
    "df_mbti_dropped.head()"
   ]
  },
  {
   "cell_type": "code",
   "execution_count": 34,
   "metadata": {},
   "outputs": [],
   "source": [
    "df_mbti_dropped.to_csv('master_df.csv')"
   ]
  },
  {
   "cell_type": "code",
   "execution_count": 35,
   "metadata": {},
   "outputs": [
    {
     "data": {
      "text/plain": [
       "['enfp',\n",
       " 'intj',\n",
       " 'moment',\n",
       " 'sportscenter',\n",
       " 'top',\n",
       " 'ten',\n",
       " 'play',\n",
       " 'prankswhat',\n",
       " 'life',\n",
       " 'changing',\n",
       " 'experience',\n",
       " 'life',\n",
       " 'repeat',\n",
       " 'today',\n",
       " 'may',\n",
       " 'perc',\n",
       " 'experience',\n",
       " 'immerse',\n",
       " 'last',\n",
       " 'thing',\n",
       " 'infj',\n",
       " 'friend',\n",
       " 'posted',\n",
       " 'facebook',\n",
       " 'committing',\n",
       " 'suicide',\n",
       " 'next',\n",
       " 'day',\n",
       " 'rest',\n",
       " 'peace',\n",
       " 'hello',\n",
       " 'enfj',\n",
       " 'sorry',\n",
       " 'hear',\n",
       " 'distress',\n",
       " 'natural',\n",
       " 'relationship',\n",
       " 'perfection',\n",
       " 'time',\n",
       " 'every',\n",
       " 'moment',\n",
       " 'existence',\n",
       " 'try',\n",
       " 'figure',\n",
       " 'hard',\n",
       " 'time',\n",
       " 'time',\n",
       " 'growth',\n",
       " 'welcome',\n",
       " 'stuff',\n",
       " 'game',\n",
       " 'set',\n",
       " 'match',\n",
       " 'prozac',\n",
       " 'wellbrutin',\n",
       " 'least',\n",
       " 'thirty',\n",
       " 'minute',\n",
       " 'moving',\n",
       " 'leg',\n",
       " 'mean',\n",
       " 'moving',\n",
       " 'sitting',\n",
       " 'desk',\n",
       " 'chair',\n",
       " 'weed',\n",
       " 'moderation',\n",
       " 'maybe',\n",
       " 'try',\n",
       " 'edible',\n",
       " 'healthier',\n",
       " 'alternative',\n",
       " 'basically',\n",
       " 'come',\n",
       " 'three',\n",
       " 'item',\n",
       " 'determined',\n",
       " 'type',\n",
       " 'whichever',\n",
       " 'type',\n",
       " 'want',\n",
       " 'would',\n",
       " 'likely',\n",
       " 'use',\n",
       " 'given',\n",
       " 'type',\n",
       " 'cognitive',\n",
       " 'function',\n",
       " 'whatnot',\n",
       " 'left',\n",
       " 'thing',\n",
       " 'moderation',\n",
       " 'sims',\n",
       " 'indeed',\n",
       " 'video',\n",
       " 'game',\n",
       " 'good',\n",
       " 'one',\n",
       " 'note',\n",
       " 'good',\n",
       " 'one',\n",
       " 'somewhat',\n",
       " 'subjective',\n",
       " 'completely',\n",
       " 'promoting',\n",
       " 'death',\n",
       " 'given',\n",
       " 'sim',\n",
       " 'dear',\n",
       " 'enfp',\n",
       " 'favorite',\n",
       " 'video',\n",
       " 'game',\n",
       " 'growing',\n",
       " 'current',\n",
       " 'favorite',\n",
       " 'video',\n",
       " 'game',\n",
       " 'cool',\n",
       " 'appears',\n",
       " 'late',\n",
       " 'sad',\n",
       " 'someone',\n",
       " 'everyone',\n",
       " 'wait',\n",
       " 'thought',\n",
       " 'confidence',\n",
       " 'good',\n",
       " 'thing',\n",
       " 'cherish',\n",
       " 'time',\n",
       " 'solitude',\n",
       " 'b',\n",
       " 'c',\n",
       " 'revel',\n",
       " 'within',\n",
       " 'inner',\n",
       " 'world',\n",
       " 'whereas',\n",
       " 'time',\n",
       " 'workin',\n",
       " 'enjoy',\n",
       " 'time',\n",
       " 'worry',\n",
       " 'people',\n",
       " 'always',\n",
       " 'around',\n",
       " 'yo',\n",
       " 'entp',\n",
       " 'lady',\n",
       " 'complimentary',\n",
       " 'personality',\n",
       " 'well',\n",
       " 'hey',\n",
       " 'main',\n",
       " 'social',\n",
       " 'outlet',\n",
       " 'xbox',\n",
       " 'live',\n",
       " 'conversation',\n",
       " 'even',\n",
       " 'verbally',\n",
       " 'fatigue',\n",
       " 'quickly',\n",
       " 'really',\n",
       " 'dig',\n",
       " 'part',\n",
       " 'banned',\n",
       " 'thread',\n",
       " 'requires',\n",
       " 'get',\n",
       " 'high',\n",
       " 'backyard',\n",
       " 'roast',\n",
       " 'eat',\n",
       " 'marshmellows',\n",
       " 'backyard',\n",
       " 'conversing',\n",
       " 'something',\n",
       " 'intellectual',\n",
       " 'followed',\n",
       " 'massage',\n",
       " 'kiss',\n",
       " 'banned',\n",
       " 'many',\n",
       " 'b',\n",
       " 'sentence',\n",
       " 'could',\n",
       " 'think',\n",
       " 'b',\n",
       " 'banned',\n",
       " 'watching',\n",
       " 'movie',\n",
       " 'corner',\n",
       " 'dunce',\n",
       " 'banned',\n",
       " 'health',\n",
       " 'class',\n",
       " 'clearly',\n",
       " 'taught',\n",
       " 'nothing',\n",
       " 'peer',\n",
       " 'pressure',\n",
       " 'banned',\n",
       " 'whole',\n",
       " 'host',\n",
       " 'reason',\n",
       " 'two',\n",
       " 'baby',\n",
       " 'deer',\n",
       " 'left',\n",
       " 'right',\n",
       " 'munching',\n",
       " 'beetle',\n",
       " 'middle',\n",
       " 'using',\n",
       " 'blood',\n",
       " 'two',\n",
       " 'caveman',\n",
       " 'diary',\n",
       " 'today',\n",
       " 'latest',\n",
       " 'happening',\n",
       " 'designated',\n",
       " 'cave',\n",
       " 'diary',\n",
       " 'wall',\n",
       " 'see',\n",
       " 'pokemon',\n",
       " 'world',\n",
       " 'infj',\n",
       " 'society',\n",
       " 'everyone',\n",
       " 'becomes',\n",
       " 'optimistnot',\n",
       " 'artist',\n",
       " 'artist',\n",
       " 'draw',\n",
       " 'idea',\n",
       " 'count',\n",
       " 'forming',\n",
       " 'something',\n",
       " 'like',\n",
       " 'signature',\n",
       " 'welcome',\n",
       " 'robot',\n",
       " 'rank',\n",
       " 'person',\n",
       " 'downed',\n",
       " 'self',\n",
       " 'esteem',\n",
       " 'cuz',\n",
       " 'avid',\n",
       " 'signature',\n",
       " 'artist',\n",
       " 'like',\n",
       " 'proud',\n",
       " 'banned',\n",
       " 'taking',\n",
       " 'room',\n",
       " 'bed',\n",
       " 'ya',\n",
       " 'gotta',\n",
       " 'learn',\n",
       " 'share',\n",
       " 'roach',\n",
       " 'banned',\n",
       " 'much',\n",
       " 'thundering',\n",
       " 'grumbling',\n",
       " 'kind',\n",
       " 'storm',\n",
       " 'yep',\n",
       " 'ahh',\n",
       " 'old',\n",
       " 'high',\n",
       " 'school',\n",
       " 'music',\n",
       " 'heard',\n",
       " 'age',\n",
       " 'failed',\n",
       " 'public',\n",
       " 'speaking',\n",
       " 'class',\n",
       " 'year',\n",
       " 'ago',\n",
       " 'sort',\n",
       " 'learned',\n",
       " 'could',\n",
       " 'better',\n",
       " 'position',\n",
       " 'big',\n",
       " 'part',\n",
       " 'failure',\n",
       " 'overloading',\n",
       " 'like',\n",
       " 'person',\n",
       " 'mentality',\n",
       " 'confirmed',\n",
       " 'intj',\n",
       " 'way',\n",
       " 'move',\n",
       " 'denver',\n",
       " 'area',\n",
       " 'start',\n",
       " 'new',\n",
       " 'life',\n",
       " 'finding',\n",
       " 'lack',\n",
       " 'post',\n",
       " 'alarming',\n",
       " 'sex',\n",
       " 'boring',\n",
       " 'position',\n",
       " 'often',\n",
       " 'example',\n",
       " 'girlfriend',\n",
       " 'currently',\n",
       " 'environment',\n",
       " 'creatively',\n",
       " 'use',\n",
       " 'cowgirl',\n",
       " 'missionary',\n",
       " 'enough',\n",
       " 'giving',\n",
       " 'new',\n",
       " 'meaning',\n",
       " 'game',\n",
       " 'theory',\n",
       " 'hello',\n",
       " 'entp',\n",
       " 'grin',\n",
       " 'take',\n",
       " 'converse',\n",
       " 'flirting',\n",
       " 'acknowledge',\n",
       " 'presence',\n",
       " 'return',\n",
       " 'word',\n",
       " 'smooth',\n",
       " 'wordplay',\n",
       " 'cheeky',\n",
       " 'grin',\n",
       " 'lack',\n",
       " 'balance',\n",
       " 'hand',\n",
       " 'eye',\n",
       " 'coordination',\n",
       " 'real',\n",
       " 'iq',\n",
       " 'test',\n",
       " 'score',\n",
       " 'internet',\n",
       " 'iq',\n",
       " 'test',\n",
       " 'funny',\n",
       " 'score',\n",
       " 'higher',\n",
       " 'like',\n",
       " 'former',\n",
       " 'response',\n",
       " 'thread',\n",
       " 'mention',\n",
       " 'believe',\n",
       " 'iq',\n",
       " 'test',\n",
       " 'banish',\n",
       " 'know',\n",
       " 'entp',\n",
       " 'vanish',\n",
       " 'site',\n",
       " 'year',\n",
       " 'half',\n",
       " 'return',\n",
       " 'find',\n",
       " 'people',\n",
       " 'still',\n",
       " 'commenting',\n",
       " 'post',\n",
       " 'liking',\n",
       " 'idea',\n",
       " 'thought',\n",
       " 'know',\n",
       " 'entp',\n",
       " 'think',\n",
       " 'thing',\n",
       " 'sometimes',\n",
       " 'go',\n",
       " 'old',\n",
       " 'sherlock',\n",
       " 'holmes',\n",
       " 'quote',\n",
       " 'perhaps',\n",
       " 'man',\n",
       " 'special',\n",
       " 'knowledge',\n",
       " 'special',\n",
       " 'power',\n",
       " 'like',\n",
       " 'rather',\n",
       " 'encourages',\n",
       " 'seek',\n",
       " 'complex',\n",
       " 'cheshirewolf',\n",
       " 'tumblr',\n",
       " 'com',\n",
       " 'postnot',\n",
       " 'really',\n",
       " 'never',\n",
       " 'thought',\n",
       " 'e',\n",
       " 'j',\n",
       " 'p',\n",
       " 'real',\n",
       " 'function',\n",
       " 'judge',\n",
       " 'use',\n",
       " 'use',\n",
       " 'ne',\n",
       " 'ti',\n",
       " 'dominates',\n",
       " 'fe',\n",
       " 'emotion',\n",
       " 'rarely',\n",
       " 'si',\n",
       " 'also',\n",
       " 'use',\n",
       " 'ni',\n",
       " 'due',\n",
       " 'strength',\n",
       " 'know',\n",
       " 'though',\n",
       " 'ingenious',\n",
       " 'saying',\n",
       " 'really',\n",
       " 'want',\n",
       " 'try',\n",
       " 'see',\n",
       " 'happens',\n",
       " 'playing',\n",
       " 'first',\n",
       " 'person',\n",
       " 'shooter',\n",
       " 'back',\n",
       " 'drive',\n",
       " 'around',\n",
       " 'want',\n",
       " 'see',\n",
       " 'look',\n",
       " 'rock',\n",
       " 'paper',\n",
       " 'one',\n",
       " 'best',\n",
       " 'make',\n",
       " 'lol',\n",
       " 'guy',\n",
       " 'lucky',\n",
       " 'really',\n",
       " 'high',\n",
       " 'tumblr',\n",
       " 'system',\n",
       " 'hear',\n",
       " 'new',\n",
       " 'first',\n",
       " 'person',\n",
       " 'shooter',\n",
       " 'game',\n",
       " 'rocking',\n",
       " 'hell',\n",
       " 'soundtrack',\n",
       " 'auto',\n",
       " 'sound',\n",
       " 'equipment',\n",
       " 'shake',\n",
       " 'heaven',\n",
       " 'managed',\n",
       " 'put',\n",
       " 'couple',\n",
       " 'p',\n",
       " 'way',\n",
       " 'connected',\n",
       " 'thing',\n",
       " 'ne',\n",
       " 'ne',\n",
       " 'dominates',\n",
       " 'aware',\n",
       " 'environment',\n",
       " 'se',\n",
       " 'dominates',\n",
       " 'example',\n",
       " 'shawn',\n",
       " 'spencer',\n",
       " 'patrick',\n",
       " 'jane',\n",
       " 'entps',\n",
       " 'well',\n",
       " 'charlie',\n",
       " 'first',\n",
       " 'admit',\n",
       " 'get',\n",
       " 'jealous',\n",
       " 'like',\n",
       " 'chalk',\n",
       " 'w',\n",
       " 'heart',\n",
       " 'mixed',\n",
       " 'dominate',\n",
       " 'w',\n",
       " 'like',\n",
       " 'noticed',\n",
       " 'like',\n",
       " 'known',\n",
       " 'upload',\n",
       " 'clip',\n",
       " 'mic',\n",
       " 'away',\n",
       " 'mouth',\n",
       " 'hear',\n",
       " 'anything',\n",
       " 'ninja',\n",
       " 'assassin',\n",
       " 'style',\n",
       " 'splatter',\n",
       " 'tik',\n",
       " 'tok',\n",
       " 'really',\n",
       " 'great',\n",
       " 'song',\n",
       " 'long',\n",
       " 'mental',\n",
       " 'block',\n",
       " 'singer',\n",
       " 'love',\n",
       " 'beat',\n",
       " 'make',\n",
       " 'bounce',\n",
       " 'drop',\n",
       " 'io',\n",
       " 'vswck',\n",
       " 'mic',\n",
       " 'really',\n",
       " 'close',\n",
       " 'mouth',\n",
       " 'smokin',\n",
       " 'ace',\n",
       " 'assassin',\n",
       " 'ball',\n",
       " 'playing',\n",
       " 'background',\n",
       " 'sociable',\n",
       " 'extrovert',\n",
       " 'extrovert',\n",
       " 'sociable',\n",
       " 'sherlock',\n",
       " 'movie',\n",
       " 'entp',\n",
       " 'normally',\n",
       " 'played',\n",
       " 'extj',\n",
       " 'book',\n",
       " 'estj',\n",
       " 'said',\n",
       " 'movie',\n",
       " 'looked',\n",
       " 'good',\n",
       " 'except',\n",
       " 'called',\n",
       " 'sherlock',\n",
       " 'holmes',\n",
       " 'oh',\n",
       " 'never',\n",
       " 'fear',\n",
       " 'kissing',\n",
       " 'guy',\n",
       " 'kiss',\n",
       " 'animal',\n",
       " 'nothing',\n",
       " 'vanish',\n",
       " 'personal',\n",
       " 'taste',\n",
       " 'liking',\n",
       " 'guy',\n",
       " 'kissed',\n",
       " 'know',\n",
       " 'one',\n",
       " 'sound',\n",
       " 'pretty',\n",
       " 'much',\n",
       " 'like',\n",
       " 'area',\n",
       " 'going',\n",
       " 'right',\n",
       " 'trying',\n",
       " 'figure',\n",
       " 'way',\n",
       " 'want',\n",
       " 'take',\n",
       " 'life',\n",
       " 'want',\n",
       " 'many',\n",
       " 'thing',\n",
       " 'biggest',\n",
       " 'problem',\n",
       " 'know',\n",
       " 'operating',\n",
       " 'impression',\n",
       " 'female',\n",
       " 'never',\n",
       " 'looked',\n",
       " 'boxy',\n",
       " 'okay',\n",
       " 'help',\n",
       " 'gay',\n",
       " 'friend',\n",
       " 'time',\n",
       " 'one',\n",
       " 'developed',\n",
       " 'little',\n",
       " 'crush',\n",
       " 'get',\n",
       " 'red',\n",
       " 'tt',\n",
       " 'described',\n",
       " 'living',\n",
       " 'worst',\n",
       " 'nightmare',\n",
       " 'trapped',\n",
       " 'one',\n",
       " 'place',\n",
       " 'one',\n",
       " 'one',\n",
       " 'around',\n",
       " 'dull',\n",
       " 'wood',\n",
       " 'serial',\n",
       " 'killer',\n",
       " 'would',\n",
       " 'perfect',\n",
       " 'place',\n",
       " 'sadly',\n",
       " 'tbh',\n",
       " 'biased',\n",
       " 'sound',\n",
       " 'like',\n",
       " 'shadowed',\n",
       " 'infp',\n",
       " 'think',\n",
       " 'maybe',\n",
       " 'hurt',\n",
       " 'turned',\n",
       " 'estj',\n",
       " 'tell',\n",
       " 'typical',\n",
       " 'infp',\n",
       " 'trait',\n",
       " 'left',\n",
       " 'check',\n",
       " 'list',\n",
       " 'sorry',\n",
       " 'seems',\n",
       " 'came',\n",
       " 'bad',\n",
       " 'time',\n",
       " 'already',\n",
       " 'reached',\n",
       " 'quota',\n",
       " 'infjs',\n",
       " 'however',\n",
       " 'female',\n",
       " 'like',\n",
       " 'female',\n",
       " 'make',\n",
       " 'deal',\n",
       " 'kick',\n",
       " 'one',\n",
       " 'antp',\n",
       " 'leaning',\n",
       " 'toward',\n",
       " 'e',\n",
       " 'easy',\n",
       " 'entps',\n",
       " 'intps',\n",
       " 'identify',\n",
       " 'also',\n",
       " 'imagine',\n",
       " 'entp',\n",
       " 'interrogation',\n",
       " 'would',\n",
       " 'go',\n",
       " 'little',\n",
       " 'bit',\n",
       " 'like',\n",
       " 'jack',\n",
       " 'except',\n",
       " 'mechanical',\n",
       " 'rigging',\n",
       " 'shock',\n",
       " 'treatment',\n",
       " 'equipment',\n",
       " 'abandoned',\n",
       " 'building',\n",
       " 'old',\n",
       " 'car',\n",
       " 'batty',\n",
       " 'jumper',\n",
       " 'compliment',\n",
       " 'trust',\n",
       " 'psychopathic',\n",
       " 'except',\n",
       " 'emoticon',\n",
       " 'weird',\n",
       " 'one',\n",
       " 'like',\n",
       " 'laughing',\n",
       " 'get',\n",
       " 'hurt',\n",
       " 'people',\n",
       " 'running',\n",
       " 'lawn',\n",
       " 'mower',\n",
       " 'like',\n",
       " 'theme',\n",
       " 'live',\n",
       " 'know',\n",
       " 'heart',\n",
       " 'usual',\n",
       " 'leave',\n",
       " 'thing',\n",
       " 'end',\n",
       " 'mean',\n",
       " 'time',\n",
       " 'time',\n",
       " 'work',\n",
       " 'thing',\n",
       " 'work',\n",
       " 'mine',\n",
       " 'mbp',\n",
       " 'pleasure',\n",
       " 'meet',\n",
       " 'damn',\n",
       " 'need',\n",
       " 'trust',\n",
       " 'instinct',\n",
       " 'would',\n",
       " 'closer',\n",
       " 'going',\n",
       " 'say',\n",
       " 'infp',\n",
       " 'exfp',\n",
       " 'leaning',\n",
       " 'toward',\n",
       " 'way',\n",
       " 'responded',\n",
       " 'friend',\n",
       " 'even',\n",
       " 'gay',\n",
       " 'lesbian',\n",
       " 'one',\n",
       " 'always',\n",
       " 'come',\n",
       " 'advice',\n",
       " 'bow',\n",
       " 'entp',\n",
       " 'master',\n",
       " 'entps',\n",
       " 'great',\n",
       " 'entps',\n",
       " 'able',\n",
       " 'build',\n",
       " 'building',\n",
       " 'duck',\n",
       " 'duck',\n",
       " 'duck',\n",
       " 'shotgunwhat',\n",
       " 'never',\n",
       " 'hard',\n",
       " 'sad',\n",
       " 'losing',\n",
       " 'someone',\n",
       " 'like',\n",
       " 'knew',\n",
       " 'right',\n",
       " 'give',\n",
       " 'big',\n",
       " 'pat',\n",
       " 'back',\n",
       " 'awesome',\n",
       " 'always',\n",
       " 'correct',\n",
       " 'oh',\n",
       " 'tell',\n",
       " 'stupid',\n",
       " 'know',\n",
       " 'play',\n",
       " 'make',\n",
       " 'laugh',\n",
       " 'going',\n",
       " 'take',\n",
       " 'neuropsychology',\n",
       " 'psychologist',\n",
       " 'nightowl',\n",
       " 'wake',\n",
       " 'pm',\n",
       " 'stay',\n",
       " 'awake',\n",
       " 'till',\n",
       " 'personal',\n",
       " 'opinion',\n",
       " 'backed',\n",
       " 'theory',\n",
       " 'would',\n",
       " 'suggest',\n",
       " 'intps',\n",
       " 'socially',\n",
       " 'difficult',\n",
       " 'intjs',\n",
       " 'socially',\n",
       " 'indifferent',\n",
       " 'also',\n",
       " 'use',\n",
       " 'social',\n",
       " 'situation',\n",
       " 'need',\n",
       " 'arises',\n",
       " 'personal',\n",
       " 'stock',\n",
       " 'desktop',\n",
       " 'downloaded',\n",
       " 'random',\n",
       " 'stock',\n",
       " 'site',\n",
       " 'stock',\n",
       " 'photobuckets',\n",
       " 'tell',\n",
       " 'open',\n",
       " 'photoshop',\n",
       " 'glad',\n",
       " 'like',\n",
       " 'static',\n",
       " 'thanks',\n",
       " 'made',\n",
       " 'friend',\n",
       " 'several',\n",
       " 'hour',\n",
       " 'work',\n",
       " 'constructed',\n",
       " 'every',\n",
       " 'line',\n",
       " 'static',\n",
       " 'get',\n",
       " 'avatar',\n",
       " 'later',\n",
       " 'one',\n",
       " 'fellow',\n",
       " 'teammate',\n",
       " 'psychologist',\n",
       " 'keep',\n",
       " 'around',\n",
       " 'long',\n",
       " 'enough',\n",
       " 'diagnosis',\n",
       " 'like',\n",
       " 'toy',\n",
       " 'diagnosis',\n",
       " 'psychologist',\n",
       " 'friend',\n",
       " 'friend',\n",
       " 'tell',\n",
       " 'good',\n",
       " 'one',\n",
       " 'course',\n",
       " 'say',\n",
       " 'know',\n",
       " 'blessing',\n",
       " 'curse',\n",
       " 'absolutely',\n",
       " 'positive',\n",
       " 'best',\n",
       " 'friend',\n",
       " 'could',\n",
       " 'amazing',\n",
       " 'couple',\n",
       " 'count',\n",
       " 'yes',\n",
       " 'could',\n",
       " 'madly',\n",
       " 'love',\n",
       " 'case',\n",
       " 'reconciled',\n",
       " 'feeling',\n",
       " 'thank',\n",
       " 'link',\n",
       " 'called',\n",
       " 'ti',\n",
       " 'si',\n",
       " 'loop',\n",
       " 'stem',\n",
       " 'current',\n",
       " 'topic',\n",
       " 'obsession',\n",
       " 'deadly',\n",
       " 'like',\n",
       " 'stuck',\n",
       " 'thought',\n",
       " 'mind',\n",
       " 'wanders',\n",
       " 'circle',\n",
       " 'feel',\n",
       " 'truly',\n",
       " 'terrible',\n",
       " 'noticed',\n",
       " 'peculiar',\n",
       " 'vegetation',\n",
       " 'look',\n",
       " 'grass',\n",
       " 'dozen',\n",
       " 'different',\n",
       " 'plant',\n",
       " 'specie',\n",
       " 'imagine',\n",
       " 'hundred',\n",
       " 'year',\n",
       " 'later',\n",
       " 'soil',\n",
       " 'smith',\n",
       " 'never',\n",
       " 'one',\n",
       " 'everi',\n",
       " 'often',\n",
       " 'find',\n",
       " 'spotting',\n",
       " 'face',\n",
       " 'marble',\n",
       " 'tile',\n",
       " 'wood',\n",
       " 'year',\n",
       " 'old',\n",
       " 'sentence',\n",
       " 'incredibly',\n",
       " 'accurate',\n",
       " 'beautiful',\n",
       " 'description',\n",
       " 'visited',\n",
       " 'website',\n",
       " 'last',\n",
       " 'year',\n",
       " 'whoever',\n",
       " 'read',\n",
       " 'maybe',\n",
       " 'even',\n",
       " 'remembers',\n",
       " 'highly',\n",
       " 'doubt',\n",
       " 'hi',\n",
       " 'sit',\n",
       " 'garden',\n",
       " 'pm',\n",
       " 'writing',\n",
       " 'song',\n",
       " 'sing',\n",
       " 'together',\n",
       " 'dozen',\n",
       " 'cricket',\n",
       " 'playing',\n",
       " 'acoustic',\n",
       " 'guitar',\n",
       " 'intp',\n",
       " 'ish',\n",
       " 'thread',\n",
       " 'ever',\n",
       " 'seen',\n",
       " 'able',\n",
       " 'look',\n",
       " 'painting',\n",
       " 'entire',\n",
       " 'life',\n",
       " 'knew',\n",
       " 'picked',\n",
       " 'human',\n",
       " 'drawing',\n",
       " 'background',\n",
       " 'animation',\n",
       " 'working',\n",
       " 'right',\n",
       " 'mar',\n",
       " 'felt',\n",
       " 'obligated',\n",
       " 'make',\n",
       " 'mark',\n",
       " 'watneyxs',\n",
       " 'postcard',\n",
       " 'read',\n",
       " 'book',\n",
       " 'started',\n",
       " 'make',\n",
       " 'comic',\n",
       " 'turtle',\n",
       " 'gordon',\n",
       " 'unicorn',\n",
       " 'chime',\n",
       " ...]"
      ]
     },
     "execution_count": 35,
     "metadata": {},
     "output_type": "execute_result"
    }
   ],
   "source": [
    "all_lemmatized_posts=[]\n",
    "for x in df_mbti.lemmatized:\n",
    "    all_lemmatized_posts.extend(x)\n",
    "    \n",
    "all_lemmatized_posts"
   ]
  },
  {
   "cell_type": "code",
   "execution_count": 36,
   "metadata": {},
   "outputs": [],
   "source": [
    "from  nltk import FreqDist\n",
    "freqdist = FreqDist(all_lemmatized_posts)\n",
    "\n",
    "# get the 200 most common words \n",
    "most_common = freqdist.most_common(200)"
   ]
  },
  {
   "cell_type": "code",
   "execution_count": 37,
   "metadata": {},
   "outputs": [
    {
     "data": {
      "text/plain": [
       "[('like', 71077),\n",
       " ('think', 50948),\n",
       " ('people', 48145),\n",
       " ('one', 40171),\n",
       " ('know', 38284),\n",
       " ('really', 35257),\n",
       " ('would', 34996),\n",
       " ('thing', 34553),\n",
       " ('time', 33622),\n",
       " ('get', 33333),\n",
       " ('feel', 25712),\n",
       " ('type', 24019),\n",
       " ('make', 23643),\n",
       " ('much', 23067),\n",
       " ('say', 22693),\n",
       " ('well', 22591),\n",
       " ('friend', 22132),\n",
       " ('way', 21759),\n",
       " ('love', 21739),\n",
       " ('want', 21194),\n",
       " ('good', 20722),\n",
       " ('see', 19532),\n",
       " ('something', 19486),\n",
       " ('also', 18286),\n",
       " ('lot', 18181),\n",
       " ('go', 17439),\n",
       " ('even', 16902),\n",
       " ('always', 16796),\n",
       " ('life', 16462),\n",
       " ('someone', 16231),\n",
       " ('could', 15275),\n",
       " ('never', 15231),\n",
       " ('though', 14557),\n",
       " ('find', 14387),\n",
       " ('year', 14360),\n",
       " ('thought', 13967),\n",
       " ('need', 13577),\n",
       " ('actually', 13168),\n",
       " ('infp', 13123),\n",
       " ('person', 13008),\n",
       " ('work', 12891),\n",
       " ('right', 12886),\n",
       " ('going', 12711),\n",
       " ('first', 12618),\n",
       " ('sure', 12570),\n",
       " ('pretty', 12310),\n",
       " ('yes', 12069),\n",
       " ('infj', 12048),\n",
       " ('mean', 12028),\n",
       " ('feeling', 11605),\n",
       " ('intj', 11579),\n",
       " ('take', 11521),\n",
       " ('day', 11516),\n",
       " ('come', 11298),\n",
       " ('guy', 11208),\n",
       " ('still', 10986),\n",
       " ('post', 10859),\n",
       " ('thread', 10610),\n",
       " ('look', 10543),\n",
       " ('said', 10543),\n",
       " ('many', 10370),\n",
       " ('got', 10294),\n",
       " ('intp', 10179),\n",
       " ('read', 9948),\n",
       " ('sometimes', 9763),\n",
       " ('try', 9726),\n",
       " ('probably', 9645),\n",
       " ('u', 9602),\n",
       " ('around', 9503),\n",
       " ('maybe', 9494),\n",
       " ('best', 9385),\n",
       " ('kind', 9226),\n",
       " ('back', 9202),\n",
       " ('relationship', 9042),\n",
       " ('question', 8959),\n",
       " ('anything', 8950),\n",
       " ('point', 8617),\n",
       " ('little', 8612),\n",
       " ('enfp', 8530),\n",
       " ('long', 8443),\n",
       " ('usually', 8362),\n",
       " ('better', 8342),\n",
       " ('two', 8320),\n",
       " ('sound', 8297),\n",
       " ('idea', 8261),\n",
       " ('yeah', 8122),\n",
       " ('world', 8121),\n",
       " ('different', 8060),\n",
       " ('might', 8012),\n",
       " ('ever', 7860),\n",
       " ('tell', 7821),\n",
       " ('seems', 7820),\n",
       " ('mind', 7794),\n",
       " ('help', 7789),\n",
       " ('give', 7776),\n",
       " ('others', 7735),\n",
       " ('understand', 7687),\n",
       " ('everyone', 7652),\n",
       " ('since', 7642),\n",
       " ('thinking', 7622),\n",
       " ('bit', 7567),\n",
       " ('thanks', 7557),\n",
       " ('problem', 7528),\n",
       " ('lol', 7524),\n",
       " ('may', 7491),\n",
       " ('hard', 7392),\n",
       " ('trying', 7367),\n",
       " ('quite', 7367),\n",
       " ('agree', 7366),\n",
       " ('talk', 7279),\n",
       " ('guess', 7270),\n",
       " ('entp', 7259),\n",
       " ('oh', 7253),\n",
       " ('school', 7226),\n",
       " ('w', 7221),\n",
       " ('new', 7182),\n",
       " ('great', 7110),\n",
       " ('made', 7077),\n",
       " ('let', 6999),\n",
       " ('every', 6984),\n",
       " ('personality', 6863),\n",
       " ('use', 6851),\n",
       " ('function', 6830),\n",
       " ('thank', 6822),\n",
       " ('believe', 6796),\n",
       " ('bad', 6790),\n",
       " ('everything', 6764),\n",
       " ('definitely', 6750),\n",
       " ('interesting', 6721),\n",
       " ('happy', 6687),\n",
       " ('reason', 6648),\n",
       " ('part', 6640),\n",
       " ('used', 6589),\n",
       " ('often', 6572),\n",
       " ('seem', 6526),\n",
       " ('experience', 6413),\n",
       " ('last', 6367),\n",
       " ('word', 6277),\n",
       " ('anyone', 6198),\n",
       " ('test', 6143),\n",
       " ('keep', 6033),\n",
       " ('hate', 6010),\n",
       " ('another', 5986),\n",
       " ('girl', 5935),\n",
       " ('forum', 5867),\n",
       " ('enough', 5800),\n",
       " ('put', 5787),\n",
       " ('else', 5743),\n",
       " ('care', 5735),\n",
       " ('talking', 5681),\n",
       " ('getting', 5641),\n",
       " ('sense', 5557),\n",
       " ('true', 5545),\n",
       " ('least', 5539),\n",
       " ('mbti', 5518),\n",
       " ('tend', 5502),\n",
       " ('self', 5400),\n",
       " ('book', 5382),\n",
       " ('nice', 5367),\n",
       " ('start', 5334),\n",
       " ('answer', 5331),\n",
       " ('either', 5257),\n",
       " ('nothing', 5222),\n",
       " ('stuff', 5191),\n",
       " ('without', 5184),\n",
       " ('high', 5171),\n",
       " ('sorry', 5129),\n",
       " ('music', 5121),\n",
       " ('reading', 5101),\n",
       " ('found', 5099),\n",
       " ('fe', 5050),\n",
       " ('situation', 5029),\n",
       " ('wrong', 5020),\n",
       " ('especially', 4984),\n",
       " ('fi', 4950),\n",
       " ('place', 4948),\n",
       " ('fun', 4937),\n",
       " ('show', 4903),\n",
       " ('fact', 4870),\n",
       " ('welcome', 4814),\n",
       " ('however', 4797),\n",
       " ('end', 4795),\n",
       " ('istj', 4748),\n",
       " ('far', 4737),\n",
       " ('rather', 4699),\n",
       " ('ask', 4681),\n",
       " ('real', 4680),\n",
       " ('social', 4667),\n",
       " ('haha', 4663),\n",
       " ('p', 4620),\n",
       " ('looking', 4617),\n",
       " ('woman', 4599),\n",
       " ('game', 4594),\n",
       " ('saying', 4584),\n",
       " ('change', 4564),\n",
       " ('live', 4558),\n",
       " ('almost', 4498),\n",
       " ('old', 4492),\n",
       " ('done', 4491),\n",
       " ('enjoy', 4486)]"
      ]
     },
     "execution_count": 37,
     "metadata": {},
     "output_type": "execute_result"
    }
   ],
   "source": [
    "most_common"
   ]
  },
  {
   "cell_type": "code",
   "execution_count": 38,
   "metadata": {},
   "outputs": [
    {
     "data": {
      "text/plain": [
       "112320"
      ]
     },
     "execution_count": 38,
     "metadata": {},
     "output_type": "execute_result"
    }
   ],
   "source": [
    "len(freqdist)"
   ]
  },
  {
   "cell_type": "markdown",
   "metadata": {},
   "source": [
    "# Modeling"
   ]
  },
  {
   "cell_type": "code",
   "execution_count": 39,
   "metadata": {},
   "outputs": [],
   "source": [
    "# train-test-split data\n",
    "x = df_mbti.joined_lemmatized\n",
    "y = df_mbti.type\n",
    "x_train, x_test, y_train, y_test = train_test_split(x, \n",
    "                                                    y, \n",
    "                                                    test_size = 0.2, \n",
    "                                                    shuffle = True, \n",
    "                                                    random_state = 10, \n",
    "                                                    stratify = y)\n"
   ]
  },
  {
   "cell_type": "code",
   "execution_count": 40,
   "metadata": {},
   "outputs": [],
   "source": [
    "# vectorize x_train and x_test\n",
    "vectorizer = TfidfVectorizer()\n",
    "tfidf_x_train = vectorizer.fit_transform(x_train)\n",
    "tfidf_x_test = vectorizer.transform(x_test)"
   ]
  },
  {
   "cell_type": "code",
   "execution_count": 41,
   "metadata": {},
   "outputs": [
    {
     "data": {
      "text/plain": [
       "(6940, 98488)"
      ]
     },
     "execution_count": 41,
     "metadata": {},
     "output_type": "execute_result"
    }
   ],
   "source": [
    "tfidf_x_train.shape"
   ]
  },
  {
   "cell_type": "code",
   "execution_count": 42,
   "metadata": {},
   "outputs": [
    {
     "data": {
      "text/plain": [
       "(1735, 98488)"
      ]
     },
     "execution_count": 42,
     "metadata": {},
     "output_type": "execute_result"
    }
   ],
   "source": [
    "tfidf_x_test.shape"
   ]
  },
  {
   "cell_type": "markdown",
   "metadata": {},
   "source": [
    "## Baseline model - Naive Bayes Classifier"
   ]
  },
  {
   "cell_type": "code",
   "execution_count": 43,
   "metadata": {},
   "outputs": [],
   "source": [
    "# initiate model_summary list\n",
    "models_summary = []"
   ]
  },
  {
   "cell_type": "code",
   "execution_count": 44,
   "metadata": {},
   "outputs": [],
   "source": [
    "from sklearn.pipeline import Pipeline\n",
    "from sklearn.feature_extraction.text import CountVectorizer, TfidfTransformer\n",
    "from sklearn.naive_bayes import MultinomialNB\n",
    "from sklearn import metrics"
   ]
  },
  {
   "cell_type": "code",
   "execution_count": 45,
   "metadata": {},
   "outputs": [
    {
     "name": "stdout",
     "output_type": "stream",
     "text": [
      "Baseline MultinomialNB Classifer (train):  0.2148414985590778\n"
     ]
    }
   ],
   "source": [
    "# create & run multinomialNB classifier on x_train set\n",
    "nb_classifier = MultinomialNB()\n",
    "nb_classifier.fit(tfidf_x_train, y_train)\n",
    "nb_train_preds = nb_classifier.predict(tfidf_x_train)\n",
    "nb_train_score = accuracy_score(y_train, nb_train_preds)\n",
    "print(\"Baseline MultinomialNB Classifer (train): \",nb_train_score)"
   ]
  },
  {
   "cell_type": "code",
   "execution_count": 46,
   "metadata": {},
   "outputs": [
    {
     "name": "stdout",
     "output_type": "stream",
     "text": [
      "Baseline MultinomialNB Classifer (test):  0.21152737752161382\n"
     ]
    }
   ],
   "source": [
    "# run multinomialBN on x_test set\n",
    "nb_test_preds = nb_classifier.predict(tfidf_x_test)\n",
    "nb_test_score = accuracy_score(y_test, nb_test_preds)\n",
    "print(\"Baseline MultinomialNB Classifer (test): \",nb_test_score)"
   ]
  },
  {
   "cell_type": "code",
   "execution_count": 47,
   "metadata": {
    "scrolled": true
   },
   "outputs": [],
   "source": [
    "# # calculate precision scores across all classes & add to dataframe\n",
    "# df_precision = pd.DataFrame(precision_score(y_train, nb_train_preds, labels = ['INFP', 'ENFJ','ENFP','ENTJ','ENTP','ESFJ','ESFP','ESTJ','ESTP','INFJ','INTJ','INTP','ISFJ','ISFP','ISTJ','ISTP'], average = None), columns = ['MultinomialNB (baseline)'])\n"
   ]
  },
  {
   "cell_type": "code",
   "execution_count": 48,
   "metadata": {},
   "outputs": [],
   "source": [
    "# df_precision['Class'] = ['INFP', 'ENFJ','ENFP','ENTJ','ENTP','ESFJ','ESFP','ESTJ','ESTP','INFJ','INTJ','INTP','ISFJ','ISFP','ISTJ','ISTP']"
   ]
  },
  {
   "cell_type": "code",
   "execution_count": 49,
   "metadata": {},
   "outputs": [],
   "source": [
    "# df_precision = df_precision[['Class', 'MultinomialNB (baseline)']]"
   ]
  },
  {
   "cell_type": "code",
   "execution_count": 50,
   "metadata": {},
   "outputs": [],
   "source": [
    "# df_precision"
   ]
  },
  {
   "cell_type": "code",
   "execution_count": 51,
   "metadata": {},
   "outputs": [],
   "source": [
    "# 'Training Precision': precision_score(y_train, nb_train_preds, average = None),\n",
    "#                   'Testing Precision': precision_score(y_test, nb_test_preds),\n",
    "#                   'Training Recall': recall_score(y_train, nb_train_preds),\n",
    "#                   'Testing Recall': recall_score(y_test, nb_test_preds),\n",
    "#                   'Training F1-Score': f1_score(y_train, nb_train_preds),\n",
    "#                   'Testing F1-Score': f1_score(y_test, nb_test_preds)"
   ]
  },
  {
   "cell_type": "code",
   "execution_count": 52,
   "metadata": {},
   "outputs": [],
   "source": [
    "# models_summary.append({'Model Name': 'MultinomialNB (baseline)',\n",
    "#                   'Training Accuracy': str(round(nb_train_score,4)*100)+'%',\n",
    "#                   'Testing Accuracy': str(round(nb_test_score,4)*100)+'%'})"
   ]
  },
  {
   "cell_type": "code",
   "execution_count": 53,
   "metadata": {},
   "outputs": [],
   "source": [
    "from sklearn.metrics import classification_report"
   ]
  },
  {
   "cell_type": "code",
   "execution_count": 54,
   "metadata": {
    "scrolled": true
   },
   "outputs": [
    {
     "name": "stdout",
     "output_type": "stream",
     "text": [
      "              precision    recall  f1-score   support\n",
      "\n",
      "        INFP       0.00      0.00      0.00        38\n",
      "        ENFJ       0.00      0.00      0.00       135\n",
      "        ENFP       0.00      0.00      0.00        46\n",
      "        ENTJ       0.00      0.00      0.00       137\n",
      "        ENTP       0.00      0.00      0.00         8\n",
      "        ESFJ       0.00      0.00      0.00        10\n",
      "        ESFP       0.00      0.00      0.00         8\n",
      "        ESTJ       0.00      0.00      0.00        18\n",
      "        ESTP       0.50      0.00      0.01       294\n",
      "        INFJ       0.21      1.00      0.35       367\n",
      "        INTJ       0.00      0.00      0.00       218\n",
      "        INTP       0.00      0.00      0.00       261\n",
      "        ISFJ       0.00      0.00      0.00        33\n",
      "        ISFP       0.00      0.00      0.00        54\n",
      "        ISTJ       0.00      0.00      0.00        41\n",
      "        ISTP       0.00      0.00      0.00        67\n",
      "\n",
      "   micro avg       0.21      0.21      0.21      1735\n",
      "   macro avg       0.04      0.06      0.02      1735\n",
      "weighted avg       0.13      0.21      0.07      1735\n",
      "\n"
     ]
    },
    {
     "name": "stderr",
     "output_type": "stream",
     "text": [
      "/Users/gracejeong/anaconda3/lib/python3.7/site-packages/sklearn/metrics/classification.py:1143: UndefinedMetricWarning: Precision and F-score are ill-defined and being set to 0.0 in labels with no predicted samples.\n",
      "  'precision', 'predicted', average, warn_for)\n",
      "/Users/gracejeong/anaconda3/lib/python3.7/site-packages/sklearn/metrics/classification.py:1143: UndefinedMetricWarning: Precision and F-score are ill-defined and being set to 0.0 in labels with no predicted samples.\n",
      "  'precision', 'predicted', average, warn_for)\n",
      "/Users/gracejeong/anaconda3/lib/python3.7/site-packages/sklearn/metrics/classification.py:1143: UndefinedMetricWarning: Precision and F-score are ill-defined and being set to 0.0 in labels with no predicted samples.\n",
      "  'precision', 'predicted', average, warn_for)\n"
     ]
    }
   ],
   "source": [
    "categories = ['INFP', 'ENFJ','ENFP','ENTJ','ENTP','ESFJ','ESFP','ESTJ','ESTP','INFJ','INTJ','INTP','ISFJ','ISFP','ISTJ','ISTP']\n",
    "print(classification_report(y_test, nb_test_preds, target_names=categories))\n"
   ]
  },
  {
   "cell_type": "code",
   "execution_count": 55,
   "metadata": {},
   "outputs": [
    {
     "ename": "AttributeError",
     "evalue": "'MultinomialNB' object has no attribute 'decision_function'",
     "output_type": "error",
     "traceback": [
      "\u001b[0;31m---------------------------------------------------------------------------\u001b[0m",
      "\u001b[0;31mAttributeError\u001b[0m                            Traceback (most recent call last)",
      "\u001b[0;32m<ipython-input-55-0401d3bc2b29>\u001b[0m in \u001b[0;36m<module>\u001b[0;34m\u001b[0m\n\u001b[1;32m     11\u001b[0m \u001b[0;34m\u001b[0m\u001b[0m\n\u001b[1;32m     12\u001b[0m \u001b[0mclassifier\u001b[0m \u001b[0;34m=\u001b[0m \u001b[0mOneVsRestClassifier\u001b[0m\u001b[0;34m(\u001b[0m\u001b[0mMultinomialNB\u001b[0m\u001b[0;34m(\u001b[0m\u001b[0;34m)\u001b[0m\u001b[0;34m)\u001b[0m\u001b[0;34m\u001b[0m\u001b[0;34m\u001b[0m\u001b[0m\n\u001b[0;32m---> 13\u001b[0;31m \u001b[0my_score\u001b[0m \u001b[0;34m=\u001b[0m \u001b[0mclassifier\u001b[0m\u001b[0;34m.\u001b[0m\u001b[0mfit\u001b[0m\u001b[0;34m(\u001b[0m\u001b[0mtfidf_x_train\u001b[0m\u001b[0;34m,\u001b[0m \u001b[0my_train\u001b[0m\u001b[0;34m)\u001b[0m\u001b[0;34m.\u001b[0m\u001b[0mdecision_function\u001b[0m\u001b[0;34m(\u001b[0m\u001b[0mtfidf_x_test\u001b[0m\u001b[0;34m)\u001b[0m\u001b[0;34m\u001b[0m\u001b[0;34m\u001b[0m\u001b[0m\n\u001b[0m\u001b[1;32m     14\u001b[0m \u001b[0;34m\u001b[0m\u001b[0m\n\u001b[1;32m     15\u001b[0m \u001b[0mfpr\u001b[0m \u001b[0;34m=\u001b[0m \u001b[0mdict\u001b[0m\u001b[0;34m(\u001b[0m\u001b[0;34m)\u001b[0m\u001b[0;34m\u001b[0m\u001b[0;34m\u001b[0m\u001b[0m\n",
      "\u001b[0;32m~/anaconda3/lib/python3.7/site-packages/sklearn/utils/metaestimators.py\u001b[0m in \u001b[0;36m__get__\u001b[0;34m(self, obj, type)\u001b[0m\n\u001b[1;32m    110\u001b[0m                     \u001b[0;32mcontinue\u001b[0m\u001b[0;34m\u001b[0m\u001b[0;34m\u001b[0m\u001b[0m\n\u001b[1;32m    111\u001b[0m                 \u001b[0;32melse\u001b[0m\u001b[0;34m:\u001b[0m\u001b[0;34m\u001b[0m\u001b[0;34m\u001b[0m\u001b[0m\n\u001b[0;32m--> 112\u001b[0;31m                     \u001b[0mgetattr\u001b[0m\u001b[0;34m(\u001b[0m\u001b[0mdelegate\u001b[0m\u001b[0;34m,\u001b[0m \u001b[0mself\u001b[0m\u001b[0;34m.\u001b[0m\u001b[0mattribute_name\u001b[0m\u001b[0;34m)\u001b[0m\u001b[0;34m\u001b[0m\u001b[0;34m\u001b[0m\u001b[0m\n\u001b[0m\u001b[1;32m    113\u001b[0m                     \u001b[0;32mbreak\u001b[0m\u001b[0;34m\u001b[0m\u001b[0;34m\u001b[0m\u001b[0m\n\u001b[1;32m    114\u001b[0m             \u001b[0;32melse\u001b[0m\u001b[0;34m:\u001b[0m\u001b[0;34m\u001b[0m\u001b[0;34m\u001b[0m\u001b[0m\n",
      "\u001b[0;31mAttributeError\u001b[0m: 'MultinomialNB' object has no attribute 'decision_function'"
     ]
    }
   ],
   "source": [
    "# create multiclass ROC-curve for multinomial NB\n",
    "from sklearn.preprocessing import label_binarize\n",
    "from sklearn.multiclass import OneVsRestClassifier\n",
    "from sklearn.linear_model import LogisticRegression\n",
    "\n",
    "\n",
    "y = label_binarize(y, classes=['INFP', 'ENFJ','ENFP','ENTJ','ENTP','ESFJ','ESFP','ESTJ','ESTP','INFJ','INTJ','INTP','ISFJ','ISFP','ISTJ','ISTP']) # Binarize the output\n",
    "n_classes = y.shape[1]\n",
    "\n",
    "# x_train, x_test, y_train, y_test = train_test_split(X, y, test_size=.20, random_state=10)\n",
    "\n",
    "classifier = OneVsRestClassifier(MultinomialNB())\n",
    "y_score = classifier.fit(tfidf_x_train, y_train).decision_function(tfidf_x_test)\n",
    "\n",
    "fpr = dict()\n",
    "tpr = dict()\n",
    "roc_auc = dict()\n",
    "for i in range(n_classes):\n",
    "    fpr[i], tpr[i], _ = roc_curve(y_test[:, i], y_score[:, i])\n",
    "    roc_auc[i] = auc(fpr[i], tpr[i])\n"
   ]
  },
  {
   "cell_type": "markdown",
   "metadata": {},
   "source": [
    "## Random Forest (different test_sizes)"
   ]
  },
  {
   "cell_type": "code",
   "execution_count": 56,
   "metadata": {},
   "outputs": [],
   "source": [
    "def random_forest(test_size):\n",
    "    x = df_mbti.joined_lemmatized\n",
    "    y = df_mbti.type\n",
    "    x_train, x_test, y_train, y_test = train_test_split(x, y, test_size = test_size, shuffle = True, random_state = 10, stratify = y)\n",
    "    \n",
    "    vectorizer = TfidfVectorizer()\n",
    "    tfidf_x_train = vectorizer.fit_transform(x_train)\n",
    "    tfidf_x_test = vectorizer.transform(x_test)\n",
    "    \n",
    "    rf_classifier = RandomForestClassifier(n_estimators = 100)\n",
    "    rf_classifier.fit(tfidf_x_train, y_train)\n",
    "    rf_train_preds = rf_classifier.predict(tfidf_x_train)\n",
    "    rf_test_preds = rf_classifier.predict(tfidf_x_test)\n",
    "    \n",
    "    train_accuracy = accuracy_score(y_train, rf_train_preds)\n",
    "    test_accuracy = accuracy_score(y_test, rf_test_preds)\n",
    "    \n",
    "    return train_accuracy, test_accuracy"
   ]
  },
  {
   "cell_type": "code",
   "execution_count": 57,
   "metadata": {},
   "outputs": [
    {
     "data": {
      "text/plain": [
       "(1.0, 0.3812816966343937)"
      ]
     },
     "execution_count": 57,
     "metadata": {},
     "output_type": "execute_result"
    }
   ],
   "source": [
    "random_forest(0.5)"
   ]
  },
  {
   "cell_type": "code",
   "execution_count": 79,
   "metadata": {},
   "outputs": [
    {
     "data": {
      "text/plain": [
       "(1.0, 0.3752881512217612)"
      ]
     },
     "execution_count": 79,
     "metadata": {},
     "output_type": "execute_result"
    }
   ],
   "source": [
    "random_forest(0.75)"
   ]
  },
  {
   "cell_type": "code",
   "execution_count": 80,
   "metadata": {},
   "outputs": [
    {
     "data": {
      "text/plain": [
       "(1.0, 0.398061613014884)"
      ]
     },
     "execution_count": 80,
     "metadata": {},
     "output_type": "execute_result"
    }
   ],
   "source": [
    "random_forest(0.333)"
   ]
  },
  {
   "cell_type": "code",
   "execution_count": 81,
   "metadata": {},
   "outputs": [
    {
     "data": {
      "text/plain": [
       "(1.0, 0.39221902017291066)"
      ]
     },
     "execution_count": 81,
     "metadata": {},
     "output_type": "execute_result"
    }
   ],
   "source": [
    "random_forest(0.4)"
   ]
  },
  {
   "cell_type": "markdown",
   "metadata": {},
   "source": [
    "## Random Forest w/ GridSearch"
   ]
  },
  {
   "cell_type": "code",
   "execution_count": 83,
   "metadata": {},
   "outputs": [],
   "source": [
    "from sklearn.model_selection import GridSearchCV"
   ]
  },
  {
   "cell_type": "code",
   "execution_count": 58,
   "metadata": {},
   "outputs": [],
   "source": [
    "x3 = df_mbti.joined_lemmatized\n",
    "y3 = df_mbti.type\n",
    "x_train3, x_test3, y_train3, y_test3 = train_test_split(x3, y3, test_size = 0.333, shuffle = True, random_state = 10, stratify = y)\n"
   ]
  },
  {
   "cell_type": "code",
   "execution_count": 59,
   "metadata": {},
   "outputs": [],
   "source": [
    "vectorizer = TfidfVectorizer()\n",
    "tfidf_x_train3 = vectorizer.fit_transform(x_train3)\n",
    "tfidf_x_test3 = vectorizer.transform(x_test3)"
   ]
  },
  {
   "cell_type": "code",
   "execution_count": 109,
   "metadata": {},
   "outputs": [
    {
     "data": {
      "text/plain": [
       "{'criterion': 'gini',\n",
       " 'max_depth': None,\n",
       " 'min_samples_split': 10,\n",
       " 'n_estimators': 100}"
      ]
     },
     "execution_count": 109,
     "metadata": {},
     "output_type": "execute_result"
    }
   ],
   "source": [
    "rf_clf = RandomForestClassifier()\n",
    "\n",
    "param_grid = {\n",
    "    \"criterion\": [\"gini\", \"entropy\"],\n",
    "    \"max_depth\": [None, 1, 2, 5, 10],\n",
    "    \"min_samples_split\": [2, 5, 10, 20],\n",
    "    \"n_estimators\": [80,100]\n",
    "}\n",
    "\n",
    "gs_tree = GridSearchCV(rf_clf, param_grid, cv=3)\n",
    "gs_tree.fit(tfidf_x_train3, y_train3)\n",
    "\n",
    "gs_tree.best_params_"
   ]
  },
  {
   "cell_type": "code",
   "execution_count": 110,
   "metadata": {},
   "outputs": [],
   "source": [
    "def random_forest_gs(criterion, max_depth, min_samples_split, n_estimators):\n",
    "    x1 = df_mbti.joined_lemmatized\n",
    "    y1 = df_mbti.type\n",
    "    x1_train, x1_test, y1_train, y1_test = train_test_split(x1, y1, test_size = 0.333, shuffle = True, random_state = 10, stratify = y)\n",
    "\n",
    "    vectorizer = TfidfVectorizer()\n",
    "    tfidf_x_train1 = vectorizer.fit_transform(x1_train)\n",
    "    tfidf_x_test1 = vectorizer.transform(x1_test)\n",
    "\n",
    "    rf_classifier = RandomForestClassifier(criterion = criterion, n_estimators = n_estimators, max_depth = max_depth, min_samples_split = min_samples_split)\n",
    "    rf_classifier.fit(tfidf_x_train1, y1_train)\n",
    "    rf_train_preds1 = rf_classifier.predict(tfidf_x_train1)\n",
    "    rf_test_preds1 = rf_classifier.predict(tfidf_x_test1)\n",
    "\n",
    "    train_accuracy1 = accuracy_score(y1_train, rf_train_preds1)\n",
    "    test_accuracy1 = accuracy_score(y1_test, rf_test_preds1)\n",
    "    \n",
    "    return train_accuracy1, test_accuracy1"
   ]
  },
  {
   "cell_type": "code",
   "execution_count": 111,
   "metadata": {},
   "outputs": [
    {
     "data": {
      "text/plain": [
       "(0.9996543380573799, 0.4025614399446175)"
      ]
     },
     "execution_count": 111,
     "metadata": {},
     "output_type": "execute_result"
    }
   ],
   "source": [
    "random_forest_gs('gini', None, 10, 100)"
   ]
  },
  {
   "cell_type": "code",
   "execution_count": 78,
   "metadata": {},
   "outputs": [],
   "source": [
    "x1 = df_mbti.joined_lemmatized\n",
    "y1 = df_mbti.type\n",
    "x1_train, x1_test, y1_train, y1_test = train_test_split(x1, y1, test_size = 0.2, shuffle = True, random_state = 10, stratify = y)\n",
    "\n",
    "vectorizer = TfidfVectorizer()\n",
    "tfidf_x_train1 = vectorizer.fit_transform(x1_train)\n",
    "tfidf_x_test1 = vectorizer.transform(x1_test)\n",
    "\n",
    "rf_classifier = RandomForestClassifier(criterion = 'gini', n_estimators = 80, max_depth = 10, min_samples_split = 2)\n",
    "rf_classifier.fit(tfidf_x_train1, y1_train)\n",
    "rf_train_preds1 = rf_classifier.predict(tfidf_x_train1)\n",
    "rf_test_preds1 = rf_classifier.predict(tfidf_x_test1)\n",
    "\n",
    "train_accuracy1 = accuracy_score(y1_train, rf_train_preds1)\n",
    "test_accuracy1 = accuracy_score(y1_test, rf_test_preds1)"
   ]
  },
  {
   "cell_type": "code",
   "execution_count": 89,
   "metadata": {},
   "outputs": [
    {
     "data": {
      "text/plain": [
       "0.4225717248530937"
      ]
     },
     "execution_count": 89,
     "metadata": {},
     "output_type": "execute_result"
    }
   ],
   "source": [
    "train_accuracy"
   ]
  },
  {
   "cell_type": "code",
   "execution_count": 90,
   "metadata": {},
   "outputs": [
    {
     "data": {
      "text/plain": [
       "0.2665282104534441"
      ]
     },
     "execution_count": 90,
     "metadata": {},
     "output_type": "execute_result"
    }
   ],
   "source": [
    "test_accuracy"
   ]
  },
  {
   "cell_type": "code",
   "execution_count": 92,
   "metadata": {},
   "outputs": [
    {
     "data": {
      "text/plain": [
       "0.4148414985590778"
      ]
     },
     "execution_count": 92,
     "metadata": {},
     "output_type": "execute_result"
    }
   ],
   "source": [
    "train_accuracy1"
   ]
  },
  {
   "cell_type": "code",
   "execution_count": 93,
   "metadata": {},
   "outputs": [
    {
     "data": {
      "text/plain": [
       "0.2680115273775216"
      ]
     },
     "execution_count": 93,
     "metadata": {},
     "output_type": "execute_result"
    }
   ],
   "source": [
    "test_accuracy1"
   ]
  },
  {
   "cell_type": "markdown",
   "metadata": {},
   "source": [
    "## Decision tree on non-text features"
   ]
  },
  {
   "cell_type": "code",
   "execution_count": 97,
   "metadata": {},
   "outputs": [
    {
     "data": {
      "text/html": [
       "<div>\n",
       "<style scoped>\n",
       "    .dataframe tbody tr th:only-of-type {\n",
       "        vertical-align: middle;\n",
       "    }\n",
       "\n",
       "    .dataframe tbody tr th {\n",
       "        vertical-align: top;\n",
       "    }\n",
       "\n",
       "    .dataframe thead th {\n",
       "        text-align: right;\n",
       "    }\n",
       "</style>\n",
       "<table border=\"1\" class=\"dataframe\">\n",
       "  <thead>\n",
       "    <tr style=\"text-align: right;\">\n",
       "      <th></th>\n",
       "      <th>type</th>\n",
       "      <th>posts</th>\n",
       "      <th>count_of_caps</th>\n",
       "      <th>count_of_exclamations</th>\n",
       "      <th>count_of_digits</th>\n",
       "      <th>count_of_emojis</th>\n",
       "      <th>tokenized</th>\n",
       "      <th>token_stopwords</th>\n",
       "      <th>num_total_words</th>\n",
       "      <th>num_unique_words</th>\n",
       "      <th>lemmatized</th>\n",
       "      <th>joined_lemmatized</th>\n",
       "    </tr>\n",
       "  </thead>\n",
       "  <tbody>\n",
       "    <tr>\n",
       "      <th>0</th>\n",
       "      <td>INFJ</td>\n",
       "      <td>'enfp and intj moments    sportscenter not top...</td>\n",
       "      <td>153</td>\n",
       "      <td>3</td>\n",
       "      <td>109</td>\n",
       "      <td>33</td>\n",
       "      <td>[enfp, and, intj, moments, sportscenter, not, ...</td>\n",
       "      <td>[enfp, intj, moments, sportscenter, top, ten, ...</td>\n",
       "      <td>307</td>\n",
       "      <td>257</td>\n",
       "      <td>[enfp, intj, moment, sportscenter, top, ten, p...</td>\n",
       "      <td>enfp intj moment sportscenter top ten play pra...</td>\n",
       "    </tr>\n",
       "    <tr>\n",
       "      <th>1</th>\n",
       "      <td>ENTP</td>\n",
       "      <td>'I'm finding the lack of me in these posts ver...</td>\n",
       "      <td>327</td>\n",
       "      <td>0</td>\n",
       "      <td>109</td>\n",
       "      <td>22</td>\n",
       "      <td>[i, m, finding, the, lack, of, me, in, these, ...</td>\n",
       "      <td>[finding, lack, posts, alarming, sex, boring, ...</td>\n",
       "      <td>561</td>\n",
       "      <td>403</td>\n",
       "      <td>[finding, lack, post, alarming, sex, boring, p...</td>\n",
       "      <td>finding lack post alarming sex boring position...</td>\n",
       "    </tr>\n",
       "    <tr>\n",
       "      <th>2</th>\n",
       "      <td>INTP</td>\n",
       "      <td>'Good one     Of course, to which I say I know...</td>\n",
       "      <td>169</td>\n",
       "      <td>4</td>\n",
       "      <td>94</td>\n",
       "      <td>14</td>\n",
       "      <td>[good, one, of, course, to, which, i, say, i, ...</td>\n",
       "      <td>[good, one, course, say, know, blessing, curse...</td>\n",
       "      <td>432</td>\n",
       "      <td>342</td>\n",
       "      <td>[good, one, course, say, know, blessing, curse...</td>\n",
       "      <td>good one course say know blessing curse absolu...</td>\n",
       "    </tr>\n",
       "    <tr>\n",
       "      <th>3</th>\n",
       "      <td>INTJ</td>\n",
       "      <td>'Dear INTP,   I enjoyed our conversation the o...</td>\n",
       "      <td>253</td>\n",
       "      <td>3</td>\n",
       "      <td>33</td>\n",
       "      <td>2</td>\n",
       "      <td>[dear, intp, i, enjoyed, our, conversation, th...</td>\n",
       "      <td>[dear, intp, enjoyed, conversation, day, esote...</td>\n",
       "      <td>522</td>\n",
       "      <td>374</td>\n",
       "      <td>[dear, intp, enjoyed, conversation, day, esote...</td>\n",
       "      <td>dear intp enjoyed conversation day esoteric ga...</td>\n",
       "    </tr>\n",
       "    <tr>\n",
       "      <th>4</th>\n",
       "      <td>ENTJ</td>\n",
       "      <td>'You're fired.That's another silly misconcepti...</td>\n",
       "      <td>261</td>\n",
       "      <td>1</td>\n",
       "      <td>41</td>\n",
       "      <td>11</td>\n",
       "      <td>[you, re, fired, that, s, another, silly, misc...</td>\n",
       "      <td>[fired, another, silly, misconception, approac...</td>\n",
       "      <td>482</td>\n",
       "      <td>368</td>\n",
       "      <td>[fired, another, silly, misconception, approac...</td>\n",
       "      <td>fired another silly misconception approaching ...</td>\n",
       "    </tr>\n",
       "  </tbody>\n",
       "</table>\n",
       "</div>"
      ],
      "text/plain": [
       "   type                                              posts  count_of_caps  \\\n",
       "0  INFJ  'enfp and intj moments    sportscenter not top...            153   \n",
       "1  ENTP  'I'm finding the lack of me in these posts ver...            327   \n",
       "2  INTP  'Good one     Of course, to which I say I know...            169   \n",
       "3  INTJ  'Dear INTP,   I enjoyed our conversation the o...            253   \n",
       "4  ENTJ  'You're fired.That's another silly misconcepti...            261   \n",
       "\n",
       "   count_of_exclamations  count_of_digits  count_of_emojis  \\\n",
       "0                      3              109               33   \n",
       "1                      0              109               22   \n",
       "2                      4               94               14   \n",
       "3                      3               33                2   \n",
       "4                      1               41               11   \n",
       "\n",
       "                                           tokenized  \\\n",
       "0  [enfp, and, intj, moments, sportscenter, not, ...   \n",
       "1  [i, m, finding, the, lack, of, me, in, these, ...   \n",
       "2  [good, one, of, course, to, which, i, say, i, ...   \n",
       "3  [dear, intp, i, enjoyed, our, conversation, th...   \n",
       "4  [you, re, fired, that, s, another, silly, misc...   \n",
       "\n",
       "                                     token_stopwords  num_total_words  \\\n",
       "0  [enfp, intj, moments, sportscenter, top, ten, ...              307   \n",
       "1  [finding, lack, posts, alarming, sex, boring, ...              561   \n",
       "2  [good, one, course, say, know, blessing, curse...              432   \n",
       "3  [dear, intp, enjoyed, conversation, day, esote...              522   \n",
       "4  [fired, another, silly, misconception, approac...              482   \n",
       "\n",
       "   num_unique_words                                         lemmatized  \\\n",
       "0               257  [enfp, intj, moment, sportscenter, top, ten, p...   \n",
       "1               403  [finding, lack, post, alarming, sex, boring, p...   \n",
       "2               342  [good, one, course, say, know, blessing, curse...   \n",
       "3               374  [dear, intp, enjoyed, conversation, day, esote...   \n",
       "4               368  [fired, another, silly, misconception, approac...   \n",
       "\n",
       "                                   joined_lemmatized  \n",
       "0  enfp intj moment sportscenter top ten play pra...  \n",
       "1  finding lack post alarming sex boring position...  \n",
       "2  good one course say know blessing curse absolu...  \n",
       "3  dear intp enjoyed conversation day esoteric ga...  \n",
       "4  fired another silly misconception approaching ...  "
      ]
     },
     "execution_count": 97,
     "metadata": {},
     "output_type": "execute_result"
    }
   ],
   "source": [
    "df_mbti.head()"
   ]
  },
  {
   "cell_type": "code",
   "execution_count": 61,
   "metadata": {},
   "outputs": [],
   "source": [
    "X = df_mbti[[\"count_of_caps\", \"count_of_exclamations\", \"count_of_digits\", \"count_of_emojis\", \"num_total_words\", \"num_unique_words\"]]"
   ]
  },
  {
   "cell_type": "code",
   "execution_count": 62,
   "metadata": {},
   "outputs": [
    {
     "data": {
      "text/plain": [
       "Index(['count_of_caps', 'count_of_exclamations', 'count_of_digits',\n",
       "       'count_of_emojis', 'num_total_words', 'num_unique_words'],\n",
       "      dtype='object')"
      ]
     },
     "execution_count": 62,
     "metadata": {},
     "output_type": "execute_result"
    }
   ],
   "source": [
    "X.columns"
   ]
  },
  {
   "cell_type": "code",
   "execution_count": 63,
   "metadata": {},
   "outputs": [],
   "source": [
    "y_tree = df_mbti.type"
   ]
  },
  {
   "cell_type": "code",
   "execution_count": 64,
   "metadata": {},
   "outputs": [],
   "source": [
    "X_train, X_test, y_train, y_test = train_test_split(X, y_tree, test_size = 0.333)"
   ]
  },
  {
   "cell_type": "code",
   "execution_count": 65,
   "metadata": {},
   "outputs": [],
   "source": [
    "from sklearn import tree \n",
    "from sklearn.tree import DecisionTreeClassifier "
   ]
  },
  {
   "cell_type": "code",
   "execution_count": 106,
   "metadata": {},
   "outputs": [
    {
     "data": {
      "text/plain": [
       "0.1585323641398408"
      ]
     },
     "execution_count": 106,
     "metadata": {},
     "output_type": "execute_result"
    }
   ],
   "source": [
    "tree = DecisionTreeClassifier()\n",
    "tree.fit(X_train, y_train)\n",
    "y_hat_test = tree.predict(X_test)\n",
    "accuracy = accuracy_score(y_test, y_hat_test)\n",
    "accuracy"
   ]
  },
  {
   "cell_type": "code",
   "execution_count": 107,
   "metadata": {},
   "outputs": [],
   "source": [
    "y_hat_train = tree.predict(X_train)\n"
   ]
  },
  {
   "cell_type": "code",
   "execution_count": 108,
   "metadata": {},
   "outputs": [
    {
     "data": {
      "text/plain": [
       "1.0"
      ]
     },
     "execution_count": 108,
     "metadata": {},
     "output_type": "execute_result"
    }
   ],
   "source": [
    "accuracy_train = accuracy_score(y_train, y_hat_train)\n",
    "accuracy_train"
   ]
  },
  {
   "cell_type": "markdown",
   "metadata": {},
   "source": [
    "## Merge vectorized sparse matrix and other features"
   ]
  },
  {
   "cell_type": "code",
   "execution_count": 66,
   "metadata": {},
   "outputs": [],
   "source": [
    "xm = df_mbti[[\"joined_lemmatized\", \"count_of_caps\", \"count_of_exclamations\", \"count_of_digits\", \"count_of_emojis\", \"num_total_words\", \"num_unique_words\"]]\n",
    "ym = df_mbti.type\n",
    "xm_train, xm_test, ym_train, ym_test = train_test_split(xm, \n",
    "                                                    ym, \n",
    "                                                    test_size = 0.2, \n",
    "                                                    shuffle = True, \n",
    "                                                    random_state = 10, \n",
    "                                                    stratify = y)"
   ]
  },
  {
   "cell_type": "code",
   "execution_count": 67,
   "metadata": {},
   "outputs": [],
   "source": [
    "vectorizer = TfidfVectorizer()\n",
    "tfidf_x_trainm = vectorizer.fit_transform(xm_train[\"joined_lemmatized\"])\n",
    "tfidf_x_testm = vectorizer.transform(xm_test['joined_lemmatized'])"
   ]
  },
  {
   "cell_type": "code",
   "execution_count": 68,
   "metadata": {},
   "outputs": [
    {
     "data": {
      "text/plain": [
       "(6940, 98345)"
      ]
     },
     "execution_count": 68,
     "metadata": {},
     "output_type": "execute_result"
    }
   ],
   "source": [
    "tfidf_x_trainm.shape"
   ]
  },
  {
   "cell_type": "code",
   "execution_count": 69,
   "metadata": {},
   "outputs": [
    {
     "data": {
      "text/plain": [
       "array([[364,   8,  31,   1, 392, 282],\n",
       "       [262,   2,  21,   6, 784, 615],\n",
       "       [392,  12,  31,  32, 578, 377],\n",
       "       ...,\n",
       "       [283,   0,  16,  14, 641, 439],\n",
       "       [315,  17,  69,   8, 561, 430],\n",
       "       [238,   1,  31,  18, 358, 274]])"
      ]
     },
     "execution_count": 69,
     "metadata": {},
     "output_type": "execute_result"
    }
   ],
   "source": [
    "features_train = np.array(xm_train[[\"count_of_caps\", \"count_of_exclamations\", \"count_of_digits\", \"count_of_emojis\", \"num_total_words\", \"num_unique_words\"]])\n",
    "features_train"
   ]
  },
  {
   "cell_type": "code",
   "execution_count": 70,
   "metadata": {},
   "outputs": [
    {
     "data": {
      "text/plain": [
       "array([[224,   2,  56,   8, 417, 329],\n",
       "       [370,  20, 301,  22, 363, 301],\n",
       "       [195,   0,  41,  11, 558, 383],\n",
       "       ...,\n",
       "       [267,  22,  12,  24, 475, 308],\n",
       "       [177,   2,  58,  14, 495, 402],\n",
       "       [334,   1,  17,  14, 664, 467]])"
      ]
     },
     "execution_count": 70,
     "metadata": {},
     "output_type": "execute_result"
    }
   ],
   "source": [
    "features_test = np.array(xm_test[[\"count_of_caps\", \"count_of_exclamations\", \"count_of_digits\", \"count_of_emojis\", \"num_total_words\", \"num_unique_words\"]])\n",
    "features_test"
   ]
  },
  {
   "cell_type": "code",
   "execution_count": 71,
   "metadata": {},
   "outputs": [],
   "source": [
    "import scipy\n",
    "merged_matrix_train = scipy.sparse.hstack([tfidf_x_trainm,features_train]).toarray()"
   ]
  },
  {
   "cell_type": "code",
   "execution_count": 72,
   "metadata": {},
   "outputs": [
    {
     "data": {
      "text/plain": [
       "(6940, 98351)"
      ]
     },
     "execution_count": 72,
     "metadata": {},
     "output_type": "execute_result"
    }
   ],
   "source": [
    "merged_matrix_train.shape"
   ]
  },
  {
   "cell_type": "code",
   "execution_count": 73,
   "metadata": {},
   "outputs": [],
   "source": [
    "merged_matrix_test = scipy.sparse.hstack([tfidf_x_testm,features_test]).toarray()"
   ]
  },
  {
   "cell_type": "code",
   "execution_count": 74,
   "metadata": {},
   "outputs": [
    {
     "data": {
      "text/plain": [
       "(1735, 98351)"
      ]
     },
     "execution_count": 74,
     "metadata": {},
     "output_type": "execute_result"
    }
   ],
   "source": [
    "merged_matrix_test.shape"
   ]
  },
  {
   "cell_type": "markdown",
   "metadata": {},
   "source": [
    "## Random Forest w/ GridSearch on merged matrix"
   ]
  },
  {
   "cell_type": "code",
   "execution_count": 65,
   "metadata": {},
   "outputs": [
    {
     "ename": "NameError",
     "evalue": "name 'GridSearchCV' is not defined",
     "output_type": "error",
     "traceback": [
      "\u001b[0;31m---------------------------------------------------------------------------\u001b[0m",
      "\u001b[0;31mNameError\u001b[0m                                 Traceback (most recent call last)",
      "\u001b[0;32m<ipython-input-65-ed49adb8847e>\u001b[0m in \u001b[0;36m<module>\u001b[0;34m\u001b[0m\n\u001b[1;32m      8\u001b[0m }\n\u001b[1;32m      9\u001b[0m \u001b[0;34m\u001b[0m\u001b[0m\n\u001b[0;32m---> 10\u001b[0;31m \u001b[0mgs_rf_merged\u001b[0m \u001b[0;34m=\u001b[0m \u001b[0mGridSearchCV\u001b[0m\u001b[0;34m(\u001b[0m\u001b[0mrf_clf\u001b[0m\u001b[0;34m,\u001b[0m \u001b[0mparam_grid\u001b[0m\u001b[0;34m,\u001b[0m \u001b[0mcv\u001b[0m\u001b[0;34m=\u001b[0m\u001b[0;36m3\u001b[0m\u001b[0;34m)\u001b[0m\u001b[0;34m\u001b[0m\u001b[0;34m\u001b[0m\u001b[0m\n\u001b[0m\u001b[1;32m     11\u001b[0m \u001b[0mgs_rf_merged\u001b[0m\u001b[0;34m.\u001b[0m\u001b[0mfit\u001b[0m\u001b[0;34m(\u001b[0m\u001b[0mmerged_matrix_train\u001b[0m\u001b[0;34m,\u001b[0m \u001b[0mym_train\u001b[0m\u001b[0;34m)\u001b[0m\u001b[0;34m\u001b[0m\u001b[0;34m\u001b[0m\u001b[0m\n\u001b[1;32m     12\u001b[0m \u001b[0;34m\u001b[0m\u001b[0m\n",
      "\u001b[0;31mNameError\u001b[0m: name 'GridSearchCV' is not defined"
     ]
    }
   ],
   "source": [
    "rf_clf = RandomForestClassifier()\n",
    "\n",
    "param_grid = {\n",
    "    \"criterion\": [\"gini\", \"entropy\"],\n",
    "    \"max_depth\": [None, 1, 2, 5, 10],\n",
    "    \"min_samples_split\": [2, 5, 10],\n",
    "    \"n_estimators\": [80,100]\n",
    "}\n",
    "\n",
    "gs_rf_merged = GridSearchCV(rf_clf, param_grid, cv=3)\n",
    "gs_rf_merged.fit(merged_matrix_train, ym_train)\n",
    "\n",
    "gs_rf_merged.best_params_"
   ]
  },
  {
   "cell_type": "code",
   "execution_count": 260,
   "metadata": {},
   "outputs": [
    {
     "name": "stdout",
     "output_type": "stream",
     "text": [
      "1.0\n",
      "0.3786743515850144\n"
     ]
    }
   ],
   "source": [
    "rf_clf2 = RandomForestClassifier(criterion = 'gini', max_depth = None, n_estimators= 80)\n",
    "rf_clf2.fit(merged_matrix_train, ym_train)\n",
    "ym_train_preds = rf_clf2.predict(merged_matrix_train)\n",
    "ym_test_preds = rf_clf2.predict(merged_matrix_test)\n",
    "acc_score_train = accuracy_score(ym_train, ym_train_preds)\n",
    "acc_score_test = accuracy_score(ym_test, ym_test_preds)\n",
    "\n",
    "print(acc_score_train)\n",
    "print(acc_score_test)"
   ]
  },
  {
   "cell_type": "code",
   "execution_count": 262,
   "metadata": {},
   "outputs": [
    {
     "data": {
      "text/plain": [
       "0.21138328530259365"
      ]
     },
     "execution_count": 262,
     "metadata": {},
     "output_type": "execute_result"
    }
   ],
   "source": [
    "#NB on merged matrix\n",
    "nb_classifier1 = MultinomialNB()\n",
    "nb_classifier1.fit(merged_matrix_train, ym_train)\n",
    "nb_train_preds1 = nb_classifier1.predict(merged_matrix_train)\n",
    "nb_train_score1 = accuracy_score(ym_train, nb_train_preds1)\n",
    "nb_train_score1"
   ]
  },
  {
   "cell_type": "code",
   "execution_count": 263,
   "metadata": {},
   "outputs": [
    {
     "data": {
      "text/plain": [
       "0.21210374639769453"
      ]
     },
     "execution_count": 263,
     "metadata": {},
     "output_type": "execute_result"
    }
   ],
   "source": [
    "nb_test_preds1 = nb_classifier1.predict(merged_matrix_test)\n",
    "nb_test_score1 = accuracy_score(ym_test, nb_test_preds1)\n",
    "nb_test_score1"
   ]
  },
  {
   "cell_type": "markdown",
   "metadata": {},
   "source": [
    "## SVM"
   ]
  },
  {
   "cell_type": "code",
   "execution_count": 75,
   "metadata": {},
   "outputs": [],
   "source": [
    "from sklearn import svm"
   ]
  },
  {
   "cell_type": "code",
   "execution_count": 76,
   "metadata": {},
   "outputs": [],
   "source": [
    "SVM_model_sum = []\n",
    "\n",
    "def SVM_classifier_matrix(kernel):\n",
    "    SVM = svm.SVC(C=1.0, kernel = kernel, degree = 3, gamma = 'auto')\n",
    "    SVM.fit(tfidf_x_trainm, ym_train)\n",
    "    SVM_preds_test = SVM.predict(tfidf_x_testm)\n",
    "    SVM_preds_train = SVM.predict(tfidf_x_trainm)\n",
    "    train_acc = str(round(accuracy_score(SVM_preds_train, ym_train),4)*100)+'%'\n",
    "    test_acc = str(round(accuracy_score(SVM_preds_test, ym_test),4)*100)+'%'\n",
    "    SVM_model_sum.append({'Model Name': 'SVM Classifier ({})'.format(kernel),\n",
    "                  'Training Accuracy': train_acc,\n",
    "                  'Testing Accuracy': test_acc,\n",
    "                  'Training F1-Score': str(round(f1_score(ym_train, SVM_preds_train, average = 'micro'),4)*100)+'%',\n",
    "                  'Testing F1-Score': str(round(f1_score(ym_test, SVM_preds_test, average = 'micro'),4)*100)+'%'})\n",
    "    return train_acc, test_acc"
   ]
  },
  {
   "cell_type": "code",
   "execution_count": 136,
   "metadata": {},
   "outputs": [
    {
     "data": {
      "text/plain": [
       "('94.16%', '64.78%')"
      ]
     },
     "execution_count": 136,
     "metadata": {},
     "output_type": "execute_result"
    }
   ],
   "source": [
    "SVM_classifier_matrix('linear')"
   ]
  },
  {
   "cell_type": "code",
   "execution_count": 137,
   "metadata": {},
   "outputs": [
    {
     "data": {
      "text/plain": [
       "('21.11%', '21.15%')"
      ]
     },
     "execution_count": 137,
     "metadata": {},
     "output_type": "execute_result"
    }
   ],
   "source": [
    "SVM_classifier_matrix('rbf')"
   ]
  },
  {
   "cell_type": "code",
   "execution_count": 138,
   "metadata": {},
   "outputs": [
    {
     "data": {
      "text/plain": [
       "('21.11%', '21.15%')"
      ]
     },
     "execution_count": 138,
     "metadata": {},
     "output_type": "execute_result"
    }
   ],
   "source": [
    "SVM_classifier_matrix('sigmoid')"
   ]
  },
  {
   "cell_type": "code",
   "execution_count": 139,
   "metadata": {},
   "outputs": [
    {
     "data": {
      "text/plain": [
       "('21.11%', '21.15%')"
      ]
     },
     "execution_count": 139,
     "metadata": {},
     "output_type": "execute_result"
    }
   ],
   "source": [
    "SVM_classifier_matrix('poly')"
   ]
  },
  {
   "cell_type": "code",
   "execution_count": 77,
   "metadata": {},
   "outputs": [
    {
     "ename": "ValueError",
     "evalue": "Found input variables with inconsistent numbers of samples: [6940, 5786]",
     "output_type": "error",
     "traceback": [
      "\u001b[0;31m---------------------------------------------------------------------------\u001b[0m",
      "\u001b[0;31mValueError\u001b[0m                                Traceback (most recent call last)",
      "\u001b[0;32m<ipython-input-77-4e1382856ccf>\u001b[0m in \u001b[0;36m<module>\u001b[0;34m\u001b[0m\n\u001b[1;32m      1\u001b[0m \u001b[0;31m#SVM linear model with text data only\u001b[0m\u001b[0;34m\u001b[0m\u001b[0;34m\u001b[0m\u001b[0;34m\u001b[0m\u001b[0m\n\u001b[1;32m      2\u001b[0m \u001b[0mSVM\u001b[0m \u001b[0;34m=\u001b[0m \u001b[0msvm\u001b[0m\u001b[0;34m.\u001b[0m\u001b[0mSVC\u001b[0m\u001b[0;34m(\u001b[0m\u001b[0mC\u001b[0m\u001b[0;34m=\u001b[0m\u001b[0;36m1.0\u001b[0m\u001b[0;34m,\u001b[0m \u001b[0mkernel\u001b[0m \u001b[0;34m=\u001b[0m \u001b[0;34m'linear'\u001b[0m\u001b[0;34m,\u001b[0m \u001b[0mdegree\u001b[0m \u001b[0;34m=\u001b[0m \u001b[0;36m3\u001b[0m\u001b[0;34m,\u001b[0m \u001b[0mgamma\u001b[0m \u001b[0;34m=\u001b[0m \u001b[0;34m'auto'\u001b[0m\u001b[0;34m)\u001b[0m\u001b[0;34m\u001b[0m\u001b[0;34m\u001b[0m\u001b[0m\n\u001b[0;32m----> 3\u001b[0;31m \u001b[0mSVM\u001b[0m\u001b[0;34m.\u001b[0m\u001b[0mfit\u001b[0m\u001b[0;34m(\u001b[0m\u001b[0mtfidf_x_train\u001b[0m\u001b[0;34m,\u001b[0m \u001b[0my_train\u001b[0m\u001b[0;34m)\u001b[0m\u001b[0;34m\u001b[0m\u001b[0;34m\u001b[0m\u001b[0m\n\u001b[0m\u001b[1;32m      4\u001b[0m \u001b[0mSVM_preds_test3\u001b[0m \u001b[0;34m=\u001b[0m \u001b[0mSVM\u001b[0m\u001b[0;34m.\u001b[0m\u001b[0mpredict\u001b[0m\u001b[0;34m(\u001b[0m\u001b[0mtfidf_x_test\u001b[0m\u001b[0;34m)\u001b[0m\u001b[0;34m\u001b[0m\u001b[0;34m\u001b[0m\u001b[0m\n\u001b[1;32m      5\u001b[0m \u001b[0mSVM_preds_train3\u001b[0m \u001b[0;34m=\u001b[0m \u001b[0mSVM\u001b[0m\u001b[0;34m.\u001b[0m\u001b[0mpredict\u001b[0m\u001b[0;34m(\u001b[0m\u001b[0mtfidf_x_train\u001b[0m\u001b[0;34m)\u001b[0m\u001b[0;34m\u001b[0m\u001b[0;34m\u001b[0m\u001b[0m\n",
      "\u001b[0;32m~/anaconda3/lib/python3.7/site-packages/sklearn/svm/base.py\u001b[0m in \u001b[0;36mfit\u001b[0;34m(self, X, y, sample_weight)\u001b[0m\n\u001b[1;32m    147\u001b[0m         X, y = check_X_y(X, y, dtype=np.float64,\n\u001b[1;32m    148\u001b[0m                          \u001b[0morder\u001b[0m\u001b[0;34m=\u001b[0m\u001b[0;34m'C'\u001b[0m\u001b[0;34m,\u001b[0m \u001b[0maccept_sparse\u001b[0m\u001b[0;34m=\u001b[0m\u001b[0;34m'csr'\u001b[0m\u001b[0;34m,\u001b[0m\u001b[0;34m\u001b[0m\u001b[0;34m\u001b[0m\u001b[0m\n\u001b[0;32m--> 149\u001b[0;31m                          accept_large_sparse=False)\n\u001b[0m\u001b[1;32m    150\u001b[0m         \u001b[0my\u001b[0m \u001b[0;34m=\u001b[0m \u001b[0mself\u001b[0m\u001b[0;34m.\u001b[0m\u001b[0m_validate_targets\u001b[0m\u001b[0;34m(\u001b[0m\u001b[0my\u001b[0m\u001b[0;34m)\u001b[0m\u001b[0;34m\u001b[0m\u001b[0;34m\u001b[0m\u001b[0m\n\u001b[1;32m    151\u001b[0m \u001b[0;34m\u001b[0m\u001b[0m\n",
      "\u001b[0;32m~/anaconda3/lib/python3.7/site-packages/sklearn/utils/validation.py\u001b[0m in \u001b[0;36mcheck_X_y\u001b[0;34m(X, y, accept_sparse, accept_large_sparse, dtype, order, copy, force_all_finite, ensure_2d, allow_nd, multi_output, ensure_min_samples, ensure_min_features, y_numeric, warn_on_dtype, estimator)\u001b[0m\n\u001b[1;32m    764\u001b[0m         \u001b[0my\u001b[0m \u001b[0;34m=\u001b[0m \u001b[0my\u001b[0m\u001b[0;34m.\u001b[0m\u001b[0mastype\u001b[0m\u001b[0;34m(\u001b[0m\u001b[0mnp\u001b[0m\u001b[0;34m.\u001b[0m\u001b[0mfloat64\u001b[0m\u001b[0;34m)\u001b[0m\u001b[0;34m\u001b[0m\u001b[0;34m\u001b[0m\u001b[0m\n\u001b[1;32m    765\u001b[0m \u001b[0;34m\u001b[0m\u001b[0m\n\u001b[0;32m--> 766\u001b[0;31m     \u001b[0mcheck_consistent_length\u001b[0m\u001b[0;34m(\u001b[0m\u001b[0mX\u001b[0m\u001b[0;34m,\u001b[0m \u001b[0my\u001b[0m\u001b[0;34m)\u001b[0m\u001b[0;34m\u001b[0m\u001b[0;34m\u001b[0m\u001b[0m\n\u001b[0m\u001b[1;32m    767\u001b[0m \u001b[0;34m\u001b[0m\u001b[0m\n\u001b[1;32m    768\u001b[0m     \u001b[0;32mreturn\u001b[0m \u001b[0mX\u001b[0m\u001b[0;34m,\u001b[0m \u001b[0my\u001b[0m\u001b[0;34m\u001b[0m\u001b[0;34m\u001b[0m\u001b[0m\n",
      "\u001b[0;32m~/anaconda3/lib/python3.7/site-packages/sklearn/utils/validation.py\u001b[0m in \u001b[0;36mcheck_consistent_length\u001b[0;34m(*arrays)\u001b[0m\n\u001b[1;32m    233\u001b[0m     \u001b[0;32mif\u001b[0m \u001b[0mlen\u001b[0m\u001b[0;34m(\u001b[0m\u001b[0muniques\u001b[0m\u001b[0;34m)\u001b[0m \u001b[0;34m>\u001b[0m \u001b[0;36m1\u001b[0m\u001b[0;34m:\u001b[0m\u001b[0;34m\u001b[0m\u001b[0;34m\u001b[0m\u001b[0m\n\u001b[1;32m    234\u001b[0m         raise ValueError(\"Found input variables with inconsistent numbers of\"\n\u001b[0;32m--> 235\u001b[0;31m                          \" samples: %r\" % [int(l) for l in lengths])\n\u001b[0m\u001b[1;32m    236\u001b[0m \u001b[0;34m\u001b[0m\u001b[0m\n\u001b[1;32m    237\u001b[0m \u001b[0;34m\u001b[0m\u001b[0m\n",
      "\u001b[0;31mValueError\u001b[0m: Found input variables with inconsistent numbers of samples: [6940, 5786]"
     ]
    }
   ],
   "source": [
    "#SVM linear model with text data only\n",
    "SVM = svm.SVC(C=1.0, kernel = 'linear', degree = 3, gamma = 'auto')\n",
    "SVM.fit(tfidf_x_train, y_train)\n",
    "SVM_preds_test3 = SVM.predict(tfidf_x_test)\n",
    "SVM_preds_train3 = SVM.predict(tfidf_x_train)\n",
    "train_acc3 = str(round(accuracy_score(SVM_preds_train3, y_train),4)*100)+'%'\n",
    "test_acc3 = str(round(accuracy_score(SVM_preds_test3, y_test),4)*100)+'%'\n",
    "SVM_model_sum.append({'Model Name': 'SVM Classifier (linear, words only)',\n",
    "              'Training Accuracy': train_acc3,\n",
    "              'Testing Accuracy': test_acc3,\n",
    "              'Training F1-Score': str(round(f1_score(y_train, SVM_preds_train3, average = 'micro'),4)*100)+'%',\n",
    "              'Testing F1-Score': str(round(f1_score(y_test, SVM_preds_test3, average = 'micro'),4)*100)+'%'})"
   ]
  },
  {
   "cell_type": "code",
   "execution_count": 141,
   "metadata": {},
   "outputs": [
    {
     "data": {
      "text/plain": [
       "[{'Model Name': 'SVM Classifier (linear)',\n",
       "  'Training Accuracy': '94.16%',\n",
       "  'Testing Accuracy': '64.78%',\n",
       "  'Training F1-Score': '94.16%',\n",
       "  'Testing F1-Score': '64.78%'},\n",
       " {'Model Name': 'SVM Classifier (rbf)',\n",
       "  'Training Accuracy': '21.11%',\n",
       "  'Testing Accuracy': '21.15%',\n",
       "  'Training F1-Score': '21.11%',\n",
       "  'Testing F1-Score': '21.15%'},\n",
       " {'Model Name': 'SVM Classifier (sigmoid)',\n",
       "  'Training Accuracy': '21.11%',\n",
       "  'Testing Accuracy': '21.15%',\n",
       "  'Training F1-Score': '21.11%',\n",
       "  'Testing F1-Score': '21.15%'},\n",
       " {'Model Name': 'SVM Classifier (poly)',\n",
       "  'Training Accuracy': '21.11%',\n",
       "  'Testing Accuracy': '21.15%',\n",
       "  'Training F1-Score': '21.11%',\n",
       "  'Testing F1-Score': '21.15%'},\n",
       " {'Model Name': 'SVM Classifier (linear, words only)',\n",
       "  'Training Accuracy': '94.28%',\n",
       "  'Testing Accuracy': '65.01%',\n",
       "  'Training F1-Score': '94.28%',\n",
       "  'Testing F1-Score': '65.01%'}]"
      ]
     },
     "execution_count": 141,
     "metadata": {},
     "output_type": "execute_result"
    }
   ],
   "source": [
    "SVM_model_sum"
   ]
  },
  {
   "cell_type": "code",
   "execution_count": 142,
   "metadata": {},
   "outputs": [
    {
     "data": {
      "text/html": [
       "<div>\n",
       "<style scoped>\n",
       "    .dataframe tbody tr th:only-of-type {\n",
       "        vertical-align: middle;\n",
       "    }\n",
       "\n",
       "    .dataframe tbody tr th {\n",
       "        vertical-align: top;\n",
       "    }\n",
       "\n",
       "    .dataframe thead th {\n",
       "        text-align: right;\n",
       "    }\n",
       "</style>\n",
       "<table border=\"1\" class=\"dataframe\">\n",
       "  <thead>\n",
       "    <tr style=\"text-align: right;\">\n",
       "      <th></th>\n",
       "      <th>Model Name</th>\n",
       "      <th>Testing Accuracy</th>\n",
       "      <th>Testing F1-Score</th>\n",
       "      <th>Training Accuracy</th>\n",
       "      <th>Training F1-Score</th>\n",
       "    </tr>\n",
       "  </thead>\n",
       "  <tbody>\n",
       "    <tr>\n",
       "      <th>0</th>\n",
       "      <td>SVM Classifier (linear)</td>\n",
       "      <td>64.78%</td>\n",
       "      <td>64.78%</td>\n",
       "      <td>94.16%</td>\n",
       "      <td>94.16%</td>\n",
       "    </tr>\n",
       "    <tr>\n",
       "      <th>1</th>\n",
       "      <td>SVM Classifier (rbf)</td>\n",
       "      <td>21.15%</td>\n",
       "      <td>21.15%</td>\n",
       "      <td>21.11%</td>\n",
       "      <td>21.11%</td>\n",
       "    </tr>\n",
       "    <tr>\n",
       "      <th>2</th>\n",
       "      <td>SVM Classifier (sigmoid)</td>\n",
       "      <td>21.15%</td>\n",
       "      <td>21.15%</td>\n",
       "      <td>21.11%</td>\n",
       "      <td>21.11%</td>\n",
       "    </tr>\n",
       "    <tr>\n",
       "      <th>3</th>\n",
       "      <td>SVM Classifier (poly)</td>\n",
       "      <td>21.15%</td>\n",
       "      <td>21.15%</td>\n",
       "      <td>21.11%</td>\n",
       "      <td>21.11%</td>\n",
       "    </tr>\n",
       "    <tr>\n",
       "      <th>4</th>\n",
       "      <td>SVM Classifier (linear, words only)</td>\n",
       "      <td>65.01%</td>\n",
       "      <td>65.01%</td>\n",
       "      <td>94.28%</td>\n",
       "      <td>94.28%</td>\n",
       "    </tr>\n",
       "  </tbody>\n",
       "</table>\n",
       "</div>"
      ],
      "text/plain": [
       "                            Model Name Testing Accuracy Testing F1-Score  \\\n",
       "0              SVM Classifier (linear)           64.78%           64.78%   \n",
       "1                 SVM Classifier (rbf)           21.15%           21.15%   \n",
       "2             SVM Classifier (sigmoid)           21.15%           21.15%   \n",
       "3                SVM Classifier (poly)           21.15%           21.15%   \n",
       "4  SVM Classifier (linear, words only)           65.01%           65.01%   \n",
       "\n",
       "  Training Accuracy Training F1-Score  \n",
       "0            94.16%            94.16%  \n",
       "1            21.11%            21.11%  \n",
       "2            21.11%            21.11%  \n",
       "3            21.11%            21.11%  \n",
       "4            94.28%            94.28%  "
      ]
     },
     "execution_count": 142,
     "metadata": {},
     "output_type": "execute_result"
    }
   ],
   "source": [
    "df_SVM_sum = pd.DataFrame(SVM_model_sum)\n",
    "df_SVM_sum"
   ]
  },
  {
   "cell_type": "code",
   "execution_count": 143,
   "metadata": {},
   "outputs": [],
   "source": [
    "df_SVM_sum.to_csv('df_SVM_sum.csv')"
   ]
  },
  {
   "cell_type": "code",
   "execution_count": null,
   "metadata": {},
   "outputs": [],
   "source": []
  },
  {
   "cell_type": "code",
   "execution_count": null,
   "metadata": {},
   "outputs": [],
   "source": [
    "categories = ['INFP', 'ENFJ','ENFP','ENTJ','ENTP','ESFJ','ESFP','ESTJ','ESTP','INFJ','INTJ','INTP','ISFJ','ISFP','ISTJ','ISTP']\n",
    "for i in SVM_model_sum:\n",
    "    print(classification_report(y_true, y_pred, target_names=categories)"
   ]
  },
  {
   "cell_type": "code",
   "execution_count": null,
   "metadata": {},
   "outputs": [],
   "source": []
  },
  {
   "cell_type": "code",
   "execution_count": null,
   "metadata": {},
   "outputs": [],
   "source": []
  },
  {
   "cell_type": "code",
   "execution_count": null,
   "metadata": {},
   "outputs": [],
   "source": []
  },
  {
   "cell_type": "code",
   "execution_count": null,
   "metadata": {},
   "outputs": [],
   "source": []
  },
  {
   "cell_type": "code",
   "execution_count": null,
   "metadata": {},
   "outputs": [],
   "source": []
  },
  {
   "cell_type": "code",
   "execution_count": 67,
   "metadata": {},
   "outputs": [
    {
     "data": {
      "text/plain": [
       "SVC(C=1.0, cache_size=200, class_weight=None, coef0=0.0,\n",
       "  decision_function_shape='ovr', degree=3, gamma='auto', kernel='linear',\n",
       "  max_iter=-1, probability=False, random_state=None, shrinking=True,\n",
       "  tol=0.001, verbose=False)"
      ]
     },
     "execution_count": 67,
     "metadata": {},
     "output_type": "execute_result"
    }
   ],
   "source": [
    "SVM = svm.SVC(C=1.0, kernel = 'linear', degree = 3, gamma = 'auto')\n",
    "SVM.fit(tfidf_x_trainm, ym_train)"
   ]
  },
  {
   "cell_type": "code",
   "execution_count": 68,
   "metadata": {},
   "outputs": [],
   "source": [
    "SVM_preds_test = SVM.predict(tfidf_x_testm)\n",
    "SVM_preds_train = SVM.predict(tfidf_x_trainm)"
   ]
  },
  {
   "cell_type": "code",
   "execution_count": 69,
   "metadata": {},
   "outputs": [
    {
     "data": {
      "text/plain": [
       "0.94164265129683"
      ]
     },
     "execution_count": 69,
     "metadata": {},
     "output_type": "execute_result"
    }
   ],
   "source": [
    "accuracy_score(SVM_preds_train, ym_train)"
   ]
  },
  {
   "cell_type": "code",
   "execution_count": 70,
   "metadata": {},
   "outputs": [
    {
     "data": {
      "text/plain": [
       "0.6478386167146974"
      ]
     },
     "execution_count": 70,
     "metadata": {},
     "output_type": "execute_result"
    }
   ],
   "source": [
    "accuracy_score(SVM_preds_test, ym_test)"
   ]
  },
  {
   "cell_type": "code",
   "execution_count": 119,
   "metadata": {},
   "outputs": [],
   "source": [
    "SVM_f1_train_lin = f1_score(ym_train, SVM_preds_train, average = 'micro')\n",
    "SVM_f1_test_lin = f1_score(ym_test, SVM_preds_test, average = 'micro')"
   ]
  },
  {
   "cell_type": "code",
   "execution_count": 123,
   "metadata": {},
   "outputs": [],
   "source": [
    "SVM_model_sum[0]['Training F1-Score'] = str(round(SVM_f1_train_lin,4)*100)+'%'\n",
    "SVM_model_sum[0]['Testing F1-Score'] = str(round(SVM_f1_test_lin,4)*100)+'%'"
   ]
  },
  {
   "cell_type": "code",
   "execution_count": 124,
   "metadata": {},
   "outputs": [
    {
     "data": {
      "text/plain": [
       "[{'Model Name': 'SVM Classifier (linear)',\n",
       "  'Training Accuracy': '94.16%',\n",
       "  'Testing Accuracy': '64.78%',\n",
       "  'Training F1-Score': '94.16%',\n",
       "  'Testing F1-Score': '64.78%'},\n",
       " {'Model Name': 'SVM Classifier (poly)',\n",
       "  'Training Accuracy': '21.11%',\n",
       "  'Testing Accuracy': '21.15%'},\n",
       " {'Model Name': 'SVM Classifier (rbf)',\n",
       "  'Training Accuracy': '21.11%',\n",
       "  'Testing Accuracy': '21.15%'},\n",
       " {'Model Name': 'SVM Classifier (sigmoid)',\n",
       "  'Training Accuracy': '21.11%',\n",
       "  'Testing Accuracy': '21.15%'},\n",
       " {'Model Name': 'SVM Classifier (poly)',\n",
       "  'Training Accuracy': '21.11%',\n",
       "  'Testing Accuracy': '21.15%'},\n",
       " {'Model Name': 'SVM Classifier (rbf)',\n",
       "  'Training Accuracy': '21.11%',\n",
       "  'Testing Accuracy': '21.15%'},\n",
       " {'Model Name': 'SVM Classifier (sigmoid)',\n",
       "  'Training Accuracy': '21.11%',\n",
       "  'Testing Accuracy': '21.15%'},\n",
       " {'Model Name': 'SVM Classifier (linear, words only)',\n",
       "  'Training Accuracy': '94.28%',\n",
       "  'Testing Accuracy': '65.01%'}]"
      ]
     },
     "execution_count": 124,
     "metadata": {},
     "output_type": "execute_result"
    }
   ],
   "source": [
    "SVM_model_sum"
   ]
  },
  {
   "cell_type": "code",
   "execution_count": 125,
   "metadata": {},
   "outputs": [],
   "source": [
    "df_model_sum = pd.DataFrame(SVM_model_sum)"
   ]
  },
  {
   "cell_type": "code",
   "execution_count": 126,
   "metadata": {},
   "outputs": [
    {
     "data": {
      "text/html": [
       "<div>\n",
       "<style scoped>\n",
       "    .dataframe tbody tr th:only-of-type {\n",
       "        vertical-align: middle;\n",
       "    }\n",
       "\n",
       "    .dataframe tbody tr th {\n",
       "        vertical-align: top;\n",
       "    }\n",
       "\n",
       "    .dataframe thead th {\n",
       "        text-align: right;\n",
       "    }\n",
       "</style>\n",
       "<table border=\"1\" class=\"dataframe\">\n",
       "  <thead>\n",
       "    <tr style=\"text-align: right;\">\n",
       "      <th></th>\n",
       "      <th>Model Name</th>\n",
       "      <th>Testing Accuracy</th>\n",
       "      <th>Testing F1-Score</th>\n",
       "      <th>Training Accuracy</th>\n",
       "      <th>Training F1-Score</th>\n",
       "    </tr>\n",
       "  </thead>\n",
       "  <tbody>\n",
       "    <tr>\n",
       "      <th>0</th>\n",
       "      <td>SVM Classifier (linear)</td>\n",
       "      <td>64.78%</td>\n",
       "      <td>64.78%</td>\n",
       "      <td>94.16%</td>\n",
       "      <td>94.16%</td>\n",
       "    </tr>\n",
       "    <tr>\n",
       "      <th>1</th>\n",
       "      <td>SVM Classifier (poly)</td>\n",
       "      <td>21.15%</td>\n",
       "      <td>NaN</td>\n",
       "      <td>21.11%</td>\n",
       "      <td>NaN</td>\n",
       "    </tr>\n",
       "    <tr>\n",
       "      <th>2</th>\n",
       "      <td>SVM Classifier (rbf)</td>\n",
       "      <td>21.15%</td>\n",
       "      <td>NaN</td>\n",
       "      <td>21.11%</td>\n",
       "      <td>NaN</td>\n",
       "    </tr>\n",
       "    <tr>\n",
       "      <th>3</th>\n",
       "      <td>SVM Classifier (sigmoid)</td>\n",
       "      <td>21.15%</td>\n",
       "      <td>NaN</td>\n",
       "      <td>21.11%</td>\n",
       "      <td>NaN</td>\n",
       "    </tr>\n",
       "    <tr>\n",
       "      <th>4</th>\n",
       "      <td>SVM Classifier (poly)</td>\n",
       "      <td>21.15%</td>\n",
       "      <td>NaN</td>\n",
       "      <td>21.11%</td>\n",
       "      <td>NaN</td>\n",
       "    </tr>\n",
       "    <tr>\n",
       "      <th>5</th>\n",
       "      <td>SVM Classifier (rbf)</td>\n",
       "      <td>21.15%</td>\n",
       "      <td>NaN</td>\n",
       "      <td>21.11%</td>\n",
       "      <td>NaN</td>\n",
       "    </tr>\n",
       "    <tr>\n",
       "      <th>6</th>\n",
       "      <td>SVM Classifier (sigmoid)</td>\n",
       "      <td>21.15%</td>\n",
       "      <td>NaN</td>\n",
       "      <td>21.11%</td>\n",
       "      <td>NaN</td>\n",
       "    </tr>\n",
       "    <tr>\n",
       "      <th>7</th>\n",
       "      <td>SVM Classifier (linear, words only)</td>\n",
       "      <td>65.01%</td>\n",
       "      <td>NaN</td>\n",
       "      <td>94.28%</td>\n",
       "      <td>NaN</td>\n",
       "    </tr>\n",
       "  </tbody>\n",
       "</table>\n",
       "</div>"
      ],
      "text/plain": [
       "                            Model Name Testing Accuracy Testing F1-Score  \\\n",
       "0              SVM Classifier (linear)           64.78%           64.78%   \n",
       "1                SVM Classifier (poly)           21.15%              NaN   \n",
       "2                 SVM Classifier (rbf)           21.15%              NaN   \n",
       "3             SVM Classifier (sigmoid)           21.15%              NaN   \n",
       "4                SVM Classifier (poly)           21.15%              NaN   \n",
       "5                 SVM Classifier (rbf)           21.15%              NaN   \n",
       "6             SVM Classifier (sigmoid)           21.15%              NaN   \n",
       "7  SVM Classifier (linear, words only)           65.01%              NaN   \n",
       "\n",
       "  Training Accuracy Training F1-Score  \n",
       "0            94.16%            94.16%  \n",
       "1            21.11%               NaN  \n",
       "2            21.11%               NaN  \n",
       "3            21.11%               NaN  \n",
       "4            21.11%               NaN  \n",
       "5            21.11%               NaN  \n",
       "6            21.11%               NaN  \n",
       "7            94.28%               NaN  "
      ]
     },
     "execution_count": 126,
     "metadata": {},
     "output_type": "execute_result"
    }
   ],
   "source": [
    "df_model_sum"
   ]
  },
  {
   "cell_type": "code",
   "execution_count": 131,
   "metadata": {},
   "outputs": [
    {
     "data": {
      "text/plain": [
       "[{'Model Name': 'SVM Classifier (poly)',\n",
       "  'Training Accuracy': 0.21109510086455333,\n",
       "  'Testing Accuracy': 0.21152737752161382}]"
      ]
     },
     "execution_count": 131,
     "metadata": {},
     "output_type": "execute_result"
    }
   ],
   "source": [
    "SVM_model_sum"
   ]
  },
  {
   "cell_type": "code",
   "execution_count": null,
   "metadata": {},
   "outputs": [],
   "source": [
    "SVM_model_sum[0]['Training F1-Score'] = str(round(SVM_f1_train_lin,4)*100)+'%'\n",
    "SVM_model_sum[0]['Testing F1-Score'] = str(round(SVM_f1_test_lin,4)*100)+'%'"
   ]
  },
  {
   "cell_type": "code",
   "execution_count": null,
   "metadata": {},
   "outputs": [],
   "source": []
  },
  {
   "cell_type": "code",
   "execution_count": null,
   "metadata": {},
   "outputs": [],
   "source": []
  },
  {
   "cell_type": "code",
   "execution_count": 90,
   "metadata": {},
   "outputs": [
    {
     "data": {
      "text/plain": [
       "(0.21109510086455333, 0.21152737752161382)"
      ]
     },
     "execution_count": 90,
     "metadata": {},
     "output_type": "execute_result"
    }
   ],
   "source": [
    "rbf = SVM_classifier('rbf')"
   ]
  },
  {
   "cell_type": "code",
   "execution_count": 91,
   "metadata": {},
   "outputs": [
    {
     "data": {
      "text/plain": [
       "(0.21109510086455333, 0.21152737752161382)"
      ]
     },
     "execution_count": 91,
     "metadata": {},
     "output_type": "execute_result"
    }
   ],
   "source": [
    "sigmoid = SVM_classifier('sigmoid')"
   ]
  },
  {
   "cell_type": "code",
   "execution_count": 93,
   "metadata": {},
   "outputs": [
    {
     "ename": "NameError",
     "evalue": "name 'train_acc' is not defined",
     "output_type": "error",
     "traceback": [
      "\u001b[0;31m---------------------------------------------------------------------------\u001b[0m",
      "\u001b[0;31mNameError\u001b[0m                                 Traceback (most recent call last)",
      "\u001b[0;32m<ipython-input-93-628ab061e908>\u001b[0m in \u001b[0;36m<module>\u001b[0;34m\u001b[0m\n\u001b[1;32m      9\u001b[0m               \u001b[0;34m'Training Accuracy'\u001b[0m\u001b[0;34m:\u001b[0m \u001b[0mtrain_acc3\u001b[0m\u001b[0;34m,\u001b[0m\u001b[0;34m\u001b[0m\u001b[0;34m\u001b[0m\u001b[0m\n\u001b[1;32m     10\u001b[0m               'Testing Accuracy': test_acc3})\n\u001b[0;32m---> 11\u001b[0;31m \u001b[0mtrain_acc\u001b[0m\u001b[0;34m,\u001b[0m \u001b[0mtest_acc\u001b[0m\u001b[0;34m\u001b[0m\u001b[0;34m\u001b[0m\u001b[0m\n\u001b[0m",
      "\u001b[0;31mNameError\u001b[0m: name 'train_acc' is not defined"
     ]
    }
   ],
   "source": [
    "#SVM model (linear) on text data only\n",
    "SVM = svm.SVC(C=1.0, kernel = 'linear', degree = 3, gamma = 'auto')\n",
    "SVM.fit(tfidf_x_train, y_train)\n",
    "SVM_preds_test3 = SVM.predict(tfidf_x_test)\n",
    "SVM_preds_train3 = SVM.predict(tfidf_x_train)\n",
    "train_acc3 = accuracy_score(SVM_preds_train3, y_train)\n",
    "test_acc3 = accuracy_score(SVM_preds_test3, y_test)\n",
    "SVM_model_sum.append({'Model Name': 'SVM Classifier (kernel = linear; vectorized words only)',\n",
    "              'Training Accuracy': train_acc3,\n",
    "              'Testing Accuracy': test_acc3})\n"
   ]
  },
  {
   "cell_type": "code",
   "execution_count": null,
   "metadata": {},
   "outputs": [],
   "source": []
  },
  {
   "cell_type": "code",
   "execution_count": 108,
   "metadata": {
    "scrolled": true
   },
   "outputs": [
    {
     "data": {
      "text/plain": [
       "[{'Model Name': 'SVM Classifier (linear)',\n",
       "  'Training Accuracy': '94.16%',\n",
       "  'Testing Accuracy': '64.78%'},\n",
       " {'Model Name': 'SVM Classifier (poly)',\n",
       "  'Training Accuracy': '21.11%',\n",
       "  'Testing Accuracy': '21.15%'},\n",
       " {'Model Name': 'SVM Classifier (rbf)',\n",
       "  'Training Accuracy': '21.11%',\n",
       "  'Testing Accuracy': '21.15%'},\n",
       " {'Model Name': 'SVM Classifier (sigmoid)',\n",
       "  'Training Accuracy': '21.11%',\n",
       "  'Testing Accuracy': '21.15%'},\n",
       " {'Model Name': 'SVM Classifier (poly)',\n",
       "  'Training Accuracy': '21.11%',\n",
       "  'Testing Accuracy': '21.15%'},\n",
       " {'Model Name': 'SVM Classifier (rbf)',\n",
       "  'Training Accuracy': '21.11%',\n",
       "  'Testing Accuracy': '21.15%'},\n",
       " {'Model Name': 'SVM Classifier (sigmoid)',\n",
       "  'Training Accuracy': '21.11%',\n",
       "  'Testing Accuracy': '21.15%'},\n",
       " {'Model Name': 'SVM Classifier (kernel = linear; vectorized words only)',\n",
       "  'Training Accuracy': '94.28%',\n",
       "  'Testing Accuracy': '65.01%'}]"
      ]
     },
     "execution_count": 108,
     "metadata": {},
     "output_type": "execute_result"
    }
   ],
   "source": [
    "SVM_model_sum"
   ]
  },
  {
   "cell_type": "code",
   "execution_count": 106,
   "metadata": {},
   "outputs": [
    {
     "ename": "TypeError",
     "evalue": "type str doesn't define __round__ method",
     "output_type": "error",
     "traceback": [
      "\u001b[0;31m---------------------------------------------------------------------------\u001b[0m",
      "\u001b[0;31mTypeError\u001b[0m                                 Traceback (most recent call last)",
      "\u001b[0;32m<ipython-input-106-f15583f2ecc0>\u001b[0m in \u001b[0;36m<module>\u001b[0;34m\u001b[0m\n\u001b[1;32m      1\u001b[0m \u001b[0;32mfor\u001b[0m \u001b[0mi\u001b[0m \u001b[0;32min\u001b[0m \u001b[0mSVM_model_sum\u001b[0m\u001b[0;34m:\u001b[0m\u001b[0;34m\u001b[0m\u001b[0;34m\u001b[0m\u001b[0m\n\u001b[0;32m----> 2\u001b[0;31m     \u001b[0mi\u001b[0m\u001b[0;34m[\u001b[0m\u001b[0;34m'Training Accuracy'\u001b[0m\u001b[0;34m]\u001b[0m \u001b[0;34m=\u001b[0m \u001b[0mstr\u001b[0m\u001b[0;34m(\u001b[0m\u001b[0mround\u001b[0m\u001b[0;34m(\u001b[0m\u001b[0mi\u001b[0m\u001b[0;34m[\u001b[0m\u001b[0;34m'Training Accuracy'\u001b[0m\u001b[0;34m]\u001b[0m\u001b[0;34m,\u001b[0m\u001b[0;36m4\u001b[0m\u001b[0;34m)\u001b[0m\u001b[0;34m*\u001b[0m\u001b[0;36m100\u001b[0m\u001b[0;34m)\u001b[0m\u001b[0;34m+\u001b[0m\u001b[0;34m'%'\u001b[0m\u001b[0;34m\u001b[0m\u001b[0;34m\u001b[0m\u001b[0m\n\u001b[0m\u001b[1;32m      3\u001b[0m     \u001b[0mi\u001b[0m\u001b[0;34m[\u001b[0m\u001b[0;34m'Testing Accuracy'\u001b[0m\u001b[0;34m]\u001b[0m \u001b[0;34m=\u001b[0m \u001b[0mstr\u001b[0m\u001b[0;34m(\u001b[0m\u001b[0mround\u001b[0m\u001b[0;34m(\u001b[0m\u001b[0mi\u001b[0m\u001b[0;34m[\u001b[0m\u001b[0;34m'Testing Accuracy'\u001b[0m\u001b[0;34m]\u001b[0m\u001b[0;34m,\u001b[0m\u001b[0;36m4\u001b[0m\u001b[0;34m)\u001b[0m\u001b[0;34m*\u001b[0m\u001b[0;36m100\u001b[0m\u001b[0;34m)\u001b[0m\u001b[0;34m+\u001b[0m\u001b[0;34m'%'\u001b[0m\u001b[0;34m\u001b[0m\u001b[0;34m\u001b[0m\u001b[0m\n",
      "\u001b[0;31mTypeError\u001b[0m: type str doesn't define __round__ method"
     ]
    }
   ],
   "source": [
    "for i in SVM_model_sum:\n",
    "    i['Training Accuracy'] = str(round(i['Training Accuracy'],4)*100)+'%'\n",
    "    i['Testing Accuracy'] = str(round(i['Testing Accuracy'],4)*100)+'%'"
   ]
  },
  {
   "cell_type": "code",
   "execution_count": 107,
   "metadata": {},
   "outputs": [
    {
     "data": {
      "text/plain": [
       "[{'Model Name': 'SVM Classifier (linear)',\n",
       "  'Training Accuracy': '94.16%',\n",
       "  'Testing Accuracy': '64.78%'},\n",
       " {'Model Name': 'SVM Classifier (poly)',\n",
       "  'Training Accuracy': '21.11%',\n",
       "  'Testing Accuracy': '21.15%'},\n",
       " {'Model Name': 'SVM Classifier (rbf)',\n",
       "  'Training Accuracy': '21.11%',\n",
       "  'Testing Accuracy': '21.15%'},\n",
       " {'Model Name': 'SVM Classifier (sigmoid)',\n",
       "  'Training Accuracy': '21.11%',\n",
       "  'Testing Accuracy': '21.15%'},\n",
       " {'Model Name': 'SVM Classifier (poly)',\n",
       "  'Training Accuracy': '21.11%',\n",
       "  'Testing Accuracy': '21.15%'},\n",
       " {'Model Name': 'SVM Classifier (rbf)',\n",
       "  'Training Accuracy': '21.11%',\n",
       "  'Testing Accuracy': '21.15%'},\n",
       " {'Model Name': 'SVM Classifier (sigmoid)',\n",
       "  'Training Accuracy': '21.11%',\n",
       "  'Testing Accuracy': '21.15%'},\n",
       " {'Model Name': 'SVM Classifier (kernel = linear; vectorized words only)',\n",
       "  'Training Accuracy': '94.28%',\n",
       "  'Testing Accuracy': '65.01%'}]"
      ]
     },
     "execution_count": 107,
     "metadata": {},
     "output_type": "execute_result"
    }
   ],
   "source": [
    "SVM_model_sum"
   ]
  },
  {
   "cell_type": "code",
   "execution_count": 109,
   "metadata": {},
   "outputs": [],
   "source": [
    "SVM_model_sum[-1]['Model Name'] = 'SVM Classifier (linear, words only)'"
   ]
  },
  {
   "cell_type": "code",
   "execution_count": null,
   "metadata": {},
   "outputs": [],
   "source": []
  },
  {
   "cell_type": "code",
   "execution_count": 110,
   "metadata": {},
   "outputs": [],
   "source": [
    "df_model_sum = pd.DataFrame(SVM_model_sum)"
   ]
  },
  {
   "cell_type": "code",
   "execution_count": 111,
   "metadata": {
    "scrolled": true
   },
   "outputs": [
    {
     "data": {
      "text/html": [
       "<div>\n",
       "<style scoped>\n",
       "    .dataframe tbody tr th:only-of-type {\n",
       "        vertical-align: middle;\n",
       "    }\n",
       "\n",
       "    .dataframe tbody tr th {\n",
       "        vertical-align: top;\n",
       "    }\n",
       "\n",
       "    .dataframe thead th {\n",
       "        text-align: right;\n",
       "    }\n",
       "</style>\n",
       "<table border=\"1\" class=\"dataframe\">\n",
       "  <thead>\n",
       "    <tr style=\"text-align: right;\">\n",
       "      <th></th>\n",
       "      <th>Model Name</th>\n",
       "      <th>Testing Accuracy</th>\n",
       "      <th>Training Accuracy</th>\n",
       "    </tr>\n",
       "  </thead>\n",
       "  <tbody>\n",
       "    <tr>\n",
       "      <th>0</th>\n",
       "      <td>SVM Classifier (linear)</td>\n",
       "      <td>64.78%</td>\n",
       "      <td>94.16%</td>\n",
       "    </tr>\n",
       "    <tr>\n",
       "      <th>1</th>\n",
       "      <td>SVM Classifier (poly)</td>\n",
       "      <td>21.15%</td>\n",
       "      <td>21.11%</td>\n",
       "    </tr>\n",
       "    <tr>\n",
       "      <th>2</th>\n",
       "      <td>SVM Classifier (rbf)</td>\n",
       "      <td>21.15%</td>\n",
       "      <td>21.11%</td>\n",
       "    </tr>\n",
       "    <tr>\n",
       "      <th>3</th>\n",
       "      <td>SVM Classifier (sigmoid)</td>\n",
       "      <td>21.15%</td>\n",
       "      <td>21.11%</td>\n",
       "    </tr>\n",
       "    <tr>\n",
       "      <th>4</th>\n",
       "      <td>SVM Classifier (poly)</td>\n",
       "      <td>21.15%</td>\n",
       "      <td>21.11%</td>\n",
       "    </tr>\n",
       "    <tr>\n",
       "      <th>5</th>\n",
       "      <td>SVM Classifier (rbf)</td>\n",
       "      <td>21.15%</td>\n",
       "      <td>21.11%</td>\n",
       "    </tr>\n",
       "    <tr>\n",
       "      <th>6</th>\n",
       "      <td>SVM Classifier (sigmoid)</td>\n",
       "      <td>21.15%</td>\n",
       "      <td>21.11%</td>\n",
       "    </tr>\n",
       "    <tr>\n",
       "      <th>7</th>\n",
       "      <td>SVM Classifier (linear, words only)</td>\n",
       "      <td>65.01%</td>\n",
       "      <td>94.28%</td>\n",
       "    </tr>\n",
       "  </tbody>\n",
       "</table>\n",
       "</div>"
      ],
      "text/plain": [
       "                            Model Name Testing Accuracy Training Accuracy\n",
       "0              SVM Classifier (linear)           64.78%            94.16%\n",
       "1                SVM Classifier (poly)           21.15%            21.11%\n",
       "2                 SVM Classifier (rbf)           21.15%            21.11%\n",
       "3             SVM Classifier (sigmoid)           21.15%            21.11%\n",
       "4                SVM Classifier (poly)           21.15%            21.11%\n",
       "5                 SVM Classifier (rbf)           21.15%            21.11%\n",
       "6             SVM Classifier (sigmoid)           21.15%            21.11%\n",
       "7  SVM Classifier (linear, words only)           65.01%            94.28%"
      ]
     },
     "execution_count": 111,
     "metadata": {},
     "output_type": "execute_result"
    }
   ],
   "source": [
    "df_model_sum"
   ]
  },
  {
   "cell_type": "code",
   "execution_count": 115,
   "metadata": {},
   "outputs": [
    {
     "ename": "KeyError",
     "evalue": "'[1 2 3] not found in axis'",
     "output_type": "error",
     "traceback": [
      "\u001b[0;31m---------------------------------------------------------------------------\u001b[0m",
      "\u001b[0;31mKeyError\u001b[0m                                  Traceback (most recent call last)",
      "\u001b[0;32m<ipython-input-115-f504cd176899>\u001b[0m in \u001b[0;36m<module>\u001b[0;34m\u001b[0m\n\u001b[0;32m----> 1\u001b[0;31m \u001b[0mdf_model_sum\u001b[0m\u001b[0;34m.\u001b[0m\u001b[0mdrop\u001b[0m\u001b[0;34m(\u001b[0m\u001b[0maxis\u001b[0m \u001b[0;34m=\u001b[0m \u001b[0;36m0\u001b[0m\u001b[0;34m,\u001b[0m \u001b[0mindex\u001b[0m \u001b[0;34m=\u001b[0m \u001b[0;34m[\u001b[0m\u001b[0;36m1\u001b[0m\u001b[0;34m,\u001b[0m\u001b[0;36m2\u001b[0m\u001b[0;34m,\u001b[0m\u001b[0;36m3\u001b[0m\u001b[0;34m]\u001b[0m\u001b[0;34m,\u001b[0m \u001b[0minplace\u001b[0m \u001b[0;34m=\u001b[0m \u001b[0;32mTrue\u001b[0m\u001b[0;34m)\u001b[0m\u001b[0;34m\u001b[0m\u001b[0;34m\u001b[0m\u001b[0m\n\u001b[0m",
      "\u001b[0;32m~/anaconda3/lib/python3.7/site-packages/pandas/core/frame.py\u001b[0m in \u001b[0;36mdrop\u001b[0;34m(self, labels, axis, index, columns, level, inplace, errors)\u001b[0m\n\u001b[1;32m   3695\u001b[0m                                            \u001b[0mindex\u001b[0m\u001b[0;34m=\u001b[0m\u001b[0mindex\u001b[0m\u001b[0;34m,\u001b[0m \u001b[0mcolumns\u001b[0m\u001b[0;34m=\u001b[0m\u001b[0mcolumns\u001b[0m\u001b[0;34m,\u001b[0m\u001b[0;34m\u001b[0m\u001b[0;34m\u001b[0m\u001b[0m\n\u001b[1;32m   3696\u001b[0m                                            \u001b[0mlevel\u001b[0m\u001b[0;34m=\u001b[0m\u001b[0mlevel\u001b[0m\u001b[0;34m,\u001b[0m \u001b[0minplace\u001b[0m\u001b[0;34m=\u001b[0m\u001b[0minplace\u001b[0m\u001b[0;34m,\u001b[0m\u001b[0;34m\u001b[0m\u001b[0;34m\u001b[0m\u001b[0m\n\u001b[0;32m-> 3697\u001b[0;31m                                            errors=errors)\n\u001b[0m\u001b[1;32m   3698\u001b[0m \u001b[0;34m\u001b[0m\u001b[0m\n\u001b[1;32m   3699\u001b[0m     @rewrite_axis_style_signature('mapper', [('copy', True),\n",
      "\u001b[0;32m~/anaconda3/lib/python3.7/site-packages/pandas/core/generic.py\u001b[0m in \u001b[0;36mdrop\u001b[0;34m(self, labels, axis, index, columns, level, inplace, errors)\u001b[0m\n\u001b[1;32m   3109\u001b[0m         \u001b[0;32mfor\u001b[0m \u001b[0maxis\u001b[0m\u001b[0;34m,\u001b[0m \u001b[0mlabels\u001b[0m \u001b[0;32min\u001b[0m \u001b[0maxes\u001b[0m\u001b[0;34m.\u001b[0m\u001b[0mitems\u001b[0m\u001b[0;34m(\u001b[0m\u001b[0;34m)\u001b[0m\u001b[0;34m:\u001b[0m\u001b[0;34m\u001b[0m\u001b[0;34m\u001b[0m\u001b[0m\n\u001b[1;32m   3110\u001b[0m             \u001b[0;32mif\u001b[0m \u001b[0mlabels\u001b[0m \u001b[0;32mis\u001b[0m \u001b[0;32mnot\u001b[0m \u001b[0;32mNone\u001b[0m\u001b[0;34m:\u001b[0m\u001b[0;34m\u001b[0m\u001b[0;34m\u001b[0m\u001b[0m\n\u001b[0;32m-> 3111\u001b[0;31m                 \u001b[0mobj\u001b[0m \u001b[0;34m=\u001b[0m \u001b[0mobj\u001b[0m\u001b[0;34m.\u001b[0m\u001b[0m_drop_axis\u001b[0m\u001b[0;34m(\u001b[0m\u001b[0mlabels\u001b[0m\u001b[0;34m,\u001b[0m \u001b[0maxis\u001b[0m\u001b[0;34m,\u001b[0m \u001b[0mlevel\u001b[0m\u001b[0;34m=\u001b[0m\u001b[0mlevel\u001b[0m\u001b[0;34m,\u001b[0m \u001b[0merrors\u001b[0m\u001b[0;34m=\u001b[0m\u001b[0merrors\u001b[0m\u001b[0;34m)\u001b[0m\u001b[0;34m\u001b[0m\u001b[0;34m\u001b[0m\u001b[0m\n\u001b[0m\u001b[1;32m   3112\u001b[0m \u001b[0;34m\u001b[0m\u001b[0m\n\u001b[1;32m   3113\u001b[0m         \u001b[0;32mif\u001b[0m \u001b[0minplace\u001b[0m\u001b[0;34m:\u001b[0m\u001b[0;34m\u001b[0m\u001b[0;34m\u001b[0m\u001b[0m\n",
      "\u001b[0;32m~/anaconda3/lib/python3.7/site-packages/pandas/core/generic.py\u001b[0m in \u001b[0;36m_drop_axis\u001b[0;34m(self, labels, axis, level, errors)\u001b[0m\n\u001b[1;32m   3141\u001b[0m                 \u001b[0mnew_axis\u001b[0m \u001b[0;34m=\u001b[0m \u001b[0maxis\u001b[0m\u001b[0;34m.\u001b[0m\u001b[0mdrop\u001b[0m\u001b[0;34m(\u001b[0m\u001b[0mlabels\u001b[0m\u001b[0;34m,\u001b[0m \u001b[0mlevel\u001b[0m\u001b[0;34m=\u001b[0m\u001b[0mlevel\u001b[0m\u001b[0;34m,\u001b[0m \u001b[0merrors\u001b[0m\u001b[0;34m=\u001b[0m\u001b[0merrors\u001b[0m\u001b[0;34m)\u001b[0m\u001b[0;34m\u001b[0m\u001b[0;34m\u001b[0m\u001b[0m\n\u001b[1;32m   3142\u001b[0m             \u001b[0;32melse\u001b[0m\u001b[0;34m:\u001b[0m\u001b[0;34m\u001b[0m\u001b[0;34m\u001b[0m\u001b[0m\n\u001b[0;32m-> 3143\u001b[0;31m                 \u001b[0mnew_axis\u001b[0m \u001b[0;34m=\u001b[0m \u001b[0maxis\u001b[0m\u001b[0;34m.\u001b[0m\u001b[0mdrop\u001b[0m\u001b[0;34m(\u001b[0m\u001b[0mlabels\u001b[0m\u001b[0;34m,\u001b[0m \u001b[0merrors\u001b[0m\u001b[0;34m=\u001b[0m\u001b[0merrors\u001b[0m\u001b[0;34m)\u001b[0m\u001b[0;34m\u001b[0m\u001b[0;34m\u001b[0m\u001b[0m\n\u001b[0m\u001b[1;32m   3144\u001b[0m             \u001b[0mresult\u001b[0m \u001b[0;34m=\u001b[0m \u001b[0mself\u001b[0m\u001b[0;34m.\u001b[0m\u001b[0mreindex\u001b[0m\u001b[0;34m(\u001b[0m\u001b[0;34m**\u001b[0m\u001b[0;34m{\u001b[0m\u001b[0maxis_name\u001b[0m\u001b[0;34m:\u001b[0m \u001b[0mnew_axis\u001b[0m\u001b[0;34m}\u001b[0m\u001b[0;34m)\u001b[0m\u001b[0;34m\u001b[0m\u001b[0;34m\u001b[0m\u001b[0m\n\u001b[1;32m   3145\u001b[0m \u001b[0;34m\u001b[0m\u001b[0m\n",
      "\u001b[0;32m~/anaconda3/lib/python3.7/site-packages/pandas/core/indexes/base.py\u001b[0m in \u001b[0;36mdrop\u001b[0;34m(self, labels, errors)\u001b[0m\n\u001b[1;32m   4402\u001b[0m             \u001b[0;32mif\u001b[0m \u001b[0merrors\u001b[0m \u001b[0;34m!=\u001b[0m \u001b[0;34m'ignore'\u001b[0m\u001b[0;34m:\u001b[0m\u001b[0;34m\u001b[0m\u001b[0;34m\u001b[0m\u001b[0m\n\u001b[1;32m   4403\u001b[0m                 raise KeyError(\n\u001b[0;32m-> 4404\u001b[0;31m                     '{} not found in axis'.format(labels[mask]))\n\u001b[0m\u001b[1;32m   4405\u001b[0m             \u001b[0mindexer\u001b[0m \u001b[0;34m=\u001b[0m \u001b[0mindexer\u001b[0m\u001b[0;34m[\u001b[0m\u001b[0;34m~\u001b[0m\u001b[0mmask\u001b[0m\u001b[0;34m]\u001b[0m\u001b[0;34m\u001b[0m\u001b[0;34m\u001b[0m\u001b[0m\n\u001b[1;32m   4406\u001b[0m         \u001b[0;32mreturn\u001b[0m \u001b[0mself\u001b[0m\u001b[0;34m.\u001b[0m\u001b[0mdelete\u001b[0m\u001b[0;34m(\u001b[0m\u001b[0mindexer\u001b[0m\u001b[0;34m)\u001b[0m\u001b[0;34m\u001b[0m\u001b[0;34m\u001b[0m\u001b[0m\n",
      "\u001b[0;31mKeyError\u001b[0m: '[1 2 3] not found in axis'"
     ]
    }
   ],
   "source": [
    "df_model_sum.drop(axis = 0, index = [1,2,3], inplace = True)"
   ]
  },
  {
   "cell_type": "code",
   "execution_count": 117,
   "metadata": {},
   "outputs": [
    {
     "data": {
      "text/html": [
       "<div>\n",
       "<style scoped>\n",
       "    .dataframe tbody tr th:only-of-type {\n",
       "        vertical-align: middle;\n",
       "    }\n",
       "\n",
       "    .dataframe tbody tr th {\n",
       "        vertical-align: top;\n",
       "    }\n",
       "\n",
       "    .dataframe thead th {\n",
       "        text-align: right;\n",
       "    }\n",
       "</style>\n",
       "<table border=\"1\" class=\"dataframe\">\n",
       "  <thead>\n",
       "    <tr style=\"text-align: right;\">\n",
       "      <th></th>\n",
       "      <th>Model Name</th>\n",
       "      <th>Testing Accuracy</th>\n",
       "      <th>Training Accuracy</th>\n",
       "    </tr>\n",
       "  </thead>\n",
       "  <tbody>\n",
       "    <tr>\n",
       "      <th>0</th>\n",
       "      <td>SVM Classifier (linear)</td>\n",
       "      <td>64.78%</td>\n",
       "      <td>94.16%</td>\n",
       "    </tr>\n",
       "    <tr>\n",
       "      <th>4</th>\n",
       "      <td>SVM Classifier (poly)</td>\n",
       "      <td>21.15%</td>\n",
       "      <td>21.11%</td>\n",
       "    </tr>\n",
       "    <tr>\n",
       "      <th>5</th>\n",
       "      <td>SVM Classifier (rbf)</td>\n",
       "      <td>21.15%</td>\n",
       "      <td>21.11%</td>\n",
       "    </tr>\n",
       "    <tr>\n",
       "      <th>6</th>\n",
       "      <td>SVM Classifier (sigmoid)</td>\n",
       "      <td>21.15%</td>\n",
       "      <td>21.11%</td>\n",
       "    </tr>\n",
       "    <tr>\n",
       "      <th>7</th>\n",
       "      <td>SVM Classifier (linear, words only)</td>\n",
       "      <td>65.01%</td>\n",
       "      <td>94.28%</td>\n",
       "    </tr>\n",
       "  </tbody>\n",
       "</table>\n",
       "</div>"
      ],
      "text/plain": [
       "                            Model Name Testing Accuracy Training Accuracy\n",
       "0              SVM Classifier (linear)           64.78%            94.16%\n",
       "4                SVM Classifier (poly)           21.15%            21.11%\n",
       "5                 SVM Classifier (rbf)           21.15%            21.11%\n",
       "6             SVM Classifier (sigmoid)           21.15%            21.11%\n",
       "7  SVM Classifier (linear, words only)           65.01%            94.28%"
      ]
     },
     "execution_count": 117,
     "metadata": {},
     "output_type": "execute_result"
    }
   ],
   "source": [
    "df_model_sum"
   ]
  },
  {
   "cell_type": "code",
   "execution_count": 114,
   "metadata": {},
   "outputs": [],
   "source": [
    "df_model_sum.to_csv('SVM_summary.csv')"
   ]
  },
  {
   "cell_type": "markdown",
   "metadata": {},
   "source": [
    "## Create MBTI predictor function"
   ]
  },
  {
   "cell_type": "code",
   "execution_count": 220,
   "metadata": {},
   "outputs": [],
   "source": [
    "def predict_MBTI(text_string):\n",
    "    text_string =[word for word in text_string.split() if word not in stopwords_list]\n",
    "    text_string = ' '.join(text_string)\n",
    "    tfidf_text = TfidfVectorizer.transform([text_string])\n",
    "    prediction = SVM.predict(tfidf_text)\n",
    "    return prediction\n",
    "    "
   ]
  },
  {
   "cell_type": "code",
   "execution_count": 221,
   "metadata": {},
   "outputs": [],
   "source": [
    "text_string = \"the Border, or large sections of the Border, next week. This would be so easy for Mexico to do, but they just take our money and “talk.” Besides, we lose so much money with them, especially when you add in drug trafficking etc.), that the Border closing would be a good thing!\""
   ]
  },
  {
   "cell_type": "code",
   "execution_count": 222,
   "metadata": {},
   "outputs": [
    {
     "ename": "TypeError",
     "evalue": "transform() missing 1 required positional argument: 'raw_documents'",
     "output_type": "error",
     "traceback": [
      "\u001b[0;31m---------------------------------------------------------------------------\u001b[0m",
      "\u001b[0;31mTypeError\u001b[0m                                 Traceback (most recent call last)",
      "\u001b[0;32m<ipython-input-222-445bedbeb634>\u001b[0m in \u001b[0;36m<module>\u001b[0;34m\u001b[0m\n\u001b[0;32m----> 1\u001b[0;31m \u001b[0mpredict_MBTI\u001b[0m\u001b[0;34m(\u001b[0m\u001b[0mtext_string\u001b[0m\u001b[0;34m)\u001b[0m\u001b[0;34m\u001b[0m\u001b[0;34m\u001b[0m\u001b[0m\n\u001b[0m",
      "\u001b[0;32m<ipython-input-220-2f9f19c20d58>\u001b[0m in \u001b[0;36mpredict_MBTI\u001b[0;34m(text_string)\u001b[0m\n\u001b[1;32m      2\u001b[0m     \u001b[0mtext_string\u001b[0m \u001b[0;34m=\u001b[0m\u001b[0;34m[\u001b[0m\u001b[0mword\u001b[0m \u001b[0;32mfor\u001b[0m \u001b[0mword\u001b[0m \u001b[0;32min\u001b[0m \u001b[0mtext_string\u001b[0m\u001b[0;34m.\u001b[0m\u001b[0msplit\u001b[0m\u001b[0;34m(\u001b[0m\u001b[0;34m)\u001b[0m \u001b[0;32mif\u001b[0m \u001b[0mword\u001b[0m \u001b[0;32mnot\u001b[0m \u001b[0;32min\u001b[0m \u001b[0mstopwords_list\u001b[0m\u001b[0;34m]\u001b[0m\u001b[0;34m\u001b[0m\u001b[0;34m\u001b[0m\u001b[0m\n\u001b[1;32m      3\u001b[0m     \u001b[0mtext_string\u001b[0m \u001b[0;34m=\u001b[0m \u001b[0;34m' '\u001b[0m\u001b[0;34m.\u001b[0m\u001b[0mjoin\u001b[0m\u001b[0;34m(\u001b[0m\u001b[0mtext_string\u001b[0m\u001b[0;34m)\u001b[0m\u001b[0;34m\u001b[0m\u001b[0;34m\u001b[0m\u001b[0m\n\u001b[0;32m----> 4\u001b[0;31m     \u001b[0mtfidf_text\u001b[0m \u001b[0;34m=\u001b[0m \u001b[0mTfidfVectorizer\u001b[0m\u001b[0;34m.\u001b[0m\u001b[0mtransform\u001b[0m\u001b[0;34m(\u001b[0m\u001b[0;34m[\u001b[0m\u001b[0mtext_string\u001b[0m\u001b[0;34m]\u001b[0m\u001b[0;34m)\u001b[0m\u001b[0;34m\u001b[0m\u001b[0;34m\u001b[0m\u001b[0m\n\u001b[0m\u001b[1;32m      5\u001b[0m     \u001b[0mprediction\u001b[0m \u001b[0;34m=\u001b[0m \u001b[0mSVM\u001b[0m\u001b[0;34m.\u001b[0m\u001b[0mpredict\u001b[0m\u001b[0;34m(\u001b[0m\u001b[0mtfidf_text\u001b[0m\u001b[0;34m)\u001b[0m\u001b[0;34m\u001b[0m\u001b[0;34m\u001b[0m\u001b[0m\n\u001b[1;32m      6\u001b[0m     \u001b[0;32mreturn\u001b[0m \u001b[0mprediction\u001b[0m\u001b[0;34m\u001b[0m\u001b[0;34m\u001b[0m\u001b[0m\n",
      "\u001b[0;31mTypeError\u001b[0m: transform() missing 1 required positional argument: 'raw_documents'"
     ]
    }
   ],
   "source": [
    "predict_MBTI(text_string)"
   ]
  },
  {
   "cell_type": "code",
   "execution_count": 217,
   "metadata": {},
   "outputs": [
    {
     "ename": "TypeError",
     "evalue": "transform() missing 1 required positional argument: 'raw_documents'",
     "output_type": "error",
     "traceback": [
      "\u001b[0;31m---------------------------------------------------------------------------\u001b[0m",
      "\u001b[0;31mTypeError\u001b[0m                                 Traceback (most recent call last)",
      "\u001b[0;32m<ipython-input-217-21840eca943d>\u001b[0m in \u001b[0;36m<module>\u001b[0;34m\u001b[0m\n\u001b[0;32m----> 1\u001b[0;31m \u001b[0mTfidfVectorizer\u001b[0m\u001b[0;34m.\u001b[0m\u001b[0mtransform\u001b[0m\u001b[0;34m(\u001b[0m\u001b[0mtext_string\u001b[0m\u001b[0;34m)\u001b[0m\u001b[0;34m\u001b[0m\u001b[0;34m\u001b[0m\u001b[0m\n\u001b[0m",
      "\u001b[0;31mTypeError\u001b[0m: transform() missing 1 required positional argument: 'raw_documents'"
     ]
    }
   ],
   "source": [
    "TfidfVectorizer.transform(text_string)"
   ]
  },
  {
   "cell_type": "code",
   "execution_count": null,
   "metadata": {},
   "outputs": [],
   "source": []
  },
  {
   "cell_type": "code",
   "execution_count": null,
   "metadata": {},
   "outputs": [],
   "source": []
  },
  {
   "cell_type": "code",
   "execution_count": null,
   "metadata": {},
   "outputs": [],
   "source": []
  },
  {
   "cell_type": "code",
   "execution_count": null,
   "metadata": {},
   "outputs": [],
   "source": []
  },
  {
   "cell_type": "code",
   "execution_count": 211,
   "metadata": {},
   "outputs": [],
   "source": [
    "split = text_string.split()"
   ]
  },
  {
   "cell_type": "code",
   "execution_count": null,
   "metadata": {},
   "outputs": [],
   "source": [
    "mbti_descriptions = {'ISTP': 'Burning random object', 'INTP':'Reading their book',\n",
    "                     'INFP': 'Writing their diary', 'ENTJ': 'Looking at the way that is coming',\n",
    "                     'ISFJ': 'Looking at the way they\\'re leaving behind', 'ISTJ': 'Mr. Driver (simultaneously nice and grumpy)',\n",
    "                     'INFJ': 'Watching everybody and thinking about how crazy humanity is', 'ESTP':'Hesitating the cars coming behind',\n",
    "                     'ENTP': 'Whispering weird things to ENFP, trying to enter in their subconcious', 'ENFP': 'Got asleep, dreams with some parallel universe',\n",
    "                     'ENFJ': 'Just met ESFJ and started talking and are super friends now', 'ESFJ': 'Just met ENFJ and started talking and are super friends now',\n",
    "                     'ISFP': 'Looking to the landscapes, smartphone ready to make some photos', 'INTJ':'Just had a revelation that solves their current project',\n",
    "                     'ESFP': 'Checking their air in the rearview', 'ESTJ': 'Checking how Mr. Driver drives, sometimes giving him advice'\n",
    "                    }"
   ]
  },
  {
   "cell_type": "code",
   "execution_count": null,
   "metadata": {},
   "outputs": [],
   "source": [
    "#SVM model (linear) on text data only\n",
    "SVM = svm.SVC(C=1.0, kernel = 'linear', degree = 3, gamma = 'auto')\n",
    "SVM.fit(tfidf_x_train, y_train)\n",
    "SVM_preds_test3 = SVM.predict(tfidf_x_test)\n",
    "SVM_preds_train3 = SVM.predict(tfidf_x_train)\n",
    "train_acc3 = accuracy_score(SVM_preds_train3, y_train)\n",
    "test_acc3 = accuracy_score(SVM_preds_test3, y_test)\n",
    "SVM_model_sum.append({'Model Name': 'SVM Classifier (kernel = linear; vectorized words only)',\n",
    "              'Training Accuracy': train_acc3,\n",
    "              'Testing Accuracy': test_acc3})\n"
   ]
  },
  {
   "cell_type": "code",
   "execution_count": null,
   "metadata": {},
   "outputs": [],
   "source": [
    "predict_MBTI(\"\")"
   ]
  },
  {
   "cell_type": "markdown",
   "metadata": {},
   "source": [
    "## ROC Curve"
   ]
  },
  {
   "cell_type": "code",
   "execution_count": null,
   "metadata": {},
   "outputs": [],
   "source": [
    "# from sklearn.linear_model import LogisticRegression\n",
    "# SVM = svm.SVC(C=1.0, kernel = 'linear', degree = 3, gamma = 'auto')\n",
    "# SVM.fit(tfidf_x_train, y_train)\n",
    "\n",
    "# from sklearn.metrics import roc_curve, auc\n",
    "# y_score_1 = SVM.fit(tfidf_x_train, y_train).decision_function(tfidf_x_test)# y score = the predicted log-odds\n",
    "\n",
    "# fpr, tpr, thresholds = roc_curve(y_test, y_score_1)\n",
    "\n"
   ]
  },
  {
   "cell_type": "code",
   "execution_count": 194,
   "metadata": {},
   "outputs": [],
   "source": [
    "from sklearn.metrics import roc_curve, auc\n",
    "from itertools import cycle\n",
    "import matplotlib.pyplot as plt"
   ]
  },
  {
   "cell_type": "code",
   "execution_count": 200,
   "metadata": {},
   "outputs": [
    {
     "data": {
      "image/png": "[encoded data removed]",
      "text/plain": [
       "<Figure size 720x576 with 1 Axes>"
      ]
     },
     "metadata": {
      "needs_background": "light"
     },
     "output_type": "display_data"
    }
   ],
   "source": [
    "y_bin= label_binarize(y, classes=['INFP', 'ENFJ','ENFP','ENTJ','ENTP','ESFJ','ESFP','ESTJ','ESTP','INFJ','INTJ','INTP','ISFJ','ISFP','ISTJ','ISTP'])\n",
    "\n",
    "X_train, X_test, y_train, y_test = train_test_split(x, y_bin, test_size=.5, random_state=0)\n",
    "\n",
    "tfidf_x_train = vectorizer.fit_transform(X_train)\n",
    "tfidf_x_test = vectorizer.transform(X_test)\n",
    "\n",
    "\n",
    "classifier = OneVsRestClassifier(SVM)\n",
    "y_score = classifier.fit(tfidf_x_train, y_train).decision_function(tfidf_x_test)\n",
    "\n",
    "fpr = dict()\n",
    "tpr = dict()\n",
    "roc_auc = dict()\n",
    "for i in range(n_classes):\n",
    "    fpr[i], tpr[i], _ = roc_curve(y_test[:, i], y_score[:, i])\n",
    "    roc_auc[i] = auc(fpr[i], tpr[i])\n",
    "colors = cycle(['blue', 'red', 'green'])\n",
    "plt.figure(figsize=(10,8))\n",
    "for i, color in zip(range(n_classes), colors):\n",
    "    plt.plot(fpr[i], tpr[i], color=color,\n",
    "             label='ROC curve of class {0} (area = {1:0.2f})'\n",
    "             ''.format(i, roc_auc[i]))\n",
    "\n",
    "plt.plot([0, 1], [0, 1], 'k--')\n",
    "plt.xlim([-0.05, 1.0])\n",
    "plt.ylim([0.0, 1.05])\n",
    "plt.yticks([i/20.0 for i in range(21)])\n",
    "plt.xticks([i/20.0 for i in range(21)])\n",
    "plt.xlabel('False Positive Rate')\n",
    "plt.ylabel('True Positive Rate')\n",
    "plt.title('Receiver operating characteristic for multi-class data')\n",
    "plt.legend(loc=\"lower right\")\n",
    "plt.show()"
   ]
  },
  {
   "cell_type": "code",
   "execution_count": null,
   "metadata": {},
   "outputs": [],
   "source": []
  },
  {
   "cell_type": "code",
   "execution_count": null,
   "metadata": {},
   "outputs": [],
   "source": []
  },
  {
   "cell_type": "code",
   "execution_count": null,
   "metadata": {},
   "outputs": [],
   "source": []
  },
  {
   "cell_type": "code",
   "execution_count": null,
   "metadata": {},
   "outputs": [],
   "source": []
  },
  {
   "cell_type": "code",
   "execution_count": null,
   "metadata": {},
   "outputs": [],
   "source": []
  },
  {
   "cell_type": "code",
   "execution_count": null,
   "metadata": {},
   "outputs": [],
   "source": []
  },
  {
   "cell_type": "code",
   "execution_count": null,
   "metadata": {},
   "outputs": [],
   "source": []
  },
  {
   "cell_type": "code",
   "execution_count": null,
   "metadata": {},
   "outputs": [],
   "source": []
  },
  {
   "cell_type": "code",
   "execution_count": null,
   "metadata": {},
   "outputs": [],
   "source": []
  },
  {
   "cell_type": "code",
   "execution_count": null,
   "metadata": {},
   "outputs": [],
   "source": []
  },
  {
   "cell_type": "code",
   "execution_count": null,
   "metadata": {},
   "outputs": [],
   "source": []
  },
  {
   "cell_type": "code",
   "execution_count": 198,
   "metadata": {},
   "outputs": [
    {
     "ename": "ValueError",
     "evalue": "Found input variables with inconsistent numbers of samples: [4338, 1735]",
     "output_type": "error",
     "traceback": [
      "\u001b[0;31m---------------------------------------------------------------------------\u001b[0m",
      "\u001b[0;31mValueError\u001b[0m                                Traceback (most recent call last)",
      "\u001b[0;32m<ipython-input-198-20976b03cb8e>\u001b[0m in \u001b[0;36m<module>\u001b[0;34m\u001b[0m\n\u001b[0;32m----> 1\u001b[0;31m \u001b[0mprint\u001b[0m\u001b[0;34m(\u001b[0m\u001b[0mclassification_report\u001b[0m\u001b[0;34m(\u001b[0m\u001b[0mtfidf_x_test\u001b[0m\u001b[0;34m,\u001b[0m \u001b[0mSVM_preds_test3\u001b[0m\u001b[0;34m)\u001b[0m\u001b[0;34m)\u001b[0m\u001b[0;34m\u001b[0m\u001b[0;34m\u001b[0m\u001b[0m\n\u001b[0m",
      "\u001b[0;32m~/anaconda3/lib/python3.7/site-packages/sklearn/metrics/classification.py\u001b[0m in \u001b[0;36mclassification_report\u001b[0;34m(y_true, y_pred, labels, target_names, sample_weight, digits, output_dict)\u001b[0m\n\u001b[1;32m   1522\u001b[0m     \"\"\"\n\u001b[1;32m   1523\u001b[0m \u001b[0;34m\u001b[0m\u001b[0m\n\u001b[0;32m-> 1524\u001b[0;31m     \u001b[0my_type\u001b[0m\u001b[0;34m,\u001b[0m \u001b[0my_true\u001b[0m\u001b[0;34m,\u001b[0m \u001b[0my_pred\u001b[0m \u001b[0;34m=\u001b[0m \u001b[0m_check_targets\u001b[0m\u001b[0;34m(\u001b[0m\u001b[0my_true\u001b[0m\u001b[0;34m,\u001b[0m \u001b[0my_pred\u001b[0m\u001b[0;34m)\u001b[0m\u001b[0;34m\u001b[0m\u001b[0;34m\u001b[0m\u001b[0m\n\u001b[0m\u001b[1;32m   1525\u001b[0m \u001b[0;34m\u001b[0m\u001b[0m\n\u001b[1;32m   1526\u001b[0m     \u001b[0mlabels_given\u001b[0m \u001b[0;34m=\u001b[0m \u001b[0;32mTrue\u001b[0m\u001b[0;34m\u001b[0m\u001b[0;34m\u001b[0m\u001b[0m\n",
      "\u001b[0;32m~/anaconda3/lib/python3.7/site-packages/sklearn/metrics/classification.py\u001b[0m in \u001b[0;36m_check_targets\u001b[0;34m(y_true, y_pred)\u001b[0m\n\u001b[1;32m     69\u001b[0m     \u001b[0my_pred\u001b[0m \u001b[0;34m:\u001b[0m \u001b[0marray\u001b[0m \u001b[0;32mor\u001b[0m \u001b[0mindicator\u001b[0m \u001b[0mmatrix\u001b[0m\u001b[0;34m\u001b[0m\u001b[0;34m\u001b[0m\u001b[0m\n\u001b[1;32m     70\u001b[0m     \"\"\"\n\u001b[0;32m---> 71\u001b[0;31m     \u001b[0mcheck_consistent_length\u001b[0m\u001b[0;34m(\u001b[0m\u001b[0my_true\u001b[0m\u001b[0;34m,\u001b[0m \u001b[0my_pred\u001b[0m\u001b[0;34m)\u001b[0m\u001b[0;34m\u001b[0m\u001b[0;34m\u001b[0m\u001b[0m\n\u001b[0m\u001b[1;32m     72\u001b[0m     \u001b[0mtype_true\u001b[0m \u001b[0;34m=\u001b[0m \u001b[0mtype_of_target\u001b[0m\u001b[0;34m(\u001b[0m\u001b[0my_true\u001b[0m\u001b[0;34m)\u001b[0m\u001b[0;34m\u001b[0m\u001b[0;34m\u001b[0m\u001b[0m\n\u001b[1;32m     73\u001b[0m     \u001b[0mtype_pred\u001b[0m \u001b[0;34m=\u001b[0m \u001b[0mtype_of_target\u001b[0m\u001b[0;34m(\u001b[0m\u001b[0my_pred\u001b[0m\u001b[0;34m)\u001b[0m\u001b[0;34m\u001b[0m\u001b[0;34m\u001b[0m\u001b[0m\n",
      "\u001b[0;32m~/anaconda3/lib/python3.7/site-packages/sklearn/utils/validation.py\u001b[0m in \u001b[0;36mcheck_consistent_length\u001b[0;34m(*arrays)\u001b[0m\n\u001b[1;32m    233\u001b[0m     \u001b[0;32mif\u001b[0m \u001b[0mlen\u001b[0m\u001b[0;34m(\u001b[0m\u001b[0muniques\u001b[0m\u001b[0;34m)\u001b[0m \u001b[0;34m>\u001b[0m \u001b[0;36m1\u001b[0m\u001b[0;34m:\u001b[0m\u001b[0;34m\u001b[0m\u001b[0;34m\u001b[0m\u001b[0m\n\u001b[1;32m    234\u001b[0m         raise ValueError(\"Found input variables with inconsistent numbers of\"\n\u001b[0;32m--> 235\u001b[0;31m                          \" samples: %r\" % [int(l) for l in lengths])\n\u001b[0m\u001b[1;32m    236\u001b[0m \u001b[0;34m\u001b[0m\u001b[0m\n\u001b[1;32m    237\u001b[0m \u001b[0;34m\u001b[0m\u001b[0m\n",
      "\u001b[0;31mValueError\u001b[0m: Found input variables with inconsistent numbers of samples: [4338, 1735]"
     ]
    }
   ],
   "source": [
    "print(classification_report(tfidf_x_test, SVM_preds_test3))"
   ]
  },
  {
   "cell_type": "code",
   "execution_count": null,
   "metadata": {},
   "outputs": [],
   "source": []
  },
  {
   "cell_type": "code",
   "execution_count": null,
   "metadata": {},
   "outputs": [],
   "source": []
  },
  {
   "cell_type": "code",
   "execution_count": null,
   "metadata": {},
   "outputs": [],
   "source": []
  },
  {
   "cell_type": "code",
   "execution_count": null,
   "metadata": {},
   "outputs": [],
   "source": []
  },
  {
   "cell_type": "code",
   "execution_count": null,
   "metadata": {},
   "outputs": [],
   "source": []
  },
  {
   "cell_type": "code",
   "execution_count": null,
   "metadata": {},
   "outputs": [],
   "source": []
  },
  {
   "cell_type": "code",
   "execution_count": null,
   "metadata": {},
   "outputs": [],
   "source": []
  },
  {
   "cell_type": "code",
   "execution_count": null,
   "metadata": {},
   "outputs": [],
   "source": []
  },
  {
   "cell_type": "code",
   "execution_count": null,
   "metadata": {},
   "outputs": [],
   "source": [
    "#SVM linear model with text data only\n",
    "SVM = svm.SVC(C=1.0, kernel = 'linear', degree = 3, gamma = 'auto')\n",
    "SVM.fit(tfidf_x_train, y_train)\n",
    "SVM_preds_test3 = SVM.predict(tfidf_x_test)\n",
    "SVM_preds_train3 = SVM.predict(tfidf_x_train)\n",
    "train_acc3 = str(round(accuracy_score(SVM_preds_train3, y_train),4)*100)+'%'\n",
    "test_acc3 = str(round(accuracy_score(SVM_preds_test3, y_test),4)*100)+'%'\n",
    "SVM_model_sum.append({'Model Name': 'SVM Classifier (linear, words only)',\n",
    "              'Training Accuracy': train_acc3,\n",
    "              'Testing Accuracy': test_acc3,\n",
    "              'Training F1-Score': str(round(f1_score(y_train, SVM_preds_train3, average = 'micro'),4)*100)+'%',\n",
    "              'Testing F1-Score': str(round(f1_score(y_test, SVM_preds_test3, average = 'micro'),4)*100)+'%'})"
   ]
  }
 ],
 "metadata": {
  "kernelspec": {
   "display_name": "Python 3",
   "language": "python",
   "name": "python3"
  },
  "language_info": {
   "codemirror_mode": {
    "name": "ipython",
    "version": 3
   },
   "file_extension": ".py",
   "mimetype": "text/x-python",
   "name": "python",
   "nbconvert_exporter": "python",
   "pygments_lexer": "ipython3",
   "version": "3.7.1"
  }
 },
 "nbformat": 4,
 "nbformat_minor": 2
}
